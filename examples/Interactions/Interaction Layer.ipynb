{
 "cells": [
  {
   "cell_type": "code",
   "execution_count": 1,
   "metadata": {},
   "outputs": [],
   "source": [
    "import pandas as pd\n",
    "import numpy as np\n",
    "\n",
    "symbol = 'Security 1'\n",
    "symbol2 = 'Security 2'"
   ]
  },
  {
   "cell_type": "code",
   "execution_count": 2,
   "metadata": {},
   "outputs": [],
   "source": [
    "price_data = pd.DataFrame(np.cumsum(np.random.randn(150, 2).dot([[0.5, 0.4], [0.4, 1.0]]), axis=0) + 100,\n",
    "                          columns=['Security 1', 'Security 2'],\n",
    "                          index=pd.date_range(start='01-01-2007', periods=150))\n",
    "\n",
    "dates_actual = price_data.index.values\n",
    "prices = price_data[symbol].values"
   ]
  },
  {
   "cell_type": "code",
   "execution_count": 3,
   "metadata": {},
   "outputs": [],
   "source": [
    "from bqplot import DateScale, LinearScale, Axis, Lines, Scatter, Bars, Hist, Figure\n",
    "from bqplot.interacts import (\n",
    "    FastIntervalSelector, IndexSelector, BrushIntervalSelector,\n",
    "    BrushSelector, MultiSelector, LassoSelector, PanZoom, HandDraw\n",
    ")\n",
    "from traitlets import link\n",
    "\n",
    "from ipywidgets import Label, ToggleButtons, VBox"
   ]
  },
  {
   "cell_type": "markdown",
   "metadata": {},
   "source": [
    "# Line Chart Selectors"
   ]
  },
  {
   "cell_type": "markdown",
   "metadata": {},
   "source": [
    "## Fast Interval Selector"
   ]
  },
  {
   "cell_type": "code",
   "execution_count": 4,
   "metadata": {},
   "outputs": [],
   "source": [
    "## First we define a Figure\n",
    "dt_x_fast = DateScale()\n",
    "lin_y = LinearScale()\n",
    "\n",
    "x_ax = Axis(label=\"Index\", scale=dt_x_fast)\n",
    "x_ay = Axis(label=(symbol + \" Price\"), scale=lin_y, orientation=\"vertical\", tick_format=\"0.2f\")\n",
    "lc = Lines(x=dates_actual, y=prices, scales={'x': dt_x_fast, 'y': lin_y}, colors=['orange'])\n",
    "lc_2 = Lines(x=dates_actual[50:], y=prices[50:] + 2, scales={'x': dt_x_fast, 'y': lin_y}, colors=['blue'])"
   ]
  },
  {
   "cell_type": "code",
   "execution_count": 5,
   "metadata": {},
   "outputs": [],
   "source": [
    "## Next we define the type of selector we would like\n",
    "intsel_fast = FastIntervalSelector(scale=dt_x_fast, marks=[lc, lc_2])"
   ]
  },
  {
   "cell_type": "code",
   "execution_count": 6,
   "metadata": {},
   "outputs": [],
   "source": [
    "## Now, we define a function that will be called when the FastIntervalSelector is interacted with\n",
    "def fast_interval_change_callback(change):\n",
    "    db_fast.value = 'The selected period is ' + str(change.new)"
   ]
  },
  {
   "cell_type": "code",
   "execution_count": 7,
   "metadata": {},
   "outputs": [],
   "source": [
    "## Now we connect the selectors to that function\n",
    "intsel_fast.observe(fast_interval_change_callback, names=['selected'])"
   ]
  },
  {
   "cell_type": "code",
   "execution_count": 8,
   "metadata": {},
   "outputs": [
    {
     "data": {
      "application/vnd.jupyter.widget-view+json": {
       "model_id": "7d78642e74c74f4db29e505c3d35018c"
      }
     },
     "metadata": {},
     "output_type": "display_data"
    }
   ],
   "source": [
    "## We use the Label widget to see the value of what we are selecting and modify it when an interaction is performed\n",
    "## on the selector\n",
    "db_fast = Label(color='Black', font_size='24px')\n",
    "db_fast.value = str(intsel_fast.selected)\n",
    "\n",
    "\n",
    "fig_fast_intsel = Figure(marks=[lc, lc_2], axes=[x_ax, x_ay], title=\"Fast Interval Selector Example\",\n",
    "                         interaction=intsel_fast) #This is where we assign the interaction to this particular Figure\n",
    "\n",
    "VBox([db_fast, fig_fast_intsel])"
   ]
  },
  {
   "cell_type": "markdown",
   "metadata": {},
   "source": [
    "## Index Selector"
   ]
  },
  {
   "cell_type": "code",
   "execution_count": 9,
   "metadata": {
    "collapsed": true
   },
   "outputs": [],
   "source": [
    "db_index = Label(color='Black', font_size='24px', value='[]')"
   ]
  },
  {
   "cell_type": "code",
   "execution_count": 10,
   "metadata": {},
   "outputs": [],
   "source": [
    "## Now we try a selector made to select all the y-values associated with a single x-value\n",
    "index_sel = IndexSelector(scale=dt_x_fast, marks=[lc, lc_2])"
   ]
  },
  {
   "cell_type": "code",
   "execution_count": 11,
   "metadata": {
    "collapsed": true
   },
   "outputs": [],
   "source": [
    "## Now, we define a function that will be called when the selectors are interacted with\n",
    "def index_change_callback(change):\n",
    "    db_index.value = 'The selected date is ' + str(change.new)"
   ]
  },
  {
   "cell_type": "code",
   "execution_count": 12,
   "metadata": {
    "collapsed": true
   },
   "outputs": [],
   "source": [
    "index_sel.observe(index_change_callback, names=['selected'])"
   ]
  },
  {
   "cell_type": "code",
   "execution_count": 13,
   "metadata": {},
   "outputs": [
    {
     "data": {
      "application/vnd.jupyter.widget-view+json": {
       "model_id": "0b45f0e8f1014d878052d58c88455b5d"
      }
     },
     "metadata": {},
     "output_type": "display_data"
    }
   ],
   "source": [
    "fig_index_sel = Figure(marks=[lc, lc_2], axes=[x_ax, x_ay], title=\"Index Selector Example\",\n",
    "                       interaction=index_sel)\n",
    "VBox([db_index, fig_index_sel])"
   ]
  },
  {
   "cell_type": "markdown",
   "metadata": {},
   "source": [
    "## Returning indexes of selected values"
   ]
  },
  {
   "cell_type": "code",
   "execution_count": 14,
   "metadata": {
    "collapsed": true
   },
   "outputs": [],
   "source": [
    "from datetime import datetime as py_dtime\n",
    "\n",
    "dt_x_index = DateScale(min=np.datetime64(py_dtime(2006, 6, 1)))\n",
    "lin_y2 = LinearScale()\n",
    "\n",
    "lc2_index = Lines(x=dates_actual, y=prices,\n",
    "            scales={'x': dt_x_index, 'y': lin_y2})\n",
    "\n",
    "x_ax1 = Axis(label=\"Date\", scale=dt_x_index)\n",
    "x_ay2 = Axis(label=(symbol + \" Price\"), scale=lin_y2, orientation=\"vertical\", tick_format=\"0.2f\")"
   ]
  },
  {
   "cell_type": "code",
   "execution_count": 15,
   "metadata": {
    "collapsed": true
   },
   "outputs": [],
   "source": [
    "intsel_date = FastIntervalSelector(scale=dt_x_index, marks=[lc2_index])"
   ]
  },
  {
   "cell_type": "code",
   "execution_count": 16,
   "metadata": {
    "collapsed": true
   },
   "outputs": [],
   "source": [
    "db_date = Label(color='Black', font_size='24px')\n",
    "db_date.value = str(intsel_date.selected)"
   ]
  },
  {
   "cell_type": "code",
   "execution_count": 17,
   "metadata": {},
   "outputs": [],
   "source": [
    "## Now, we define a function that will be called when the selectors are interacted with - a callback\n",
    "def date_interval_change_callback(change):\n",
    "    db_date.value = str(change.new)"
   ]
  },
  {
   "cell_type": "code",
   "execution_count": 18,
   "metadata": {},
   "outputs": [
    {
     "data": {
      "application/vnd.jupyter.widget-view+json": {
       "model_id": "d20a81e27aa0423a81a9f996160200b4"
      }
     },
     "metadata": {},
     "output_type": "display_data"
    }
   ],
   "source": [
    "## Notice here that we call the observe on the Mark lc2_index rather than on the selector intsel_date\n",
    "lc2_index.observe(date_interval_change_callback, names=['selected'])\n",
    "\n",
    "fig_date_mark = Figure(marks=[lc2_index], axes=[x_ax1, x_ay2],\n",
    "                       title='Fast Interval Selector Selected Indices Example', interaction=intsel_date)\n",
    "\n",
    "VBox([db_date, fig_date_mark])"
   ]
  },
  {
   "cell_type": "markdown",
   "metadata": {},
   "source": [
    "## Brush Selector"
   ]
  },
  {
   "cell_type": "markdown",
   "metadata": {},
   "source": [
    "### We can do the same with any type of selector"
   ]
  },
  {
   "cell_type": "code",
   "execution_count": 19,
   "metadata": {
    "collapsed": true
   },
   "outputs": [],
   "source": [
    "## Defining a new Figure\n",
    "dt_x_brush = DateScale(min=np.datetime64(py_dtime(2006, 6, 1)))\n",
    "lin_y2_brush = LinearScale()\n",
    "\n",
    "lc3_brush = Lines(x=dates_actual, y=prices,\n",
    "            scales={'x': dt_x_brush, 'y': lin_y2_brush})\n",
    "\n",
    "x_ax_brush = Axis(label=\"Date\", scale=dt_x_brush)\n",
    "x_ay_brush = Axis(label=(symbol + \" Price\"), scale=lin_y2_brush, orientation=\"vertical\", tick_format=\"0.2f\")"
   ]
  },
  {
   "cell_type": "code",
   "execution_count": 20,
   "metadata": {
    "collapsed": true
   },
   "outputs": [],
   "source": [
    "db_brush = Label(color='Black', font_size='24px', value='[]')"
   ]
  },
  {
   "cell_type": "code",
   "execution_count": 21,
   "metadata": {},
   "outputs": [],
   "source": [
    "brushsel_date = BrushIntervalSelector(scale=dt_x_brush, marks=[lc3_brush], color='FireBrick')"
   ]
  },
  {
   "cell_type": "code",
   "execution_count": 22,
   "metadata": {
    "collapsed": true
   },
   "outputs": [],
   "source": [
    "## Now, we define a function that will be called when the selectors are interacted with - a callback\n",
    "def date_brush_change_callback(change):\n",
    "    db_brush.value = str(change.new)"
   ]
  },
  {
   "cell_type": "code",
   "execution_count": 23,
   "metadata": {
    "collapsed": true
   },
   "outputs": [],
   "source": [
    "lc3_brush.observe(date_brush_change_callback, names=['selected'])"
   ]
  },
  {
   "cell_type": "code",
   "execution_count": 24,
   "metadata": {},
   "outputs": [
    {
     "data": {
      "application/vnd.jupyter.widget-view+json": {
       "model_id": "c38f5d88112c4948b734a6c958f99fab"
      }
     },
     "metadata": {},
     "output_type": "display_data"
    }
   ],
   "source": [
    "fig_brush_sel = Figure(marks=[lc3_brush], axes=[x_ax_brush, x_ay_brush],\n",
    "                       title=\"Brush Selector Selected Indices Example\", interaction=brushsel_date)\n",
    "\n",
    "VBox([db_brush, fig_brush_sel])"
   ]
  },
  {
   "cell_type": "markdown",
   "metadata": {},
   "source": [
    "# Scatter Chart Selectors"
   ]
  },
  {
   "cell_type": "markdown",
   "metadata": {},
   "source": [
    "## Brush Selector"
   ]
  },
  {
   "cell_type": "code",
   "execution_count": 25,
   "metadata": {},
   "outputs": [],
   "source": [
    "date_fmt = '%m-%d-%Y'\n",
    "\n",
    "sec2_data = price_data[symbol2].values\n",
    "dates = price_data.index.values"
   ]
  },
  {
   "cell_type": "code",
   "execution_count": 26,
   "metadata": {},
   "outputs": [],
   "source": [
    "sc_x = LinearScale()\n",
    "sc_y = LinearScale()\n",
    "\n",
    "scatt = Scatter(x=prices, y=sec2_data,\n",
    "                scales={'x': sc_x, 'y': sc_y})\n",
    "\n",
    "sc_xax = Axis(label=(symbol), scale=sc_x, tick_format=\"0.0f\")\n",
    "sc_yax = Axis(label=(symbol2), scale=sc_y, orientation=\"vertical\", tick_format=\"0.0f\")"
   ]
  },
  {
   "cell_type": "code",
   "execution_count": 27,
   "metadata": {
    "collapsed": true
   },
   "outputs": [],
   "source": [
    "br_sel = BrushSelector(x_scale=sc_x, y_scale=sc_y, marks=[scatt], color='red')\n",
    "\n",
    "db_scat_brush = Label(color='Black', font_size='24px', value='[]')"
   ]
  },
  {
   "cell_type": "code",
   "execution_count": 28,
   "metadata": {},
   "outputs": [],
   "source": [
    "## call back for the selector\n",
    "def brush_callback(change):\n",
    "    db_scat_brush.value = str(br_sel.selected)"
   ]
  },
  {
   "cell_type": "code",
   "execution_count": 29,
   "metadata": {
    "collapsed": true
   },
   "outputs": [],
   "source": [
    "br_sel.observe(brush_callback, names=['brushing'])"
   ]
  },
  {
   "cell_type": "code",
   "execution_count": 30,
   "metadata": {
    "collapsed": true
   },
   "outputs": [],
   "source": [
    "fig_scat_brush = Figure(marks=[scatt], axes=[sc_xax, sc_yax], title='Scatter Chart Brush Selector Example',\n",
    "                        interaction=br_sel)"
   ]
  },
  {
   "cell_type": "code",
   "execution_count": 31,
   "metadata": {
    "scrolled": true
   },
   "outputs": [
    {
     "data": {
      "application/vnd.jupyter.widget-view+json": {
       "model_id": "13c576e88e5143479ea6f42ab0764125"
      }
     },
     "metadata": {},
     "output_type": "display_data"
    }
   ],
   "source": [
    "VBox([db_scat_brush, fig_scat_brush])"
   ]
  },
  {
   "cell_type": "markdown",
   "metadata": {},
   "source": [
    "## Brush Selector with Date Values"
   ]
  },
  {
   "cell_type": "code",
   "execution_count": 32,
   "metadata": {
    "collapsed": true
   },
   "outputs": [],
   "source": [
    "sc_brush_dt_x = DateScale(date_format=date_fmt)\n",
    "sc_brush_dt_y = LinearScale()\n",
    "\n",
    "scatt2 = Scatter(x=dates_actual, y=sec2_data,\n",
    "                scales={'x': sc_brush_dt_x, 'y': sc_brush_dt_y})"
   ]
  },
  {
   "cell_type": "code",
   "execution_count": 33,
   "metadata": {},
   "outputs": [],
   "source": [
    "br_sel_dt = BrushSelector(x_scale=sc_brush_dt_x, y_scale=sc_brush_dt_y, marks=[scatt2])"
   ]
  },
  {
   "cell_type": "code",
   "execution_count": 34,
   "metadata": {
    "collapsed": true
   },
   "outputs": [],
   "source": [
    "db_brush_dt = Label(color='Black', font_size='24px')\n",
    "db_brush_dt.value = str(br_sel_dt.selected)"
   ]
  },
  {
   "cell_type": "code",
   "execution_count": 35,
   "metadata": {
    "collapsed": true
   },
   "outputs": [],
   "source": [
    "## call back for the selector\n",
    "def brush_dt_callback(change):\n",
    "    db_brush_dt.value = str(br_sel_dt.selected)"
   ]
  },
  {
   "cell_type": "code",
   "execution_count": 36,
   "metadata": {},
   "outputs": [],
   "source": [
    "br_sel_dt.observe(brush_dt_callback, names=['brushing'])"
   ]
  },
  {
   "cell_type": "code",
   "execution_count": 37,
   "metadata": {},
   "outputs": [],
   "source": [
    "sc_xax = Axis(label=(symbol), scale=sc_brush_dt_x)\n",
    "sc_yax = Axis(label=(symbol2), scale=sc_brush_dt_y, orientation=\"vertical\", tick_format=\"0.0f\")\n",
    "fig_brush_dt = Figure(marks =[scatt2], axes=[sc_xax, sc_yax], title='Brush Selector with Dates Example',\n",
    "                      interaction=br_sel_dt)"
   ]
  },
  {
   "cell_type": "code",
   "execution_count": 38,
   "metadata": {},
   "outputs": [
    {
     "data": {
      "application/vnd.jupyter.widget-view+json": {
       "model_id": "5f3bae499c934637bb1973143322bfc2"
      }
     },
     "metadata": {},
     "output_type": "display_data"
    }
   ],
   "source": [
    "VBox([db_brush_dt, fig_brush_dt])"
   ]
  },
  {
   "cell_type": "markdown",
   "metadata": {},
   "source": [
    "# Histogram Selectors"
   ]
  },
  {
   "cell_type": "code",
   "execution_count": 39,
   "metadata": {},
   "outputs": [],
   "source": [
    "## call back for selectors\n",
    "def interval_change_callback(name, value):\n",
    "    db3.value = str(value)\n",
    "    \n",
    "## call back for the selector\n",
    "def brush_callback(change):\n",
    "    if(not br_intsel.brushing):\n",
    "        db3.value = str(br_intsel.selected)"
   ]
  },
  {
   "cell_type": "code",
   "execution_count": 40,
   "metadata": {},
   "outputs": [
    {
     "data": {
      "application/vnd.jupyter.widget-view+json": {
       "model_id": "8225f9a59a9e4fd1a89efd973c50e182"
      }
     },
     "metadata": {},
     "output_type": "display_data"
    }
   ],
   "source": [
    "returns = np.log(prices[1:]) - np.log(prices[:-1])\n",
    "hist_x = LinearScale()\n",
    "hist_y = LinearScale()\n",
    "hist = Hist(sample=returns, scales={'sample': hist_x, 'count': hist_y})\n",
    "\n",
    "br_intsel = BrushIntervalSelector(scale=hist_x, marks=[hist])\n",
    "br_intsel.observe(brush_callback, names=['selected'])\n",
    "br_intsel.observe(brush_callback, names=['brushing'])\n",
    "\n",
    "db3 = Label(color='Black', font_size='24px')\n",
    "db3.value = str(br_intsel.selected)\n",
    "\n",
    "h_xax = Axis(scale=hist_x, label='Returns', grids='off', set_ticks=True, tick_format='0.2%')\n",
    "h_yax = Axis(scale=hist_y, label='Freq', orientation='vertical', grids='off')\n",
    "\n",
    "fig_hist = Figure(marks=[hist], axes=[h_xax, h_yax], title='Histogram Selection Example', interaction=br_intsel)\n",
    "VBox([db3, fig_hist])"
   ]
  },
  {
   "cell_type": "markdown",
   "metadata": {},
   "source": [
    "## Multi Selector"
   ]
  },
  {
   "cell_type": "code",
   "execution_count": 41,
   "metadata": {
    "collapsed": true
   },
   "outputs": [],
   "source": [
    "def multi_sel_callback(change):\n",
    "    if(not multi_sel.brushing):\n",
    "        db4.value = str(multi_sel.selected)"
   ]
  },
  {
   "cell_type": "code",
   "execution_count": 42,
   "metadata": {},
   "outputs": [
    {
     "data": {
      "application/vnd.jupyter.widget-view+json": {
       "model_id": "dae4b95782434549a020b9bad21f6902"
      }
     },
     "metadata": {},
     "output_type": "display_data"
    }
   ],
   "source": [
    "line_x = LinearScale()\n",
    "line_y = LinearScale()\n",
    "line = Lines(x=np.arange(100), y=np.random.randn(100), scales={'x': line_x, 'y': line_y})\n",
    "\n",
    "multi_sel = MultiSelector(scale=line_x, marks=[line])\n",
    "multi_sel.observe(multi_sel_callback, names=['selected'])\n",
    "multi_sel.observe(multi_sel_callback, names=['brushing'])\n",
    "\n",
    "db4 = Label(color='Black', font_size='24px')\n",
    "db4.value = str(multi_sel.selected)\n",
    "\n",
    "h_xax = Axis(scale=line_x, label='Returns', grids='off', set_ticks=True)\n",
    "h_yax = Axis(scale=hist_y, label='Freq', orientation='vertical', grids='off')\n",
    "\n",
    "fig_multi = Figure(marks=[line], axes=[h_xax, h_yax], title='Multi-Selector Example',\n",
    "                   interaction=multi_sel)\n",
    "VBox([db4, fig_multi])"
   ]
  },
  {
   "cell_type": "code",
   "execution_count": 43,
   "metadata": {},
   "outputs": [],
   "source": [
    "# changing the names of the intervals.\n",
    "multi_sel.names = ['int1', 'int2', 'int3']"
   ]
  },
  {
   "cell_type": "markdown",
   "metadata": {},
   "source": [
    "## Multi Selector with Date X"
   ]
  },
  {
   "cell_type": "code",
   "execution_count": 44,
   "metadata": {
    "collapsed": true
   },
   "outputs": [],
   "source": [
    "def multi_sel_dt_callback(change):\n",
    "    if(not multi_sel_dt.brushing):\n",
    "        db_multi_dt.value = str(multi_sel_dt.selected)"
   ]
  },
  {
   "cell_type": "code",
   "execution_count": 45,
   "metadata": {},
   "outputs": [
    {
     "data": {
      "application/vnd.jupyter.widget-view+json": {
       "model_id": "ec3db501c643489b964736a971b9a930"
      }
     },
     "metadata": {},
     "output_type": "display_data"
    }
   ],
   "source": [
    "line_dt_x = DateScale(min=np.datetime64(py_dtime(2007, 1, 1)))\n",
    "line_dt_y = LinearScale()\n",
    "line_dt = Lines(x=dates_actual, y=sec2_data, scales={'x': line_dt_x, 'y': line_dt_y}, colors=['red'])\n",
    "\n",
    "multi_sel_dt = MultiSelector(scale=line_dt_x)\n",
    "multi_sel_dt.observe(multi_sel_dt_callback, names=['selected'])\n",
    "multi_sel_dt.observe(multi_sel_dt_callback, names=['brushing'])\n",
    "\n",
    "db_multi_dt = Label(color='Black', font_size='24px')\n",
    "db_multi_dt.value = str(multi_sel_dt.selected)\n",
    "\n",
    "h_xax_dt = Axis(scale=line_dt_x, label='Returns', grids='off')\n",
    "h_yax_dt = Axis(scale=line_dt_y, label='Freq', orientation='vertical', grids='off')\n",
    "\n",
    "fig_multi_dt = Figure(marks=[line_dt], axes=[h_xax_dt, h_yax_dt], title='Multi-Selector with Date Example',\n",
    "                      interaction=multi_sel_dt)\n",
    "VBox([db_multi_dt, fig_multi_dt])"
   ]
  },
  {
   "cell_type": "markdown",
   "metadata": {},
   "source": [
    "## Lasso Selector"
   ]
  },
  {
   "cell_type": "code",
   "execution_count": 46,
   "metadata": {
    "collapsed": true
   },
   "outputs": [],
   "source": [
    "lasso_sel = LassoSelector()"
   ]
  },
  {
   "cell_type": "code",
   "execution_count": 47,
   "metadata": {},
   "outputs": [
    {
     "data": {
      "application/vnd.jupyter.widget-view+json": {
       "model_id": "3113be995d134d35b96a656264245132"
      }
     },
     "metadata": {},
     "output_type": "display_data"
    }
   ],
   "source": [
    "xs, ys = LinearScale(), LinearScale()\n",
    "data = np.arange(20)\n",
    "line_lasso = Lines(x=data, y=data, scales={'x': xs, 'y': ys})\n",
    "scatter_lasso = Scatter(x=data, y=data, scales={'x': xs, 'y': ys}, colors=['skyblue'])\n",
    "bar_lasso = Bars(x=data, y=data/2., scales={'x': xs, 'y': ys})\n",
    "xax_lasso, yax_lasso = Axis(scale=xs, label='X'), Axis(scale=ys, label='Y', orientation='vertical')\n",
    "fig_lasso = Figure(marks=[scatter_lasso, line_lasso, bar_lasso], axes=[xax_lasso, yax_lasso],\n",
    "                   title='Lasso Selector Example', interaction=lasso_sel)\n",
    "lasso_sel.marks = [scatter_lasso, line_lasso]\n",
    "fig_lasso"
   ]
  },
  {
   "cell_type": "code",
   "execution_count": 48,
   "metadata": {},
   "outputs": [
    {
     "data": {
      "text/plain": [
       "([], [])"
      ]
     },
     "execution_count": 48,
     "metadata": {},
     "output_type": "execute_result"
    }
   ],
   "source": [
    "scatter_lasso.selected, line_lasso.selected"
   ]
  },
  {
   "cell_type": "markdown",
   "metadata": {},
   "source": [
    "## Pan Zoom"
   ]
  },
  {
   "cell_type": "code",
   "execution_count": 49,
   "metadata": {},
   "outputs": [
    {
     "data": {
      "application/vnd.jupyter.widget-view+json": {
       "model_id": "2e997a438fc44212ae59f1ebaf882136"
      }
     },
     "metadata": {},
     "output_type": "display_data"
    }
   ],
   "source": [
    "xs_pz = DateScale(min=np.datetime64(py_dtime(2007, 1, 1)))\n",
    "ys_pz = LinearScale()\n",
    "line_pz = Lines(x=dates_actual, y=sec2_data, scales={'x': xs_pz, 'y': ys_pz}, colors=['red'])\n",
    "\n",
    "panzoom = PanZoom(scales={'x': [xs_pz], 'y': [ys_pz]})\n",
    "xax = Axis(scale=xs_pz, label='Date', grids='off')\n",
    "yax = Axis(scale=ys_pz, label='Price', orientation='vertical', grids='off')\n",
    "\n",
    "Figure(marks=[line_pz], axes=[xax, yax], interaction=panzoom)"
   ]
  },
  {
   "cell_type": "markdown",
   "metadata": {},
   "source": [
    "## Hand Draw"
   ]
  },
  {
   "cell_type": "code",
   "execution_count": 50,
   "metadata": {},
   "outputs": [
    {
     "data": {
      "application/vnd.jupyter.widget-view+json": {
       "model_id": "5e027434c7704e098e2baebd7ca2e27a"
      }
     },
     "metadata": {},
     "output_type": "display_data"
    }
   ],
   "source": [
    "xs_hd = DateScale(min=np.datetime64(py_dtime(2007, 1, 1)))\n",
    "ys_hd = LinearScale()\n",
    "line_hd = Lines(x=dates_actual, y=sec2_data, scales={'x': xs_hd, 'y': ys_hd}, colors=['red'])\n",
    "\n",
    "handdraw = HandDraw(lines=line_hd)\n",
    "xax = Axis(scale=xs_hd, label='Date', grids='off')\n",
    "yax = Axis(scale=ys_hd, label='Price', orientation='vertical', grids='off')\n",
    "\n",
    "Figure(marks=[line_hd], axes=[xax, yax], interaction=handdraw)"
   ]
  },
  {
   "cell_type": "markdown",
   "metadata": {},
   "source": [
    "# Unified Figure with All Interactions"
   ]
  },
  {
   "cell_type": "code",
   "execution_count": 51,
   "metadata": {},
   "outputs": [],
   "source": [
    "dt_x = DateScale(date_format=date_fmt, min=py_dtime(2007, 1, 1))\n",
    "lc1_x = LinearScale()\n",
    "lc2_y = LinearScale()\n",
    "\n",
    "lc2 = Lines(x=np.linspace(0.0, 10.0, len(prices)), y=prices * 0.25,\n",
    "            scales={'x': lc1_x, 'y': lc2_y}, \n",
    "            display_legend=True,\n",
    "            labels=['Security 1'])\n",
    "\n",
    "lc3 = Lines(x=dates_actual, y=sec2_data,\n",
    "            scales={'x': dt_x, 'y': lc2_y},\n",
    "            colors=['red'], \n",
    "            display_legend=True, \n",
    "            labels=['Security 2'])\n",
    "\n",
    "lc4 = Lines(x=np.linspace(0.0, 10.0, len(prices)), y=sec2_data * 0.75,\n",
    "            scales={'x': LinearScale(min=5, max=10), 'y': lc2_y},\n",
    "            colors=['green'], display_legend=True, \n",
    "            labels=['Security 2 squared'])\n",
    "\n",
    "x_ax1 = Axis(label='Date', scale=dt_x)\n",
    "x_ax2 = Axis(label='Time', scale=lc1_x, side='top')\n",
    "x_ay2 = Axis(label=(symbol + ' Price'), scale=lc2_y, orientation='vertical', tick_format='0.2f')\n",
    "\n",
    "\n",
    "fig = Figure(marks=[lc2, lc3, lc4], axes=[x_ax1, x_ax2, x_ay2])"
   ]
  },
  {
   "cell_type": "code",
   "execution_count": 52,
   "metadata": {},
   "outputs": [],
   "source": [
    "## declaring the interactions\n",
    "multi_sel = MultiSelector(scale=dt_x, marks=[lc2, lc3])\n",
    "br_intsel = BrushIntervalSelector(scale=lc1_x, marks=[lc2, lc3])\n",
    "index_sel = IndexSelector(scale=dt_x, marks=[lc2, lc3])\n",
    "int_sel = FastIntervalSelector(scale=dt_x, marks=[lc3, lc2])\n",
    "\n",
    "hd = HandDraw(lines=lc2)\n",
    "hd2 = HandDraw(lines=lc3)\n",
    "pz = PanZoom(scales={'x': [dt_x], 'y': [lc2_y]})\n",
    "\n",
    "deb = Label(color='Black', font_size='24px')\n",
    "deb.value = \"hello\""
   ]
  },
  {
   "cell_type": "code",
   "execution_count": 53,
   "metadata": {},
   "outputs": [],
   "source": [
    "## Call back handler for the interactions\n",
    "def test_callback(change):\n",
    "    deb.value = str(change.new)\n",
    "    \n",
    "multi_sel.observe(test_callback, names=['selected'])\n",
    "br_intsel.observe(test_callback, names=['selected'])\n",
    "index_sel.observe(test_callback, names=['selected'])\n",
    "int_sel.observe(test_callback, names=['selected'])"
   ]
  },
  {
   "cell_type": "code",
   "execution_count": 54,
   "metadata": {},
   "outputs": [
    {
     "data": {
      "application/vnd.jupyter.widget-view+json": {
       "model_id": "c6d3f57932c049eca1f2afb52e0960c1"
      }
     },
     "metadata": {},
     "output_type": "display_data"
    }
   ],
   "source": [
    "from collections import OrderedDict\n",
    "selection_interacts = ToggleButtons(options=OrderedDict([('HandDraw1', hd), ('HandDraw2', hd2), ('PanZoom', pz), \n",
    "                                                       ('FastIntervalSelector', int_sel), ('IndexSelector', index_sel),\n",
    "                                                       ('BrushIntervalSelector', br_intsel), ('MultiSelector', multi_sel),\n",
    "                                                       ('None', None)]))\n",
    "\n",
    "link((selection_interacts, 'value'), (fig, 'interaction'))\n",
    "VBox([deb, fig, selection_interacts], align_self=\"stretch\")"
   ]
  },
  {
   "cell_type": "code",
   "execution_count": 55,
   "metadata": {},
   "outputs": [],
   "source": [
    "# Set the scales of lc4 to the ones of lc2 and check if panzoom pans the two.\n",
    "lc4.scales = lc2.scales"
   ]
  }
 ],
 "metadata": {
  "kernelspec": {
   "display_name": "Python 3",
   "language": "python",
   "name": "python3"
  },
  "language_info": {
   "codemirror_mode": {
    "name": "ipython",
    "version": 3
   },
   "file_extension": ".py",
   "mimetype": "text/x-python",
   "name": "python",
   "nbconvert_exporter": "python",
   "pygments_lexer": "ipython3",
   "version": "3.5.2"
  },
  "widgets": {
   "application/vnd.jupyter.widget-state+json": {
    "state": {
     "00830b9d4eba47c6af362b26477eb3b1": {
      "model_module": "jupyter-js-widgets",
      "model_module_version": "*",
      "model_name": "LabelModel",
      "state": {
       "layout": "IPY_MODEL_035da1791d11443e80e738fce5841e2c",
       "value": "[]"
      }
     },
     "012bdc0b91704075a701ab11551c5d64": {
      "model_module": "bqplot",
      "model_module_version": "*",
      "model_name": "DateScaleModel",
      "state": {}
     },
     "035da1791d11443e80e738fce5841e2c": {
      "model_module": "jupyter-js-widgets",
      "model_module_version": "*",
      "model_name": "LayoutModel",
      "state": {}
     },
     "043184513b874253b8ffcf1f04d42092": {
      "model_module": "bqplot",
      "model_module_version": "*",
      "model_name": "AxisModel",
      "state": {
       "label": "Date",
       "scale": "IPY_MODEL_a08c2cbf453f43a69e9ce97c9c47ae8f",
       "side": "bottom",
       "tick_values": {
        "type": null,
        "values": null
       }
      }
     },
     "04c6ecf60acd4f7a96729871f0a54535": {
      "model_module": "jupyter-js-widgets",
      "model_module_version": "*",
      "model_name": "LayoutModel",
      "state": {}
     },
     "0643b4bc60e44e80a3fc96a660192541": {
      "model_module": "bqplot",
      "model_module_version": "*",
      "model_name": "DateScaleModel",
      "state": {
       "min": "2007-01-01T00:00:00.000000"
      }
     },
     "07bf55a9127349d4984083de4c751f7c": {
      "model_module": "bqplot",
      "model_module_version": "*",
      "model_name": "LinearScaleModel",
      "state": {
       "stabilized": false
      }
     },
     "0897fe02a8df4d538f68ccfa1c90cc06": {
      "model_module": "jupyter-js-widgets",
      "model_module_version": "*",
      "model_name": "LayoutModel",
      "state": {
       "align_self": "stretch",
       "flex": "1",
       "min_width": "400px"
      }
     },
     "0ae8c679cf424761a0812ebc436513d4": {
      "model_module": "bqplot",
      "model_module_version": "*",
      "model_name": "AxisModel",
      "state": {
       "label": "Freq",
       "orientation": "vertical",
       "scale": "IPY_MODEL_6f71e41f410f46e3bbd5d16164944f54",
       "side": "left",
       "tick_values": {
        "type": null,
        "values": null
       }
      }
     },
     "0b45f0e8f1014d878052d58c88455b5d": {
      "model_module": "jupyter-js-widgets",
      "model_module_version": "*",
      "model_name": "VBoxModel",
      "state": {
       "children": [
        "IPY_MODEL_493d94b570384c6485e63ff95d2c1a16",
        "IPY_MODEL_1ef8dcd5a4f244109c353785f52eb590"
       ],
       "layout": "IPY_MODEL_d44fbc72d8854f869aa8299f6fdfeb5a"
      }
     },
     "0c384e6a137c4d469af93b79c5a997fa": {
      "model_module": "jupyter-js-widgets",
      "model_module_version": "*",
      "model_name": "LayoutModel",
      "state": {}
     },
     "0c78695842d44e3eb6a77643dfd8574d": {
      "model_module": "jupyter-js-widgets",
      "model_module_version": "*",
      "model_name": "LayoutModel",
      "state": {}
     },
     "0d5d2fb62b42407485e8a322ac71fd48": {
      "model_module": "bqplot",
      "model_module_version": "*",
      "model_name": "BrushSelectorModel",
      "state": {
       "marks": [
        "IPY_MODEL_7bdf71d41cf2471e9cb8e51b14112c30"
       ],
       "x_scale": "IPY_MODEL_e1fd1cb2f05d4e149c6fa76021db340d",
       "y_scale": "IPY_MODEL_c738521da3fd4428ac2f8998eea74624"
      }
     },
     "10c2998dc3d14c62bbc3f8493211259b": {
      "model_module": "jupyter-js-widgets",
      "model_module_version": "*",
      "model_name": "LayoutModel",
      "state": {}
     },
     "122d71c83f014fe9b4185f88560ec10d": {
      "model_module": "bqplot",
      "model_module_version": "*",
      "model_name": "LinesModel",
      "state": {
       "color": {
        "type": null,
        "values": null
       },
       "display_legend": false,
       "fill_colors": [],
       "labels": [
        "C1"
       ],
       "scales": {
        "x": "IPY_MODEL_47aef8c996b5459e9762875d43dbb05e",
        "y": "IPY_MODEL_28e535c42f4d42158d115c5e34d0c2a8"
       },
       "selected": null,
       "x": {
        "type": "date",
        "values": [
         "2007-01-01T00:00:00.000000",
         "2007-01-02T00:00:00.000000",
         "2007-01-03T00:00:00.000000",
         "2007-01-04T00:00:00.000000",
         "2007-01-05T00:00:00.000000",
         "2007-01-06T00:00:00.000000",
         "2007-01-07T00:00:00.000000",
         "2007-01-08T00:00:00.000000",
         "2007-01-09T00:00:00.000000",
         "2007-01-10T00:00:00.000000",
         "2007-01-11T00:00:00.000000",
         "2007-01-12T00:00:00.000000",
         "2007-01-13T00:00:00.000000",
         "2007-01-14T00:00:00.000000",
         "2007-01-15T00:00:00.000000",
         "2007-01-16T00:00:00.000000",
         "2007-01-17T00:00:00.000000",
         "2007-01-18T00:00:00.000000",
         "2007-01-19T00:00:00.000000",
         "2007-01-20T00:00:00.000000",
         "2007-01-21T00:00:00.000000",
         "2007-01-22T00:00:00.000000",
         "2007-01-23T00:00:00.000000",
         "2007-01-24T00:00:00.000000",
         "2007-01-25T00:00:00.000000",
         "2007-01-26T00:00:00.000000",
         "2007-01-27T00:00:00.000000",
         "2007-01-28T00:00:00.000000",
         "2007-01-29T00:00:00.000000",
         "2007-01-30T00:00:00.000000",
         "2007-01-31T00:00:00.000000",
         "2007-02-01T00:00:00.000000",
         "2007-02-02T00:00:00.000000",
         "2007-02-03T00:00:00.000000",
         "2007-02-04T00:00:00.000000",
         "2007-02-05T00:00:00.000000",
         "2007-02-06T00:00:00.000000",
         "2007-02-07T00:00:00.000000",
         "2007-02-08T00:00:00.000000",
         "2007-02-09T00:00:00.000000",
         "2007-02-10T00:00:00.000000",
         "2007-02-11T00:00:00.000000",
         "2007-02-12T00:00:00.000000",
         "2007-02-13T00:00:00.000000",
         "2007-02-14T00:00:00.000000",
         "2007-02-15T00:00:00.000000",
         "2007-02-16T00:00:00.000000",
         "2007-02-17T00:00:00.000000",
         "2007-02-18T00:00:00.000000",
         "2007-02-19T00:00:00.000000",
         "2007-02-20T00:00:00.000000",
         "2007-02-21T00:00:00.000000",
         "2007-02-22T00:00:00.000000",
         "2007-02-23T00:00:00.000000",
         "2007-02-24T00:00:00.000000",
         "2007-02-25T00:00:00.000000",
         "2007-02-26T00:00:00.000000",
         "2007-02-27T00:00:00.000000",
         "2007-02-28T00:00:00.000000",
         "2007-03-01T00:00:00.000000",
         "2007-03-02T00:00:00.000000",
         "2007-03-03T00:00:00.000000",
         "2007-03-04T00:00:00.000000",
         "2007-03-05T00:00:00.000000",
         "2007-03-06T00:00:00.000000",
         "2007-03-07T00:00:00.000000",
         "2007-03-08T00:00:00.000000",
         "2007-03-09T00:00:00.000000",
         "2007-03-10T00:00:00.000000",
         "2007-03-11T00:00:00.000000",
         "2007-03-12T00:00:00.000000",
         "2007-03-13T00:00:00.000000",
         "2007-03-14T00:00:00.000000",
         "2007-03-15T00:00:00.000000",
         "2007-03-16T00:00:00.000000",
         "2007-03-17T00:00:00.000000",
         "2007-03-18T00:00:00.000000",
         "2007-03-19T00:00:00.000000",
         "2007-03-20T00:00:00.000000",
         "2007-03-21T00:00:00.000000",
         "2007-03-22T00:00:00.000000",
         "2007-03-23T00:00:00.000000",
         "2007-03-24T00:00:00.000000",
         "2007-03-25T00:00:00.000000",
         "2007-03-26T00:00:00.000000",
         "2007-03-27T00:00:00.000000",
         "2007-03-28T00:00:00.000000",
         "2007-03-29T00:00:00.000000",
         "2007-03-30T00:00:00.000000",
         "2007-03-31T00:00:00.000000",
         "2007-04-01T00:00:00.000000",
         "2007-04-02T00:00:00.000000",
         "2007-04-03T00:00:00.000000",
         "2007-04-04T00:00:00.000000",
         "2007-04-05T00:00:00.000000",
         "2007-04-06T00:00:00.000000",
         "2007-04-07T00:00:00.000000",
         "2007-04-08T00:00:00.000000",
         "2007-04-09T00:00:00.000000",
         "2007-04-10T00:00:00.000000",
         "2007-04-11T00:00:00.000000",
         "2007-04-12T00:00:00.000000",
         "2007-04-13T00:00:00.000000",
         "2007-04-14T00:00:00.000000",
         "2007-04-15T00:00:00.000000",
         "2007-04-16T00:00:00.000000",
         "2007-04-17T00:00:00.000000",
         "2007-04-18T00:00:00.000000",
         "2007-04-19T00:00:00.000000",
         "2007-04-20T00:00:00.000000",
         "2007-04-21T00:00:00.000000",
         "2007-04-22T00:00:00.000000",
         "2007-04-23T00:00:00.000000",
         "2007-04-24T00:00:00.000000",
         "2007-04-25T00:00:00.000000",
         "2007-04-26T00:00:00.000000",
         "2007-04-27T00:00:00.000000",
         "2007-04-28T00:00:00.000000",
         "2007-04-29T00:00:00.000000",
         "2007-04-30T00:00:00.000000",
         "2007-05-01T00:00:00.000000",
         "2007-05-02T00:00:00.000000",
         "2007-05-03T00:00:00.000000",
         "2007-05-04T00:00:00.000000",
         "2007-05-05T00:00:00.000000",
         "2007-05-06T00:00:00.000000",
         "2007-05-07T00:00:00.000000",
         "2007-05-08T00:00:00.000000",
         "2007-05-09T00:00:00.000000",
         "2007-05-10T00:00:00.000000",
         "2007-05-11T00:00:00.000000",
         "2007-05-12T00:00:00.000000",
         "2007-05-13T00:00:00.000000",
         "2007-05-14T00:00:00.000000",
         "2007-05-15T00:00:00.000000",
         "2007-05-16T00:00:00.000000",
         "2007-05-17T00:00:00.000000",
         "2007-05-18T00:00:00.000000",
         "2007-05-19T00:00:00.000000",
         "2007-05-20T00:00:00.000000",
         "2007-05-21T00:00:00.000000",
         "2007-05-22T00:00:00.000000",
         "2007-05-23T00:00:00.000000",
         "2007-05-24T00:00:00.000000",
         "2007-05-25T00:00:00.000000",
         "2007-05-26T00:00:00.000000",
         "2007-05-27T00:00:00.000000",
         "2007-05-28T00:00:00.000000",
         "2007-05-29T00:00:00.000000",
         "2007-05-30T00:00:00.000000"
        ]
       },
       "y": {
        "type": "float64",
        "values": [
         99.12029457819243,
         99.61006913858924,
         100.57592041295491,
         100.48633898097339,
         100.09575682502181,
         101.31678328326412,
         101.61805546028225,
         101.73032253298585,
         101.1305134132305,
         102.19670532228554,
         102.06492214767401,
         101.76538453271797,
         102.68879833343915,
         102.82639820941795,
         102.59427701329435,
         102.46253732457451,
         103.05699334942773,
         103.15717773319564,
         103.60069507629498,
         104.22148326070584,
         103.88775225658713,
         104.5016978095988,
         103.76972086626444,
         103.15183055272821,
         104.05076375172101,
         104.42970023777464,
         103.29368528258063,
         103.78202316809639,
         104.4264463648529,
         103.64368252705913,
         104.40500618468933,
         104.286340083526,
         104.44095881870241,
         104.33637637823469,
         104.39280455512768,
         103.72835742736967,
         103.23382635284578,
         103.44993970694787,
         103.34795651272502,
         104.35575240760446,
         104.72746571456754,
         103.38306157919739,
         103.64109135790895,
         104.31719437364654,
         104.77203459784118,
         105.09800410178813,
         105.7826667003887,
         105.31425923790638,
         105.50058735957238,
         105.70815164603445,
         105.30414405959505,
         105.86333046740992,
         105.57803032293918,
         105.33551302312362,
         105.99895828590942,
         105.93525413490158,
         104.37469235264871,
         104.08097631497897,
         103.82497335921708,
         103.59267836442395,
         103.42588922076996,
         102.89412197276025,
         102.63425702093555,
         103.43968356498473,
         104.42522432569797,
         104.2226491315554,
         104.24850246644216,
         104.6108402023902,
         104.37471006360671,
         104.87188247240753,
         104.64015069478258,
         104.18662990649008,
         104.15084515399265,
         105.03465781292557,
         103.80761321350343,
         104.27607938771202,
         104.6036141835438,
         104.4416879785711,
         105.37358968175948,
         105.00487789352445,
         103.65845921309713,
         104.69198411204654,
         104.1337735929987,
         105.04037034764279,
         106.06725345019433,
         106.11474499082746,
         104.93900941517111,
         104.54802784859844,
         104.16130873107556,
         104.73472671507717,
         103.95390483418635,
         104.59496410800313,
         106.16499260294891,
         106.42338855478047,
         105.34888752538791,
         105.28961545027154,
         105.1379360220513,
         105.41842733138516,
         106.35200195804347,
         106.65754203466544,
         105.62356040068934,
         104.95196860892162,
         104.47348817103114,
         104.88969206262844,
         105.13436828246725,
         105.58288689925472,
         105.1509839414557,
         105.05247392170975,
         105.03671885167101,
         105.4986825293018,
         104.84155941168957,
         104.81291677638043,
         103.40738800331994,
         102.47186640902949,
         102.55558080643621,
         103.27726396833698,
         103.05392772607959,
         103.36314241645897,
         104.06968629557751,
         103.55595573105701,
         103.4587395104751,
         102.42170247829416,
         102.62070584443389,
         102.12149715191208,
         103.16646822932832,
         102.65584568864062,
         103.34893673990875,
         102.96988204568488,
         103.28253337822889,
         103.34982688301646,
         103.25945232600507,
         103.47944788758714,
         103.54175017218815,
         103.2034370340793,
         102.24535626846546,
         102.88519196545144,
         104.2081309514615,
         104.0635776143514,
         102.82960511596546,
         103.59706020562001,
         103.49028427709167,
         103.24911397970769,
         102.08067093664724,
         101.26173538754121,
         102.69011868800868,
         104.09255000710044,
         104.73022969012717,
         104.46735741522932,
         103.72440299144112,
         103.35773966282235
        ]
       }
      }
     },
     "13c576e88e5143479ea6f42ab0764125": {
      "model_module": "jupyter-js-widgets",
      "model_module_version": "*",
      "model_name": "VBoxModel",
      "state": {
       "children": [
        "IPY_MODEL_fcfb0b9155294918b1fc0abb03e7b047",
        "IPY_MODEL_f63f903ea0a7495983c26bd65b122449"
       ],
       "layout": "IPY_MODEL_f1637e1ef54f4edfb2b3a546e02dce81"
      }
     },
     "142c8558d11c49d482ae2e7fe0eca349": {
      "model_module": "bqplot",
      "model_module_version": "*",
      "model_name": "BrushIntervalSelectorModel",
      "state": {
       "marks": [
        "IPY_MODEL_b2affcbb21df49a5b5bc8447bd7eb268",
        "IPY_MODEL_6319446546f04bd8883b14458d385b0b"
       ],
       "scale": "IPY_MODEL_2dfa3061fa7d4e648b95bb61990ba094",
       "selected": {
        "type": null,
        "values": null
       }
      }
     },
     "1907260f7a1941c4b87484d3c9047e4d": {
      "model_module": "jupyter-js-widgets",
      "model_module_version": "*",
      "model_name": "LabelModel",
      "state": {
       "layout": "IPY_MODEL_76633edf480d473ca0d2c5bb042039fd",
       "value": "None"
      }
     },
     "193491a0a4ad4e2cb5451904dc2ac130": {
      "model_module": "bqplot",
      "model_module_version": "*",
      "model_name": "LinearScaleModel",
      "state": {
       "allow_padding": false,
       "max": 1,
       "min": 0,
       "stabilized": false
      }
     },
     "19a8449c4b5d4dcab5b58ef8814e5b07": {
      "model_module": "bqplot",
      "model_module_version": "*",
      "model_name": "AxisModel",
      "state": {
       "label": "Returns",
       "scale": "IPY_MODEL_c12805faaf9543948e7cbd3913c1df2c",
       "side": "bottom",
       "tick_format": "0.2%",
       "tick_values": {
        "type": null,
        "values": null
       }
      }
     },
     "1b9077997d4c40d0920e0eba74d11ec4": {
      "model_module": "bqplot",
      "model_module_version": "*",
      "model_name": "FigureModel",
      "state": {
       "_dom_classes": [],
       "axes": [
        "IPY_MODEL_84d6745ccd0a4b9dab9ee2090832ce1e",
        "IPY_MODEL_804957500533402eab29cf73cf74d358"
       ],
       "interaction": "IPY_MODEL_c3287733f05d4e8bab5d17df5838d223",
       "layout": "IPY_MODEL_2cd11331585c4fa29267b67d89e02c83",
       "marks": [
        "IPY_MODEL_523a7f44e0424548a23a7f485fa0fe02",
        "IPY_MODEL_d485239bced640668d33068f96d4f018"
       ],
       "scale_x": "IPY_MODEL_453a22ddd87e458b9c54a7fea9c07ac3",
       "scale_y": "IPY_MODEL_eb92b1ca5ee747549aecbdf282797220",
       "title": "Fast Interval Selector Example"
      }
     },
     "1d6e90cdbc97474daef59fffbef8c868": {
      "model_module": "bqplot",
      "model_module_version": "*",
      "model_name": "AxisModel",
      "state": {
       "label": "Date",
       "scale": "IPY_MODEL_0643b4bc60e44e80a3fc96a660192541",
       "side": "bottom",
       "tick_values": {
        "type": null,
        "values": null
       }
      }
     },
     "1e894edd55eb4284a879fade2cf242c8": {
      "model_module": "bqplot",
      "model_module_version": "*",
      "model_name": "AxisModel",
      "state": {
       "label": "Time",
       "scale": "IPY_MODEL_2dfa3061fa7d4e648b95bb61990ba094",
       "side": "top",
       "tick_values": {
        "type": null,
        "values": null
       }
      }
     },
     "1ef8dcd5a4f244109c353785f52eb590": {
      "model_module": "bqplot",
      "model_module_version": "*",
      "model_name": "FigureModel",
      "state": {
       "_dom_classes": [],
       "axes": [
        "IPY_MODEL_84d6745ccd0a4b9dab9ee2090832ce1e",
        "IPY_MODEL_804957500533402eab29cf73cf74d358"
       ],
       "interaction": "IPY_MODEL_c0ebcc1fbdfd4935968c7eb108baa842",
       "layout": "IPY_MODEL_5f1ec7b7bf8e4934a17ca2bd679b2328",
       "marks": [
        "IPY_MODEL_523a7f44e0424548a23a7f485fa0fe02",
        "IPY_MODEL_d485239bced640668d33068f96d4f018"
       ],
       "scale_x": "IPY_MODEL_f3d11e9bae24448db82a102c5982948b",
       "scale_y": "IPY_MODEL_54209a233c594c718c9bc12b6cf88af7",
       "title": "Index Selector Example"
      }
     },
     "1f73298de64e40ebbf32a6bb30ec7055": {
      "model_module": "bqplot",
      "model_module_version": "*",
      "model_name": "LinearScaleModel",
      "state": {
       "allow_padding": false,
       "max": 1,
       "min": 0,
       "stabilized": false
      }
     },
     "22dff5e72b9440a798ccfab76bb1df1d": {
      "model_module": "bqplot",
      "model_module_version": "*",
      "model_name": "IndexSelectorModel",
      "state": {
       "marks": [
        "IPY_MODEL_b2affcbb21df49a5b5bc8447bd7eb268",
        "IPY_MODEL_6319446546f04bd8883b14458d385b0b"
       ],
       "scale": "IPY_MODEL_a08c2cbf453f43a69e9ce97c9c47ae8f",
       "selected": {
        "type": null,
        "values": null
       }
      }
     },
     "23144a8670f546c5b2ad9eeb949ecfc6": {
      "model_module": "jupyter-js-widgets",
      "model_module_version": "*",
      "model_name": "ToggleButtonsModel",
      "state": {
       "_options_labels": [
        "HandDraw1",
        "HandDraw2",
        "PanZoom",
        "FastIntervalSelector",
        "IndexSelector",
        "BrushIntervalSelector",
        "MultiSelector",
        "None"
       ],
       "button_style": "",
       "icons": [],
       "layout": "IPY_MODEL_04c6ecf60acd4f7a96729871f0a54535",
       "tooltips": [],
       "value": "None"
      }
     },
     "23ba434ceb64465daf41e3da91d6ce03": {
      "model_module": "jupyter-js-widgets",
      "model_module_version": "*",
      "model_name": "LayoutModel",
      "state": {
       "align_self": "stretch",
       "flex": "1",
       "min_width": "400px"
      }
     },
     "27d57e38a00e410d8649ad6b70920905": {
      "model_module": "jupyter-js-widgets",
      "model_module_version": "*",
      "model_name": "LayoutModel",
      "state": {}
     },
     "280a872641e44f71827a071bcfb99726": {
      "model_module": "jupyter-js-widgets",
      "model_module_version": "*",
      "model_name": "LabelModel",
      "state": {
       "layout": "IPY_MODEL_0c384e6a137c4d469af93b79c5a997fa",
       "value": "hello"
      }
     },
     "286d2a058e5f4111a4f93726694a7fb2": {
      "model_module": "bqplot",
      "model_module_version": "*",
      "model_name": "AxisModel",
      "state": {
       "label": "Date",
       "scale": "IPY_MODEL_efb4ff507520408f9b721199ccb091fe",
       "side": "bottom",
       "tick_values": {
        "type": null,
        "values": null
       }
      }
     },
     "28e535c42f4d42158d115c5e34d0c2a8": {
      "model_module": "bqplot",
      "model_module_version": "*",
      "model_name": "LinearScaleModel",
      "state": {
       "stabilized": false
      }
     },
     "28fb5ca2edb74d8b9b7f647e885ab200": {
      "model_module": "bqplot",
      "model_module_version": "*",
      "model_name": "LinesModel",
      "state": {
       "color": {
        "type": null,
        "values": null
       },
       "colors": [
        "red"
       ],
       "display_legend": false,
       "fill_colors": [],
       "labels": [
        "C1"
       ],
       "scales": {
        "x": "IPY_MODEL_386aee50b33d4850ae5b609d3018bcaf",
        "y": "IPY_MODEL_4ee53d516a4c442798f6b8b78a279762"
       },
       "x": {
        "type": "date",
        "values": [
         "2007-01-01T00:00:00.000000",
         "2007-01-02T00:00:00.000000",
         "2007-01-03T00:00:00.000000",
         "2007-01-04T00:00:00.000000",
         "2007-01-05T00:00:00.000000",
         "2007-01-06T00:00:00.000000",
         "2007-01-07T00:00:00.000000",
         "2007-01-08T00:00:00.000000",
         "2007-01-09T00:00:00.000000",
         "2007-01-10T00:00:00.000000",
         "2007-01-11T00:00:00.000000",
         "2007-01-12T00:00:00.000000",
         "2007-01-13T00:00:00.000000",
         "2007-01-14T00:00:00.000000",
         "2007-01-15T00:00:00.000000",
         "2007-01-16T00:00:00.000000",
         "2007-01-17T00:00:00.000000",
         "2007-01-18T00:00:00.000000",
         "2007-01-19T00:00:00.000000",
         "2007-01-20T00:00:00.000000",
         "2007-01-21T00:00:00.000000",
         "2007-01-22T00:00:00.000000",
         "2007-01-23T00:00:00.000000",
         "2007-01-24T00:00:00.000000",
         "2007-01-25T00:00:00.000000",
         "2007-01-26T00:00:00.000000",
         "2007-01-27T00:00:00.000000",
         "2007-01-28T00:00:00.000000",
         "2007-01-29T00:00:00.000000",
         "2007-01-30T00:00:00.000000",
         "2007-01-31T00:00:00.000000",
         "2007-02-01T00:00:00.000000",
         "2007-02-02T00:00:00.000000",
         "2007-02-03T00:00:00.000000",
         "2007-02-04T00:00:00.000000",
         "2007-02-05T00:00:00.000000",
         "2007-02-06T00:00:00.000000",
         "2007-02-07T00:00:00.000000",
         "2007-02-08T00:00:00.000000",
         "2007-02-09T00:00:00.000000",
         "2007-02-10T00:00:00.000000",
         "2007-02-11T00:00:00.000000",
         "2007-02-12T00:00:00.000000",
         "2007-02-13T00:00:00.000000",
         "2007-02-14T00:00:00.000000",
         "2007-02-15T00:00:00.000000",
         "2007-02-16T00:00:00.000000",
         "2007-02-17T00:00:00.000000",
         "2007-02-18T00:00:00.000000",
         "2007-02-19T00:00:00.000000",
         "2007-02-20T00:00:00.000000",
         "2007-02-21T00:00:00.000000",
         "2007-02-22T00:00:00.000000",
         "2007-02-23T00:00:00.000000",
         "2007-02-24T00:00:00.000000",
         "2007-02-25T00:00:00.000000",
         "2007-02-26T00:00:00.000000",
         "2007-02-27T00:00:00.000000",
         "2007-02-28T00:00:00.000000",
         "2007-03-01T00:00:00.000000",
         "2007-03-02T00:00:00.000000",
         "2007-03-03T00:00:00.000000",
         "2007-03-04T00:00:00.000000",
         "2007-03-05T00:00:00.000000",
         "2007-03-06T00:00:00.000000",
         "2007-03-07T00:00:00.000000",
         "2007-03-08T00:00:00.000000",
         "2007-03-09T00:00:00.000000",
         "2007-03-10T00:00:00.000000",
         "2007-03-11T00:00:00.000000",
         "2007-03-12T00:00:00.000000",
         "2007-03-13T00:00:00.000000",
         "2007-03-14T00:00:00.000000",
         "2007-03-15T00:00:00.000000",
         "2007-03-16T00:00:00.000000",
         "2007-03-17T00:00:00.000000",
         "2007-03-18T00:00:00.000000",
         "2007-03-19T00:00:00.000000",
         "2007-03-20T00:00:00.000000",
         "2007-03-21T00:00:00.000000",
         "2007-03-22T00:00:00.000000",
         "2007-03-23T00:00:00.000000",
         "2007-03-24T00:00:00.000000",
         "2007-03-25T00:00:00.000000",
         "2007-03-26T00:00:00.000000",
         "2007-03-27T00:00:00.000000",
         "2007-03-28T00:00:00.000000",
         "2007-03-29T00:00:00.000000",
         "2007-03-30T00:00:00.000000",
         "2007-03-31T00:00:00.000000",
         "2007-04-01T00:00:00.000000",
         "2007-04-02T00:00:00.000000",
         "2007-04-03T00:00:00.000000",
         "2007-04-04T00:00:00.000000",
         "2007-04-05T00:00:00.000000",
         "2007-04-06T00:00:00.000000",
         "2007-04-07T00:00:00.000000",
         "2007-04-08T00:00:00.000000",
         "2007-04-09T00:00:00.000000",
         "2007-04-10T00:00:00.000000",
         "2007-04-11T00:00:00.000000",
         "2007-04-12T00:00:00.000000",
         "2007-04-13T00:00:00.000000",
         "2007-04-14T00:00:00.000000",
         "2007-04-15T00:00:00.000000",
         "2007-04-16T00:00:00.000000",
         "2007-04-17T00:00:00.000000",
         "2007-04-18T00:00:00.000000",
         "2007-04-19T00:00:00.000000",
         "2007-04-20T00:00:00.000000",
         "2007-04-21T00:00:00.000000",
         "2007-04-22T00:00:00.000000",
         "2007-04-23T00:00:00.000000",
         "2007-04-24T00:00:00.000000",
         "2007-04-25T00:00:00.000000",
         "2007-04-26T00:00:00.000000",
         "2007-04-27T00:00:00.000000",
         "2007-04-28T00:00:00.000000",
         "2007-04-29T00:00:00.000000",
         "2007-04-30T00:00:00.000000",
         "2007-05-01T00:00:00.000000",
         "2007-05-02T00:00:00.000000",
         "2007-05-03T00:00:00.000000",
         "2007-05-04T00:00:00.000000",
         "2007-05-05T00:00:00.000000",
         "2007-05-06T00:00:00.000000",
         "2007-05-07T00:00:00.000000",
         "2007-05-08T00:00:00.000000",
         "2007-05-09T00:00:00.000000",
         "2007-05-10T00:00:00.000000",
         "2007-05-11T00:00:00.000000",
         "2007-05-12T00:00:00.000000",
         "2007-05-13T00:00:00.000000",
         "2007-05-14T00:00:00.000000",
         "2007-05-15T00:00:00.000000",
         "2007-05-16T00:00:00.000000",
         "2007-05-17T00:00:00.000000",
         "2007-05-18T00:00:00.000000",
         "2007-05-19T00:00:00.000000",
         "2007-05-20T00:00:00.000000",
         "2007-05-21T00:00:00.000000",
         "2007-05-22T00:00:00.000000",
         "2007-05-23T00:00:00.000000",
         "2007-05-24T00:00:00.000000",
         "2007-05-25T00:00:00.000000",
         "2007-05-26T00:00:00.000000",
         "2007-05-27T00:00:00.000000",
         "2007-05-28T00:00:00.000000",
         "2007-05-29T00:00:00.000000",
         "2007-05-30T00:00:00.000000"
        ]
       },
       "y": {
        "type": "float64",
        "values": [
         100.01694746388249,
         100.60647228300627,
         101.38288240119304,
         101.8974419057456,
         100.51606728142394,
         102.52034837975006,
         102.90858417394574,
         102.66393960850169,
         102.04616132379594,
         103.92966862514962,
         103.28173797677768,
         102.94823299717983,
         104.41305636351576,
         105.07964848793583,
         104.817680818233,
         104.43549274640448,
         104.66921231967831,
         103.75434823350528,
         104.59767723137777,
         104.53314039405312,
         103.99572269955328,
         104.59490589685079,
         102.68921209639858,
         102.43388859075196,
         103.8239679047112,
         104.90039223326939,
         103.24790272628138,
         103.84756997306286,
         104.988582359625,
         103.70020902224485,
         104.90441196434763,
         104.98433257611542,
         105.54235456938397,
         105.32685724012123,
         106.79852216863462,
         105.28210934580864,
         104.78726595176963,
         104.60973129328349,
         104.08921683446253,
         105.70418793828149,
         106.32662684032833,
         104.31327107219496,
         104.23521312046446,
         105.69924690099225,
         106.3004782966041,
         106.54950194924453,
         106.90311602079059,
         106.10349746228589,
         105.26586917926613,
         106.02133607390196,
         106.22078499993137,
         107.13283573796251,
         107.1592837599059,
         106.73114167212977,
         108.25763909337248,
         108.37364098406641,
         105.84216122057218,
         105.3456267488749,
         104.71423883688867,
         103.90243325484373,
         103.15339497145123,
         102.36308973046478,
         102.15012486984367,
         103.17267745686458,
         104.20254598074008,
         104.12474449500426,
         103.7005219706673,
         103.75203973907036,
         102.96236844927607,
         103.92672043974308,
         103.63999470385856,
         102.60453846658332,
         101.93829520594274,
         103.0618091436992,
         101.11423111036343,
         100.59316312672408,
         101.49087998381435,
         101.159052250559,
         102.37412032327916,
         101.95464063675124,
         100.42226067428571,
         102.82632889870455,
         102.15827500540306,
         103.76682272737982,
         106.61438977435327,
         106.95814189296692,
         104.96965684005923,
         105.0454261324912,
         103.9064548305989,
         105.60317137509308,
         104.6229958818412,
         105.31890216094729,
         107.66434210568906,
         107.97835989799212,
         106.84022570284081,
         106.02727600926097,
         105.36937535896645,
         105.25716921176952,
         105.81019398281477,
         105.95418642176308,
         104.28650917934506,
         103.41186124210694,
         104.10261180834124,
         104.8476251392737,
         105.01505426193266,
         105.83693627214613,
         105.17574993945304,
         104.68885317605292,
         104.44228175414658,
         104.70123747076619,
         102.93941087563847,
         102.85721887415582,
         100.29424302988811,
         99.47634664851213,
         98.90340136115688,
         99.86108577901227,
         99.62916231886884,
         100.43681104042282,
         102.13534326989921,
         103.16605808859427,
         103.27217015802167,
         101.34145222737689,
         102.22512914018125,
         100.92392026456461,
         102.7373223289413,
         101.32297088379099,
         102.74689648950093,
         102.18345360277372,
         102.79068434350543,
         102.97779161325735,
         102.8409145791649,
         102.94644950600058,
         102.8242601220416,
         102.2656230949503,
         101.83853478504246,
         102.56570229200683,
         104.50610869019373,
         104.39368712063373,
         102.24591956170678,
         103.67505309518518,
         104.47299983995498,
         102.90414852966764,
         100.51607844932997,
         98.45130161740697,
         101.75371139127714,
         103.17974142128362,
         103.76430808815135,
         103.11031046661448,
         101.77165922769125,
         100.76646341405275
        ]
       }
      }
     },
     "2b72838d19444d1eb890c12c7d432c6d": {
      "model_module": "bqplot",
      "model_module_version": "*",
      "model_name": "HistModel",
      "state": {
       "count": {
        "type": "object",
        "values": [
         5,
         9,
         9,
         20,
         33,
         22,
         20,
         18,
         8,
         5
        ]
       },
       "display_legend": false,
       "midpoints": [
        -0.013353868118063116,
        -0.01037988076144445,
        -0.007405893404825781,
        -0.004431906048207112,
        -0.0014579186915884444,
        0.0015160686650302242,
        0.004490056021648892,
        0.00746404337826756,
        0.01043803073488623,
        0.013412018091504897
       ],
       "sample": {
        "type": "float64",
        "values": [
         0.00492904599826538,
         0.00964961405266429,
         -0.0008910815801934646,
         -0.003894491659860222,
         0.012124780474656482,
         0.0029691540419074514,
         0.0011041847023127715,
         -0.005913520615121293,
         0.010487545032886736,
         -0.0012903372457024886,
         -0.0029390902212504955,
         0.009033027024843321,
         0.001339072719239276,
         -0.0022599603926618528,
         -0.001284909328864714,
         0.005784926432155224,
         0.0009716538017157106,
         0.004290216545107306,
         0.005974242362255744,
         -0.0032072703488470466,
         0.005892307207760794,
         -0.007029096568226478,
         -0.005972235814522442,
         0.008676907178348792,
         0.0036352269762067735,
         -0.010937875657306861,
         0.0047165241587237006,
         0.006190192512123716,
         -0.007524074068273379,
         0.0073187392877400725,
         -0.0011372403894531757,
         0.0014815384884627747,
         -0.0010018563472584674,
         0.0005406831763092868,
         -0.0063852169471037,
         -0.0047789601625263245,
         0.0020912472903225066,
         -0.0009863079301544175,
         0.009704244656800753,
         0.003555653121490643,
         -0.012920277075662234,
         0.00249275177473951,
         0.00650231747680774,
         0.004350687444635071,
         0.0031063963974302666,
         0.0064933879589395005,
         -0.004437849856455678,
         0.0017676949531049146,
         0.001965490199509645,
         -0.0038292373319182005,
         0.0052961538336324665,
         -0.0026986235478947407,
         -0.0022996854810610756,
         0.006278648610154036,
         -0.0006011691288421162,
         -0.014840861796372451,
         -0.002818021058573983,
         -0.002462681664925803,
         -0.002239877753724251,
         -0.0016113451241368537,
         -0.005154792522914953,
         -0.002528751421817077,
         0.007816909241330272,
         0.009482583237718778,
         -0.001941790773494212,
         0.00024802793884060037,
         0.0034696853377464976,
         -0.0022597757497377913,
         0.004752032884864477,
         -0.002212110384486543,
         -0.004343518585139705,
         -0.0003435267979421397,
         0.008450087653015359,
         -0.0117510570374737,
         0.004502678319767028,
         0.003136112071779884,
         -0.0015491975728068041,
         0.00888312654443002,
         -0.003505227222186491,
         -0.012905356408226432,
         0.009921105612118453,
         -0.005346197276985265,
         0.008668398631398233,
         0.009728603668971658,
         0.00044764911043415623,
         -0.011141689866220439,
         -0.0037327562187794427,
         -0.0037058194561998548,
         0.005489998151615438,
         -0.0074831630144718275,
         0.0061478280479665415,
         0.01489901176981423,
         0.0024309520367404858,
         -0.010147789597990453,
         -0.0005627848265481461,
         -0.001441631130796317,
         0.0026642887518324443,
         0.008816912518247122,
         0.0028687943314080755,
         -0.00974170379973227,
         -0.006378652562569087,
         -0.004569466174780601,
         0.003975908652196658,
         0.0023299838135573125,
         0.004257072291142805,
         -0.004099042653345819,
         -0.0009372826494775666,
         -0.00014998458378823187,
         0.004388472589424097,
         -0.006248212414289078,
         -0.00027323657484501496,
         -0.013500605744158456,
         -0.009088123385622815,
         0.0008166165378913348,
         0.007012351405525585,
         -0.002164833418015988,
         0.002996020837444213,
         0.006812293077282483,
         -0.004948633587837037,
         -0.0009392205477487536,
         -0.01007425273559992,
         0.001941095310498575,
         -0.004876470746914663,
         0.010180627013149923,
         -0.004961790377023156,
         0.006728908506448583,
         -0.00367445997358562,
         0.0030317373144690407,
         0.0006513356095974032,
         -0.0008748354683900672,
         0.002128246250634902,
         0.0006018928212734309,
         -0.0032727575877471438,
         -0.009326778662401836,
         0.006238347018837409,
         0.012776432995549314,
         -0.0013881228642809162,
         -0.011928736504358994,
         0.00743565395912249,
         -0.0010312164488590625,
         -0.0023330860862920133,
         -0.011381258263861938,
         -0.008054787897812332,
         0.014007292666578408,
         0.013564510327179313,
         0.00610739562116791,
         -0.0025131495720565056,
         -0.007137242859087678,
         -0.0035412393081664106
        ]
       },
       "scales": {
        "count": "IPY_MODEL_6f71e41f410f46e3bbd5d16164944f54",
        "sample": "IPY_MODEL_c12805faaf9543948e7cbd3913c1df2c"
       },
       "selected": null
      }
     },
     "2cd11331585c4fa29267b67d89e02c83": {
      "model_module": "jupyter-js-widgets",
      "model_module_version": "*",
      "model_name": "LayoutModel",
      "state": {
       "align_self": "stretch",
       "flex": "1",
       "min_width": "400px"
      }
     },
     "2dfa3061fa7d4e648b95bb61990ba094": {
      "model_module": "bqplot",
      "model_module_version": "*",
      "model_name": "LinearScaleModel",
      "state": {
       "stabilized": false
      }
     },
     "2e997a438fc44212ae59f1ebaf882136": {
      "model_module": "bqplot",
      "model_module_version": "*",
      "model_name": "FigureModel",
      "state": {
       "_dom_classes": [],
       "axes": [
        "IPY_MODEL_dda70b503e4749989975ab1a00b98da9",
        "IPY_MODEL_6049e545be4a4df29c2f107c538ccd30"
       ],
       "interaction": "IPY_MODEL_37fde07255bf43d0bcdacce3917a5c04",
       "layout": "IPY_MODEL_d29484693c0e4a8faa3ff20d5077b028",
       "marks": [
        "IPY_MODEL_432f3a579c5641c2b7293eb7e17fdc42"
       ],
       "scale_x": "IPY_MODEL_55845a816d134b1c994352fca4325340",
       "scale_y": "IPY_MODEL_a586c395ef8f403e9af60572e0b8c6b7"
      }
     },
     "3113be995d134d35b96a656264245132": {
      "model_module": "bqplot",
      "model_module_version": "*",
      "model_name": "FigureModel",
      "state": {
       "_dom_classes": [],
       "axes": [
        "IPY_MODEL_78c1fdfbbf64468b91886d277b2ad96a",
        "IPY_MODEL_c5b9255c318b4b778313e1fa0d2ce360"
       ],
       "interaction": "IPY_MODEL_7f728ff0a51f48669a84ce3845840a8e",
       "layout": "IPY_MODEL_db170172a33e4d258fe3f0f771def260",
       "marks": [
        "IPY_MODEL_3a21ac8bd4f94a14bb5a868680af0a1f",
        "IPY_MODEL_f1a86300f215466585031e5d6d29b471",
        "IPY_MODEL_d5d335133cb14bfa8349d99c96b28952"
       ],
       "scale_x": "IPY_MODEL_46e6c98a18a64fa785e5276cfaf658cf",
       "scale_y": "IPY_MODEL_9fb0ef400c304cf0accbf265f5a02994",
       "title": "Lasso Selector Example"
      }
     },
     "37fde07255bf43d0bcdacce3917a5c04": {
      "model_module": "bqplot",
      "model_module_version": "*",
      "model_name": "PanZoomModel",
      "state": {
       "scales": {
        "x": [
         "IPY_MODEL_7140a81c1581473999be67fb98a08b93"
        ],
        "y": [
         "IPY_MODEL_b57cb44b25264490aba7d22edd24726d"
        ]
       }
      }
     },
     "384ec9bc468b4f32b105c78f6a892ab3": {
      "model_module": "jupyter-js-widgets",
      "model_module_version": "*",
      "model_name": "LayoutModel",
      "state": {}
     },
     "386aee50b33d4850ae5b609d3018bcaf": {
      "model_module": "bqplot",
      "model_module_version": "*",
      "model_name": "DateScaleModel",
      "state": {
       "min": "2007-01-01T00:00:00.000000"
      }
     },
     "387d2167996f4490b6d9f76218f6e15b": {
      "model_module": "bqplot",
      "model_module_version": "*",
      "model_name": "LinearScaleModel",
      "state": {
       "allow_padding": false,
       "max": 1,
       "min": 0,
       "stabilized": false
      }
     },
     "3a21ac8bd4f94a14bb5a868680af0a1f": {
      "model_module": "bqplot",
      "model_module_version": "*",
      "model_name": "ScatterModel",
      "state": {
       "_model_module": "bqplot",
       "_model_module_version": "*",
       "_view_module": "bqplot",
       "_view_module_version": "*",
       "apply_clip": true,
       "color": {
        "type": null,
        "values": null
       },
       "colors": [
        "skyblue"
       ],
       "display_legend": false,
       "enable_hover": true,
       "hovered_style": {},
       "interactions": {
        "hover": "tooltip"
       },
       "labels": [],
       "msg_throttle": 1,
       "names": {
        "type": null,
        "values": null
       },
       "opacity": {
        "type": null,
        "values": null
       },
       "preserve_domain": {},
       "rotation": {
        "type": null,
        "values": null
       },
       "scales": {
        "x": "IPY_MODEL_c5c231f528ce4ba7ba543bd115597f27",
        "y": "IPY_MODEL_5aed7aa05252416ea295ec372340f4b8"
       },
       "selected": [],
       "selected_style": {},
       "size": {
        "type": null,
        "values": null
       },
       "skew": {
        "type": null,
        "values": null
       },
       "tooltip": null,
       "tooltip_location": "mouse",
       "tooltip_style": {
        "opacity": 0.9
       },
       "unhovered_style": {},
       "unselected_style": {},
       "visible": true,
       "x": {
        "type": "float",
        "values": [
         0,
         1,
         2,
         3,
         4,
         5,
         6,
         7,
         8,
         9,
         10,
         11,
         12,
         13,
         14,
         15,
         16,
         17,
         18,
         19
        ]
       },
       "y": {
        "type": "float",
        "values": [
         0,
         1,
         2,
         3,
         4,
         5,
         6,
         7,
         8,
         9,
         10,
         11,
         12,
         13,
         14,
         15,
         16,
         17,
         18,
         19
        ]
       }
      }
     },
     "3da0e39a25f24b60b47734980399c366": {
      "model_module": "jupyter-js-widgets",
      "model_module_version": "*",
      "model_name": "LayoutModel",
      "state": {}
     },
     "3e27cf5652094f2786be884455a3898a": {
      "model_module": "bqplot",
      "model_module_version": "*",
      "model_name": "AxisModel",
      "state": {
       "label": "Price",
       "orientation": "vertical",
       "scale": "IPY_MODEL_bbbb0b65a0b8402ab4961492c273ab1e",
       "side": "left",
       "tick_values": {
        "type": null,
        "values": null
       }
      }
     },
     "40d38af049be49da8b1c3218ab1298d4": {
      "model_module": "bqplot",
      "model_module_version": "*",
      "model_name": "LinearScaleModel",
      "state": {
       "stabilized": false
      }
     },
     "40dcf889632c452798b1cc1890374636": {
      "model_module": "bqplot",
      "model_module_version": "*",
      "model_name": "LinearScaleModel",
      "state": {
       "max": 10,
       "min": 5,
       "stabilized": false
      }
     },
     "432f3a579c5641c2b7293eb7e17fdc42": {
      "model_module": "bqplot",
      "model_module_version": "*",
      "model_name": "LinesModel",
      "state": {
       "color": {
        "type": null,
        "values": null
       },
       "colors": [
        "red"
       ],
       "display_legend": false,
       "fill_colors": [],
       "labels": [
        "C1"
       ],
       "scales": {
        "x": "IPY_MODEL_7140a81c1581473999be67fb98a08b93",
        "y": "IPY_MODEL_b57cb44b25264490aba7d22edd24726d"
       },
       "x": {
        "type": "date",
        "values": [
         "2007-01-01T00:00:00.000000",
         "2007-01-02T00:00:00.000000",
         "2007-01-03T00:00:00.000000",
         "2007-01-04T00:00:00.000000",
         "2007-01-05T00:00:00.000000",
         "2007-01-06T00:00:00.000000",
         "2007-01-07T00:00:00.000000",
         "2007-01-08T00:00:00.000000",
         "2007-01-09T00:00:00.000000",
         "2007-01-10T00:00:00.000000",
         "2007-01-11T00:00:00.000000",
         "2007-01-12T00:00:00.000000",
         "2007-01-13T00:00:00.000000",
         "2007-01-14T00:00:00.000000",
         "2007-01-15T00:00:00.000000",
         "2007-01-16T00:00:00.000000",
         "2007-01-17T00:00:00.000000",
         "2007-01-18T00:00:00.000000",
         "2007-01-19T00:00:00.000000",
         "2007-01-20T00:00:00.000000",
         "2007-01-21T00:00:00.000000",
         "2007-01-22T00:00:00.000000",
         "2007-01-23T00:00:00.000000",
         "2007-01-24T00:00:00.000000",
         "2007-01-25T00:00:00.000000",
         "2007-01-26T00:00:00.000000",
         "2007-01-27T00:00:00.000000",
         "2007-01-28T00:00:00.000000",
         "2007-01-29T00:00:00.000000",
         "2007-01-30T00:00:00.000000",
         "2007-01-31T00:00:00.000000",
         "2007-02-01T00:00:00.000000",
         "2007-02-02T00:00:00.000000",
         "2007-02-03T00:00:00.000000",
         "2007-02-04T00:00:00.000000",
         "2007-02-05T00:00:00.000000",
         "2007-02-06T00:00:00.000000",
         "2007-02-07T00:00:00.000000",
         "2007-02-08T00:00:00.000000",
         "2007-02-09T00:00:00.000000",
         "2007-02-10T00:00:00.000000",
         "2007-02-11T00:00:00.000000",
         "2007-02-12T00:00:00.000000",
         "2007-02-13T00:00:00.000000",
         "2007-02-14T00:00:00.000000",
         "2007-02-15T00:00:00.000000",
         "2007-02-16T00:00:00.000000",
         "2007-02-17T00:00:00.000000",
         "2007-02-18T00:00:00.000000",
         "2007-02-19T00:00:00.000000",
         "2007-02-20T00:00:00.000000",
         "2007-02-21T00:00:00.000000",
         "2007-02-22T00:00:00.000000",
         "2007-02-23T00:00:00.000000",
         "2007-02-24T00:00:00.000000",
         "2007-02-25T00:00:00.000000",
         "2007-02-26T00:00:00.000000",
         "2007-02-27T00:00:00.000000",
         "2007-02-28T00:00:00.000000",
         "2007-03-01T00:00:00.000000",
         "2007-03-02T00:00:00.000000",
         "2007-03-03T00:00:00.000000",
         "2007-03-04T00:00:00.000000",
         "2007-03-05T00:00:00.000000",
         "2007-03-06T00:00:00.000000",
         "2007-03-07T00:00:00.000000",
         "2007-03-08T00:00:00.000000",
         "2007-03-09T00:00:00.000000",
         "2007-03-10T00:00:00.000000",
         "2007-03-11T00:00:00.000000",
         "2007-03-12T00:00:00.000000",
         "2007-03-13T00:00:00.000000",
         "2007-03-14T00:00:00.000000",
         "2007-03-15T00:00:00.000000",
         "2007-03-16T00:00:00.000000",
         "2007-03-17T00:00:00.000000",
         "2007-03-18T00:00:00.000000",
         "2007-03-19T00:00:00.000000",
         "2007-03-20T00:00:00.000000",
         "2007-03-21T00:00:00.000000",
         "2007-03-22T00:00:00.000000",
         "2007-03-23T00:00:00.000000",
         "2007-03-24T00:00:00.000000",
         "2007-03-25T00:00:00.000000",
         "2007-03-26T00:00:00.000000",
         "2007-03-27T00:00:00.000000",
         "2007-03-28T00:00:00.000000",
         "2007-03-29T00:00:00.000000",
         "2007-03-30T00:00:00.000000",
         "2007-03-31T00:00:00.000000",
         "2007-04-01T00:00:00.000000",
         "2007-04-02T00:00:00.000000",
         "2007-04-03T00:00:00.000000",
         "2007-04-04T00:00:00.000000",
         "2007-04-05T00:00:00.000000",
         "2007-04-06T00:00:00.000000",
         "2007-04-07T00:00:00.000000",
         "2007-04-08T00:00:00.000000",
         "2007-04-09T00:00:00.000000",
         "2007-04-10T00:00:00.000000",
         "2007-04-11T00:00:00.000000",
         "2007-04-12T00:00:00.000000",
         "2007-04-13T00:00:00.000000",
         "2007-04-14T00:00:00.000000",
         "2007-04-15T00:00:00.000000",
         "2007-04-16T00:00:00.000000",
         "2007-04-17T00:00:00.000000",
         "2007-04-18T00:00:00.000000",
         "2007-04-19T00:00:00.000000",
         "2007-04-20T00:00:00.000000",
         "2007-04-21T00:00:00.000000",
         "2007-04-22T00:00:00.000000",
         "2007-04-23T00:00:00.000000",
         "2007-04-24T00:00:00.000000",
         "2007-04-25T00:00:00.000000",
         "2007-04-26T00:00:00.000000",
         "2007-04-27T00:00:00.000000",
         "2007-04-28T00:00:00.000000",
         "2007-04-29T00:00:00.000000",
         "2007-04-30T00:00:00.000000",
         "2007-05-01T00:00:00.000000",
         "2007-05-02T00:00:00.000000",
         "2007-05-03T00:00:00.000000",
         "2007-05-04T00:00:00.000000",
         "2007-05-05T00:00:00.000000",
         "2007-05-06T00:00:00.000000",
         "2007-05-07T00:00:00.000000",
         "2007-05-08T00:00:00.000000",
         "2007-05-09T00:00:00.000000",
         "2007-05-10T00:00:00.000000",
         "2007-05-11T00:00:00.000000",
         "2007-05-12T00:00:00.000000",
         "2007-05-13T00:00:00.000000",
         "2007-05-14T00:00:00.000000",
         "2007-05-15T00:00:00.000000",
         "2007-05-16T00:00:00.000000",
         "2007-05-17T00:00:00.000000",
         "2007-05-18T00:00:00.000000",
         "2007-05-19T00:00:00.000000",
         "2007-05-20T00:00:00.000000",
         "2007-05-21T00:00:00.000000",
         "2007-05-22T00:00:00.000000",
         "2007-05-23T00:00:00.000000",
         "2007-05-24T00:00:00.000000",
         "2007-05-25T00:00:00.000000",
         "2007-05-26T00:00:00.000000",
         "2007-05-27T00:00:00.000000",
         "2007-05-28T00:00:00.000000",
         "2007-05-29T00:00:00.000000",
         "2007-05-30T00:00:00.000000"
        ]
       },
       "y": {
        "type": "float64",
        "values": [
         100.01694746388249,
         100.60647228300627,
         101.38288240119304,
         101.8974419057456,
         100.51606728142394,
         102.52034837975006,
         102.90858417394574,
         102.66393960850169,
         102.04616132379594,
         103.92966862514962,
         103.28173797677768,
         102.94823299717983,
         104.41305636351576,
         105.07964848793583,
         104.817680818233,
         104.43549274640448,
         104.66921231967831,
         103.75434823350528,
         104.59767723137777,
         104.53314039405312,
         103.99572269955328,
         104.59490589685079,
         102.68921209639858,
         102.43388859075196,
         103.8239679047112,
         104.90039223326939,
         103.24790272628138,
         103.84756997306286,
         104.988582359625,
         103.70020902224485,
         104.90441196434763,
         104.98433257611542,
         105.54235456938397,
         105.32685724012123,
         106.79852216863462,
         105.28210934580864,
         104.78726595176963,
         104.60973129328349,
         104.08921683446253,
         105.70418793828149,
         106.32662684032833,
         104.31327107219496,
         104.23521312046446,
         105.69924690099225,
         106.3004782966041,
         106.54950194924453,
         106.90311602079059,
         106.10349746228589,
         105.26586917926613,
         106.02133607390196,
         106.22078499993137,
         107.13283573796251,
         107.1592837599059,
         106.73114167212977,
         108.25763909337248,
         108.37364098406641,
         105.84216122057218,
         105.3456267488749,
         104.71423883688867,
         103.90243325484373,
         103.15339497145123,
         102.36308973046478,
         102.15012486984367,
         103.17267745686458,
         104.20254598074008,
         104.12474449500426,
         103.7005219706673,
         103.75203973907036,
         102.96236844927607,
         103.92672043974308,
         103.63999470385856,
         102.60453846658332,
         101.93829520594274,
         103.0618091436992,
         101.11423111036343,
         100.59316312672408,
         101.49087998381435,
         101.159052250559,
         102.37412032327916,
         101.95464063675124,
         100.42226067428571,
         102.82632889870455,
         102.15827500540306,
         103.76682272737982,
         106.61438977435327,
         106.95814189296692,
         104.96965684005923,
         105.0454261324912,
         103.9064548305989,
         105.60317137509308,
         104.6229958818412,
         105.31890216094729,
         107.66434210568906,
         107.97835989799212,
         106.84022570284081,
         106.02727600926097,
         105.36937535896645,
         105.25716921176952,
         105.81019398281477,
         105.95418642176308,
         104.28650917934506,
         103.41186124210694,
         104.10261180834124,
         104.8476251392737,
         105.01505426193266,
         105.83693627214613,
         105.17574993945304,
         104.68885317605292,
         104.44228175414658,
         104.70123747076619,
         102.93941087563847,
         102.85721887415582,
         100.29424302988811,
         99.47634664851213,
         98.90340136115688,
         99.86108577901227,
         99.62916231886884,
         100.43681104042282,
         102.13534326989921,
         103.16605808859427,
         103.27217015802167,
         101.34145222737689,
         102.22512914018125,
         100.92392026456461,
         102.7373223289413,
         101.32297088379099,
         102.74689648950093,
         102.18345360277372,
         102.79068434350543,
         102.97779161325735,
         102.8409145791649,
         102.94644950600058,
         102.8242601220416,
         102.2656230949503,
         101.83853478504246,
         102.56570229200683,
         104.50610869019373,
         104.39368712063373,
         102.24591956170678,
         103.67505309518518,
         104.47299983995498,
         102.90414852966764,
         100.51607844932997,
         98.45130161740697,
         101.75371139127714,
         103.17974142128362,
         103.76430808815135,
         103.11031046661448,
         101.77165922769125,
         100.76646341405275
        ]
       }
      }
     },
     "450d1b47e0524b8c8ef823fdc071cd9d": {
      "model_module": "bqplot",
      "model_module_version": "*",
      "model_name": "LinearScaleModel",
      "state": {
       "allow_padding": false,
       "max": 1,
       "min": 0,
       "stabilized": false
      }
     },
     "453a22ddd87e458b9c54a7fea9c07ac3": {
      "model_module": "bqplot",
      "model_module_version": "*",
      "model_name": "LinearScaleModel",
      "state": {
       "allow_padding": false,
       "max": 1,
       "min": 0,
       "stabilized": false
      }
     },
     "461282e529bf4e0bb14cc6e8426e16cb": {
      "model_module": "jupyter-js-widgets",
      "model_module_version": "*",
      "model_name": "LayoutModel",
      "state": {}
     },
     "46bd0851aef64767b36a6b72c84200cc": {
      "model_module": "bqplot",
      "model_module_version": "*",
      "model_name": "FigureModel",
      "state": {
       "_dom_classes": [],
       "axes": [
        "IPY_MODEL_9c9ccc2170e34c93b3d52c51171dd0ee",
        "IPY_MODEL_a7f15d6b4507433a91b50c5536df2c82"
       ],
       "interaction": "IPY_MODEL_6d4f19e992344ef48035e6f228695fab",
       "layout": "IPY_MODEL_70e0517ee4bb48dca4fdce78af503e45",
       "marks": [
        "IPY_MODEL_122d71c83f014fe9b4185f88560ec10d"
       ],
       "scale_x": "IPY_MODEL_450d1b47e0524b8c8ef823fdc071cd9d",
       "scale_y": "IPY_MODEL_9faa883f766d487982590ad15dbb986b",
       "title": "Brush Selector Selected Indices Example"
      }
     },
     "46e6c98a18a64fa785e5276cfaf658cf": {
      "model_module": "bqplot",
      "model_module_version": "*",
      "model_name": "LinearScaleModel",
      "state": {
       "allow_padding": false,
       "max": 1,
       "min": 0,
       "stabilized": false
      }
     },
     "47aef8c996b5459e9762875d43dbb05e": {
      "model_module": "bqplot",
      "model_module_version": "*",
      "model_name": "DateScaleModel",
      "state": {
       "min": "2006-06-01T00:00:00.000000"
      }
     },
     "493d94b570384c6485e63ff95d2c1a16": {
      "model_module": "jupyter-js-widgets",
      "model_module_version": "*",
      "model_name": "LabelModel",
      "state": {
       "layout": "IPY_MODEL_461282e529bf4e0bb14cc6e8426e16cb",
       "value": "[]"
      }
     },
     "4b010f7abcb4412c9bcfff9bcf57f720": {
      "model_module": "bqplot",
      "model_module_version": "*",
      "model_name": "LinearScaleModel",
      "state": {
       "allow_padding": false,
       "max": 1,
       "min": 0,
       "stabilized": false
      }
     },
     "4ee53d516a4c442798f6b8b78a279762": {
      "model_module": "bqplot",
      "model_module_version": "*",
      "model_name": "LinearScaleModel",
      "state": {
       "stabilized": false
      }
     },
     "523a7f44e0424548a23a7f485fa0fe02": {
      "model_module": "bqplot",
      "model_module_version": "*",
      "model_name": "LinesModel",
      "state": {
       "color": {
        "type": null,
        "values": null
       },
       "colors": [
        "orange"
       ],
       "display_legend": false,
       "fill_colors": [],
       "labels": [
        "C1"
       ],
       "scales": {
        "x": "IPY_MODEL_012bdc0b91704075a701ab11551c5d64",
        "y": "IPY_MODEL_6efc21040a58441f8a6fbbf7f9839c74"
       },
       "x": {
        "type": "date",
        "values": [
         "2007-01-01T00:00:00.000000",
         "2007-01-02T00:00:00.000000",
         "2007-01-03T00:00:00.000000",
         "2007-01-04T00:00:00.000000",
         "2007-01-05T00:00:00.000000",
         "2007-01-06T00:00:00.000000",
         "2007-01-07T00:00:00.000000",
         "2007-01-08T00:00:00.000000",
         "2007-01-09T00:00:00.000000",
         "2007-01-10T00:00:00.000000",
         "2007-01-11T00:00:00.000000",
         "2007-01-12T00:00:00.000000",
         "2007-01-13T00:00:00.000000",
         "2007-01-14T00:00:00.000000",
         "2007-01-15T00:00:00.000000",
         "2007-01-16T00:00:00.000000",
         "2007-01-17T00:00:00.000000",
         "2007-01-18T00:00:00.000000",
         "2007-01-19T00:00:00.000000",
         "2007-01-20T00:00:00.000000",
         "2007-01-21T00:00:00.000000",
         "2007-01-22T00:00:00.000000",
         "2007-01-23T00:00:00.000000",
         "2007-01-24T00:00:00.000000",
         "2007-01-25T00:00:00.000000",
         "2007-01-26T00:00:00.000000",
         "2007-01-27T00:00:00.000000",
         "2007-01-28T00:00:00.000000",
         "2007-01-29T00:00:00.000000",
         "2007-01-30T00:00:00.000000",
         "2007-01-31T00:00:00.000000",
         "2007-02-01T00:00:00.000000",
         "2007-02-02T00:00:00.000000",
         "2007-02-03T00:00:00.000000",
         "2007-02-04T00:00:00.000000",
         "2007-02-05T00:00:00.000000",
         "2007-02-06T00:00:00.000000",
         "2007-02-07T00:00:00.000000",
         "2007-02-08T00:00:00.000000",
         "2007-02-09T00:00:00.000000",
         "2007-02-10T00:00:00.000000",
         "2007-02-11T00:00:00.000000",
         "2007-02-12T00:00:00.000000",
         "2007-02-13T00:00:00.000000",
         "2007-02-14T00:00:00.000000",
         "2007-02-15T00:00:00.000000",
         "2007-02-16T00:00:00.000000",
         "2007-02-17T00:00:00.000000",
         "2007-02-18T00:00:00.000000",
         "2007-02-19T00:00:00.000000",
         "2007-02-20T00:00:00.000000",
         "2007-02-21T00:00:00.000000",
         "2007-02-22T00:00:00.000000",
         "2007-02-23T00:00:00.000000",
         "2007-02-24T00:00:00.000000",
         "2007-02-25T00:00:00.000000",
         "2007-02-26T00:00:00.000000",
         "2007-02-27T00:00:00.000000",
         "2007-02-28T00:00:00.000000",
         "2007-03-01T00:00:00.000000",
         "2007-03-02T00:00:00.000000",
         "2007-03-03T00:00:00.000000",
         "2007-03-04T00:00:00.000000",
         "2007-03-05T00:00:00.000000",
         "2007-03-06T00:00:00.000000",
         "2007-03-07T00:00:00.000000",
         "2007-03-08T00:00:00.000000",
         "2007-03-09T00:00:00.000000",
         "2007-03-10T00:00:00.000000",
         "2007-03-11T00:00:00.000000",
         "2007-03-12T00:00:00.000000",
         "2007-03-13T00:00:00.000000",
         "2007-03-14T00:00:00.000000",
         "2007-03-15T00:00:00.000000",
         "2007-03-16T00:00:00.000000",
         "2007-03-17T00:00:00.000000",
         "2007-03-18T00:00:00.000000",
         "2007-03-19T00:00:00.000000",
         "2007-03-20T00:00:00.000000",
         "2007-03-21T00:00:00.000000",
         "2007-03-22T00:00:00.000000",
         "2007-03-23T00:00:00.000000",
         "2007-03-24T00:00:00.000000",
         "2007-03-25T00:00:00.000000",
         "2007-03-26T00:00:00.000000",
         "2007-03-27T00:00:00.000000",
         "2007-03-28T00:00:00.000000",
         "2007-03-29T00:00:00.000000",
         "2007-03-30T00:00:00.000000",
         "2007-03-31T00:00:00.000000",
         "2007-04-01T00:00:00.000000",
         "2007-04-02T00:00:00.000000",
         "2007-04-03T00:00:00.000000",
         "2007-04-04T00:00:00.000000",
         "2007-04-05T00:00:00.000000",
         "2007-04-06T00:00:00.000000",
         "2007-04-07T00:00:00.000000",
         "2007-04-08T00:00:00.000000",
         "2007-04-09T00:00:00.000000",
         "2007-04-10T00:00:00.000000",
         "2007-04-11T00:00:00.000000",
         "2007-04-12T00:00:00.000000",
         "2007-04-13T00:00:00.000000",
         "2007-04-14T00:00:00.000000",
         "2007-04-15T00:00:00.000000",
         "2007-04-16T00:00:00.000000",
         "2007-04-17T00:00:00.000000",
         "2007-04-18T00:00:00.000000",
         "2007-04-19T00:00:00.000000",
         "2007-04-20T00:00:00.000000",
         "2007-04-21T00:00:00.000000",
         "2007-04-22T00:00:00.000000",
         "2007-04-23T00:00:00.000000",
         "2007-04-24T00:00:00.000000",
         "2007-04-25T00:00:00.000000",
         "2007-04-26T00:00:00.000000",
         "2007-04-27T00:00:00.000000",
         "2007-04-28T00:00:00.000000",
         "2007-04-29T00:00:00.000000",
         "2007-04-30T00:00:00.000000",
         "2007-05-01T00:00:00.000000",
         "2007-05-02T00:00:00.000000",
         "2007-05-03T00:00:00.000000",
         "2007-05-04T00:00:00.000000",
         "2007-05-05T00:00:00.000000",
         "2007-05-06T00:00:00.000000",
         "2007-05-07T00:00:00.000000",
         "2007-05-08T00:00:00.000000",
         "2007-05-09T00:00:00.000000",
         "2007-05-10T00:00:00.000000",
         "2007-05-11T00:00:00.000000",
         "2007-05-12T00:00:00.000000",
         "2007-05-13T00:00:00.000000",
         "2007-05-14T00:00:00.000000",
         "2007-05-15T00:00:00.000000",
         "2007-05-16T00:00:00.000000",
         "2007-05-17T00:00:00.000000",
         "2007-05-18T00:00:00.000000",
         "2007-05-19T00:00:00.000000",
         "2007-05-20T00:00:00.000000",
         "2007-05-21T00:00:00.000000",
         "2007-05-22T00:00:00.000000",
         "2007-05-23T00:00:00.000000",
         "2007-05-24T00:00:00.000000",
         "2007-05-25T00:00:00.000000",
         "2007-05-26T00:00:00.000000",
         "2007-05-27T00:00:00.000000",
         "2007-05-28T00:00:00.000000",
         "2007-05-29T00:00:00.000000",
         "2007-05-30T00:00:00.000000"
        ]
       },
       "y": {
        "type": "float64",
        "values": [
         99.12029457819243,
         99.61006913858924,
         100.57592041295491,
         100.48633898097339,
         100.09575682502181,
         101.31678328326412,
         101.61805546028225,
         101.73032253298585,
         101.1305134132305,
         102.19670532228554,
         102.06492214767401,
         101.76538453271797,
         102.68879833343915,
         102.82639820941795,
         102.59427701329435,
         102.46253732457451,
         103.05699334942773,
         103.15717773319564,
         103.60069507629498,
         104.22148326070584,
         103.88775225658713,
         104.5016978095988,
         103.76972086626444,
         103.15183055272821,
         104.05076375172101,
         104.42970023777464,
         103.29368528258063,
         103.78202316809639,
         104.4264463648529,
         103.64368252705913,
         104.40500618468933,
         104.286340083526,
         104.44095881870241,
         104.33637637823469,
         104.39280455512768,
         103.72835742736967,
         103.23382635284578,
         103.44993970694787,
         103.34795651272502,
         104.35575240760446,
         104.72746571456754,
         103.38306157919739,
         103.64109135790895,
         104.31719437364654,
         104.77203459784118,
         105.09800410178813,
         105.7826667003887,
         105.31425923790638,
         105.50058735957238,
         105.70815164603445,
         105.30414405959505,
         105.86333046740992,
         105.57803032293918,
         105.33551302312362,
         105.99895828590942,
         105.93525413490158,
         104.37469235264871,
         104.08097631497897,
         103.82497335921708,
         103.59267836442395,
         103.42588922076996,
         102.89412197276025,
         102.63425702093555,
         103.43968356498473,
         104.42522432569797,
         104.2226491315554,
         104.24850246644216,
         104.6108402023902,
         104.37471006360671,
         104.87188247240753,
         104.64015069478258,
         104.18662990649008,
         104.15084515399265,
         105.03465781292557,
         103.80761321350343,
         104.27607938771202,
         104.6036141835438,
         104.4416879785711,
         105.37358968175948,
         105.00487789352445,
         103.65845921309713,
         104.69198411204654,
         104.1337735929987,
         105.04037034764279,
         106.06725345019433,
         106.11474499082746,
         104.93900941517111,
         104.54802784859844,
         104.16130873107556,
         104.73472671507717,
         103.95390483418635,
         104.59496410800313,
         106.16499260294891,
         106.42338855478047,
         105.34888752538791,
         105.28961545027154,
         105.1379360220513,
         105.41842733138516,
         106.35200195804347,
         106.65754203466544,
         105.62356040068934,
         104.95196860892162,
         104.47348817103114,
         104.88969206262844,
         105.13436828246725,
         105.58288689925472,
         105.1509839414557,
         105.05247392170975,
         105.03671885167101,
         105.4986825293018,
         104.84155941168957,
         104.81291677638043,
         103.40738800331994,
         102.47186640902949,
         102.55558080643621,
         103.27726396833698,
         103.05392772607959,
         103.36314241645897,
         104.06968629557751,
         103.55595573105701,
         103.4587395104751,
         102.42170247829416,
         102.62070584443389,
         102.12149715191208,
         103.16646822932832,
         102.65584568864062,
         103.34893673990875,
         102.96988204568488,
         103.28253337822889,
         103.34982688301646,
         103.25945232600507,
         103.47944788758714,
         103.54175017218815,
         103.2034370340793,
         102.24535626846546,
         102.88519196545144,
         104.2081309514615,
         104.0635776143514,
         102.82960511596546,
         103.59706020562001,
         103.49028427709167,
         103.24911397970769,
         102.08067093664724,
         101.26173538754121,
         102.69011868800868,
         104.09255000710044,
         104.73022969012717,
         104.46735741522932,
         103.72440299144112,
         103.35773966282235
        ]
       }
      }
     },
     "54209a233c594c718c9bc12b6cf88af7": {
      "model_module": "bqplot",
      "model_module_version": "*",
      "model_name": "LinearScaleModel",
      "state": {
       "allow_padding": false,
       "max": 1,
       "min": 0,
       "stabilized": false
      }
     },
     "55845a816d134b1c994352fca4325340": {
      "model_module": "bqplot",
      "model_module_version": "*",
      "model_name": "LinearScaleModel",
      "state": {
       "allow_padding": false,
       "max": 1,
       "min": 0,
       "stabilized": false
      }
     },
     "55a7939710044a8bb6effe1480e1010e": {
      "model_module": "jupyter-js-widgets",
      "model_module_version": "*",
      "model_name": "LayoutModel",
      "state": {
       "align_self": "stretch",
       "flex": "1",
       "min_width": "400px"
      }
     },
     "58add5a4df7b4eeda5d2b69027526969": {
      "model_module": "bqplot",
      "model_module_version": "*",
      "model_name": "LinearScaleModel",
      "state": {
       "allow_padding": false,
       "max": 1,
       "min": 0,
       "stabilized": false
      }
     },
     "5a84e4044d5940bf8d5825a84de03892": {
      "model_module": "bqplot",
      "model_module_version": "*",
      "model_name": "FigureModel",
      "state": {
       "_dom_classes": [],
       "axes": [
        "IPY_MODEL_6e61b7fbb0df4b8b9309fb9613812bf6",
        "IPY_MODEL_6e9c9892d9ce48d48403eda00ba45d7d"
       ],
       "interaction": "IPY_MODEL_fb6e5ca164894328b10582a1339edb70",
       "layout": "IPY_MODEL_55a7939710044a8bb6effe1480e1010e",
       "marks": [
        "IPY_MODEL_28fb5ca2edb74d8b9b7f647e885ab200"
       ],
       "scale_x": "IPY_MODEL_91f3bfaf212e4a9d961a7783d10f7f4a",
       "scale_y": "IPY_MODEL_9bca7ddbd9bd4d12ab8caa158452723d",
       "title": "Multi-Selector with Date Example"
      }
     },
     "5adc58fb130e44a3ae1db04fbcd30479": {
      "model_module": "bqplot",
      "model_module_version": "*",
      "model_name": "LinearScaleModel",
      "state": {
       "stabilized": false
      }
     },
     "5aed7aa05252416ea295ec372340f4b8": {
      "model_module": "bqplot",
      "model_module_version": "*",
      "model_name": "LinearScaleModel",
      "state": {
       "stabilized": false
      }
     },
     "5e027434c7704e098e2baebd7ca2e27a": {
      "model_module": "bqplot",
      "model_module_version": "*",
      "model_name": "FigureModel",
      "state": {
       "_dom_classes": [],
       "axes": [
        "IPY_MODEL_1d6e90cdbc97474daef59fffbef8c868",
        "IPY_MODEL_3e27cf5652094f2786be884455a3898a"
       ],
       "interaction": "IPY_MODEL_decc65b0120841c5bd9c4509244ac2be",
       "layout": "IPY_MODEL_b6f8bfda30ff428b8a4b08e9133a627e",
       "marks": [
        "IPY_MODEL_c1aefe56af634feeb9474494406037ee"
       ],
       "scale_x": "IPY_MODEL_387d2167996f4490b6d9f76218f6e15b",
       "scale_y": "IPY_MODEL_de8805cb5e1f43f29258ca70552b18ba"
      }
     },
     "5e84f4c7708a4a7fa05515b16183f460": {
      "model_module": "jupyter-js-widgets",
      "model_module_version": "*",
      "model_name": "LayoutModel",
      "state": {
       "align_self": "stretch",
       "flex": "1",
       "min_width": "400px"
      }
     },
     "5f1ec7b7bf8e4934a17ca2bd679b2328": {
      "model_module": "jupyter-js-widgets",
      "model_module_version": "*",
      "model_name": "LayoutModel",
      "state": {
       "align_self": "stretch",
       "flex": "1",
       "min_width": "400px"
      }
     },
     "5f3bae499c934637bb1973143322bfc2": {
      "model_module": "jupyter-js-widgets",
      "model_module_version": "*",
      "model_name": "VBoxModel",
      "state": {
       "children": [
        "IPY_MODEL_00830b9d4eba47c6af362b26477eb3b1",
        "IPY_MODEL_cd4f1a77a740456e84b8862012d60a8d"
       ],
       "layout": "IPY_MODEL_8905d616279c466fbef6513e74e1a634"
      }
     },
     "6049e545be4a4df29c2f107c538ccd30": {
      "model_module": "bqplot",
      "model_module_version": "*",
      "model_name": "AxisModel",
      "state": {
       "label": "Price",
       "orientation": "vertical",
       "scale": "IPY_MODEL_b57cb44b25264490aba7d22edd24726d",
       "side": "left",
       "tick_values": {
        "type": null,
        "values": null
       }
      }
     },
     "6319446546f04bd8883b14458d385b0b": {
      "model_module": "bqplot",
      "model_module_version": "*",
      "model_name": "LinesModel",
      "state": {
       "color": {
        "type": null,
        "values": null
       },
       "colors": [
        "red"
       ],
       "fill_colors": [],
       "labels": [
        "Security 2"
       ],
       "scales": {
        "x": "IPY_MODEL_a08c2cbf453f43a69e9ce97c9c47ae8f",
        "y": "IPY_MODEL_07bf55a9127349d4984083de4c751f7c"
       },
       "x": {
        "type": "date",
        "values": [
         "2007-01-01T00:00:00.000000",
         "2007-01-02T00:00:00.000000",
         "2007-01-03T00:00:00.000000",
         "2007-01-04T00:00:00.000000",
         "2007-01-05T00:00:00.000000",
         "2007-01-06T00:00:00.000000",
         "2007-01-07T00:00:00.000000",
         "2007-01-08T00:00:00.000000",
         "2007-01-09T00:00:00.000000",
         "2007-01-10T00:00:00.000000",
         "2007-01-11T00:00:00.000000",
         "2007-01-12T00:00:00.000000",
         "2007-01-13T00:00:00.000000",
         "2007-01-14T00:00:00.000000",
         "2007-01-15T00:00:00.000000",
         "2007-01-16T00:00:00.000000",
         "2007-01-17T00:00:00.000000",
         "2007-01-18T00:00:00.000000",
         "2007-01-19T00:00:00.000000",
         "2007-01-20T00:00:00.000000",
         "2007-01-21T00:00:00.000000",
         "2007-01-22T00:00:00.000000",
         "2007-01-23T00:00:00.000000",
         "2007-01-24T00:00:00.000000",
         "2007-01-25T00:00:00.000000",
         "2007-01-26T00:00:00.000000",
         "2007-01-27T00:00:00.000000",
         "2007-01-28T00:00:00.000000",
         "2007-01-29T00:00:00.000000",
         "2007-01-30T00:00:00.000000",
         "2007-01-31T00:00:00.000000",
         "2007-02-01T00:00:00.000000",
         "2007-02-02T00:00:00.000000",
         "2007-02-03T00:00:00.000000",
         "2007-02-04T00:00:00.000000",
         "2007-02-05T00:00:00.000000",
         "2007-02-06T00:00:00.000000",
         "2007-02-07T00:00:00.000000",
         "2007-02-08T00:00:00.000000",
         "2007-02-09T00:00:00.000000",
         "2007-02-10T00:00:00.000000",
         "2007-02-11T00:00:00.000000",
         "2007-02-12T00:00:00.000000",
         "2007-02-13T00:00:00.000000",
         "2007-02-14T00:00:00.000000",
         "2007-02-15T00:00:00.000000",
         "2007-02-16T00:00:00.000000",
         "2007-02-17T00:00:00.000000",
         "2007-02-18T00:00:00.000000",
         "2007-02-19T00:00:00.000000",
         "2007-02-20T00:00:00.000000",
         "2007-02-21T00:00:00.000000",
         "2007-02-22T00:00:00.000000",
         "2007-02-23T00:00:00.000000",
         "2007-02-24T00:00:00.000000",
         "2007-02-25T00:00:00.000000",
         "2007-02-26T00:00:00.000000",
         "2007-02-27T00:00:00.000000",
         "2007-02-28T00:00:00.000000",
         "2007-03-01T00:00:00.000000",
         "2007-03-02T00:00:00.000000",
         "2007-03-03T00:00:00.000000",
         "2007-03-04T00:00:00.000000",
         "2007-03-05T00:00:00.000000",
         "2007-03-06T00:00:00.000000",
         "2007-03-07T00:00:00.000000",
         "2007-03-08T00:00:00.000000",
         "2007-03-09T00:00:00.000000",
         "2007-03-10T00:00:00.000000",
         "2007-03-11T00:00:00.000000",
         "2007-03-12T00:00:00.000000",
         "2007-03-13T00:00:00.000000",
         "2007-03-14T00:00:00.000000",
         "2007-03-15T00:00:00.000000",
         "2007-03-16T00:00:00.000000",
         "2007-03-17T00:00:00.000000",
         "2007-03-18T00:00:00.000000",
         "2007-03-19T00:00:00.000000",
         "2007-03-20T00:00:00.000000",
         "2007-03-21T00:00:00.000000",
         "2007-03-22T00:00:00.000000",
         "2007-03-23T00:00:00.000000",
         "2007-03-24T00:00:00.000000",
         "2007-03-25T00:00:00.000000",
         "2007-03-26T00:00:00.000000",
         "2007-03-27T00:00:00.000000",
         "2007-03-28T00:00:00.000000",
         "2007-03-29T00:00:00.000000",
         "2007-03-30T00:00:00.000000",
         "2007-03-31T00:00:00.000000",
         "2007-04-01T00:00:00.000000",
         "2007-04-02T00:00:00.000000",
         "2007-04-03T00:00:00.000000",
         "2007-04-04T00:00:00.000000",
         "2007-04-05T00:00:00.000000",
         "2007-04-06T00:00:00.000000",
         "2007-04-07T00:00:00.000000",
         "2007-04-08T00:00:00.000000",
         "2007-04-09T00:00:00.000000",
         "2007-04-10T00:00:00.000000",
         "2007-04-11T00:00:00.000000",
         "2007-04-12T00:00:00.000000",
         "2007-04-13T00:00:00.000000",
         "2007-04-14T00:00:00.000000",
         "2007-04-15T00:00:00.000000",
         "2007-04-16T00:00:00.000000",
         "2007-04-17T00:00:00.000000",
         "2007-04-18T00:00:00.000000",
         "2007-04-19T00:00:00.000000",
         "2007-04-20T00:00:00.000000",
         "2007-04-21T00:00:00.000000",
         "2007-04-22T00:00:00.000000",
         "2007-04-23T00:00:00.000000",
         "2007-04-24T00:00:00.000000",
         "2007-04-25T00:00:00.000000",
         "2007-04-26T00:00:00.000000",
         "2007-04-27T00:00:00.000000",
         "2007-04-28T00:00:00.000000",
         "2007-04-29T00:00:00.000000",
         "2007-04-30T00:00:00.000000",
         "2007-05-01T00:00:00.000000",
         "2007-05-02T00:00:00.000000",
         "2007-05-03T00:00:00.000000",
         "2007-05-04T00:00:00.000000",
         "2007-05-05T00:00:00.000000",
         "2007-05-06T00:00:00.000000",
         "2007-05-07T00:00:00.000000",
         "2007-05-08T00:00:00.000000",
         "2007-05-09T00:00:00.000000",
         "2007-05-10T00:00:00.000000",
         "2007-05-11T00:00:00.000000",
         "2007-05-12T00:00:00.000000",
         "2007-05-13T00:00:00.000000",
         "2007-05-14T00:00:00.000000",
         "2007-05-15T00:00:00.000000",
         "2007-05-16T00:00:00.000000",
         "2007-05-17T00:00:00.000000",
         "2007-05-18T00:00:00.000000",
         "2007-05-19T00:00:00.000000",
         "2007-05-20T00:00:00.000000",
         "2007-05-21T00:00:00.000000",
         "2007-05-22T00:00:00.000000",
         "2007-05-23T00:00:00.000000",
         "2007-05-24T00:00:00.000000",
         "2007-05-25T00:00:00.000000",
         "2007-05-26T00:00:00.000000",
         "2007-05-27T00:00:00.000000",
         "2007-05-28T00:00:00.000000",
         "2007-05-29T00:00:00.000000",
         "2007-05-30T00:00:00.000000"
        ]
       },
       "y": {
        "type": "float64",
        "values": [
         100.01694746388249,
         100.60647228300627,
         101.38288240119304,
         101.8974419057456,
         100.51606728142394,
         102.52034837975006,
         102.90858417394574,
         102.66393960850169,
         102.04616132379594,
         103.92966862514962,
         103.28173797677768,
         102.94823299717983,
         104.41305636351576,
         105.07964848793583,
         104.817680818233,
         104.43549274640448,
         104.66921231967831,
         103.75434823350528,
         104.59767723137777,
         104.53314039405312,
         103.99572269955328,
         104.59490589685079,
         102.68921209639858,
         102.43388859075196,
         103.8239679047112,
         104.90039223326939,
         103.24790272628138,
         103.84756997306286,
         104.988582359625,
         103.70020902224485,
         104.90441196434763,
         104.98433257611542,
         105.54235456938397,
         105.32685724012123,
         106.79852216863462,
         105.28210934580864,
         104.78726595176963,
         104.60973129328349,
         104.08921683446253,
         105.70418793828149,
         106.32662684032833,
         104.31327107219496,
         104.23521312046446,
         105.69924690099225,
         106.3004782966041,
         106.54950194924453,
         106.90311602079059,
         106.10349746228589,
         105.26586917926613,
         106.02133607390196,
         106.22078499993137,
         107.13283573796251,
         107.1592837599059,
         106.73114167212977,
         108.25763909337248,
         108.37364098406641,
         105.84216122057218,
         105.3456267488749,
         104.71423883688867,
         103.90243325484373,
         103.15339497145123,
         102.36308973046478,
         102.15012486984367,
         103.17267745686458,
         104.20254598074008,
         104.12474449500426,
         103.7005219706673,
         103.75203973907036,
         102.96236844927607,
         103.92672043974308,
         103.63999470385856,
         102.60453846658332,
         101.93829520594274,
         103.0618091436992,
         101.11423111036343,
         100.59316312672408,
         101.49087998381435,
         101.159052250559,
         102.37412032327916,
         101.95464063675124,
         100.42226067428571,
         102.82632889870455,
         102.15827500540306,
         103.76682272737982,
         106.61438977435327,
         106.95814189296692,
         104.96965684005923,
         105.0454261324912,
         103.9064548305989,
         105.60317137509308,
         104.6229958818412,
         105.31890216094729,
         107.66434210568906,
         107.97835989799212,
         106.84022570284081,
         106.02727600926097,
         105.36937535896645,
         105.25716921176952,
         105.81019398281477,
         105.95418642176308,
         104.28650917934506,
         103.41186124210694,
         104.10261180834124,
         104.8476251392737,
         105.01505426193266,
         105.83693627214613,
         105.17574993945304,
         104.68885317605292,
         104.44228175414658,
         104.70123747076619,
         102.93941087563847,
         102.85721887415582,
         100.29424302988811,
         99.47634664851213,
         98.90340136115688,
         99.86108577901227,
         99.62916231886884,
         100.43681104042282,
         102.13534326989921,
         103.16605808859427,
         103.27217015802167,
         101.34145222737689,
         102.22512914018125,
         100.92392026456461,
         102.7373223289413,
         101.32297088379099,
         102.74689648950093,
         102.18345360277372,
         102.79068434350543,
         102.97779161325735,
         102.8409145791649,
         102.94644950600058,
         102.8242601220416,
         102.2656230949503,
         101.83853478504246,
         102.56570229200683,
         104.50610869019373,
         104.39368712063373,
         102.24591956170678,
         103.67505309518518,
         104.47299983995498,
         102.90414852966764,
         100.51607844932997,
         98.45130161740697,
         101.75371139127714,
         103.17974142128362,
         103.76430808815135,
         103.11031046661448,
         101.77165922769125,
         100.76646341405275
        ]
       }
      }
     },
     "6541688ef2334e989492711af83145ed": {
      "model_module": "bqplot",
      "model_module_version": "*",
      "model_name": "LinearScaleModel",
      "state": {
       "stabilized": false
      }
     },
     "6d4f19e992344ef48035e6f228695fab": {
      "model_module": "bqplot",
      "model_module_version": "*",
      "model_name": "BrushIntervalSelectorModel",
      "state": {
       "color": "FireBrick",
       "marks": [
        "IPY_MODEL_122d71c83f014fe9b4185f88560ec10d"
       ],
       "scale": "IPY_MODEL_47aef8c996b5459e9762875d43dbb05e",
       "selected": {
        "type": "object",
        "values": []
       }
      }
     },
     "6e61b7fbb0df4b8b9309fb9613812bf6": {
      "model_module": "bqplot",
      "model_module_version": "*",
      "model_name": "AxisModel",
      "state": {
       "label": "Returns",
       "scale": "IPY_MODEL_386aee50b33d4850ae5b609d3018bcaf",
       "side": "bottom",
       "tick_values": {
        "type": null,
        "values": null
       }
      }
     },
     "6e9c9892d9ce48d48403eda00ba45d7d": {
      "model_module": "bqplot",
      "model_module_version": "*",
      "model_name": "AxisModel",
      "state": {
       "label": "Freq",
       "orientation": "vertical",
       "scale": "IPY_MODEL_4ee53d516a4c442798f6b8b78a279762",
       "side": "left",
       "tick_values": {
        "type": null,
        "values": null
       }
      }
     },
     "6efc21040a58441f8a6fbbf7f9839c74": {
      "model_module": "bqplot",
      "model_module_version": "*",
      "model_name": "LinearScaleModel",
      "state": {
       "stabilized": false
      }
     },
     "6f71e41f410f46e3bbd5d16164944f54": {
      "model_module": "bqplot",
      "model_module_version": "*",
      "model_name": "LinearScaleModel",
      "state": {
       "stabilized": false
      }
     },
     "70e0517ee4bb48dca4fdce78af503e45": {
      "model_module": "jupyter-js-widgets",
      "model_module_version": "*",
      "model_name": "LayoutModel",
      "state": {
       "align_self": "stretch",
       "flex": "1",
       "min_width": "400px"
      }
     },
     "713709fd58cc4f8c98406396d0fb0d42": {
      "model_module": "bqplot",
      "model_module_version": "*",
      "model_name": "FigureModel",
      "state": {
       "_dom_classes": [],
       "axes": [
        "IPY_MODEL_19a8449c4b5d4dcab5b58ef8814e5b07",
        "IPY_MODEL_cf3ee64d457c498aba6d62be0bc8640b"
       ],
       "interaction": "IPY_MODEL_e63962fd375e49c694a13f3080a05583",
       "layout": "IPY_MODEL_5e84f4c7708a4a7fa05515b16183f460",
       "marks": [
        "IPY_MODEL_2b72838d19444d1eb890c12c7d432c6d"
       ],
       "scale_x": "IPY_MODEL_d16d6ce5cabf496ba6e1a806a270e8e9",
       "scale_y": "IPY_MODEL_58add5a4df7b4eeda5d2b69027526969",
       "title": "Histogram Selection Example"
      }
     },
     "7140a81c1581473999be67fb98a08b93": {
      "model_module": "bqplot",
      "model_module_version": "*",
      "model_name": "DateScaleModel",
      "state": {
       "min": "2007-01-01T00:00:00.000000"
      }
     },
     "71ddd135fe0b436b9b279765969f0b51": {
      "model_module": "jupyter-js-widgets",
      "model_module_version": "*",
      "model_name": "LabelModel",
      "state": {
       "layout": "IPY_MODEL_db2871fa3ce8446191ccf2e7738bf235",
       "value": "None"
      }
     },
     "7305d4f0733c47b28d6a2506497f3f1b": {
      "model_module": "jupyter-js-widgets",
      "model_module_version": "*",
      "model_name": "LayoutModel",
      "state": {}
     },
     "76633edf480d473ca0d2c5bb042039fd": {
      "model_module": "jupyter-js-widgets",
      "model_module_version": "*",
      "model_name": "LayoutModel",
      "state": {}
     },
     "78c1fdfbbf64468b91886d277b2ad96a": {
      "model_module": "bqplot",
      "model_module_version": "*",
      "model_name": "AxisModel",
      "state": {
       "label": "X",
       "scale": "IPY_MODEL_c5c231f528ce4ba7ba543bd115597f27",
       "side": "bottom",
       "tick_values": {
        "type": null,
        "values": null
       }
      }
     },
     "7a328807bd2b4edd8e9b87df777e679f": {
      "model_module": "jupyter-js-widgets",
      "model_module_version": "*",
      "model_name": "LayoutModel",
      "state": {}
     },
     "7b686dddd925467c88013bf916db0d81": {
      "model_module": "jupyter-js-widgets",
      "model_module_version": "*",
      "model_name": "LayoutModel",
      "state": {}
     },
     "7bdf71d41cf2471e9cb8e51b14112c30": {
      "model_module": "bqplot",
      "model_module_version": "*",
      "model_name": "ScatterModel",
      "state": {
       "_model_module": "bqplot",
       "_model_module_version": "*",
       "_view_module": "bqplot",
       "_view_module_version": "*",
       "apply_clip": true,
       "color": {
        "type": null,
        "values": null
       },
       "colors": [
        "DeepSkyBlue"
       ],
       "display_legend": false,
       "enable_hover": true,
       "hovered_style": {},
       "interactions": {
        "hover": "tooltip"
       },
       "labels": [],
       "msg_throttle": 1,
       "names": {
        "type": null,
        "values": null
       },
       "opacity": {
        "type": null,
        "values": null
       },
       "preserve_domain": {},
       "rotation": {
        "type": null,
        "values": null
       },
       "scales": {
        "x": "IPY_MODEL_e1fd1cb2f05d4e149c6fa76021db340d",
        "y": "IPY_MODEL_c738521da3fd4428ac2f8998eea74624"
       },
       "selected": [],
       "selected_style": {},
       "size": {
        "type": null,
        "values": null
       },
       "skew": {
        "type": null,
        "values": null
       },
       "tooltip": null,
       "tooltip_location": "mouse",
       "tooltip_style": {
        "opacity": 0.9
       },
       "unhovered_style": {},
       "unselected_style": {},
       "visible": true,
       "x": {
        "type": "date",
        "values": [
         "2007-01-01T00:00:00.000000",
         "2007-01-02T00:00:00.000000",
         "2007-01-03T00:00:00.000000",
         "2007-01-04T00:00:00.000000",
         "2007-01-05T00:00:00.000000",
         "2007-01-06T00:00:00.000000",
         "2007-01-07T00:00:00.000000",
         "2007-01-08T00:00:00.000000",
         "2007-01-09T00:00:00.000000",
         "2007-01-10T00:00:00.000000",
         "2007-01-11T00:00:00.000000",
         "2007-01-12T00:00:00.000000",
         "2007-01-13T00:00:00.000000",
         "2007-01-14T00:00:00.000000",
         "2007-01-15T00:00:00.000000",
         "2007-01-16T00:00:00.000000",
         "2007-01-17T00:00:00.000000",
         "2007-01-18T00:00:00.000000",
         "2007-01-19T00:00:00.000000",
         "2007-01-20T00:00:00.000000",
         "2007-01-21T00:00:00.000000",
         "2007-01-22T00:00:00.000000",
         "2007-01-23T00:00:00.000000",
         "2007-01-24T00:00:00.000000",
         "2007-01-25T00:00:00.000000",
         "2007-01-26T00:00:00.000000",
         "2007-01-27T00:00:00.000000",
         "2007-01-28T00:00:00.000000",
         "2007-01-29T00:00:00.000000",
         "2007-01-30T00:00:00.000000",
         "2007-01-31T00:00:00.000000",
         "2007-02-01T00:00:00.000000",
         "2007-02-02T00:00:00.000000",
         "2007-02-03T00:00:00.000000",
         "2007-02-04T00:00:00.000000",
         "2007-02-05T00:00:00.000000",
         "2007-02-06T00:00:00.000000",
         "2007-02-07T00:00:00.000000",
         "2007-02-08T00:00:00.000000",
         "2007-02-09T00:00:00.000000",
         "2007-02-10T00:00:00.000000",
         "2007-02-11T00:00:00.000000",
         "2007-02-12T00:00:00.000000",
         "2007-02-13T00:00:00.000000",
         "2007-02-14T00:00:00.000000",
         "2007-02-15T00:00:00.000000",
         "2007-02-16T00:00:00.000000",
         "2007-02-17T00:00:00.000000",
         "2007-02-18T00:00:00.000000",
         "2007-02-19T00:00:00.000000",
         "2007-02-20T00:00:00.000000",
         "2007-02-21T00:00:00.000000",
         "2007-02-22T00:00:00.000000",
         "2007-02-23T00:00:00.000000",
         "2007-02-24T00:00:00.000000",
         "2007-02-25T00:00:00.000000",
         "2007-02-26T00:00:00.000000",
         "2007-02-27T00:00:00.000000",
         "2007-02-28T00:00:00.000000",
         "2007-03-01T00:00:00.000000",
         "2007-03-02T00:00:00.000000",
         "2007-03-03T00:00:00.000000",
         "2007-03-04T00:00:00.000000",
         "2007-03-05T00:00:00.000000",
         "2007-03-06T00:00:00.000000",
         "2007-03-07T00:00:00.000000",
         "2007-03-08T00:00:00.000000",
         "2007-03-09T00:00:00.000000",
         "2007-03-10T00:00:00.000000",
         "2007-03-11T00:00:00.000000",
         "2007-03-12T00:00:00.000000",
         "2007-03-13T00:00:00.000000",
         "2007-03-14T00:00:00.000000",
         "2007-03-15T00:00:00.000000",
         "2007-03-16T00:00:00.000000",
         "2007-03-17T00:00:00.000000",
         "2007-03-18T00:00:00.000000",
         "2007-03-19T00:00:00.000000",
         "2007-03-20T00:00:00.000000",
         "2007-03-21T00:00:00.000000",
         "2007-03-22T00:00:00.000000",
         "2007-03-23T00:00:00.000000",
         "2007-03-24T00:00:00.000000",
         "2007-03-25T00:00:00.000000",
         "2007-03-26T00:00:00.000000",
         "2007-03-27T00:00:00.000000",
         "2007-03-28T00:00:00.000000",
         "2007-03-29T00:00:00.000000",
         "2007-03-30T00:00:00.000000",
         "2007-03-31T00:00:00.000000",
         "2007-04-01T00:00:00.000000",
         "2007-04-02T00:00:00.000000",
         "2007-04-03T00:00:00.000000",
         "2007-04-04T00:00:00.000000",
         "2007-04-05T00:00:00.000000",
         "2007-04-06T00:00:00.000000",
         "2007-04-07T00:00:00.000000",
         "2007-04-08T00:00:00.000000",
         "2007-04-09T00:00:00.000000",
         "2007-04-10T00:00:00.000000",
         "2007-04-11T00:00:00.000000",
         "2007-04-12T00:00:00.000000",
         "2007-04-13T00:00:00.000000",
         "2007-04-14T00:00:00.000000",
         "2007-04-15T00:00:00.000000",
         "2007-04-16T00:00:00.000000",
         "2007-04-17T00:00:00.000000",
         "2007-04-18T00:00:00.000000",
         "2007-04-19T00:00:00.000000",
         "2007-04-20T00:00:00.000000",
         "2007-04-21T00:00:00.000000",
         "2007-04-22T00:00:00.000000",
         "2007-04-23T00:00:00.000000",
         "2007-04-24T00:00:00.000000",
         "2007-04-25T00:00:00.000000",
         "2007-04-26T00:00:00.000000",
         "2007-04-27T00:00:00.000000",
         "2007-04-28T00:00:00.000000",
         "2007-04-29T00:00:00.000000",
         "2007-04-30T00:00:00.000000",
         "2007-05-01T00:00:00.000000",
         "2007-05-02T00:00:00.000000",
         "2007-05-03T00:00:00.000000",
         "2007-05-04T00:00:00.000000",
         "2007-05-05T00:00:00.000000",
         "2007-05-06T00:00:00.000000",
         "2007-05-07T00:00:00.000000",
         "2007-05-08T00:00:00.000000",
         "2007-05-09T00:00:00.000000",
         "2007-05-10T00:00:00.000000",
         "2007-05-11T00:00:00.000000",
         "2007-05-12T00:00:00.000000",
         "2007-05-13T00:00:00.000000",
         "2007-05-14T00:00:00.000000",
         "2007-05-15T00:00:00.000000",
         "2007-05-16T00:00:00.000000",
         "2007-05-17T00:00:00.000000",
         "2007-05-18T00:00:00.000000",
         "2007-05-19T00:00:00.000000",
         "2007-05-20T00:00:00.000000",
         "2007-05-21T00:00:00.000000",
         "2007-05-22T00:00:00.000000",
         "2007-05-23T00:00:00.000000",
         "2007-05-24T00:00:00.000000",
         "2007-05-25T00:00:00.000000",
         "2007-05-26T00:00:00.000000",
         "2007-05-27T00:00:00.000000",
         "2007-05-28T00:00:00.000000",
         "2007-05-29T00:00:00.000000",
         "2007-05-30T00:00:00.000000"
        ]
       },
       "y": {
        "type": "float64",
        "values": [
         100.01694746388249,
         100.60647228300627,
         101.38288240119304,
         101.8974419057456,
         100.51606728142394,
         102.52034837975006,
         102.90858417394574,
         102.66393960850169,
         102.04616132379594,
         103.92966862514962,
         103.28173797677768,
         102.94823299717983,
         104.41305636351576,
         105.07964848793583,
         104.817680818233,
         104.43549274640448,
         104.66921231967831,
         103.75434823350528,
         104.59767723137777,
         104.53314039405312,
         103.99572269955328,
         104.59490589685079,
         102.68921209639858,
         102.43388859075196,
         103.8239679047112,
         104.90039223326939,
         103.24790272628138,
         103.84756997306286,
         104.988582359625,
         103.70020902224485,
         104.90441196434763,
         104.98433257611542,
         105.54235456938397,
         105.32685724012123,
         106.79852216863462,
         105.28210934580864,
         104.78726595176963,
         104.60973129328349,
         104.08921683446253,
         105.70418793828149,
         106.32662684032833,
         104.31327107219496,
         104.23521312046446,
         105.69924690099225,
         106.3004782966041,
         106.54950194924453,
         106.90311602079059,
         106.10349746228589,
         105.26586917926613,
         106.02133607390196,
         106.22078499993137,
         107.13283573796251,
         107.1592837599059,
         106.73114167212977,
         108.25763909337248,
         108.37364098406641,
         105.84216122057218,
         105.3456267488749,
         104.71423883688867,
         103.90243325484373,
         103.15339497145123,
         102.36308973046478,
         102.15012486984367,
         103.17267745686458,
         104.20254598074008,
         104.12474449500426,
         103.7005219706673,
         103.75203973907036,
         102.96236844927607,
         103.92672043974308,
         103.63999470385856,
         102.60453846658332,
         101.93829520594274,
         103.0618091436992,
         101.11423111036343,
         100.59316312672408,
         101.49087998381435,
         101.159052250559,
         102.37412032327916,
         101.95464063675124,
         100.42226067428571,
         102.82632889870455,
         102.15827500540306,
         103.76682272737982,
         106.61438977435327,
         106.95814189296692,
         104.96965684005923,
         105.0454261324912,
         103.9064548305989,
         105.60317137509308,
         104.6229958818412,
         105.31890216094729,
         107.66434210568906,
         107.97835989799212,
         106.84022570284081,
         106.02727600926097,
         105.36937535896645,
         105.25716921176952,
         105.81019398281477,
         105.95418642176308,
         104.28650917934506,
         103.41186124210694,
         104.10261180834124,
         104.8476251392737,
         105.01505426193266,
         105.83693627214613,
         105.17574993945304,
         104.68885317605292,
         104.44228175414658,
         104.70123747076619,
         102.93941087563847,
         102.85721887415582,
         100.29424302988811,
         99.47634664851213,
         98.90340136115688,
         99.86108577901227,
         99.62916231886884,
         100.43681104042282,
         102.13534326989921,
         103.16605808859427,
         103.27217015802167,
         101.34145222737689,
         102.22512914018125,
         100.92392026456461,
         102.7373223289413,
         101.32297088379099,
         102.74689648950093,
         102.18345360277372,
         102.79068434350543,
         102.97779161325735,
         102.8409145791649,
         102.94644950600058,
         102.8242601220416,
         102.2656230949503,
         101.83853478504246,
         102.56570229200683,
         104.50610869019373,
         104.39368712063373,
         102.24591956170678,
         103.67505309518518,
         104.47299983995498,
         102.90414852966764,
         100.51607844932997,
         98.45130161740697,
         101.75371139127714,
         103.17974142128362,
         103.76430808815135,
         103.11031046661448,
         101.77165922769125,
         100.76646341405275
        ]
       }
      }
     },
     "7d78642e74c74f4db29e505c3d35018c": {
      "model_module": "jupyter-js-widgets",
      "model_module_version": "*",
      "model_name": "VBoxModel",
      "state": {
       "children": [
        "IPY_MODEL_71ddd135fe0b436b9b279765969f0b51",
        "IPY_MODEL_1b9077997d4c40d0920e0eba74d11ec4"
       ],
       "layout": "IPY_MODEL_27d57e38a00e410d8649ad6b70920905"
      }
     },
     "7e0d28f0191d4b6da3b36b0f051f4cd2": {
      "model_module": "jupyter-js-widgets",
      "model_module_version": "*",
      "model_name": "LayoutModel",
      "state": {}
     },
     "7ead58f65e534e7281b8c92830073a75": {
      "model_module": "jupyter-js-widgets",
      "model_module_version": "*",
      "model_name": "LabelModel",
      "state": {
       "layout": "IPY_MODEL_384ec9bc468b4f32b105c78f6a892ab3",
       "value": "None"
      }
     },
     "7f728ff0a51f48669a84ce3845840a8e": {
      "model_module": "bqplot",
      "model_module_version": "*",
      "model_name": "LassoSelectorModel",
      "state": {
       "marks": [
        "IPY_MODEL_3a21ac8bd4f94a14bb5a868680af0a1f",
        "IPY_MODEL_f1a86300f215466585031e5d6d29b471"
       ],
       "x_scale": null,
       "y_scale": null
      }
     },
     "804957500533402eab29cf73cf74d358": {
      "model_module": "bqplot",
      "model_module_version": "*",
      "model_name": "AxisModel",
      "state": {
       "label": "Security 1 Price",
       "orientation": "vertical",
       "scale": "IPY_MODEL_6efc21040a58441f8a6fbbf7f9839c74",
       "side": "left",
       "tick_format": "0.2f",
       "tick_values": {
        "type": null,
        "values": null
       }
      }
     },
     "8225f9a59a9e4fd1a89efd973c50e182": {
      "model_module": "jupyter-js-widgets",
      "model_module_version": "*",
      "model_name": "VBoxModel",
      "state": {
       "children": [
        "IPY_MODEL_886c786a5d464327aa57f438c454e360",
        "IPY_MODEL_713709fd58cc4f8c98406396d0fb0d42"
       ],
       "layout": "IPY_MODEL_9ac121a34f9840079aeea4ef919da377"
      }
     },
     "84d6745ccd0a4b9dab9ee2090832ce1e": {
      "model_module": "bqplot",
      "model_module_version": "*",
      "model_name": "AxisModel",
      "state": {
       "label": "Index",
       "scale": "IPY_MODEL_012bdc0b91704075a701ab11551c5d64",
       "side": "bottom",
       "tick_values": {
        "type": null,
        "values": null
       }
      }
     },
     "8723434f981641ebb3000a80417f72f3": {
      "model_module": "bqplot",
      "model_module_version": "*",
      "model_name": "AxisModel",
      "state": {
       "label": "Security 1",
       "scale": "IPY_MODEL_6541688ef2334e989492711af83145ed",
       "side": "bottom",
       "tick_format": "0.0f",
       "tick_values": {
        "type": null,
        "values": null
       }
      }
     },
     "886c786a5d464327aa57f438c454e360": {
      "model_module": "jupyter-js-widgets",
      "model_module_version": "*",
      "model_name": "LabelModel",
      "state": {
       "layout": "IPY_MODEL_7b686dddd925467c88013bf916db0d81",
       "value": "[]"
      }
     },
     "889b5e5741714d259090cf1462f34681": {
      "model_module": "jupyter-js-widgets",
      "model_module_version": "*",
      "model_name": "LabelModel",
      "state": {
       "layout": "IPY_MODEL_7e0d28f0191d4b6da3b36b0f051f4cd2",
       "value": "{}"
      }
     },
     "8905d616279c466fbef6513e74e1a634": {
      "model_module": "jupyter-js-widgets",
      "model_module_version": "*",
      "model_name": "LayoutModel",
      "state": {}
     },
     "8d6caecd80844a828a107e72ec89def1": {
      "model_module": "bqplot",
      "model_module_version": "*",
      "model_name": "MultiSelectorModel",
      "state": {
       "marks": [
        "IPY_MODEL_b2affcbb21df49a5b5bc8447bd7eb268",
        "IPY_MODEL_6319446546f04bd8883b14458d385b0b"
       ],
       "scale": "IPY_MODEL_a08c2cbf453f43a69e9ce97c9c47ae8f"
      }
     },
     "8e2806bf90d54669b94e0479f020a060": {
      "model_module": "bqplot",
      "model_module_version": "*",
      "model_name": "AxisModel",
      "state": {
       "label": "Security 1 Price",
       "orientation": "vertical",
       "scale": "IPY_MODEL_07bf55a9127349d4984083de4c751f7c",
       "side": "left",
       "tick_format": "0.2f",
       "tick_values": {
        "type": null,
        "values": null
       }
      }
     },
     "906fee1ad2024e218b98e12f8f8a09e1": {
      "model_module": "bqplot",
      "model_module_version": "*",
      "model_name": "BrushSelectorModel",
      "state": {
       "color": "red",
       "marks": [
        "IPY_MODEL_9a9718be53f24f1a96957447079dd314"
       ],
       "x_scale": "IPY_MODEL_6541688ef2334e989492711af83145ed",
       "y_scale": "IPY_MODEL_d733ebb18c18428c8b3f1dcb9fb98a5d"
      }
     },
     "916e06441b0a4132b78e2c7bf28acca0": {
      "model_module": "bqplot",
      "model_module_version": "*",
      "model_name": "LinearScaleModel",
      "state": {
       "stabilized": false
      }
     },
     "91f3bfaf212e4a9d961a7783d10f7f4a": {
      "model_module": "bqplot",
      "model_module_version": "*",
      "model_name": "LinearScaleModel",
      "state": {
       "allow_padding": false,
       "max": 1,
       "min": 0,
       "stabilized": false
      }
     },
     "922cca7675d7426b80421f6c838af6d5": {
      "model_module": "bqplot",
      "model_module_version": "*",
      "model_name": "LinearScaleModel",
      "state": {
       "allow_padding": false,
       "max": 1,
       "min": 0,
       "stabilized": false
      }
     },
     "94fce55eb6cc4d71bb82d36137ca59d0": {
      "model_module": "bqplot",
      "model_module_version": "*",
      "model_name": "LinearScaleModel",
      "state": {
       "allow_padding": false,
       "max": 1,
       "min": 0,
       "stabilized": false
      }
     },
     "9a9718be53f24f1a96957447079dd314": {
      "model_module": "bqplot",
      "model_module_version": "*",
      "model_name": "ScatterModel",
      "state": {
       "_model_module": "bqplot",
       "_model_module_version": "*",
       "_view_module": "bqplot",
       "_view_module_version": "*",
       "apply_clip": true,
       "color": {
        "type": null,
        "values": null
       },
       "colors": [
        "DeepSkyBlue"
       ],
       "display_legend": false,
       "enable_hover": true,
       "hovered_style": {},
       "interactions": {
        "hover": "tooltip"
       },
       "labels": [],
       "msg_throttle": 1,
       "names": {
        "type": null,
        "values": null
       },
       "opacity": {
        "type": null,
        "values": null
       },
       "preserve_domain": {},
       "rotation": {
        "type": null,
        "values": null
       },
       "scales": {
        "x": "IPY_MODEL_6541688ef2334e989492711af83145ed",
        "y": "IPY_MODEL_d733ebb18c18428c8b3f1dcb9fb98a5d"
       },
       "selected": [],
       "selected_style": {},
       "size": {
        "type": null,
        "values": null
       },
       "skew": {
        "type": null,
        "values": null
       },
       "tooltip": null,
       "tooltip_location": "mouse",
       "tooltip_style": {
        "opacity": 0.9
       },
       "unhovered_style": {},
       "unselected_style": {},
       "visible": true,
       "x": {
        "type": "float64",
        "values": [
         99.12029457819243,
         99.61006913858924,
         100.57592041295491,
         100.48633898097339,
         100.09575682502181,
         101.31678328326412,
         101.61805546028225,
         101.73032253298585,
         101.1305134132305,
         102.19670532228554,
         102.06492214767401,
         101.76538453271797,
         102.68879833343915,
         102.82639820941795,
         102.59427701329435,
         102.46253732457451,
         103.05699334942773,
         103.15717773319564,
         103.60069507629498,
         104.22148326070584,
         103.88775225658713,
         104.5016978095988,
         103.76972086626444,
         103.15183055272821,
         104.05076375172101,
         104.42970023777464,
         103.29368528258063,
         103.78202316809639,
         104.4264463648529,
         103.64368252705913,
         104.40500618468933,
         104.286340083526,
         104.44095881870241,
         104.33637637823469,
         104.39280455512768,
         103.72835742736967,
         103.23382635284578,
         103.44993970694787,
         103.34795651272502,
         104.35575240760446,
         104.72746571456754,
         103.38306157919739,
         103.64109135790895,
         104.31719437364654,
         104.77203459784118,
         105.09800410178813,
         105.7826667003887,
         105.31425923790638,
         105.50058735957238,
         105.70815164603445,
         105.30414405959505,
         105.86333046740992,
         105.57803032293918,
         105.33551302312362,
         105.99895828590942,
         105.93525413490158,
         104.37469235264871,
         104.08097631497897,
         103.82497335921708,
         103.59267836442395,
         103.42588922076996,
         102.89412197276025,
         102.63425702093555,
         103.43968356498473,
         104.42522432569797,
         104.2226491315554,
         104.24850246644216,
         104.6108402023902,
         104.37471006360671,
         104.87188247240753,
         104.64015069478258,
         104.18662990649008,
         104.15084515399265,
         105.03465781292557,
         103.80761321350343,
         104.27607938771202,
         104.6036141835438,
         104.4416879785711,
         105.37358968175948,
         105.00487789352445,
         103.65845921309713,
         104.69198411204654,
         104.1337735929987,
         105.04037034764279,
         106.06725345019433,
         106.11474499082746,
         104.93900941517111,
         104.54802784859844,
         104.16130873107556,
         104.73472671507717,
         103.95390483418635,
         104.59496410800313,
         106.16499260294891,
         106.42338855478047,
         105.34888752538791,
         105.28961545027154,
         105.1379360220513,
         105.41842733138516,
         106.35200195804347,
         106.65754203466544,
         105.62356040068934,
         104.95196860892162,
         104.47348817103114,
         104.88969206262844,
         105.13436828246725,
         105.58288689925472,
         105.1509839414557,
         105.05247392170975,
         105.03671885167101,
         105.4986825293018,
         104.84155941168957,
         104.81291677638043,
         103.40738800331994,
         102.47186640902949,
         102.55558080643621,
         103.27726396833698,
         103.05392772607959,
         103.36314241645897,
         104.06968629557751,
         103.55595573105701,
         103.4587395104751,
         102.42170247829416,
         102.62070584443389,
         102.12149715191208,
         103.16646822932832,
         102.65584568864062,
         103.34893673990875,
         102.96988204568488,
         103.28253337822889,
         103.34982688301646,
         103.25945232600507,
         103.47944788758714,
         103.54175017218815,
         103.2034370340793,
         102.24535626846546,
         102.88519196545144,
         104.2081309514615,
         104.0635776143514,
         102.82960511596546,
         103.59706020562001,
         103.49028427709167,
         103.24911397970769,
         102.08067093664724,
         101.26173538754121,
         102.69011868800868,
         104.09255000710044,
         104.73022969012717,
         104.46735741522932,
         103.72440299144112,
         103.35773966282235
        ]
       },
       "y": {
        "type": "float64",
        "values": [
         100.01694746388249,
         100.60647228300627,
         101.38288240119304,
         101.8974419057456,
         100.51606728142394,
         102.52034837975006,
         102.90858417394574,
         102.66393960850169,
         102.04616132379594,
         103.92966862514962,
         103.28173797677768,
         102.94823299717983,
         104.41305636351576,
         105.07964848793583,
         104.817680818233,
         104.43549274640448,
         104.66921231967831,
         103.75434823350528,
         104.59767723137777,
         104.53314039405312,
         103.99572269955328,
         104.59490589685079,
         102.68921209639858,
         102.43388859075196,
         103.8239679047112,
         104.90039223326939,
         103.24790272628138,
         103.84756997306286,
         104.988582359625,
         103.70020902224485,
         104.90441196434763,
         104.98433257611542,
         105.54235456938397,
         105.32685724012123,
         106.79852216863462,
         105.28210934580864,
         104.78726595176963,
         104.60973129328349,
         104.08921683446253,
         105.70418793828149,
         106.32662684032833,
         104.31327107219496,
         104.23521312046446,
         105.69924690099225,
         106.3004782966041,
         106.54950194924453,
         106.90311602079059,
         106.10349746228589,
         105.26586917926613,
         106.02133607390196,
         106.22078499993137,
         107.13283573796251,
         107.1592837599059,
         106.73114167212977,
         108.25763909337248,
         108.37364098406641,
         105.84216122057218,
         105.3456267488749,
         104.71423883688867,
         103.90243325484373,
         103.15339497145123,
         102.36308973046478,
         102.15012486984367,
         103.17267745686458,
         104.20254598074008,
         104.12474449500426,
         103.7005219706673,
         103.75203973907036,
         102.96236844927607,
         103.92672043974308,
         103.63999470385856,
         102.60453846658332,
         101.93829520594274,
         103.0618091436992,
         101.11423111036343,
         100.59316312672408,
         101.49087998381435,
         101.159052250559,
         102.37412032327916,
         101.95464063675124,
         100.42226067428571,
         102.82632889870455,
         102.15827500540306,
         103.76682272737982,
         106.61438977435327,
         106.95814189296692,
         104.96965684005923,
         105.0454261324912,
         103.9064548305989,
         105.60317137509308,
         104.6229958818412,
         105.31890216094729,
         107.66434210568906,
         107.97835989799212,
         106.84022570284081,
         106.02727600926097,
         105.36937535896645,
         105.25716921176952,
         105.81019398281477,
         105.95418642176308,
         104.28650917934506,
         103.41186124210694,
         104.10261180834124,
         104.8476251392737,
         105.01505426193266,
         105.83693627214613,
         105.17574993945304,
         104.68885317605292,
         104.44228175414658,
         104.70123747076619,
         102.93941087563847,
         102.85721887415582,
         100.29424302988811,
         99.47634664851213,
         98.90340136115688,
         99.86108577901227,
         99.62916231886884,
         100.43681104042282,
         102.13534326989921,
         103.16605808859427,
         103.27217015802167,
         101.34145222737689,
         102.22512914018125,
         100.92392026456461,
         102.7373223289413,
         101.32297088379099,
         102.74689648950093,
         102.18345360277372,
         102.79068434350543,
         102.97779161325735,
         102.8409145791649,
         102.94644950600058,
         102.8242601220416,
         102.2656230949503,
         101.83853478504246,
         102.56570229200683,
         104.50610869019373,
         104.39368712063373,
         102.24591956170678,
         103.67505309518518,
         104.47299983995498,
         102.90414852966764,
         100.51607844932997,
         98.45130161740697,
         101.75371139127714,
         103.17974142128362,
         103.76430808815135,
         103.11031046661448,
         101.77165922769125,
         100.76646341405275
        ]
       }
      }
     },
     "9ac121a34f9840079aeea4ef919da377": {
      "model_module": "jupyter-js-widgets",
      "model_module_version": "*",
      "model_name": "LayoutModel",
      "state": {}
     },
     "9bca7ddbd9bd4d12ab8caa158452723d": {
      "model_module": "bqplot",
      "model_module_version": "*",
      "model_name": "LinearScaleModel",
      "state": {
       "allow_padding": false,
       "max": 1,
       "min": 0,
       "stabilized": false
      }
     },
     "9c9ccc2170e34c93b3d52c51171dd0ee": {
      "model_module": "bqplot",
      "model_module_version": "*",
      "model_name": "AxisModel",
      "state": {
       "label": "Date",
       "scale": "IPY_MODEL_47aef8c996b5459e9762875d43dbb05e",
       "side": "bottom",
       "tick_values": {
        "type": null,
        "values": null
       }
      }
     },
     "9faa883f766d487982590ad15dbb986b": {
      "model_module": "bqplot",
      "model_module_version": "*",
      "model_name": "LinearScaleModel",
      "state": {
       "allow_padding": false,
       "max": 1,
       "min": 0,
       "stabilized": false
      }
     },
     "9fb0ef400c304cf0accbf265f5a02994": {
      "model_module": "bqplot",
      "model_module_version": "*",
      "model_name": "LinearScaleModel",
      "state": {
       "allow_padding": false,
       "max": 1,
       "min": 0,
       "stabilized": false
      }
     },
     "a08c2cbf453f43a69e9ce97c9c47ae8f": {
      "model_module": "bqplot",
      "model_module_version": "*",
      "model_name": "DateScaleModel",
      "state": {
       "min": "2007-01-01T00:00:00.000000"
      }
     },
     "a586c395ef8f403e9af60572e0b8c6b7": {
      "model_module": "bqplot",
      "model_module_version": "*",
      "model_name": "LinearScaleModel",
      "state": {
       "allow_padding": false,
       "max": 1,
       "min": 0,
       "stabilized": false
      }
     },
     "a68341bf5df54e19bb2fb5147b5d8951": {
      "model_module": "bqplot",
      "model_module_version": "*",
      "model_name": "AxisModel",
      "state": {
       "label": "Security 1 Price",
       "orientation": "vertical",
       "scale": "IPY_MODEL_916e06441b0a4132b78e2c7bf28acca0",
       "side": "left",
       "tick_format": "0.2f",
       "tick_values": {
        "type": null,
        "values": null
       }
      }
     },
     "a7f15d6b4507433a91b50c5536df2c82": {
      "model_module": "bqplot",
      "model_module_version": "*",
      "model_name": "AxisModel",
      "state": {
       "label": "Security 1 Price",
       "orientation": "vertical",
       "scale": "IPY_MODEL_28e535c42f4d42158d115c5e34d0c2a8",
       "side": "left",
       "tick_format": "0.2f",
       "tick_values": {
        "type": null,
        "values": null
       }
      }
     },
     "a861e1e57f98446aa1b5029141aba23e": {
      "model_module": "bqplot",
      "model_module_version": "*",
      "model_name": "LinearScaleModel",
      "state": {
       "allow_padding": false,
       "max": 1,
       "min": 0,
       "stabilized": false
      }
     },
     "aa6b058843b74e40a4a7aa96111828b7": {
      "model_module": "bqplot",
      "model_module_version": "*",
      "model_name": "FigureModel",
      "state": {
       "_dom_classes": [],
       "axes": [
        "IPY_MODEL_f8d9a6c0dd5b43fdaf5fc1902d53cd00",
        "IPY_MODEL_0ae8c679cf424761a0812ebc436513d4"
       ],
       "interaction": "IPY_MODEL_cd373bd968984f5d8223bc9b865106fb",
       "layout": "IPY_MODEL_e9a086d0aed646de8f15b487f9a36922",
       "marks": [
        "IPY_MODEL_fe314817bcb246a581415f95e7270739"
       ],
       "scale_x": "IPY_MODEL_e19e0fb753ca49399dbd343cd35f390a",
       "scale_y": "IPY_MODEL_922cca7675d7426b80421f6c838af6d5",
       "title": "Multi-Selector Example"
      }
     },
     "b2affcbb21df49a5b5bc8447bd7eb268": {
      "model_module": "bqplot",
      "model_module_version": "*",
      "model_name": "LinesModel",
      "state": {
       "color": {
        "type": null,
        "values": null
       },
       "fill_colors": [],
       "labels": [
        "Security 1"
       ],
       "scales": {
        "x": "IPY_MODEL_2dfa3061fa7d4e648b95bb61990ba094",
        "y": "IPY_MODEL_07bf55a9127349d4984083de4c751f7c"
       },
       "x": {
        "type": "float64",
        "values": [
         0,
         0.06711409395973154,
         0.1342281879194631,
         0.20134228187919462,
         0.2684563758389262,
         0.33557046979865773,
         0.40268456375838924,
         0.4697986577181208,
         0.5369127516778524,
         0.6040268456375839,
         0.6711409395973155,
         0.738255033557047,
         0.8053691275167785,
         0.87248322147651,
         0.9395973154362416,
         1.0067114093959733,
         1.0738255033557047,
         1.1409395973154361,
         1.2080536912751678,
         1.2751677852348993,
         1.342281879194631,
         1.4093959731543624,
         1.476510067114094,
         1.5436241610738255,
         1.610738255033557,
         1.6778523489932886,
         1.74496644295302,
         1.8120805369127517,
         1.8791946308724832,
         1.9463087248322148,
         2.0134228187919465,
         2.0805369127516777,
         2.1476510067114094,
         2.214765100671141,
         2.2818791946308723,
         2.348993288590604,
         2.4161073825503356,
         2.4832214765100673,
         2.5503355704697985,
         2.61744966442953,
         2.684563758389262,
         2.751677852348993,
         2.8187919463087248,
         2.8859060402684564,
         2.953020134228188,
         3.0201342281879193,
         3.087248322147651,
         3.1543624161073827,
         3.221476510067114,
         3.2885906040268456,
         3.3557046979865772,
         3.422818791946309,
         3.48993288590604,
         3.557046979865772,
         3.6241610738255035,
         3.691275167785235,
         3.7583892617449663,
         3.825503355704698,
         3.8926174496644297,
         3.959731543624161,
         4.026845637583893,
         4.093959731543624,
         4.1610738255033555,
         4.228187919463087,
         4.295302013422819,
         4.3624161073825505,
         4.429530201342282,
         4.496644295302014,
         4.563758389261745,
         4.630872483221476,
         4.697986577181208,
         4.76510067114094,
         4.832214765100671,
         4.899328859060403,
         4.966442953020135,
         5.033557046979865,
         5.100671140939597,
         5.167785234899329,
         5.23489932885906,
         5.302013422818792,
         5.369127516778524,
         5.436241610738255,
         5.503355704697986,
         5.570469798657718,
         5.6375838926174495,
         5.704697986577181,
         5.771812080536913,
         5.8389261744966445,
         5.906040268456376,
         5.973154362416107,
         6.040268456375839,
         6.10738255033557,
         6.174496644295302,
         6.241610738255034,
         6.308724832214765,
         6.375838926174497,
         6.442953020134228,
         6.510067114093959,
         6.577181208053691,
         6.644295302013423,
         6.7114093959731544,
         6.778523489932886,
         6.845637583892618,
         6.9127516778523495,
         6.97986577181208,
         7.046979865771812,
         7.114093959731544,
         7.181208053691275,
         7.248322147651007,
         7.315436241610739,
         7.38255033557047,
         7.449664429530201,
         7.516778523489933,
         7.583892617449664,
         7.651006711409396,
         7.718120805369128,
         7.785234899328859,
         7.852348993288591,
         7.919463087248322,
         7.9865771812080535,
         8.053691275167786,
         8.120805369127517,
         8.187919463087248,
         8.25503355704698,
         8.322147651006711,
         8.389261744966444,
         8.456375838926174,
         8.523489932885907,
         8.590604026845638,
         8.657718120805368,
         8.724832214765101,
         8.791946308724832,
         8.859060402684564,
         8.926174496644295,
         8.993288590604028,
         9.060402684563758,
         9.12751677852349,
         9.194630872483222,
         9.261744966442953,
         9.328859060402685,
         9.395973154362416,
         9.463087248322148,
         9.53020134228188,
         9.59731543624161,
         9.664429530201343,
         9.731543624161073,
         9.798657718120806,
         9.865771812080537,
         9.93288590604027,
         10
        ]
       },
       "y": {
        "type": "float64",
        "values": [
         24.780073644548107,
         24.90251728464731,
         25.14398010323873,
         25.121584745243347,
         25.023939206255452,
         25.32919582081603,
         25.404513865070562,
         25.432580633246463,
         25.282628353307626,
         25.549176330571385,
         25.516230536918503,
         25.441346133179493,
         25.672199583359788,
         25.706599552354486,
         25.648569253323586,
         25.615634331143628,
         25.764248337356932,
         25.78929443329891,
         25.900173769073746,
         26.05537081517646,
         25.971938064146784,
         26.1254244523997,
         25.94243021656611,
         25.787957638182053,
         26.012690937930252,
         26.10742505944366,
         25.823421320645156,
         25.945505792024097,
         26.106611591213223,
         25.91092063176478,
         26.101251546172332,
         26.0715850208815,
         26.110239704675603,
         26.084094094558672,
         26.09820113878192,
         25.93208935684242,
         25.808456588211445,
         25.86248492673697,
         25.836989128181255,
         26.088938101901114,
         26.181866428641886,
         25.845765394799347,
         25.910272839477237,
         26.079298593411636,
         26.193008649460296,
         26.274501025447034,
         26.445666675097176,
         26.328564809476596,
         26.375146839893095,
         26.427037911508613,
         26.32603601489876,
         26.46583261685248,
         26.394507580734796,
         26.333878255780906,
         26.499739571477356,
         26.483813533725396,
         26.093673088162177,
         26.020244078744742,
         25.95624333980427,
         25.898169591105987,
         25.85647230519249,
         25.72353049319006,
         25.658564255233888,
         25.859920891246183,
         26.106306081424492,
         26.05566228288885,
         26.06212561661054,
         26.15271005059755,
         26.09367751590168,
         26.217970618101884,
         26.160037673695644,
         26.04665747662252,
         26.037711288498162,
         26.258664453231393,
         25.951903303375857,
         26.069019846928004,
         26.15090354588595,
         26.110421994642774,
         26.34339742043987,
         26.251219473381113,
         25.914614803274283,
         26.172996028011635,
         26.033443398249673,
         26.260092586910698,
         26.516813362548582,
         26.528686247706865,
         26.23475235379278,
         26.13700696214961,
         26.04032718276889,
         26.183681678769293,
         25.988476208546587,
         26.14874102700078,
         26.54124815073723,
         26.60584713869512,
         26.337221881346977,
         26.322403862567885,
         26.284484005512827,
         26.35460683284629,
         26.58800048951087,
         26.66438550866636,
         26.405890100172336,
         26.237992152230404,
         26.118372042757784,
         26.22242301565711,
         26.283592070616812,
         26.39572172481368,
         26.287745985363927,
         26.263118480427437,
         26.259179712917753,
         26.37467063232545,
         26.210389852922393,
         26.20322919409511,
         25.851847000829984,
         25.617966602257372,
         25.638895201609053,
         25.819315992084245,
         25.763481931519898,
         25.840785604114743,
         26.017421573894378,
         25.888988932764253,
         25.864684877618775,
         25.60542561957354,
         25.65517646110847,
         25.53037428797802,
         25.79161705733208,
         25.663961422160156,
         25.837234184977188,
         25.74247051142122,
         25.820633344557223,
         25.837456720754115,
         25.81486308150127,
         25.869861971896785,
         25.885437543047036,
         25.800859258519825,
         25.561339067116364,
         25.72129799136286,
         26.052032737865375,
         26.01589440358785,
         25.707401278991366,
         25.899265051405003,
         25.87257106927292,
         25.81227849492692,
         25.52016773416181,
         25.315433846885302,
         25.67252967200217,
         26.02313750177511,
         26.182557422531794,
         26.11683935380733,
         25.93110074786028,
         25.83943491570559
        ]
       }
      }
     },
     "b57cb44b25264490aba7d22edd24726d": {
      "model_module": "bqplot",
      "model_module_version": "*",
      "model_name": "LinearScaleModel",
      "state": {
       "stabilized": false
      }
     },
     "b6f8bfda30ff428b8a4b08e9133a627e": {
      "model_module": "jupyter-js-widgets",
      "model_module_version": "*",
      "model_name": "LayoutModel",
      "state": {
       "align_self": "stretch",
       "flex": "1",
       "min_width": "400px"
      }
     },
     "b79c466b6f954b76b2bd206fa9d25374": {
      "model_module": "bqplot",
      "model_module_version": "*",
      "model_name": "PanZoomModel",
      "state": {
       "scales": {
        "x": [
         "IPY_MODEL_a08c2cbf453f43a69e9ce97c9c47ae8f"
        ],
        "y": [
         "IPY_MODEL_07bf55a9127349d4984083de4c751f7c"
        ]
       }
      }
     },
     "b8c3bac0503e4ef6a4f0edeb24aa991f": {
      "model_module": "jupyter-js-widgets",
      "model_module_version": "*",
      "model_name": "LayoutModel",
      "state": {}
     },
     "bbbb0b65a0b8402ab4961492c273ab1e": {
      "model_module": "bqplot",
      "model_module_version": "*",
      "model_name": "LinearScaleModel",
      "state": {
       "stabilized": false
      }
     },
     "c0ebcc1fbdfd4935968c7eb108baa842": {
      "model_module": "bqplot",
      "model_module_version": "*",
      "model_name": "IndexSelectorModel",
      "state": {
       "marks": [
        "IPY_MODEL_523a7f44e0424548a23a7f485fa0fe02",
        "IPY_MODEL_d485239bced640668d33068f96d4f018"
       ],
       "scale": "IPY_MODEL_012bdc0b91704075a701ab11551c5d64",
       "selected": {
        "type": null,
        "values": null
       }
      }
     },
     "c12805faaf9543948e7cbd3913c1df2c": {
      "model_module": "bqplot",
      "model_module_version": "*",
      "model_name": "LinearScaleModel",
      "state": {
       "stabilized": false
      }
     },
     "c1aefe56af634feeb9474494406037ee": {
      "model_module": "bqplot",
      "model_module_version": "*",
      "model_name": "LinesModel",
      "state": {
       "color": {
        "type": null,
        "values": null
       },
       "colors": [
        "red"
       ],
       "display_legend": false,
       "fill_colors": [],
       "labels": [
        "C1"
       ],
       "scales": {
        "x": "IPY_MODEL_0643b4bc60e44e80a3fc96a660192541",
        "y": "IPY_MODEL_bbbb0b65a0b8402ab4961492c273ab1e"
       },
       "x": {
        "type": "date",
        "values": [
         "2007-01-01T00:00:00.000000",
         "2007-01-02T00:00:00.000000",
         "2007-01-03T00:00:00.000000",
         "2007-01-04T00:00:00.000000",
         "2007-01-05T00:00:00.000000",
         "2007-01-06T00:00:00.000000",
         "2007-01-07T00:00:00.000000",
         "2007-01-08T00:00:00.000000",
         "2007-01-09T00:00:00.000000",
         "2007-01-10T00:00:00.000000",
         "2007-01-11T00:00:00.000000",
         "2007-01-12T00:00:00.000000",
         "2007-01-13T00:00:00.000000",
         "2007-01-14T00:00:00.000000",
         "2007-01-15T00:00:00.000000",
         "2007-01-16T00:00:00.000000",
         "2007-01-17T00:00:00.000000",
         "2007-01-18T00:00:00.000000",
         "2007-01-19T00:00:00.000000",
         "2007-01-20T00:00:00.000000",
         "2007-01-21T00:00:00.000000",
         "2007-01-22T00:00:00.000000",
         "2007-01-23T00:00:00.000000",
         "2007-01-24T00:00:00.000000",
         "2007-01-25T00:00:00.000000",
         "2007-01-26T00:00:00.000000",
         "2007-01-27T00:00:00.000000",
         "2007-01-28T00:00:00.000000",
         "2007-01-29T00:00:00.000000",
         "2007-01-30T00:00:00.000000",
         "2007-01-31T00:00:00.000000",
         "2007-02-01T00:00:00.000000",
         "2007-02-02T00:00:00.000000",
         "2007-02-03T00:00:00.000000",
         "2007-02-04T00:00:00.000000",
         "2007-02-05T00:00:00.000000",
         "2007-02-06T00:00:00.000000",
         "2007-02-07T00:00:00.000000",
         "2007-02-08T00:00:00.000000",
         "2007-02-09T00:00:00.000000",
         "2007-02-10T00:00:00.000000",
         "2007-02-11T00:00:00.000000",
         "2007-02-12T00:00:00.000000",
         "2007-02-13T00:00:00.000000",
         "2007-02-14T00:00:00.000000",
         "2007-02-15T00:00:00.000000",
         "2007-02-16T00:00:00.000000",
         "2007-02-17T00:00:00.000000",
         "2007-02-18T00:00:00.000000",
         "2007-02-19T00:00:00.000000",
         "2007-02-20T00:00:00.000000",
         "2007-02-21T00:00:00.000000",
         "2007-02-22T00:00:00.000000",
         "2007-02-23T00:00:00.000000",
         "2007-02-24T00:00:00.000000",
         "2007-02-25T00:00:00.000000",
         "2007-02-26T00:00:00.000000",
         "2007-02-27T00:00:00.000000",
         "2007-02-28T00:00:00.000000",
         "2007-03-01T00:00:00.000000",
         "2007-03-02T00:00:00.000000",
         "2007-03-03T00:00:00.000000",
         "2007-03-04T00:00:00.000000",
         "2007-03-05T00:00:00.000000",
         "2007-03-06T00:00:00.000000",
         "2007-03-07T00:00:00.000000",
         "2007-03-08T00:00:00.000000",
         "2007-03-09T00:00:00.000000",
         "2007-03-10T00:00:00.000000",
         "2007-03-11T00:00:00.000000",
         "2007-03-12T00:00:00.000000",
         "2007-03-13T00:00:00.000000",
         "2007-03-14T00:00:00.000000",
         "2007-03-15T00:00:00.000000",
         "2007-03-16T00:00:00.000000",
         "2007-03-17T00:00:00.000000",
         "2007-03-18T00:00:00.000000",
         "2007-03-19T00:00:00.000000",
         "2007-03-20T00:00:00.000000",
         "2007-03-21T00:00:00.000000",
         "2007-03-22T00:00:00.000000",
         "2007-03-23T00:00:00.000000",
         "2007-03-24T00:00:00.000000",
         "2007-03-25T00:00:00.000000",
         "2007-03-26T00:00:00.000000",
         "2007-03-27T00:00:00.000000",
         "2007-03-28T00:00:00.000000",
         "2007-03-29T00:00:00.000000",
         "2007-03-30T00:00:00.000000",
         "2007-03-31T00:00:00.000000",
         "2007-04-01T00:00:00.000000",
         "2007-04-02T00:00:00.000000",
         "2007-04-03T00:00:00.000000",
         "2007-04-04T00:00:00.000000",
         "2007-04-05T00:00:00.000000",
         "2007-04-06T00:00:00.000000",
         "2007-04-07T00:00:00.000000",
         "2007-04-08T00:00:00.000000",
         "2007-04-09T00:00:00.000000",
         "2007-04-10T00:00:00.000000",
         "2007-04-11T00:00:00.000000",
         "2007-04-12T00:00:00.000000",
         "2007-04-13T00:00:00.000000",
         "2007-04-14T00:00:00.000000",
         "2007-04-15T00:00:00.000000",
         "2007-04-16T00:00:00.000000",
         "2007-04-17T00:00:00.000000",
         "2007-04-18T00:00:00.000000",
         "2007-04-19T00:00:00.000000",
         "2007-04-20T00:00:00.000000",
         "2007-04-21T00:00:00.000000",
         "2007-04-22T00:00:00.000000",
         "2007-04-23T00:00:00.000000",
         "2007-04-24T00:00:00.000000",
         "2007-04-25T00:00:00.000000",
         "2007-04-26T00:00:00.000000",
         "2007-04-27T00:00:00.000000",
         "2007-04-28T00:00:00.000000",
         "2007-04-29T00:00:00.000000",
         "2007-04-30T00:00:00.000000",
         "2007-05-01T00:00:00.000000",
         "2007-05-02T00:00:00.000000",
         "2007-05-03T00:00:00.000000",
         "2007-05-04T00:00:00.000000",
         "2007-05-05T00:00:00.000000",
         "2007-05-06T00:00:00.000000",
         "2007-05-07T00:00:00.000000",
         "2007-05-08T00:00:00.000000",
         "2007-05-09T00:00:00.000000",
         "2007-05-10T00:00:00.000000",
         "2007-05-11T00:00:00.000000",
         "2007-05-12T00:00:00.000000",
         "2007-05-13T00:00:00.000000",
         "2007-05-14T00:00:00.000000",
         "2007-05-15T00:00:00.000000",
         "2007-05-16T00:00:00.000000",
         "2007-05-17T00:00:00.000000",
         "2007-05-18T00:00:00.000000",
         "2007-05-19T00:00:00.000000",
         "2007-05-20T00:00:00.000000",
         "2007-05-21T00:00:00.000000",
         "2007-05-22T00:00:00.000000",
         "2007-05-23T00:00:00.000000",
         "2007-05-24T00:00:00.000000",
         "2007-05-25T00:00:00.000000",
         "2007-05-26T00:00:00.000000",
         "2007-05-27T00:00:00.000000",
         "2007-05-28T00:00:00.000000",
         "2007-05-29T00:00:00.000000",
         "2007-05-30T00:00:00.000000"
        ]
       },
       "y": {
        "type": "float64",
        "values": [
         100.01694746388249,
         100.60647228300627,
         101.38288240119304,
         101.8974419057456,
         100.51606728142394,
         102.52034837975006,
         102.90858417394574,
         102.66393960850169,
         102.04616132379594,
         103.92966862514962,
         103.28173797677768,
         102.94823299717983,
         104.41305636351576,
         105.07964848793583,
         104.817680818233,
         104.43549274640448,
         104.66921231967831,
         103.75434823350528,
         104.59767723137777,
         104.53314039405312,
         103.99572269955328,
         104.59490589685079,
         102.68921209639858,
         102.43388859075196,
         103.8239679047112,
         104.90039223326939,
         103.24790272628138,
         103.84756997306286,
         104.988582359625,
         103.70020902224485,
         104.90441196434763,
         104.98433257611542,
         105.54235456938397,
         105.32685724012123,
         106.79852216863462,
         105.28210934580864,
         104.78726595176963,
         104.60973129328349,
         104.08921683446253,
         105.70418793828149,
         106.32662684032833,
         104.31327107219496,
         104.23521312046446,
         105.69924690099225,
         106.3004782966041,
         106.54950194924453,
         106.90311602079059,
         106.10349746228589,
         105.26586917926613,
         106.02133607390196,
         106.22078499993137,
         107.13283573796251,
         107.1592837599059,
         106.73114167212977,
         108.25763909337248,
         108.37364098406641,
         105.84216122057218,
         105.3456267488749,
         104.71423883688867,
         103.90243325484373,
         103.15339497145123,
         102.36308973046478,
         102.15012486984367,
         103.17267745686458,
         104.20254598074008,
         104.12474449500426,
         103.7005219706673,
         103.75203973907036,
         102.96236844927607,
         103.92672043974308,
         103.63999470385856,
         102.60453846658332,
         101.93829520594274,
         103.0618091436992,
         101.11423111036343,
         100.59316312672408,
         101.49087998381435,
         101.159052250559,
         102.37412032327916,
         101.95464063675124,
         100.42226067428571,
         102.82632889870455,
         102.15827500540306,
         103.76682272737982,
         106.61438977435327,
         106.95814189296692,
         104.96965684005923,
         105.0454261324912,
         103.9064548305989,
         105.60317137509308,
         104.6229958818412,
         105.31890216094729,
         107.66434210568906,
         107.97835989799212,
         106.84022570284081,
         106.02727600926097,
         105.36937535896645,
         105.25716921176952,
         105.81019398281477,
         105.95418642176308,
         104.28650917934506,
         103.41186124210694,
         104.10261180834124,
         104.8476251392737,
         105.01505426193266,
         105.83693627214613,
         105.17574993945304,
         104.68885317605292,
         104.44228175414658,
         104.70123747076619,
         102.93941087563847,
         102.85721887415582,
         100.29424302988811,
         99.47634664851213,
         98.90340136115688,
         99.86108577901227,
         99.62916231886884,
         100.43681104042282,
         102.13534326989921,
         103.16605808859427,
         103.27217015802167,
         101.34145222737689,
         102.22512914018125,
         100.92392026456461,
         102.7373223289413,
         101.32297088379099,
         102.74689648950093,
         102.18345360277372,
         102.79068434350543,
         102.97779161325735,
         102.8409145791649,
         102.94644950600058,
         102.8242601220416,
         102.2656230949503,
         101.83853478504246,
         102.56570229200683,
         104.50610869019373,
         104.39368712063373,
         102.24591956170678,
         103.67505309518518,
         104.47299983995498,
         102.90414852966764,
         100.51607844932997,
         98.45130161740697,
         101.75371139127714,
         103.17974142128362,
         103.76430808815135,
         103.11031046661448,
         101.77165922769125,
         100.76646341405275
        ]
       }
      }
     },
     "c22abd66178d4bf896505aa91b69e602": {
      "model_module": "bqplot",
      "model_module_version": "*",
      "model_name": "FastIntervalSelectorModel",
      "state": {
       "marks": [
        "IPY_MODEL_caf0206a091d4bbabf0bd558e96cb559"
       ],
       "scale": "IPY_MODEL_efb4ff507520408f9b721199ccb091fe",
       "selected": {
        "type": null,
        "values": null
       }
      }
     },
     "c3287733f05d4e8bab5d17df5838d223": {
      "model_module": "bqplot",
      "model_module_version": "*",
      "model_name": "FastIntervalSelectorModel",
      "state": {
       "marks": [
        "IPY_MODEL_523a7f44e0424548a23a7f485fa0fe02",
        "IPY_MODEL_d485239bced640668d33068f96d4f018"
       ],
       "scale": "IPY_MODEL_012bdc0b91704075a701ab11551c5d64",
       "selected": {
        "type": null,
        "values": null
       }
      }
     },
     "c37f2a35580d44b7bc387bd45735fc9d": {
      "model_module": "bqplot",
      "model_module_version": "*",
      "model_name": "FigureModel",
      "state": {
       "_dom_classes": [],
       "axes": [
        "IPY_MODEL_043184513b874253b8ffcf1f04d42092",
        "IPY_MODEL_1e894edd55eb4284a879fade2cf242c8",
        "IPY_MODEL_8e2806bf90d54669b94e0479f020a060"
       ],
       "layout": "IPY_MODEL_0897fe02a8df4d538f68ccfa1c90cc06",
       "marks": [
        "IPY_MODEL_b2affcbb21df49a5b5bc8447bd7eb268",
        "IPY_MODEL_6319446546f04bd8883b14458d385b0b",
        "IPY_MODEL_dfbd984eb36e49128855ac6011c1e9d1"
       ],
       "scale_x": "IPY_MODEL_94fce55eb6cc4d71bb82d36137ca59d0",
       "scale_y": "IPY_MODEL_dcf13fc1c34048418cf341cc0c97c7bd"
      }
     },
     "c38f5d88112c4948b734a6c958f99fab": {
      "model_module": "jupyter-js-widgets",
      "model_module_version": "*",
      "model_name": "VBoxModel",
      "state": {
       "children": [
        "IPY_MODEL_1907260f7a1941c4b87484d3c9047e4d",
        "IPY_MODEL_46bd0851aef64767b36a6b72c84200cc"
       ],
       "layout": "IPY_MODEL_7305d4f0733c47b28d6a2506497f3f1b"
      }
     },
     "c5b9255c318b4b778313e1fa0d2ce360": {
      "model_module": "bqplot",
      "model_module_version": "*",
      "model_name": "AxisModel",
      "state": {
       "label": "Y",
       "orientation": "vertical",
       "scale": "IPY_MODEL_5aed7aa05252416ea295ec372340f4b8",
       "side": "left",
       "tick_values": {
        "type": null,
        "values": null
       }
      }
     },
     "c5c231f528ce4ba7ba543bd115597f27": {
      "model_module": "bqplot",
      "model_module_version": "*",
      "model_name": "LinearScaleModel",
      "state": {
       "stabilized": false
      }
     },
     "c6d3f57932c049eca1f2afb52e0960c1": {
      "model_module": "jupyter-js-widgets",
      "model_module_version": "*",
      "model_name": "VBoxModel",
      "state": {
       "children": [
        "IPY_MODEL_280a872641e44f71827a071bcfb99726",
        "IPY_MODEL_c37f2a35580d44b7bc387bd45735fc9d",
        "IPY_MODEL_23144a8670f546c5b2ad9eeb949ecfc6"
       ],
       "layout": "IPY_MODEL_fb0aa8df25754064859c2600e7973959"
      }
     },
     "c738521da3fd4428ac2f8998eea74624": {
      "model_module": "bqplot",
      "model_module_version": "*",
      "model_name": "LinearScaleModel",
      "state": {
       "stabilized": false
      }
     },
     "caf0206a091d4bbabf0bd558e96cb559": {
      "model_module": "bqplot",
      "model_module_version": "*",
      "model_name": "LinesModel",
      "state": {
       "color": {
        "type": null,
        "values": null
       },
       "display_legend": false,
       "fill_colors": [],
       "labels": [
        "C1"
       ],
       "scales": {
        "x": "IPY_MODEL_efb4ff507520408f9b721199ccb091fe",
        "y": "IPY_MODEL_916e06441b0a4132b78e2c7bf28acca0"
       },
       "x": {
        "type": "date",
        "values": [
         "2007-01-01T00:00:00.000000",
         "2007-01-02T00:00:00.000000",
         "2007-01-03T00:00:00.000000",
         "2007-01-04T00:00:00.000000",
         "2007-01-05T00:00:00.000000",
         "2007-01-06T00:00:00.000000",
         "2007-01-07T00:00:00.000000",
         "2007-01-08T00:00:00.000000",
         "2007-01-09T00:00:00.000000",
         "2007-01-10T00:00:00.000000",
         "2007-01-11T00:00:00.000000",
         "2007-01-12T00:00:00.000000",
         "2007-01-13T00:00:00.000000",
         "2007-01-14T00:00:00.000000",
         "2007-01-15T00:00:00.000000",
         "2007-01-16T00:00:00.000000",
         "2007-01-17T00:00:00.000000",
         "2007-01-18T00:00:00.000000",
         "2007-01-19T00:00:00.000000",
         "2007-01-20T00:00:00.000000",
         "2007-01-21T00:00:00.000000",
         "2007-01-22T00:00:00.000000",
         "2007-01-23T00:00:00.000000",
         "2007-01-24T00:00:00.000000",
         "2007-01-25T00:00:00.000000",
         "2007-01-26T00:00:00.000000",
         "2007-01-27T00:00:00.000000",
         "2007-01-28T00:00:00.000000",
         "2007-01-29T00:00:00.000000",
         "2007-01-30T00:00:00.000000",
         "2007-01-31T00:00:00.000000",
         "2007-02-01T00:00:00.000000",
         "2007-02-02T00:00:00.000000",
         "2007-02-03T00:00:00.000000",
         "2007-02-04T00:00:00.000000",
         "2007-02-05T00:00:00.000000",
         "2007-02-06T00:00:00.000000",
         "2007-02-07T00:00:00.000000",
         "2007-02-08T00:00:00.000000",
         "2007-02-09T00:00:00.000000",
         "2007-02-10T00:00:00.000000",
         "2007-02-11T00:00:00.000000",
         "2007-02-12T00:00:00.000000",
         "2007-02-13T00:00:00.000000",
         "2007-02-14T00:00:00.000000",
         "2007-02-15T00:00:00.000000",
         "2007-02-16T00:00:00.000000",
         "2007-02-17T00:00:00.000000",
         "2007-02-18T00:00:00.000000",
         "2007-02-19T00:00:00.000000",
         "2007-02-20T00:00:00.000000",
         "2007-02-21T00:00:00.000000",
         "2007-02-22T00:00:00.000000",
         "2007-02-23T00:00:00.000000",
         "2007-02-24T00:00:00.000000",
         "2007-02-25T00:00:00.000000",
         "2007-02-26T00:00:00.000000",
         "2007-02-27T00:00:00.000000",
         "2007-02-28T00:00:00.000000",
         "2007-03-01T00:00:00.000000",
         "2007-03-02T00:00:00.000000",
         "2007-03-03T00:00:00.000000",
         "2007-03-04T00:00:00.000000",
         "2007-03-05T00:00:00.000000",
         "2007-03-06T00:00:00.000000",
         "2007-03-07T00:00:00.000000",
         "2007-03-08T00:00:00.000000",
         "2007-03-09T00:00:00.000000",
         "2007-03-10T00:00:00.000000",
         "2007-03-11T00:00:00.000000",
         "2007-03-12T00:00:00.000000",
         "2007-03-13T00:00:00.000000",
         "2007-03-14T00:00:00.000000",
         "2007-03-15T00:00:00.000000",
         "2007-03-16T00:00:00.000000",
         "2007-03-17T00:00:00.000000",
         "2007-03-18T00:00:00.000000",
         "2007-03-19T00:00:00.000000",
         "2007-03-20T00:00:00.000000",
         "2007-03-21T00:00:00.000000",
         "2007-03-22T00:00:00.000000",
         "2007-03-23T00:00:00.000000",
         "2007-03-24T00:00:00.000000",
         "2007-03-25T00:00:00.000000",
         "2007-03-26T00:00:00.000000",
         "2007-03-27T00:00:00.000000",
         "2007-03-28T00:00:00.000000",
         "2007-03-29T00:00:00.000000",
         "2007-03-30T00:00:00.000000",
         "2007-03-31T00:00:00.000000",
         "2007-04-01T00:00:00.000000",
         "2007-04-02T00:00:00.000000",
         "2007-04-03T00:00:00.000000",
         "2007-04-04T00:00:00.000000",
         "2007-04-05T00:00:00.000000",
         "2007-04-06T00:00:00.000000",
         "2007-04-07T00:00:00.000000",
         "2007-04-08T00:00:00.000000",
         "2007-04-09T00:00:00.000000",
         "2007-04-10T00:00:00.000000",
         "2007-04-11T00:00:00.000000",
         "2007-04-12T00:00:00.000000",
         "2007-04-13T00:00:00.000000",
         "2007-04-14T00:00:00.000000",
         "2007-04-15T00:00:00.000000",
         "2007-04-16T00:00:00.000000",
         "2007-04-17T00:00:00.000000",
         "2007-04-18T00:00:00.000000",
         "2007-04-19T00:00:00.000000",
         "2007-04-20T00:00:00.000000",
         "2007-04-21T00:00:00.000000",
         "2007-04-22T00:00:00.000000",
         "2007-04-23T00:00:00.000000",
         "2007-04-24T00:00:00.000000",
         "2007-04-25T00:00:00.000000",
         "2007-04-26T00:00:00.000000",
         "2007-04-27T00:00:00.000000",
         "2007-04-28T00:00:00.000000",
         "2007-04-29T00:00:00.000000",
         "2007-04-30T00:00:00.000000",
         "2007-05-01T00:00:00.000000",
         "2007-05-02T00:00:00.000000",
         "2007-05-03T00:00:00.000000",
         "2007-05-04T00:00:00.000000",
         "2007-05-05T00:00:00.000000",
         "2007-05-06T00:00:00.000000",
         "2007-05-07T00:00:00.000000",
         "2007-05-08T00:00:00.000000",
         "2007-05-09T00:00:00.000000",
         "2007-05-10T00:00:00.000000",
         "2007-05-11T00:00:00.000000",
         "2007-05-12T00:00:00.000000",
         "2007-05-13T00:00:00.000000",
         "2007-05-14T00:00:00.000000",
         "2007-05-15T00:00:00.000000",
         "2007-05-16T00:00:00.000000",
         "2007-05-17T00:00:00.000000",
         "2007-05-18T00:00:00.000000",
         "2007-05-19T00:00:00.000000",
         "2007-05-20T00:00:00.000000",
         "2007-05-21T00:00:00.000000",
         "2007-05-22T00:00:00.000000",
         "2007-05-23T00:00:00.000000",
         "2007-05-24T00:00:00.000000",
         "2007-05-25T00:00:00.000000",
         "2007-05-26T00:00:00.000000",
         "2007-05-27T00:00:00.000000",
         "2007-05-28T00:00:00.000000",
         "2007-05-29T00:00:00.000000",
         "2007-05-30T00:00:00.000000"
        ]
       },
       "y": {
        "type": "float64",
        "values": [
         99.12029457819243,
         99.61006913858924,
         100.57592041295491,
         100.48633898097339,
         100.09575682502181,
         101.31678328326412,
         101.61805546028225,
         101.73032253298585,
         101.1305134132305,
         102.19670532228554,
         102.06492214767401,
         101.76538453271797,
         102.68879833343915,
         102.82639820941795,
         102.59427701329435,
         102.46253732457451,
         103.05699334942773,
         103.15717773319564,
         103.60069507629498,
         104.22148326070584,
         103.88775225658713,
         104.5016978095988,
         103.76972086626444,
         103.15183055272821,
         104.05076375172101,
         104.42970023777464,
         103.29368528258063,
         103.78202316809639,
         104.4264463648529,
         103.64368252705913,
         104.40500618468933,
         104.286340083526,
         104.44095881870241,
         104.33637637823469,
         104.39280455512768,
         103.72835742736967,
         103.23382635284578,
         103.44993970694787,
         103.34795651272502,
         104.35575240760446,
         104.72746571456754,
         103.38306157919739,
         103.64109135790895,
         104.31719437364654,
         104.77203459784118,
         105.09800410178813,
         105.7826667003887,
         105.31425923790638,
         105.50058735957238,
         105.70815164603445,
         105.30414405959505,
         105.86333046740992,
         105.57803032293918,
         105.33551302312362,
         105.99895828590942,
         105.93525413490158,
         104.37469235264871,
         104.08097631497897,
         103.82497335921708,
         103.59267836442395,
         103.42588922076996,
         102.89412197276025,
         102.63425702093555,
         103.43968356498473,
         104.42522432569797,
         104.2226491315554,
         104.24850246644216,
         104.6108402023902,
         104.37471006360671,
         104.87188247240753,
         104.64015069478258,
         104.18662990649008,
         104.15084515399265,
         105.03465781292557,
         103.80761321350343,
         104.27607938771202,
         104.6036141835438,
         104.4416879785711,
         105.37358968175948,
         105.00487789352445,
         103.65845921309713,
         104.69198411204654,
         104.1337735929987,
         105.04037034764279,
         106.06725345019433,
         106.11474499082746,
         104.93900941517111,
         104.54802784859844,
         104.16130873107556,
         104.73472671507717,
         103.95390483418635,
         104.59496410800313,
         106.16499260294891,
         106.42338855478047,
         105.34888752538791,
         105.28961545027154,
         105.1379360220513,
         105.41842733138516,
         106.35200195804347,
         106.65754203466544,
         105.62356040068934,
         104.95196860892162,
         104.47348817103114,
         104.88969206262844,
         105.13436828246725,
         105.58288689925472,
         105.1509839414557,
         105.05247392170975,
         105.03671885167101,
         105.4986825293018,
         104.84155941168957,
         104.81291677638043,
         103.40738800331994,
         102.47186640902949,
         102.55558080643621,
         103.27726396833698,
         103.05392772607959,
         103.36314241645897,
         104.06968629557751,
         103.55595573105701,
         103.4587395104751,
         102.42170247829416,
         102.62070584443389,
         102.12149715191208,
         103.16646822932832,
         102.65584568864062,
         103.34893673990875,
         102.96988204568488,
         103.28253337822889,
         103.34982688301646,
         103.25945232600507,
         103.47944788758714,
         103.54175017218815,
         103.2034370340793,
         102.24535626846546,
         102.88519196545144,
         104.2081309514615,
         104.0635776143514,
         102.82960511596546,
         103.59706020562001,
         103.49028427709167,
         103.24911397970769,
         102.08067093664724,
         101.26173538754121,
         102.69011868800868,
         104.09255000710044,
         104.73022969012717,
         104.46735741522932,
         103.72440299144112,
         103.35773966282235
        ]
       }
      }
     },
     "cafe57e4217e4c9b868670c7f8242c7f": {
      "model_module": "bqplot",
      "model_module_version": "*",
      "model_name": "HandDrawModel",
      "state": {
       "lines": "IPY_MODEL_b2affcbb21df49a5b5bc8447bd7eb268"
      }
     },
     "cd373bd968984f5d8223bc9b865106fb": {
      "model_module": "bqplot",
      "model_module_version": "*",
      "model_name": "MultiSelectorModel",
      "state": {
       "_selected": {},
       "marks": [
        "IPY_MODEL_fe314817bcb246a581415f95e7270739"
       ],
       "names": [
        "int1",
        "int2",
        "int3"
       ],
       "scale": "IPY_MODEL_5adc58fb130e44a3ae1db04fbcd30479"
      }
     },
     "cd4f1a77a740456e84b8862012d60a8d": {
      "model_module": "bqplot",
      "model_module_version": "*",
      "model_name": "FigureModel",
      "state": {
       "_dom_classes": [],
       "axes": [
        "IPY_MODEL_fe93746bdeec4575b47bdc7c63da5841",
        "IPY_MODEL_e9f0e0b4816e408a936608ac43ceef0b"
       ],
       "interaction": "IPY_MODEL_0d5d2fb62b42407485e8a322ac71fd48",
       "layout": "IPY_MODEL_f618abf63f9b4d318a6bf4bb2a7db21a",
       "marks": [
        "IPY_MODEL_7bdf71d41cf2471e9cb8e51b14112c30"
       ],
       "scale_x": "IPY_MODEL_193491a0a4ad4e2cb5451904dc2ac130",
       "scale_y": "IPY_MODEL_4b010f7abcb4412c9bcfff9bcf57f720",
       "title": "Brush Selector with Dates Example"
      }
     },
     "cf3ee64d457c498aba6d62be0bc8640b": {
      "model_module": "bqplot",
      "model_module_version": "*",
      "model_name": "AxisModel",
      "state": {
       "label": "Freq",
       "orientation": "vertical",
       "scale": "IPY_MODEL_6f71e41f410f46e3bbd5d16164944f54",
       "side": "left",
       "tick_values": {
        "type": null,
        "values": null
       }
      }
     },
     "d16d6ce5cabf496ba6e1a806a270e8e9": {
      "model_module": "bqplot",
      "model_module_version": "*",
      "model_name": "LinearScaleModel",
      "state": {
       "allow_padding": false,
       "max": 1,
       "min": 0,
       "stabilized": false
      }
     },
     "d20a81e27aa0423a81a9f996160200b4": {
      "model_module": "jupyter-js-widgets",
      "model_module_version": "*",
      "model_name": "VBoxModel",
      "state": {
       "children": [
        "IPY_MODEL_7ead58f65e534e7281b8c92830073a75",
        "IPY_MODEL_d8de9f57d7d244c8bef45674a89fd5de"
       ],
       "layout": "IPY_MODEL_10c2998dc3d14c62bbc3f8493211259b"
      }
     },
     "d29484693c0e4a8faa3ff20d5077b028": {
      "model_module": "jupyter-js-widgets",
      "model_module_version": "*",
      "model_name": "LayoutModel",
      "state": {
       "align_self": "stretch",
       "flex": "1",
       "min_width": "400px"
      }
     },
     "d44fbc72d8854f869aa8299f6fdfeb5a": {
      "model_module": "jupyter-js-widgets",
      "model_module_version": "*",
      "model_name": "LayoutModel",
      "state": {}
     },
     "d485239bced640668d33068f96d4f018": {
      "model_module": "bqplot",
      "model_module_version": "*",
      "model_name": "LinesModel",
      "state": {
       "color": {
        "type": null,
        "values": null
       },
       "colors": [
        "blue"
       ],
       "display_legend": false,
       "fill_colors": [],
       "labels": [
        "C1"
       ],
       "scales": {
        "x": "IPY_MODEL_012bdc0b91704075a701ab11551c5d64",
        "y": "IPY_MODEL_6efc21040a58441f8a6fbbf7f9839c74"
       },
       "x": {
        "type": "date",
        "values": [
         "2007-02-20T00:00:00.000000",
         "2007-02-21T00:00:00.000000",
         "2007-02-22T00:00:00.000000",
         "2007-02-23T00:00:00.000000",
         "2007-02-24T00:00:00.000000",
         "2007-02-25T00:00:00.000000",
         "2007-02-26T00:00:00.000000",
         "2007-02-27T00:00:00.000000",
         "2007-02-28T00:00:00.000000",
         "2007-03-01T00:00:00.000000",
         "2007-03-02T00:00:00.000000",
         "2007-03-03T00:00:00.000000",
         "2007-03-04T00:00:00.000000",
         "2007-03-05T00:00:00.000000",
         "2007-03-06T00:00:00.000000",
         "2007-03-07T00:00:00.000000",
         "2007-03-08T00:00:00.000000",
         "2007-03-09T00:00:00.000000",
         "2007-03-10T00:00:00.000000",
         "2007-03-11T00:00:00.000000",
         "2007-03-12T00:00:00.000000",
         "2007-03-13T00:00:00.000000",
         "2007-03-14T00:00:00.000000",
         "2007-03-15T00:00:00.000000",
         "2007-03-16T00:00:00.000000",
         "2007-03-17T00:00:00.000000",
         "2007-03-18T00:00:00.000000",
         "2007-03-19T00:00:00.000000",
         "2007-03-20T00:00:00.000000",
         "2007-03-21T00:00:00.000000",
         "2007-03-22T00:00:00.000000",
         "2007-03-23T00:00:00.000000",
         "2007-03-24T00:00:00.000000",
         "2007-03-25T00:00:00.000000",
         "2007-03-26T00:00:00.000000",
         "2007-03-27T00:00:00.000000",
         "2007-03-28T00:00:00.000000",
         "2007-03-29T00:00:00.000000",
         "2007-03-30T00:00:00.000000",
         "2007-03-31T00:00:00.000000",
         "2007-04-01T00:00:00.000000",
         "2007-04-02T00:00:00.000000",
         "2007-04-03T00:00:00.000000",
         "2007-04-04T00:00:00.000000",
         "2007-04-05T00:00:00.000000",
         "2007-04-06T00:00:00.000000",
         "2007-04-07T00:00:00.000000",
         "2007-04-08T00:00:00.000000",
         "2007-04-09T00:00:00.000000",
         "2007-04-10T00:00:00.000000",
         "2007-04-11T00:00:00.000000",
         "2007-04-12T00:00:00.000000",
         "2007-04-13T00:00:00.000000",
         "2007-04-14T00:00:00.000000",
         "2007-04-15T00:00:00.000000",
         "2007-04-16T00:00:00.000000",
         "2007-04-17T00:00:00.000000",
         "2007-04-18T00:00:00.000000",
         "2007-04-19T00:00:00.000000",
         "2007-04-20T00:00:00.000000",
         "2007-04-21T00:00:00.000000",
         "2007-04-22T00:00:00.000000",
         "2007-04-23T00:00:00.000000",
         "2007-04-24T00:00:00.000000",
         "2007-04-25T00:00:00.000000",
         "2007-04-26T00:00:00.000000",
         "2007-04-27T00:00:00.000000",
         "2007-04-28T00:00:00.000000",
         "2007-04-29T00:00:00.000000",
         "2007-04-30T00:00:00.000000",
         "2007-05-01T00:00:00.000000",
         "2007-05-02T00:00:00.000000",
         "2007-05-03T00:00:00.000000",
         "2007-05-04T00:00:00.000000",
         "2007-05-05T00:00:00.000000",
         "2007-05-06T00:00:00.000000",
         "2007-05-07T00:00:00.000000",
         "2007-05-08T00:00:00.000000",
         "2007-05-09T00:00:00.000000",
         "2007-05-10T00:00:00.000000",
         "2007-05-11T00:00:00.000000",
         "2007-05-12T00:00:00.000000",
         "2007-05-13T00:00:00.000000",
         "2007-05-14T00:00:00.000000",
         "2007-05-15T00:00:00.000000",
         "2007-05-16T00:00:00.000000",
         "2007-05-17T00:00:00.000000",
         "2007-05-18T00:00:00.000000",
         "2007-05-19T00:00:00.000000",
         "2007-05-20T00:00:00.000000",
         "2007-05-21T00:00:00.000000",
         "2007-05-22T00:00:00.000000",
         "2007-05-23T00:00:00.000000",
         "2007-05-24T00:00:00.000000",
         "2007-05-25T00:00:00.000000",
         "2007-05-26T00:00:00.000000",
         "2007-05-27T00:00:00.000000",
         "2007-05-28T00:00:00.000000",
         "2007-05-29T00:00:00.000000",
         "2007-05-30T00:00:00.000000"
        ]
       },
       "y": {
        "type": "float64",
        "values": [
         107.30414405959505,
         107.86333046740992,
         107.57803032293918,
         107.33551302312362,
         107.99895828590942,
         107.93525413490158,
         106.37469235264871,
         106.08097631497897,
         105.82497335921708,
         105.59267836442395,
         105.42588922076996,
         104.89412197276025,
         104.63425702093555,
         105.43968356498473,
         106.42522432569797,
         106.2226491315554,
         106.24850246644216,
         106.6108402023902,
         106.37471006360671,
         106.87188247240753,
         106.64015069478258,
         106.18662990649008,
         106.15084515399265,
         107.03465781292557,
         105.80761321350343,
         106.27607938771202,
         106.6036141835438,
         106.4416879785711,
         107.37358968175948,
         107.00487789352445,
         105.65845921309713,
         106.69198411204654,
         106.1337735929987,
         107.04037034764279,
         108.06725345019433,
         108.11474499082746,
         106.93900941517111,
         106.54802784859844,
         106.16130873107556,
         106.73472671507717,
         105.95390483418635,
         106.59496410800313,
         108.16499260294891,
         108.42338855478047,
         107.34888752538791,
         107.28961545027154,
         107.1379360220513,
         107.41842733138516,
         108.35200195804347,
         108.65754203466544,
         107.62356040068934,
         106.95196860892162,
         106.47348817103114,
         106.88969206262844,
         107.13436828246725,
         107.58288689925472,
         107.1509839414557,
         107.05247392170975,
         107.03671885167101,
         107.4986825293018,
         106.84155941168957,
         106.81291677638043,
         105.40738800331994,
         104.47186640902949,
         104.55558080643621,
         105.27726396833698,
         105.05392772607959,
         105.36314241645897,
         106.06968629557751,
         105.55595573105701,
         105.4587395104751,
         104.42170247829416,
         104.62070584443389,
         104.12149715191208,
         105.16646822932832,
         104.65584568864062,
         105.34893673990875,
         104.96988204568488,
         105.28253337822889,
         105.34982688301646,
         105.25945232600507,
         105.47944788758714,
         105.54175017218815,
         105.2034370340793,
         104.24535626846546,
         104.88519196545144,
         106.2081309514615,
         106.0635776143514,
         104.82960511596546,
         105.59706020562001,
         105.49028427709167,
         105.24911397970769,
         104.08067093664724,
         103.26173538754121,
         104.69011868800868,
         106.09255000710044,
         106.73022969012717,
         106.46735741522932,
         105.72440299144112,
         105.35773966282235
        ]
       }
      }
     },
     "d5d335133cb14bfa8349d99c96b28952": {
      "model_module": "bqplot",
      "model_module_version": "*",
      "model_name": "BarsModel",
      "state": {
       "color": {
        "type": null,
        "values": null
       },
       "display_legend": false,
       "scales": {
        "x": "IPY_MODEL_c5c231f528ce4ba7ba543bd115597f27",
        "y": "IPY_MODEL_5aed7aa05252416ea295ec372340f4b8"
       },
       "x": {
        "type": "float",
        "values": [
         0,
         1,
         2,
         3,
         4,
         5,
         6,
         7,
         8,
         9,
         10,
         11,
         12,
         13,
         14,
         15,
         16,
         17,
         18,
         19
        ]
       },
       "y": {
        "type": "float64",
        "values": [
         0,
         0.5,
         1,
         1.5,
         2,
         2.5,
         3,
         3.5,
         4,
         4.5,
         5,
         5.5,
         6,
         6.5,
         7,
         7.5,
         8,
         8.5,
         9,
         9.5
        ]
       }
      }
     },
     "d64d3490a28842ca81180f693727d22d": {
      "model_module": "bqplot",
      "model_module_version": "*",
      "model_name": "FastIntervalSelectorModel",
      "state": {
       "marks": [
        "IPY_MODEL_6319446546f04bd8883b14458d385b0b",
        "IPY_MODEL_b2affcbb21df49a5b5bc8447bd7eb268"
       ],
       "scale": "IPY_MODEL_a08c2cbf453f43a69e9ce97c9c47ae8f",
       "selected": {
        "type": null,
        "values": null
       }
      }
     },
     "d733ebb18c18428c8b3f1dcb9fb98a5d": {
      "model_module": "bqplot",
      "model_module_version": "*",
      "model_name": "LinearScaleModel",
      "state": {
       "stabilized": false
      }
     },
     "d8de9f57d7d244c8bef45674a89fd5de": {
      "model_module": "bqplot",
      "model_module_version": "*",
      "model_name": "FigureModel",
      "state": {
       "_dom_classes": [],
       "axes": [
        "IPY_MODEL_286d2a058e5f4111a4f93726694a7fb2",
        "IPY_MODEL_a68341bf5df54e19bb2fb5147b5d8951"
       ],
       "interaction": "IPY_MODEL_c22abd66178d4bf896505aa91b69e602",
       "layout": "IPY_MODEL_23ba434ceb64465daf41e3da91d6ce03",
       "marks": [
        "IPY_MODEL_caf0206a091d4bbabf0bd558e96cb559"
       ],
       "scale_x": "IPY_MODEL_1f73298de64e40ebbf32a6bb30ec7055",
       "scale_y": "IPY_MODEL_de52a6f5e03a415da4e89f377739fcf0",
       "title": "Fast Interval Selector Selected Indices Example"
      }
     },
     "dae4b95782434549a020b9bad21f6902": {
      "model_module": "jupyter-js-widgets",
      "model_module_version": "*",
      "model_name": "VBoxModel",
      "state": {
       "children": [
        "IPY_MODEL_889b5e5741714d259090cf1462f34681",
        "IPY_MODEL_aa6b058843b74e40a4a7aa96111828b7"
       ],
       "layout": "IPY_MODEL_7a328807bd2b4edd8e9b87df777e679f"
      }
     },
     "db170172a33e4d258fe3f0f771def260": {
      "model_module": "jupyter-js-widgets",
      "model_module_version": "*",
      "model_name": "LayoutModel",
      "state": {
       "align_self": "stretch",
       "flex": "1",
       "min_width": "400px"
      }
     },
     "db2871fa3ce8446191ccf2e7738bf235": {
      "model_module": "jupyter-js-widgets",
      "model_module_version": "*",
      "model_name": "LayoutModel",
      "state": {}
     },
     "dcf13fc1c34048418cf341cc0c97c7bd": {
      "model_module": "bqplot",
      "model_module_version": "*",
      "model_name": "LinearScaleModel",
      "state": {
       "allow_padding": false,
       "max": 1,
       "min": 0,
       "stabilized": false
      }
     },
     "dda70b503e4749989975ab1a00b98da9": {
      "model_module": "bqplot",
      "model_module_version": "*",
      "model_name": "AxisModel",
      "state": {
       "label": "Date",
       "scale": "IPY_MODEL_7140a81c1581473999be67fb98a08b93",
       "side": "bottom",
       "tick_values": {
        "type": null,
        "values": null
       }
      }
     },
     "de52a6f5e03a415da4e89f377739fcf0": {
      "model_module": "bqplot",
      "model_module_version": "*",
      "model_name": "LinearScaleModel",
      "state": {
       "allow_padding": false,
       "max": 1,
       "min": 0,
       "stabilized": false
      }
     },
     "de8805cb5e1f43f29258ca70552b18ba": {
      "model_module": "bqplot",
      "model_module_version": "*",
      "model_name": "LinearScaleModel",
      "state": {
       "allow_padding": false,
       "max": 1,
       "min": 0,
       "stabilized": false
      }
     },
     "decc65b0120841c5bd9c4509244ac2be": {
      "model_module": "bqplot",
      "model_module_version": "*",
      "model_name": "HandDrawModel",
      "state": {
       "lines": "IPY_MODEL_c1aefe56af634feeb9474494406037ee"
      }
     },
     "dfbd984eb36e49128855ac6011c1e9d1": {
      "model_module": "bqplot",
      "model_module_version": "*",
      "model_name": "LinesModel",
      "state": {
       "color": {
        "type": null,
        "values": null
       },
       "colors": [
        "green"
       ],
       "fill_colors": [],
       "labels": [
        "Security 2 squared"
       ],
       "scales": {
        "x": "IPY_MODEL_2dfa3061fa7d4e648b95bb61990ba094",
        "y": "IPY_MODEL_07bf55a9127349d4984083de4c751f7c"
       },
       "x": {
        "type": "float64",
        "values": [
         0,
         0.06711409395973154,
         0.1342281879194631,
         0.20134228187919462,
         0.2684563758389262,
         0.33557046979865773,
         0.40268456375838924,
         0.4697986577181208,
         0.5369127516778524,
         0.6040268456375839,
         0.6711409395973155,
         0.738255033557047,
         0.8053691275167785,
         0.87248322147651,
         0.9395973154362416,
         1.0067114093959733,
         1.0738255033557047,
         1.1409395973154361,
         1.2080536912751678,
         1.2751677852348993,
         1.342281879194631,
         1.4093959731543624,
         1.476510067114094,
         1.5436241610738255,
         1.610738255033557,
         1.6778523489932886,
         1.74496644295302,
         1.8120805369127517,
         1.8791946308724832,
         1.9463087248322148,
         2.0134228187919465,
         2.0805369127516777,
         2.1476510067114094,
         2.214765100671141,
         2.2818791946308723,
         2.348993288590604,
         2.4161073825503356,
         2.4832214765100673,
         2.5503355704697985,
         2.61744966442953,
         2.684563758389262,
         2.751677852348993,
         2.8187919463087248,
         2.8859060402684564,
         2.953020134228188,
         3.0201342281879193,
         3.087248322147651,
         3.1543624161073827,
         3.221476510067114,
         3.2885906040268456,
         3.3557046979865772,
         3.422818791946309,
         3.48993288590604,
         3.557046979865772,
         3.6241610738255035,
         3.691275167785235,
         3.7583892617449663,
         3.825503355704698,
         3.8926174496644297,
         3.959731543624161,
         4.026845637583893,
         4.093959731543624,
         4.1610738255033555,
         4.228187919463087,
         4.295302013422819,
         4.3624161073825505,
         4.429530201342282,
         4.496644295302014,
         4.563758389261745,
         4.630872483221476,
         4.697986577181208,
         4.76510067114094,
         4.832214765100671,
         4.899328859060403,
         4.966442953020135,
         5.033557046979865,
         5.100671140939597,
         5.167785234899329,
         5.23489932885906,
         5.302013422818792,
         5.369127516778524,
         5.436241610738255,
         5.503355704697986,
         5.570469798657718,
         5.6375838926174495,
         5.704697986577181,
         5.771812080536913,
         5.8389261744966445,
         5.906040268456376,
         5.973154362416107,
         6.040268456375839,
         6.10738255033557,
         6.174496644295302,
         6.241610738255034,
         6.308724832214765,
         6.375838926174497,
         6.442953020134228,
         6.510067114093959,
         6.577181208053691,
         6.644295302013423,
         6.7114093959731544,
         6.778523489932886,
         6.845637583892618,
         6.9127516778523495,
         6.97986577181208,
         7.046979865771812,
         7.114093959731544,
         7.181208053691275,
         7.248322147651007,
         7.315436241610739,
         7.38255033557047,
         7.449664429530201,
         7.516778523489933,
         7.583892617449664,
         7.651006711409396,
         7.718120805369128,
         7.785234899328859,
         7.852348993288591,
         7.919463087248322,
         7.9865771812080535,
         8.053691275167786,
         8.120805369127517,
         8.187919463087248,
         8.25503355704698,
         8.322147651006711,
         8.389261744966444,
         8.456375838926174,
         8.523489932885907,
         8.590604026845638,
         8.657718120805368,
         8.724832214765101,
         8.791946308724832,
         8.859060402684564,
         8.926174496644295,
         8.993288590604028,
         9.060402684563758,
         9.12751677852349,
         9.194630872483222,
         9.261744966442953,
         9.328859060402685,
         9.395973154362416,
         9.463087248322148,
         9.53020134228188,
         9.59731543624161,
         9.664429530201343,
         9.731543624161073,
         9.798657718120806,
         9.865771812080537,
         9.93288590604027,
         10
        ]
       },
       "y": {
        "type": "float64",
        "values": [
         75.01271059791186,
         75.4548542122547,
         76.03716180089478,
         76.42308142930919,
         75.38705046106796,
         76.89026128481254,
         77.1814381304593,
         76.99795470637628,
         76.53462099284695,
         77.94725146886222,
         77.46130348258326,
         77.21117474788487,
         78.30979227263683,
         78.80973636595186,
         78.61326061367475,
         78.32661955980336,
         78.50190923975873,
         77.81576117512896,
         78.44825792353333,
         78.39985529553984,
         77.99679202466496,
         78.4461794226381,
         77.01690907229893,
         76.82541644306397,
         77.8679759285334,
         78.67529417495204,
         77.43592704471104,
         77.88567747979715,
         78.74143676971875,
         77.77515676668364,
         78.67830897326073,
         78.73824943208656,
         79.15676592703798,
         78.99514293009092,
         80.09889162647596,
         78.96158200935648,
         78.59044946382721,
         78.45729846996261,
         78.0669126258469,
         79.27814095371112,
         79.74497013024624,
         78.23495330414622,
         78.17640984034836,
         79.27443517574419,
         79.72535872245308,
         79.9121264619334,
         80.17733701559294,
         79.57762309671442,
         78.9494018844496,
         79.51600205542647,
         79.66558874994853,
         80.34962680347188,
         80.36946281992942,
         80.04835625409733,
         81.19322932002936,
         81.28023073804981,
         79.38162091542914,
         79.00922006165618,
         78.5356791276665,
         77.9268249411328,
         77.36504622858843,
         76.77231729784859,
         76.61259365238274,
         77.37950809264844,
         78.15190948555507,
         78.0935583712532,
         77.77539147800047,
         77.81402980430276,
         77.22177633695705,
         77.94504032980731,
         77.72999602789392,
         76.95340384993749,
         76.45372140445706,
         77.2963568577744,
         75.83567333277257,
         75.44487234504305,
         76.11815998786076,
         75.86928918791925,
         76.78059024245937,
         76.46598047756342,
         75.31669550571428,
         77.1197466740284,
         76.61870625405228,
         77.82511704553487,
         79.96079233076495,
         80.21860641972519,
         78.72724263004443,
         78.7840695993684,
         77.92984112294917,
         79.20237853131981,
         78.4672469113809,
         78.98917662071047,
         80.7482565792668,
         80.9837699234941,
         80.1301692771306,
         79.52045700694573,
         79.02703151922483,
         78.94287690882715,
         79.35764548711107,
         79.46563981632231,
         78.2148818845088,
         77.5588959315802,
         78.07695885625593,
         78.63571885445528,
         78.76129069644949,
         79.3777022041096,
         78.88181245458978,
         78.51663988203968,
         78.33171131560994,
         78.52592810307465,
         77.20455815672885,
         77.14291415561686,
         75.22068227241608,
         74.6072599863841,
         74.17755102086767,
         74.8958143342592,
         74.72187173915162,
         75.32760828031712,
         76.60150745242441,
         77.37454356644571,
         77.45412761851625,
         76.00608917053268,
         76.66884685513594,
         75.69294019842346,
         77.05299174670597,
         75.99222816284325,
         77.06017236712569,
         76.63759020208029,
         77.09301325762908,
         77.23334370994301,
         77.13068593437367,
         77.20983712950043,
         77.11819509153119,
         76.69921732121273,
         76.37890108878184,
         76.92427671900512,
         78.37958151764529,
         78.2952653404753,
         76.68443967128009,
         77.75628982138889,
         78.35474987996623,
         77.17811139725073,
         75.38705883699748,
         73.83847621305523,
         76.31528354345785,
         77.38480606596272,
         77.82323106611352,
         77.33273284996086,
         76.32874442076843,
         75.57484756053957
        ]
       }
      }
     },
     "e19e0fb753ca49399dbd343cd35f390a": {
      "model_module": "bqplot",
      "model_module_version": "*",
      "model_name": "LinearScaleModel",
      "state": {
       "allow_padding": false,
       "max": 1,
       "min": 0,
       "stabilized": false
      }
     },
     "e1fd1cb2f05d4e149c6fa76021db340d": {
      "model_module": "bqplot",
      "model_module_version": "*",
      "model_name": "DateScaleModel",
      "state": {}
     },
     "e4ea18c094f740ebafc83142f4f6c023": {
      "model_module": "bqplot",
      "model_module_version": "*",
      "model_name": "LinearScaleModel",
      "state": {
       "allow_padding": false,
       "max": 1,
       "min": 0,
       "stabilized": false
      }
     },
     "e63962fd375e49c694a13f3080a05583": {
      "model_module": "bqplot",
      "model_module_version": "*",
      "model_name": "BrushIntervalSelectorModel",
      "state": {
       "marks": [
        "IPY_MODEL_2b72838d19444d1eb890c12c7d432c6d"
       ],
       "scale": "IPY_MODEL_c12805faaf9543948e7cbd3913c1df2c",
       "selected": {
        "type": "object",
        "values": []
       }
      }
     },
     "e695ba90c9304b798d3f1449e67302ae": {
      "model_module": "jupyter-js-widgets",
      "model_module_version": "*",
      "model_name": "LayoutModel",
      "state": {
       "align_self": "stretch",
       "flex": "1",
       "min_width": "400px"
      }
     },
     "e7dd874a9e0b4475bd37fcbc7f472adb": {
      "model_module": "bqplot",
      "model_module_version": "*",
      "model_name": "AxisModel",
      "state": {
       "label": "Security 2",
       "orientation": "vertical",
       "scale": "IPY_MODEL_d733ebb18c18428c8b3f1dcb9fb98a5d",
       "side": "left",
       "tick_format": "0.0f",
       "tick_values": {
        "type": null,
        "values": null
       }
      }
     },
     "e830f28109494d44b1cdb2a858eeb692": {
      "model_module": "bqplot",
      "model_module_version": "*",
      "model_name": "HandDrawModel",
      "state": {
       "lines": "IPY_MODEL_6319446546f04bd8883b14458d385b0b"
      }
     },
     "e9a086d0aed646de8f15b487f9a36922": {
      "model_module": "jupyter-js-widgets",
      "model_module_version": "*",
      "model_name": "LayoutModel",
      "state": {
       "align_self": "stretch",
       "flex": "1",
       "min_width": "400px"
      }
     },
     "e9f0e0b4816e408a936608ac43ceef0b": {
      "model_module": "bqplot",
      "model_module_version": "*",
      "model_name": "AxisModel",
      "state": {
       "label": "Security 2",
       "orientation": "vertical",
       "scale": "IPY_MODEL_c738521da3fd4428ac2f8998eea74624",
       "side": "left",
       "tick_format": "0.0f",
       "tick_values": {
        "type": null,
        "values": null
       }
      }
     },
     "eb92b1ca5ee747549aecbdf282797220": {
      "model_module": "bqplot",
      "model_module_version": "*",
      "model_name": "LinearScaleModel",
      "state": {
       "allow_padding": false,
       "max": 1,
       "min": 0,
       "stabilized": false
      }
     },
     "ec3db501c643489b964736a971b9a930": {
      "model_module": "jupyter-js-widgets",
      "model_module_version": "*",
      "model_name": "VBoxModel",
      "state": {
       "children": [
        "IPY_MODEL_ee6f755c487b420d9676eb52a2f5c260",
        "IPY_MODEL_5a84e4044d5940bf8d5825a84de03892"
       ],
       "layout": "IPY_MODEL_b8c3bac0503e4ef6a4f0edeb24aa991f"
      }
     },
     "ee6f755c487b420d9676eb52a2f5c260": {
      "model_module": "jupyter-js-widgets",
      "model_module_version": "*",
      "model_name": "LabelModel",
      "state": {
       "layout": "IPY_MODEL_3da0e39a25f24b60b47734980399c366",
       "value": "{}"
      }
     },
     "efb4ff507520408f9b721199ccb091fe": {
      "model_module": "bqplot",
      "model_module_version": "*",
      "model_name": "DateScaleModel",
      "state": {
       "min": "2006-06-01T00:00:00.000000"
      }
     },
     "f1637e1ef54f4edfb2b3a546e02dce81": {
      "model_module": "jupyter-js-widgets",
      "model_module_version": "*",
      "model_name": "LayoutModel",
      "state": {}
     },
     "f1a86300f215466585031e5d6d29b471": {
      "model_module": "bqplot",
      "model_module_version": "*",
      "model_name": "LinesModel",
      "state": {
       "color": {
        "type": null,
        "values": null
       },
       "display_legend": false,
       "fill_colors": [],
       "labels": [
        "C1"
       ],
       "scales": {
        "x": "IPY_MODEL_c5c231f528ce4ba7ba543bd115597f27",
        "y": "IPY_MODEL_5aed7aa05252416ea295ec372340f4b8"
       },
       "x": {
        "type": "float",
        "values": [
         0,
         1,
         2,
         3,
         4,
         5,
         6,
         7,
         8,
         9,
         10,
         11,
         12,
         13,
         14,
         15,
         16,
         17,
         18,
         19
        ]
       },
       "y": {
        "type": "float",
        "values": [
         0,
         1,
         2,
         3,
         4,
         5,
         6,
         7,
         8,
         9,
         10,
         11,
         12,
         13,
         14,
         15,
         16,
         17,
         18,
         19
        ]
       }
      }
     },
     "f3d11e9bae24448db82a102c5982948b": {
      "model_module": "bqplot",
      "model_module_version": "*",
      "model_name": "LinearScaleModel",
      "state": {
       "allow_padding": false,
       "max": 1,
       "min": 0,
       "stabilized": false
      }
     },
     "f618abf63f9b4d318a6bf4bb2a7db21a": {
      "model_module": "jupyter-js-widgets",
      "model_module_version": "*",
      "model_name": "LayoutModel",
      "state": {
       "align_self": "stretch",
       "flex": "1",
       "min_width": "400px"
      }
     },
     "f63f903ea0a7495983c26bd65b122449": {
      "model_module": "bqplot",
      "model_module_version": "*",
      "model_name": "FigureModel",
      "state": {
       "_dom_classes": [],
       "axes": [
        "IPY_MODEL_8723434f981641ebb3000a80417f72f3",
        "IPY_MODEL_e7dd874a9e0b4475bd37fcbc7f472adb"
       ],
       "interaction": "IPY_MODEL_906fee1ad2024e218b98e12f8f8a09e1",
       "layout": "IPY_MODEL_e695ba90c9304b798d3f1449e67302ae",
       "marks": [
        "IPY_MODEL_9a9718be53f24f1a96957447079dd314"
       ],
       "scale_x": "IPY_MODEL_a861e1e57f98446aa1b5029141aba23e",
       "scale_y": "IPY_MODEL_e4ea18c094f740ebafc83142f4f6c023",
       "title": "Scatter Chart Brush Selector Example"
      }
     },
     "f8d9a6c0dd5b43fdaf5fc1902d53cd00": {
      "model_module": "bqplot",
      "model_module_version": "*",
      "model_name": "AxisModel",
      "state": {
       "label": "Returns",
       "scale": "IPY_MODEL_5adc58fb130e44a3ae1db04fbcd30479",
       "side": "bottom",
       "tick_values": {
        "type": null,
        "values": null
       }
      }
     },
     "fb0aa8df25754064859c2600e7973959": {
      "model_module": "jupyter-js-widgets",
      "model_module_version": "*",
      "model_name": "LayoutModel",
      "state": {}
     },
     "fb6e5ca164894328b10582a1339edb70": {
      "model_module": "bqplot",
      "model_module_version": "*",
      "model_name": "MultiSelectorModel",
      "state": {
       "scale": "IPY_MODEL_386aee50b33d4850ae5b609d3018bcaf"
      }
     },
     "fcfb0b9155294918b1fc0abb03e7b047": {
      "model_module": "jupyter-js-widgets",
      "model_module_version": "*",
      "model_name": "LabelModel",
      "state": {
       "layout": "IPY_MODEL_0c78695842d44e3eb6a77643dfd8574d",
       "value": "[]"
      }
     },
     "fe314817bcb246a581415f95e7270739": {
      "model_module": "bqplot",
      "model_module_version": "*",
      "model_name": "LinesModel",
      "state": {
       "color": {
        "type": null,
        "values": null
       },
       "display_legend": false,
       "fill_colors": [],
       "labels": [
        "C1"
       ],
       "scales": {
        "x": "IPY_MODEL_5adc58fb130e44a3ae1db04fbcd30479",
        "y": "IPY_MODEL_40d38af049be49da8b1c3218ab1298d4"
       },
       "x": {
        "type": "float",
        "values": [
         0,
         1,
         2,
         3,
         4,
         5,
         6,
         7,
         8,
         9,
         10,
         11,
         12,
         13,
         14,
         15,
         16,
         17,
         18,
         19,
         20,
         21,
         22,
         23,
         24,
         25,
         26,
         27,
         28,
         29,
         30,
         31,
         32,
         33,
         34,
         35,
         36,
         37,
         38,
         39,
         40,
         41,
         42,
         43,
         44,
         45,
         46,
         47,
         48,
         49,
         50,
         51,
         52,
         53,
         54,
         55,
         56,
         57,
         58,
         59,
         60,
         61,
         62,
         63,
         64,
         65,
         66,
         67,
         68,
         69,
         70,
         71,
         72,
         73,
         74,
         75,
         76,
         77,
         78,
         79,
         80,
         81,
         82,
         83,
         84,
         85,
         86,
         87,
         88,
         89,
         90,
         91,
         92,
         93,
         94,
         95,
         96,
         97,
         98,
         99
        ]
       },
       "y": {
        "type": "float64",
        "values": [
         0.14014923413324662,
         -0.44512317383729016,
         -1.6329433155904574,
         -1.788023304867938,
         1.267164597036188,
         0.44053630044198233,
         1.2029980795839659,
         0.12493081828750847,
         0.23762650145949313,
         -0.5617625930717188,
         0.7867575579336257,
         -0.8504065061306728,
         1.4069254709618866,
         -1.3131048017162046,
         1.0280559761956656,
         1.2900764827060343,
         -0.05169314931006617,
         -0.08521806282148316,
         1.2104239053851242,
         0.5338509195713503,
         -0.08450700608487151,
         -0.4494645816215918,
         0.2964055687920884,
         -0.13983967828120317,
         1.5545167490428329,
         2.1376676429441877,
         0.8558425043077458,
         -0.4776723475756248,
         -1.1948863115920867,
         0.28120749765800407,
         -0.5049314417409403,
         1.6087426975352888,
         -0.3439966405368512,
         -1.3493484529564803,
         1.085297077652815,
         -0.09600131238977314,
         0.5213421076490887,
         -2.123401816149606,
         -0.7579506179753108,
         -0.12704348408594068,
         -0.13355355653547418,
         -2.4216989128672823,
         0.7974838157545285,
         -0.9540081335878078,
         -0.3388285759520639,
         -0.2851905214304634,
         1.1890620418947424,
         -1.9316052729039155,
         0.0952270335834984,
         0.9820254682542571,
         -0.5056930313290433,
         -0.9829091503991018,
         2.0955988594501944,
         -0.252158582060013,
         1.9319949395271088,
         0.06725815123225275,
         2.6268185456811444,
         0.0425958498249039,
         -1.469818398354906,
         -1.4970858468688952,
         -1.7511089326187448,
         1.4500484804519416,
         -0.03530266742478761,
         -1.312577007317413,
         -0.6862755826099888,
         -0.5497424608653982,
         -1.01419055975685,
         1.1130901660148431,
         -0.1915911982038989,
         -1.3463806475327567,
         -0.9330257112693193,
         -0.6353603885859826,
         0.23438749565561198,
         0.7306455234703073,
         -0.6229953642009779,
         0.9151428808619603,
         0.32343146611240464,
         1.8418369631409686,
         0.5035785088006725,
         -1.8859467831226155,
         0.12055896650091287,
         1.1229062050635161,
         0.9096304741706147,
         -0.19984081804901607,
         -0.4231361097126802,
         0.7099154846005719,
         2.0765695308646475,
         -0.1275795431930712,
         -0.7943399673544236,
         -0.11229821421189477,
         1.0995391634796052,
         1.1102486629293256,
         0.8241324138325227,
         -1.1241343748558053,
         -0.951320809352724,
         -0.6771120016555567,
         0.23679272107762825,
         0.23526304627833053,
         0.015488822822775522,
         -0.3026239525608959
        ]
       }
      }
     },
     "fe93746bdeec4575b47bdc7c63da5841": {
      "model_module": "bqplot",
      "model_module_version": "*",
      "model_name": "AxisModel",
      "state": {
       "label": "Security 1",
       "scale": "IPY_MODEL_e1fd1cb2f05d4e149c6fa76021db340d",
       "side": "bottom",
       "tick_values": {
        "type": null,
        "values": null
       }
      }
     }
    },
    "version_major": 1,
    "version_minor": 0
   }
  }
 },
 "nbformat": 4,
 "nbformat_minor": 1
}
