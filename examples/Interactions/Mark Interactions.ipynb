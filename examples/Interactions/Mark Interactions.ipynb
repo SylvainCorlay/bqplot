{
 "cells": [
  {
   "cell_type": "code",
   "execution_count": 1,
   "metadata": {},
   "outputs": [],
   "source": [
    "from __future__ import print_function\n",
    "from bqplot import *\n",
    "import numpy as np\n",
    "import pandas as pd\n",
    "from ipywidgets import Layout"
   ]
  },
  {
   "cell_type": "markdown",
   "metadata": {},
   "source": [
    "## Scatter Chart"
   ]
  },
  {
   "cell_type": "markdown",
   "metadata": {},
   "source": [
    "#### Scatter Chart Selections\n",
    "\n",
    "Click a point on the `Scatter` plot to select it. Now, run the cell below to check the selection. After you've done this, try holding the `ctrl` (or `command` key on Mac) and clicking another point. Clicking the background will reset the selection."
   ]
  },
  {
   "cell_type": "code",
   "execution_count": 2,
   "metadata": {},
   "outputs": [
    {
     "data": {
      "application/vnd.jupyter.widget-view+json": {
       "model_id": "267c402f0426489ea8c44d6e65dd6748"
      }
     },
     "metadata": {},
     "output_type": "display_data"
    }
   ],
   "source": [
    "x_sc = LinearScale()\n",
    "y_sc = LinearScale()\n",
    "\n",
    "x_data = np.arange(20)\n",
    "y_data = np.random.randn(20)\n",
    "\n",
    "scatter_chart = Scatter(x=x_data, y=y_data, scales= {'x': x_sc, 'y': y_sc}, default_colors=['dodgerblue'],\n",
    "                       interactions={'click': 'select'},\n",
    "                        selected_style={'opacity': 1.0, 'fill': 'DarkOrange', 'stroke': 'Red'},\n",
    "                       unselected_style={'opacity': 0.5})\n",
    "\n",
    "ax_x = Axis(scale=x_sc)\n",
    "ax_y = Axis(scale=y_sc, orientation='vertical', tick_format='0.2f')\n",
    "\n",
    "Figure(marks=[scatter_chart], axes=[ax_x, ax_y])"
   ]
  },
  {
   "cell_type": "code",
   "execution_count": 3,
   "metadata": {},
   "outputs": [
    {
     "data": {
      "text/plain": [
       "[]"
      ]
     },
     "execution_count": 3,
     "metadata": {},
     "output_type": "execute_result"
    }
   ],
   "source": [
    "scatter_chart.selected"
   ]
  },
  {
   "cell_type": "markdown",
   "metadata": {},
   "source": [
    "Alternately, the `selected` attribute can be directly set on the Python side (try running the cell below):"
   ]
  },
  {
   "cell_type": "code",
   "execution_count": 4,
   "metadata": {
    "collapsed": true
   },
   "outputs": [],
   "source": [
    "scatter_chart.selected = [1, 2, 3]"
   ]
  },
  {
   "cell_type": "markdown",
   "metadata": {},
   "source": [
    "#### Scatter Chart Interactions and Tooltips"
   ]
  },
  {
   "cell_type": "code",
   "execution_count": 5,
   "metadata": {
    "collapsed": true
   },
   "outputs": [],
   "source": [
    "from ipywidgets import *"
   ]
  },
  {
   "cell_type": "code",
   "execution_count": 6,
   "metadata": {},
   "outputs": [
    {
     "data": {
      "application/vnd.jupyter.widget-view+json": {
       "model_id": "f94fcd6b3e754de1a1c34c1ff3d4d7ed"
      }
     },
     "metadata": {},
     "output_type": "display_data"
    }
   ],
   "source": [
    "x_sc = LinearScale()\n",
    "y_sc = LinearScale()\n",
    "\n",
    "x_data = np.arange(20)\n",
    "y_data = np.random.randn(20)\n",
    "\n",
    "dd = Dropdown(options=['First', 'Second', 'Third', 'Fourth'])\n",
    "scatter_chart = Scatter(x=x_data, y=y_data, scales= {'x': x_sc, 'y': y_sc}, default_colors=['dodgerblue'],\n",
    "                       names=np.arange(100, 200), names_unique=False, display_names=False, display_legend=True,\n",
    "                       labels=['Blue'])\n",
    "ins = Button(icon='fa-legal')\n",
    "scatter_chart.tooltip = ins\n",
    "\n",
    "scatter_chart2 = Scatter(x=x_data, y=np.random.randn(20), \n",
    "                         scales= {'x': x_sc, 'y': y_sc}, default_colors=['orangered'],\n",
    "                         tooltip=dd, names=np.arange(100, 200), names_unique=False, display_names=False, \n",
    "                         display_legend=True, labels=['Red'])\n",
    "\n",
    "ax_x = Axis(scale=x_sc)\n",
    "ax_y = Axis(scale=y_sc, orientation='vertical', tick_format='0.2f')\n",
    "\n",
    "Figure(marks=[scatter_chart, scatter_chart2], axes=[ax_x, ax_y])"
   ]
  },
  {
   "cell_type": "code",
   "execution_count": 7,
   "metadata": {},
   "outputs": [],
   "source": [
    "def print_event(self, target):\n",
    "    print(target)\n",
    "\n",
    "# Adding call back to scatter events\n",
    "# print custom mssg on hover and background click of Blue Scatter\n",
    "scatter_chart.on_hover(print_event)\n",
    "scatter_chart.on_background_click(print_event)\n",
    "\n",
    "# print custom mssg on click of an element or legend of Red Scatter\n",
    "scatter_chart2.on_element_click(print_event)\n",
    "scatter_chart2.on_legend_click(print_event)"
   ]
  },
  {
   "cell_type": "code",
   "execution_count": 8,
   "metadata": {},
   "outputs": [],
   "source": [
    "# Adding figure as tooltip\n",
    "x_sc = LinearScale()\n",
    "y_sc = LinearScale()\n",
    "\n",
    "x_data = np.arange(10)\n",
    "y_data = np.random.randn(10)\n",
    "\n",
    "lc = Lines(x=x_data, y=y_data, scales={'x': x_sc, 'y':y_sc})\n",
    "ax_x = Axis(scale=x_sc)\n",
    "ax_y = Axis(scale=y_sc, orientation='vertical', tick_format='0.2f')\n",
    "tooltip_fig = Figure(marks=[lc], axes=[ax_x, ax_y], layout=Layout(min_width='600px'))\n",
    "\n",
    "scatter_chart.tooltip = tooltip_fig"
   ]
  },
  {
   "cell_type": "code",
   "execution_count": 9,
   "metadata": {},
   "outputs": [],
   "source": [
    "# Changing interaction from hover to click for tooltip\n",
    "scatter_chart.interactions = {'click': 'tooltip'}"
   ]
  },
  {
   "cell_type": "markdown",
   "metadata": {},
   "source": [
    "## Line Chart"
   ]
  },
  {
   "cell_type": "code",
   "execution_count": 10,
   "metadata": {},
   "outputs": [
    {
     "data": {
      "application/vnd.jupyter.widget-view+json": {
       "model_id": "5c8546a1a6d347ff98b27c2191948282"
      }
     },
     "metadata": {},
     "output_type": "display_data"
    }
   ],
   "source": [
    "# Adding default tooltip to Line Chart\n",
    "x_sc = LinearScale()\n",
    "y_sc = LinearScale()\n",
    "\n",
    "x_data = np.arange(100)\n",
    "y_data = np.random.randn(3, 100)\n",
    "\n",
    "def_tt = Tooltip(fields=['name', 'index'], formats=['', '.2f'], labels=['id', 'line_num'])\n",
    "line_chart = Lines(x=x_data, y=y_data, scales= {'x': x_sc, 'y': y_sc}, \n",
    "                       tooltip=def_tt, display_legend=True, labels=[\"line 1\", \"line 2\", \"line 3\"] )\n",
    "\n",
    "ax_x = Axis(scale=x_sc)\n",
    "ax_y = Axis(scale=y_sc, orientation='vertical', tick_format='0.2f')\n",
    "\n",
    "Figure(marks=[line_chart], axes=[ax_x, ax_y])"
   ]
  },
  {
   "cell_type": "code",
   "execution_count": 11,
   "metadata": {},
   "outputs": [],
   "source": [
    "# Adding call back to print event when legend or the line is clicked\n",
    "line_chart.on_legend_click(print_event)\n",
    "line_chart.on_element_click(print_event)"
   ]
  },
  {
   "cell_type": "markdown",
   "metadata": {},
   "source": [
    "## Bar Chart"
   ]
  },
  {
   "cell_type": "code",
   "execution_count": 12,
   "metadata": {},
   "outputs": [
    {
     "data": {
      "application/vnd.jupyter.widget-view+json": {
       "model_id": "825cdaa89d8e41bea09aabf662adff24"
      }
     },
     "metadata": {},
     "output_type": "display_data"
    }
   ],
   "source": [
    "# Adding interaction to select bar on click for Bar Chart\n",
    "x_sc = OrdinalScale()\n",
    "y_sc = LinearScale()\n",
    "\n",
    "x_data = np.arange(10)\n",
    "y_data = np.random.randn(2, 10)\n",
    "\n",
    "bar_chart = Bars(x=x_data, y=[y_data[0, :].tolist(), y_data[1, :].tolist()], scales= {'x': x_sc, 'y': y_sc},\n",
    "                 interactions={'click': 'select'},\n",
    "                 selected_style={'stroke': 'orange', 'fill': 'red'},\n",
    "                 labels=['Level 1', 'Level 2'],\n",
    "                 display_legend=True)\n",
    "ax_x = Axis(scale=x_sc)\n",
    "ax_y = Axis(scale=y_sc, orientation='vertical', tick_format='0.2f')\n",
    "\n",
    "Figure(marks=[bar_chart], axes=[ax_x, ax_y])"
   ]
  },
  {
   "cell_type": "code",
   "execution_count": 13,
   "metadata": {
    "collapsed": true
   },
   "outputs": [],
   "source": [
    "# Adding a tooltip on hover in addition to select on click\n",
    "def_tt = Tooltip(fields=['x', 'y'], formats=['', '.2f'])\n",
    "bar_chart.tooltip=def_tt\n",
    "bar_chart.interactions = {\n",
    "    'legend_hover': 'highlight_axes',\n",
    "    'hover': 'tooltip', \n",
    "    'click': 'select',\n",
    "}"
   ]
  },
  {
   "cell_type": "code",
   "execution_count": 14,
   "metadata": {
    "collapsed": true
   },
   "outputs": [],
   "source": [
    "# Changing tooltip to be on click\n",
    "bar_chart.interactions = {'click': 'tooltip'}"
   ]
  },
  {
   "cell_type": "code",
   "execution_count": 15,
   "metadata": {
    "collapsed": true
   },
   "outputs": [],
   "source": [
    "# Call back on legend being clicked\n",
    "bar_chart.type='grouped'\n",
    "bar_chart.on_legend_click(print_event)"
   ]
  },
  {
   "cell_type": "markdown",
   "metadata": {},
   "source": [
    "## Histogram"
   ]
  },
  {
   "cell_type": "code",
   "execution_count": 16,
   "metadata": {},
   "outputs": [
    {
     "data": {
      "application/vnd.jupyter.widget-view+json": {
       "model_id": "dd0c1e18a3d9473a98aca0fc9cc60dcd"
      }
     },
     "metadata": {},
     "output_type": "display_data"
    }
   ],
   "source": [
    "# Adding tooltip for Histogram\n",
    "x_sc = LinearScale()\n",
    "y_sc = LinearScale()\n",
    "\n",
    "sample_data = np.random.randn(100)\n",
    "\n",
    "def_tt = Tooltip(formats=['', '.2f'], fields=['count', 'midpoint'])\n",
    "hist = Hist(sample=sample_data, scales= {'sample': x_sc, 'count': y_sc},\n",
    "                       tooltip=def_tt, display_legend=True, labels=['Test Hist'], select_bars=True)\n",
    "ax_x = Axis(scale=x_sc, tick_format='0.2f')\n",
    "ax_y = Axis(scale=y_sc, orientation='vertical', tick_format='0.2f')\n",
    "\n",
    "Figure(marks=[hist], axes=[ax_x, ax_y])"
   ]
  },
  {
   "cell_type": "code",
   "execution_count": 17,
   "metadata": {
    "collapsed": true
   },
   "outputs": [],
   "source": [
    "# Changing tooltip to be displayed on click\n",
    "hist.interactions = {'click': 'tooltip'}"
   ]
  },
  {
   "cell_type": "code",
   "execution_count": 18,
   "metadata": {
    "collapsed": true
   },
   "outputs": [],
   "source": [
    "# Changing tooltip to be on click of legend\n",
    "hist.interactions = {'legend_click': 'tooltip'}"
   ]
  },
  {
   "cell_type": "markdown",
   "metadata": {
    "collapsed": true
   },
   "source": [
    "## Pie Chart"
   ]
  },
  {
   "cell_type": "code",
   "execution_count": 19,
   "metadata": {},
   "outputs": [
    {
     "data": {
      "application/vnd.jupyter.widget-view+json": {
       "model_id": "43880564825f4df5a196702088c66995"
      }
     },
     "metadata": {},
     "output_type": "display_data"
    }
   ],
   "source": [
    "pie_data = np.abs(np.random.randn(10))\n",
    "\n",
    "sc = ColorScale(scheme='Reds')\n",
    "tooltip_widget = Tooltip(fields=['size', 'index', 'color'], formats=['0.2f', '', '0.2f'])\n",
    "pie = Pie(sizes=pie_data, scales={'color': sc}, color=np.random.randn(10), \n",
    "          tooltip=tooltip_widget, interactions = {'click': 'tooltip'}, selected_style={'fill': 'red'})\n",
    "\n",
    "pie.selected_style = {\"opacity\": \"1\", \"stroke\": \"white\", \"stroke-width\": \"2\"}\n",
    "pie.unselected_style = {\"opacity\": \"0.2\"}\n",
    "\n",
    "Figure(marks=[pie])"
   ]
  },
  {
   "cell_type": "code",
   "execution_count": 20,
   "metadata": {
    "collapsed": true
   },
   "outputs": [],
   "source": [
    "# Changing interaction to select on click and tooltip on hover\n",
    "pie.interactions = {'click': 'select', 'hover': 'tooltip'}"
   ]
  }
 ],
 "metadata": {
  "anaconda-cloud": {},
  "kernelspec": {
   "display_name": "Python 3",
   "language": "python",
   "name": "python3"
  },
  "language_info": {
   "codemirror_mode": {
    "name": "ipython",
    "version": 3
   },
   "file_extension": ".py",
   "mimetype": "text/x-python",
   "name": "python",
   "nbconvert_exporter": "python",
   "pygments_lexer": "ipython3",
   "version": "3.5.2"
  },
  "widgets": {
   "application/vnd.jupyter.widget-state+json": {
    "state": {
     "00c56e7a94a8453dbc786f0783931245": {
      "model_module": "bqplot",
      "model_module_version": "*",
      "model_name": "AxisModel",
      "state": {
       "scale": "IPY_MODEL_436f7c51d3064db491f7732c77709a50",
       "side": "bottom",
       "tick_values": {
        "type": null,
        "values": null
       }
      }
     },
     "0285fdca4c864a5a8a68c1634ad57190": {
      "model_module": "bqplot",
      "model_module_version": "*",
      "model_name": "LinearScaleModel",
      "state": {
       "stabilized": false
      }
     },
     "09ee6894f8484948932be708ab9d9c1c": {
      "model_module": "bqplot",
      "model_module_version": "*",
      "model_name": "LinearScaleModel",
      "state": {
       "allow_padding": false,
       "max": 1,
       "min": 0,
       "stabilized": false
      }
     },
     "0c43364f7a354045882e013d62718778": {
      "model_module": "bqplot",
      "model_module_version": "*",
      "model_name": "AxisModel",
      "state": {
       "scale": "IPY_MODEL_33f6bf29a80b47559d5f192fc19b3d15",
       "side": "bottom",
       "tick_format": "0.2f",
       "tick_values": {
        "type": null,
        "values": null
       }
      }
     },
     "0fbeee90ed3346a9b0629954cb6cc5e4": {
      "model_module": "bqplot",
      "model_module_version": "*",
      "model_name": "AxisModel",
      "state": {
       "orientation": "vertical",
       "scale": "IPY_MODEL_0285fdca4c864a5a8a68c1634ad57190",
       "side": "left",
       "tick_format": "0.2f",
       "tick_values": {
        "type": null,
        "values": null
       }
      }
     },
     "1cc7d1f8036d4f0abbd0ec0ac0b13e04": {
      "model_module": "jupyter-js-widgets",
      "model_module_version": "*",
      "model_name": "LayoutModel",
      "state": {
       "align_self": "stretch",
       "flex": "1",
       "min_width": "400px"
      }
     },
     "1f352048abc045d6bd262956d38cf8b4": {
      "model_module": "bqplot",
      "model_module_version": "*",
      "model_name": "LinesModel",
      "state": {
       "color": {
        "type": null,
        "values": null
       },
       "fill_colors": [],
       "labels": [
        "line 1",
        "line 2",
        "line 3"
       ],
       "scales": {
        "x": "IPY_MODEL_436f7c51d3064db491f7732c77709a50",
        "y": "IPY_MODEL_f09f131eac514d1cbc16ca2a651d0fa4"
       },
       "tooltip": "IPY_MODEL_c02ca4eeaee44e829cab64912be9e66f",
       "x": {
        "type": "float",
        "values": [
         0,
         1,
         2,
         3,
         4,
         5,
         6,
         7,
         8,
         9,
         10,
         11,
         12,
         13,
         14,
         15,
         16,
         17,
         18,
         19,
         20,
         21,
         22,
         23,
         24,
         25,
         26,
         27,
         28,
         29,
         30,
         31,
         32,
         33,
         34,
         35,
         36,
         37,
         38,
         39,
         40,
         41,
         42,
         43,
         44,
         45,
         46,
         47,
         48,
         49,
         50,
         51,
         52,
         53,
         54,
         55,
         56,
         57,
         58,
         59,
         60,
         61,
         62,
         63,
         64,
         65,
         66,
         67,
         68,
         69,
         70,
         71,
         72,
         73,
         74,
         75,
         76,
         77,
         78,
         79,
         80,
         81,
         82,
         83,
         84,
         85,
         86,
         87,
         88,
         89,
         90,
         91,
         92,
         93,
         94,
         95,
         96,
         97,
         98,
         99
        ]
       },
       "y": {
        "type": "float64",
        "values": [
         [
          0.04259094596280477,
          -1.717624170280518,
          -1.1066338106651268,
          -0.5244523439563274,
          -1.5725718822736607,
          0.06259824481963885,
          -1.2524313252742258,
          0.341471617853484,
          -0.9923235203252591,
          0.8628108361698157,
          1.0119080550485389,
          -2.9498968684314018,
          1.2443630646480923,
          -0.5519228314788618,
          -2.120549818818752,
          -0.08967263190245707,
          -0.2716903802818077,
          0.40293175715170576,
          2.12649997297553,
          0.08546084493163121,
          -0.25321265507372354,
          1.1103904469215895,
          0.9051004908853756,
          -0.48998944018760715,
          -0.2469000806524805,
          0.1687266163160293,
          -0.057470619388243445,
          0.12000470134550029,
          0.15779212822303096,
          -0.3393506384614538,
          -0.5174463595565459,
          -2.2841840882786664,
          0.46879779664466825,
          -0.4674361573616224,
          -0.44984060018685923,
          -0.8152920253137349,
          -1.0504286985294695,
          0.9630494903267448,
          0.4445606171699567,
          -0.43015967845945413,
          -1.1290363297304682,
          0.06609390025047308,
          0.23885485263480916,
          1.810780523100447,
          1.6599745621159816,
          0.3441973053764519,
          1.0421633756338982,
          -0.9732700541371349,
          1.2766687151066791,
          -0.8488769996327951,
          -0.794116315845895,
          0.11362997485599807,
          -0.5734344720082603,
          1.6049356212592756,
          1.8596579884806563,
          -0.352033998894213,
          0.8008844603933494,
          -0.35503242260574797,
          -0.5847037940934937,
          0.7394708967558602,
          0.8765045611356891,
          -0.5330835457896494,
          -1.1012807635091038,
          0.5337392116156736,
          -1.7209226768809327,
          -1.5952938381407484,
          1.2011466635646262,
          0.49023004281241117,
          0.8276805125766148,
          -0.5955135011974929,
          0.2861160438953521,
          0.22981083566092517,
          0.48847622109162403,
          -0.5519132919317443,
          1.102010142389711,
          1.1074896262659424,
          -0.5087598278358773,
          0.6608123865760349,
          0.0503732903759446,
          -0.878178566925278,
          0.00967088962207854,
          -0.36861934328762275,
          1.0694567139151914,
          0.013206527943369782,
          -2.4415151033919864,
          1.5005177103312757,
          -0.24633029643789425,
          1.3461666587734378,
          0.5289949465529035,
          0.7620362212100164,
          -0.9450544372571317,
          0.25018465571174203,
          1.2039399547344278,
          -1.1590184933394099,
          0.7410142678901026,
          -0.771302581685116,
          -0.1878468166906055,
          0.07230949485237925,
          0.1932618281462341,
          1.021571282469015
         ],
         [
          0.4544930829639661,
          -0.4075875541479286,
          -0.2937814489217084,
          -0.3497359774998183,
          -0.8553329637341371,
          0.6280660083844826,
          -0.4395683290286815,
          0.2877429030493305,
          0.2596873051700975,
          -0.7787609557891206,
          -1.5315878100744098,
          0.23992439537219548,
          -1.0137857309794012,
          -1.7666869025450658,
          -0.7102260396110777,
          -0.4020667305079334,
          0.1250462377996479,
          -1.4796328190026806,
          -0.6009952522812692,
          -1.4183428243434588,
          -1.2608099989597992,
          -0.38981150512884255,
          1.5432400025579471,
          -1.427904089868954,
          -0.9794688914023573,
          -0.17291143361131742,
          -0.09830323709570904,
          1.2155285026627765,
          -1.1949330913266918,
          0.3896766586312091,
          -0.5773053612261078,
          0.028831222026896936,
          -0.5822574152966884,
          0.5486061538732343,
          -0.6421740215100569,
          0.1670745046954894,
          1.7974607064387957,
          0.1940044296646784,
          -1.424643847675723,
          -1.9817348199985838,
          -0.6972373494747043,
          -1.5095211958109562,
          -0.9016012935232666,
          -0.19086962217165007,
          0.5129098818218913,
          -0.005285924338121396,
          0.7630250418647218,
          -1.2564416776366538,
          2.726570327852182,
          0.15128501763405902,
          -1.228851206488004,
          -0.7715693724298269,
          -0.4433747245112392,
          -1.0358438854767567,
          1.804899526670928,
          -0.021386035357389362,
          1.2991431204439068,
          0.24750103020878664,
          -1.180931463549595,
          -0.2665036825415563,
          0.1928241863030646,
          0.4497342138937029,
          0.09317026116939389,
          -1.1831406284071484,
          -0.0027831631076865324,
          -0.37010552046708506,
          1.5828476470163158,
          -1.6888211853484774,
          -1.4893164487692945,
          -0.43946830260652664,
          -1.687890247834308,
          0.25606288434048746,
          0.3796703813270448,
          0.11732976171892827,
          -0.3498254784857858,
          -0.5651252262566299,
          -0.5499025849098653,
          -0.06916801727559627,
          1.3934187119039052,
          1.435556362011437,
          -0.04595730940519352,
          -2.35208864498765,
          -0.2186198768076051,
          1.2876114247835815,
          0.3134816476702598,
          1.4313084397170384,
          0.06710058486072525,
          0.6393321182588599,
          1.3855745067080762,
          -0.4012556684242938,
          0.06010765587204773,
          -1.4035609512282254,
          0.21891696853876302,
          1.841721037668996,
          -0.8725446044843729,
          0.5623864307621989,
          0.4506797785548045,
          -0.4605488394930603,
          1.331685449010494,
          -0.46246502519816485
         ],
         [
          1.0023412776621974,
          -0.7044701385619857,
          -0.6467905184826727,
          -1.2749886324886148,
          -0.7849051940505659,
          1.678299301788116,
          -0.7290037961623088,
          -1.8480644674895412,
          -0.9205344106173132,
          -0.6269762296193238,
          0.7555989382444891,
          0.8456184334824319,
          -0.5170320852117604,
          -0.5771062045691354,
          0.45629344365678337,
          1.0824713234772605,
          -0.8055065637529489,
          -0.3440752936706939,
          0.23746340186685622,
          1.342633786438193,
          -0.02901004146706486,
          -0.35664123007053955,
          -0.6240973696796231,
          -0.7581163081038994,
          1.16659264172531,
          -1.585209681552087,
          0.3346257771412569,
          0.05289855995991063,
          0.0018791551425016743,
          1.2952355467353303,
          -0.8741426698437682,
          0.31068792265892603,
          1.815337335608755,
          -2.291492449584488,
          -0.3242421153671672,
          0.044689277549820376,
          0.6856995108213619,
          1.1758233170712116,
          0.9192924215874728,
          -1.4529681296502701,
          -2.019031273585346,
          0.11625846381882236,
          -0.2273210474209079,
          -1.8054339336931744,
          0.5431592136575053,
          0.7126198558117468,
          0.5756991764223085,
          1.0946316675958017,
          -1.155416751720676,
          1.0609649342650913,
          -0.17985403358688395,
          -0.7677065123495174,
          -0.2079742381316997,
          -1.6492655387890391,
          0.6016063344412709,
          -1.3144867257552793,
          -0.7500322894108206,
          -1.6485705831096014,
          -0.4360961834347358,
          0.499137252191857,
          0.1436281685539979,
          -1.4941805535799577,
          2.4347934275912726,
          0.06376938120102853,
          -0.8484734456744153,
          0.44309516045172687,
          -0.9673816509791315,
          -0.5714616815143958,
          0.10002609824365155,
          0.25264928361660455,
          0.8045777593805743,
          -1.4565143884209282,
          -1.546133329251282,
          -0.610561812466681,
          -0.04443994777917393,
          -0.3730929824973681,
          -0.07451625781966852,
          -0.7652165675846859,
          0.4335877965264182,
          2.06490805876759,
          0.002146835286470539,
          -0.6402402559445832,
          0.9568263795875694,
          0.9185065875940611,
          -0.09497911350567045,
          -1.0762879911685193,
          0.1760580497293606,
          0.952569655612348,
          1.3348475367659929,
          -0.5400371447817502,
          1.3954979566357273,
          -0.2355624533862457,
          -0.901160468662994,
          -1.2276557662646257,
          0.9598239165583469,
          -1.5677218299877942,
          0.9655699060579359,
          1.2393347542497661,
          0.2580867366499518,
          -0.04401576827088655
         ]
        ]
       }
      }
     },
     "267c402f0426489ea8c44d6e65dd6748": {
      "model_module": "bqplot",
      "model_module_version": "*",
      "model_name": "FigureModel",
      "state": {
       "_dom_classes": [],
       "axes": [
        "IPY_MODEL_92d83747fa8e443b8ff6f5edfd6be9b3",
        "IPY_MODEL_0fbeee90ed3346a9b0629954cb6cc5e4"
       ],
       "layout": "IPY_MODEL_6fa01bd2424f492590a5096f45bfd5ea",
       "marks": [
        "IPY_MODEL_706156f96c03441db74994c4bd3a8997"
       ],
       "scale_x": "IPY_MODEL_43533ad93ee8469dacf784022087b27a",
       "scale_y": "IPY_MODEL_09ee6894f8484948932be708ab9d9c1c"
      }
     },
     "2b81baf3a7ae4c30bbdd8bbbdb4efc1b": {
      "model_module": "jupyter-js-widgets",
      "model_module_version": "*",
      "model_name": "LayoutModel",
      "state": {
       "align_self": "stretch",
       "flex": "1",
       "min_width": "400px"
      }
     },
     "2c5f69d8d17b41f29d01b00679e0d3fd": {
      "model_module": "bqplot",
      "model_module_version": "*",
      "model_name": "TooltipModel",
      "state": {
       "fields": [
        "x",
        "y"
       ],
       "formats": [
        "",
        ".2f"
       ],
       "labels": [
        "x",
        "y"
       ],
       "layout": "IPY_MODEL_a598381d52eb4d18b68b87b39d654559"
      }
     },
     "2d00746d397a4b55831b734c414397be": {
      "model_module": "bqplot",
      "model_module_version": "*",
      "model_name": "LinearScaleModel",
      "state": {
       "allow_padding": false,
       "max": 1,
       "min": 0,
       "stabilized": false
      }
     },
     "2e5d7125eda14d84b50764b72fa29441": {
      "model_module": "bqplot",
      "model_module_version": "*",
      "model_name": "PieModel",
      "state": {
       "color": {
        "type": "float64",
        "values": [
         -0.44577671871980573,
         -0.30200595749998854,
         -1.3771280865699105,
         -1.1845867043343257,
         1.2390147238157683,
         0.5590400418371084,
         -0.765792694833177,
         2.4395113986065002,
         1.1115511801785392,
         -0.19945101929892284
        ]
       },
       "display_labels": true,
       "display_legend": false,
       "font_size": "10px",
       "font_weight": "normal",
       "interactions": {
        "click": "select",
        "hover": "tooltip"
       },
       "label_color": null,
       "scales": {
        "color": "IPY_MODEL_b98bbd58bed14c978941f8887b97e4d8"
       },
       "selected_style": {
        "opacity": "1",
        "stroke": "white",
        "stroke-width": "2"
       },
       "sizes": {
        "type": "float64",
        "values": [
         0.5814968018819227,
         1.2585620628097778,
         2.1801354851277703,
         0.6873697053369014,
         1.3899974682276122,
         1.3657035036467002,
         1.36156144950859,
         0.559053670750742,
         0.4029478910025047,
         0.5809357831508342
        ]
       },
       "tooltip": "IPY_MODEL_6dc8ace0e6b148718698673d114a6b4a",
       "unselected_style": {
        "opacity": "0.2"
       }
      }
     },
     "30d2460bca0748febe3eb8c7d45e1946": {
      "model_module": "bqplot",
      "model_module_version": "*",
      "model_name": "LinearScaleModel",
      "state": {
       "stabilized": false
      }
     },
     "3318770a5f3240d7aa68b74949c1b010": {
      "model_module": "jupyter-js-widgets",
      "model_module_version": "*",
      "model_name": "ButtonModel",
      "state": {
       "icon": "legal",
       "layout": "IPY_MODEL_bdb5f2a2fb214758b84da83aa72d557f"
      }
     },
     "33f6bf29a80b47559d5f192fc19b3d15": {
      "model_module": "bqplot",
      "model_module_version": "*",
      "model_name": "LinearScaleModel",
      "state": {
       "stabilized": false
      }
     },
     "34df6ed626e24fee9670950c3ad65421": {
      "model_module": "bqplot",
      "model_module_version": "*",
      "model_name": "LinearScaleModel",
      "state": {
       "stabilized": false
      }
     },
     "3b3c1b6e61ca437a895a13d03f2ca435": {
      "model_module": "bqplot",
      "model_module_version": "*",
      "model_name": "ScatterModel",
      "state": {
       "_model_module": "bqplot",
       "_model_module_version": "*",
       "_view_module": "bqplot",
       "_view_module_version": "*",
       "apply_clip": true,
       "color": {
        "type": null,
        "values": null
       },
       "colors": [
        "dodgerblue"
       ],
       "display_legend": true,
       "display_names": false,
       "enable_hover": true,
       "hovered_style": {},
       "interactions": {
        "click": "tooltip"
       },
       "labels": [
        "Blue"
       ],
       "msg_throttle": 1,
       "names": {
        "type": "float",
        "values": [
         100,
         101,
         102,
         103,
         104,
         105,
         106,
         107,
         108,
         109,
         110,
         111,
         112,
         113,
         114,
         115,
         116,
         117,
         118,
         119,
         120,
         121,
         122,
         123,
         124,
         125,
         126,
         127,
         128,
         129,
         130,
         131,
         132,
         133,
         134,
         135,
         136,
         137,
         138,
         139,
         140,
         141,
         142,
         143,
         144,
         145,
         146,
         147,
         148,
         149,
         150,
         151,
         152,
         153,
         154,
         155,
         156,
         157,
         158,
         159,
         160,
         161,
         162,
         163,
         164,
         165,
         166,
         167,
         168,
         169,
         170,
         171,
         172,
         173,
         174,
         175,
         176,
         177,
         178,
         179,
         180,
         181,
         182,
         183,
         184,
         185,
         186,
         187,
         188,
         189,
         190,
         191,
         192,
         193,
         194,
         195,
         196,
         197,
         198,
         199
        ]
       },
       "names_unique": false,
       "opacity": {
        "type": null,
        "values": null
       },
       "preserve_domain": {},
       "rotation": {
        "type": null,
        "values": null
       },
       "scales": {
        "x": "IPY_MODEL_70b56e35996a41f9b98aae1d4b3a0de6",
        "y": "IPY_MODEL_e5c28a290a704619b88ce3890230cb78"
       },
       "selected": [],
       "selected_style": {},
       "size": {
        "type": null,
        "values": null
       },
       "skew": {
        "type": null,
        "values": null
       },
       "tooltip": "IPY_MODEL_cccfa90a4c874d7d9e77ddae1283d7a7",
       "tooltip_location": "mouse",
       "tooltip_style": {
        "opacity": 0.9
       },
       "unhovered_style": {},
       "unselected_style": {},
       "visible": true,
       "x": {
        "type": "float",
        "values": [
         0,
         1,
         2,
         3,
         4,
         5,
         6,
         7,
         8,
         9,
         10,
         11,
         12,
         13,
         14,
         15,
         16,
         17,
         18,
         19
        ]
       },
       "y": {
        "type": "float64",
        "values": [
         0.11934721033011551,
         0.5148864739536471,
         -1.4999425488955793,
         1.151249542986856,
         -0.4725865400547809,
         -0.827811851525698,
         -1.4672051438710194,
         -0.534652261141252,
         1.8710298644210355,
         -0.6260160386620484,
         0.4105633318055439,
         0.464656161563977,
         0.1673413690246088,
         1.3420441278321613,
         0.6222110902883099,
         -0.46438337289905235,
         0.6518756662015444,
         0.9910262462543081,
         0.5385378577263742,
         0.3655993545680132
        ]
       }
      }
     },
     "3e084b2931d545d4b0c12996bfe424e4": {
      "model_module": "jupyter-js-widgets",
      "model_module_version": "*",
      "model_name": "LayoutModel",
      "state": {}
     },
     "43533ad93ee8469dacf784022087b27a": {
      "model_module": "bqplot",
      "model_module_version": "*",
      "model_name": "LinearScaleModel",
      "state": {
       "allow_padding": false,
       "max": 1,
       "min": 0,
       "stabilized": false
      }
     },
     "436f7c51d3064db491f7732c77709a50": {
      "model_module": "bqplot",
      "model_module_version": "*",
      "model_name": "LinearScaleModel",
      "state": {
       "stabilized": false
      }
     },
     "43880564825f4df5a196702088c66995": {
      "model_module": "bqplot",
      "model_module_version": "*",
      "model_name": "FigureModel",
      "state": {
       "_dom_classes": [],
       "layout": "IPY_MODEL_89963fcd3a8448538fa2af7bfe27023e",
       "marks": [
        "IPY_MODEL_2e5d7125eda14d84b50764b72fa29441"
       ],
       "scale_x": "IPY_MODEL_d0a5a998f7ec45dd9f2e5e76bf51f502",
       "scale_y": "IPY_MODEL_d9bde03356a44536af9af1bd8557c7e1"
      }
     },
     "47c41801f8ea4272996299b7984f78c0": {
      "model_module": "bqplot",
      "model_module_version": "*",
      "model_name": "LinearScaleModel",
      "state": {
       "allow_padding": false,
       "max": 1,
       "min": 0,
       "stabilized": false
      }
     },
     "4d2eb18588d34b8aa5bd3b8aba87812d": {
      "model_module": "bqplot",
      "model_module_version": "*",
      "model_name": "AxisModel",
      "state": {
       "orientation": "vertical",
       "scale": "IPY_MODEL_30d2460bca0748febe3eb8c7d45e1946",
       "side": "left",
       "tick_format": "0.2f",
       "tick_values": {
        "type": null,
        "values": null
       }
      }
     },
     "507a8b2aecee45f2b5398de4b7008c94": {
      "model_module": "jupyter-js-widgets",
      "model_module_version": "*",
      "model_name": "LayoutModel",
      "state": {
       "align_self": "stretch",
       "flex": "1",
       "min_width": "400px"
      }
     },
     "5c8546a1a6d347ff98b27c2191948282": {
      "model_module": "bqplot",
      "model_module_version": "*",
      "model_name": "FigureModel",
      "state": {
       "_dom_classes": [],
       "axes": [
        "IPY_MODEL_00c56e7a94a8453dbc786f0783931245",
        "IPY_MODEL_645b704ac80646f8a8d07d1718893d02"
       ],
       "layout": "IPY_MODEL_e56a8e365ed84250be2ff411e1586134",
       "marks": [
        "IPY_MODEL_1f352048abc045d6bd262956d38cf8b4"
       ],
       "scale_x": "IPY_MODEL_eced308463a249bcbdb3ed313feb3c5b",
       "scale_y": "IPY_MODEL_8ab5c7e5bbb94c019d733f63477cf5d8"
      }
     },
     "5d8d8d87d2744f768c93506cb23db9fd": {
      "model_module": "jupyter-js-widgets",
      "model_module_version": "*",
      "model_name": "DropdownModel",
      "state": {
       "_options_labels": [
        "First",
        "Second",
        "Third",
        "Fourth"
       ],
       "layout": "IPY_MODEL_d4ffc844a12e4ec48956452815065467",
       "value": "First"
      }
     },
     "5e9af711a30d41b0a192456c20688862": {
      "model_module": "bqplot",
      "model_module_version": "*",
      "model_name": "HistModel",
      "state": {
       "count": {
        "type": "object",
        "values": [
         5,
         7,
         14,
         14,
         22,
         16,
         14,
         5,
         1,
         2
        ]
       },
       "interactions": {
        "legend_click": "tooltip"
       },
       "labels": [
        "Test Hist"
       ],
       "midpoints": [
        -1.7776801381179903,
        -1.2879062059810753,
        -0.7981322738441602,
        -0.3083583417072451,
        0.18141559042967015,
        0.6711895225665852,
        1.1609634547035002,
        1.6507373868404154,
        2.1405113189773304,
        2.6302852511142456
       ],
       "sample": {
        "type": "float64",
        "values": [
         0.2634915363894649,
         0.1387264967522045,
         0.20735004073140784,
         -0.3164635898719434,
         0.7044442047357924,
         0.28865122427600687,
         0.14510426361815318,
         1.1168117319329671,
         0.7026682832394701,
         1.3173366734635568,
         -0.3340506793124979,
         0.3359082889053802,
         -1.2175390730885953,
         1.1112677055645757,
         0.4325893378452856,
         0.3639998913122765,
         0.5000069602425313,
         0.46231951497536217,
         -0.34691053297744034,
         -1.8883072658523723,
         0.5807684892246517,
         1.0306928364275139,
         -0.605790480634085,
         1.651091375802811,
         0.6276552684004593,
         -0.9436231497659193,
         -0.17388267667335086,
         1.3829493372562751,
         2.5108878117983346,
         0.786591724734688,
         -2.022567104186448,
         1.052255125031586,
         -0.9419165503770942,
         1.6154991884685985,
         0.012800822568626661,
         -0.7558996261568639,
         0.6171321742107215,
         -1.9422054052731985,
         1.3365021988971597,
         -0.8387932436443895,
         -0.6329964401698923,
         1.1011107247522542,
         -0.34846247226294763,
         -0.3396266001031007,
         -1.9661879229107047,
         -0.24990049331982855,
         1.2336482514237461,
         -0.39206742267657857,
         0.2797303929323496,
         1.2406050156508592,
         0.22516125876083223,
         -1.183120562684086,
         0.9723734341654631,
         2.0615291483330744,
         0.31635777301202866,
         1.7738076786020591,
         0.26276129528653214,
         -1.3077115702618933,
         1.008690216222043,
         1.1142612618575882,
         0.7309796981690987,
         -0.5047164757391525,
         -0.623040337402412,
         0.3019892622253379,
         -1.6467127241708834,
         -1.4410851951310135,
         0.18342605107279567,
         0.043764714940726,
         0.1318135414349682,
         -1.0524114079777358,
         -0.10690204129627398,
         0.8852049510495903,
         0.029663381361360684,
         -0.8821112466490802,
         -1.2020091350296387,
         0.7988386129220596,
         -1.430587540070933,
         0.28032738937617124,
         -0.11357244320346557,
         -0.6192305017871839,
         1.6375637215894219,
         -0.14776065087481643,
         -0.5707174521867855,
         0.7548572582568476,
         0.9360150607390916,
         -0.5940087963118075,
         0.6394716334309827,
         -0.9828396364484135,
         1.757485951080632,
         -0.42251939707973857,
         0.6529558732348695,
         0.5548719030612639,
         -0.7247434129730248,
         2.8751722171827034,
         0.14371129874515892,
         -0.10012556561337077,
         0.08598072580713217,
         -0.7667517619571868,
         0.12855295654625556,
         0.22853644759958125
        ]
       },
       "scales": {
        "count": "IPY_MODEL_34df6ed626e24fee9670950c3ad65421",
        "sample": "IPY_MODEL_33f6bf29a80b47559d5f192fc19b3d15"
       },
       "tooltip": "IPY_MODEL_f49b6205aaef4cbabf74c304480a035e"
      }
     },
     "632ae27f5564448d96738c70438d6ab7": {
      "model_module": "jupyter-js-widgets",
      "model_module_version": "*",
      "model_name": "LayoutModel",
      "state": {
       "min_width": "600px"
      }
     },
     "645b704ac80646f8a8d07d1718893d02": {
      "model_module": "bqplot",
      "model_module_version": "*",
      "model_name": "AxisModel",
      "state": {
       "orientation": "vertical",
       "scale": "IPY_MODEL_f09f131eac514d1cbc16ca2a651d0fa4",
       "side": "left",
       "tick_format": "0.2f",
       "tick_values": {
        "type": null,
        "values": null
       }
      }
     },
     "6bc1dc701ad54c7eaf96ef5f53af0c81": {
      "model_module": "bqplot",
      "model_module_version": "*",
      "model_name": "AxisModel",
      "state": {
       "scale": "IPY_MODEL_d62f5d9739f54164a9f89709c61eaac7",
       "side": "bottom",
       "tick_values": {
        "type": null,
        "values": null
       }
      }
     },
     "6dc8ace0e6b148718698673d114a6b4a": {
      "model_module": "bqplot",
      "model_module_version": "*",
      "model_name": "TooltipModel",
      "state": {
       "fields": [
        "size",
        "index",
        "color"
       ],
       "formats": [
        "0.2f",
        "",
        "0.2f"
       ],
       "labels": [
        "size",
        "index",
        "color"
       ],
       "layout": "IPY_MODEL_9dcbbf0556ae49798c30c0d44dc54db1"
      }
     },
     "6fa01bd2424f492590a5096f45bfd5ea": {
      "model_module": "jupyter-js-widgets",
      "model_module_version": "*",
      "model_name": "LayoutModel",
      "state": {
       "align_self": "stretch",
       "flex": "1",
       "min_width": "400px"
      }
     },
     "706156f96c03441db74994c4bd3a8997": {
      "model_module": "bqplot",
      "model_module_version": "*",
      "model_name": "ScatterModel",
      "state": {
       "_model_module": "bqplot",
       "_model_module_version": "*",
       "_view_module": "bqplot",
       "_view_module_version": "*",
       "apply_clip": true,
       "color": {
        "type": null,
        "values": null
       },
       "colors": [
        "dodgerblue"
       ],
       "display_legend": false,
       "enable_hover": true,
       "hovered_style": {},
       "interactions": {
        "click": "select"
       },
       "labels": [],
       "msg_throttle": 1,
       "names": {
        "type": null,
        "values": null
       },
       "opacity": {
        "type": null,
        "values": null
       },
       "preserve_domain": {},
       "rotation": {
        "type": null,
        "values": null
       },
       "scales": {
        "x": "IPY_MODEL_95179523c05e4774822c8c943d2e0a4c",
        "y": "IPY_MODEL_0285fdca4c864a5a8a68c1634ad57190"
       },
       "selected": [
        1,
        2,
        3
       ],
       "selected_style": {
        "fill": "DarkOrange",
        "opacity": 1,
        "stroke": "Red"
       },
       "size": {
        "type": null,
        "values": null
       },
       "skew": {
        "type": null,
        "values": null
       },
       "tooltip": null,
       "tooltip_location": "mouse",
       "tooltip_style": {
        "opacity": 0.9
       },
       "unhovered_style": {},
       "unselected_style": {
        "opacity": 0.5
       },
       "visible": true,
       "x": {
        "type": "float",
        "values": [
         0,
         1,
         2,
         3,
         4,
         5,
         6,
         7,
         8,
         9,
         10,
         11,
         12,
         13,
         14,
         15,
         16,
         17,
         18,
         19
        ]
       },
       "y": {
        "type": "float64",
        "values": [
         -0.5605357788768488,
         -1.651823070569426,
         1.1256630700869237,
         0.4575879711730276,
         -1.1964410492069757,
         -0.13674663060789513,
         1.6422884279504306,
         -1.1544766742223733,
         -0.495536053854928,
         -0.6422728019314646,
         1.0904149672146999,
         0.05090885890783853,
         -0.07342121116724798,
         -0.1650648914725816,
         0.31296325225170984,
         1.1621046302356561,
         -0.836947075136873,
         -0.4815854569496978,
         -0.29589180753098837,
         -1.2120396443132513
        ]
       }
      }
     },
     "70b56e35996a41f9b98aae1d4b3a0de6": {
      "model_module": "bqplot",
      "model_module_version": "*",
      "model_name": "LinearScaleModel",
      "state": {
       "stabilized": false
      }
     },
     "70c003cfb83a4bd1891dac5fc8a5b01b": {
      "model_module": "bqplot",
      "model_module_version": "*",
      "model_name": "AxisModel",
      "state": {
       "scale": "IPY_MODEL_7a587eedcc3145f1ae891faeca328669",
       "side": "bottom",
       "tick_values": {
        "type": null,
        "values": null
       }
      }
     },
     "72c419f3c07e4ed1a20c846aaf2bc290": {
      "model_module": "bqplot",
      "model_module_version": "*",
      "model_name": "LinesModel",
      "state": {
       "color": {
        "type": null,
        "values": null
       },
       "display_legend": false,
       "fill_colors": [],
       "labels": [
        "C1"
       ],
       "scales": {
        "x": "IPY_MODEL_7a587eedcc3145f1ae891faeca328669",
        "y": "IPY_MODEL_30d2460bca0748febe3eb8c7d45e1946"
       },
       "x": {
        "type": "float",
        "values": [
         0,
         1,
         2,
         3,
         4,
         5,
         6,
         7,
         8,
         9
        ]
       },
       "y": {
        "type": "float64",
        "values": [
         -2.02895393071774,
         0.6658334328664823,
         1.6257472897483518,
         0.28307969102554065,
         -1.3944308051593972,
         0.8977696635436176,
         -0.6819980206161802,
         0.42350280527649015,
         1.5856493462109331,
         1.0947166896724283
        ]
       }
      }
     },
     "7a587eedcc3145f1ae891faeca328669": {
      "model_module": "bqplot",
      "model_module_version": "*",
      "model_name": "LinearScaleModel",
      "state": {
       "stabilized": false
      }
     },
     "825cdaa89d8e41bea09aabf662adff24": {
      "model_module": "bqplot",
      "model_module_version": "*",
      "model_name": "FigureModel",
      "state": {
       "_dom_classes": [],
       "axes": [
        "IPY_MODEL_6bc1dc701ad54c7eaf96ef5f53af0c81",
        "IPY_MODEL_edcecf4e6d3a470e9ee78be1363082c4"
       ],
       "layout": "IPY_MODEL_507a8b2aecee45f2b5398de4b7008c94",
       "marks": [
        "IPY_MODEL_a38f51f8426840de878b8284b5f192ff"
       ],
       "scale_x": "IPY_MODEL_47c41801f8ea4272996299b7984f78c0",
       "scale_y": "IPY_MODEL_e4c27d14b5f94814afead4bbbab9326a"
      }
     },
     "86d4c2385e36464fa8380888073794f7": {
      "model_module": "bqplot",
      "model_module_version": "*",
      "model_name": "LinearScaleModel",
      "state": {
       "allow_padding": false,
       "max": 1,
       "min": 0,
       "stabilized": false
      }
     },
     "89963fcd3a8448538fa2af7bfe27023e": {
      "model_module": "jupyter-js-widgets",
      "model_module_version": "*",
      "model_name": "LayoutModel",
      "state": {
       "align_self": "stretch",
       "flex": "1",
       "min_width": "400px"
      }
     },
     "8ab5c7e5bbb94c019d733f63477cf5d8": {
      "model_module": "bqplot",
      "model_module_version": "*",
      "model_name": "LinearScaleModel",
      "state": {
       "allow_padding": false,
       "max": 1,
       "min": 0,
       "stabilized": false
      }
     },
     "92d83747fa8e443b8ff6f5edfd6be9b3": {
      "model_module": "bqplot",
      "model_module_version": "*",
      "model_name": "AxisModel",
      "state": {
       "scale": "IPY_MODEL_95179523c05e4774822c8c943d2e0a4c",
       "side": "bottom",
       "tick_values": {
        "type": null,
        "values": null
       }
      }
     },
     "95179523c05e4774822c8c943d2e0a4c": {
      "model_module": "bqplot",
      "model_module_version": "*",
      "model_name": "LinearScaleModel",
      "state": {
       "stabilized": false
      }
     },
     "982bab15925f424bb3dae2a35fe4a3c9": {
      "model_module": "bqplot",
      "model_module_version": "*",
      "model_name": "ScatterModel",
      "state": {
       "_model_module": "bqplot",
       "_model_module_version": "*",
       "_view_module": "bqplot",
       "_view_module_version": "*",
       "apply_clip": true,
       "color": {
        "type": null,
        "values": null
       },
       "colors": [
        "orangered"
       ],
       "display_legend": true,
       "display_names": false,
       "enable_hover": true,
       "hovered_style": {},
       "interactions": {
        "hover": "tooltip"
       },
       "labels": [
        "Red"
       ],
       "msg_throttle": 1,
       "names": {
        "type": "float",
        "values": [
         100,
         101,
         102,
         103,
         104,
         105,
         106,
         107,
         108,
         109,
         110,
         111,
         112,
         113,
         114,
         115,
         116,
         117,
         118,
         119,
         120,
         121,
         122,
         123,
         124,
         125,
         126,
         127,
         128,
         129,
         130,
         131,
         132,
         133,
         134,
         135,
         136,
         137,
         138,
         139,
         140,
         141,
         142,
         143,
         144,
         145,
         146,
         147,
         148,
         149,
         150,
         151,
         152,
         153,
         154,
         155,
         156,
         157,
         158,
         159,
         160,
         161,
         162,
         163,
         164,
         165,
         166,
         167,
         168,
         169,
         170,
         171,
         172,
         173,
         174,
         175,
         176,
         177,
         178,
         179,
         180,
         181,
         182,
         183,
         184,
         185,
         186,
         187,
         188,
         189,
         190,
         191,
         192,
         193,
         194,
         195,
         196,
         197,
         198,
         199
        ]
       },
       "names_unique": false,
       "opacity": {
        "type": null,
        "values": null
       },
       "preserve_domain": {},
       "rotation": {
        "type": null,
        "values": null
       },
       "scales": {
        "x": "IPY_MODEL_70b56e35996a41f9b98aae1d4b3a0de6",
        "y": "IPY_MODEL_e5c28a290a704619b88ce3890230cb78"
       },
       "selected": [],
       "selected_style": {},
       "size": {
        "type": null,
        "values": null
       },
       "skew": {
        "type": null,
        "values": null
       },
       "tooltip": "IPY_MODEL_5d8d8d87d2744f768c93506cb23db9fd",
       "tooltip_location": "mouse",
       "tooltip_style": {
        "opacity": 0.9
       },
       "unhovered_style": {},
       "unselected_style": {},
       "visible": true,
       "x": {
        "type": "float",
        "values": [
         0,
         1,
         2,
         3,
         4,
         5,
         6,
         7,
         8,
         9,
         10,
         11,
         12,
         13,
         14,
         15,
         16,
         17,
         18,
         19
        ]
       },
       "y": {
        "type": "float64",
        "values": [
         -0.18464982724860982,
         -0.5542063724939942,
         0.6682119810223243,
         -0.5814639357441961,
         -0.8428144991150163,
         -1.1861937311240374,
         -0.4887727394346464,
         -0.2865894683863209,
         -1.285599030598565,
         0.40355126976877637,
         -0.17133857475358655,
         -0.5614644595018562,
         0.13273015594641716,
         1.523260717804758,
         -1.4882595669825613,
         0.7694228580916453,
         -0.32988409284494236,
         0.04891134526253016,
         -0.40134805696006187,
         1.4685308931650027
        ]
       }
      }
     },
     "9dcbbf0556ae49798c30c0d44dc54db1": {
      "model_module": "jupyter-js-widgets",
      "model_module_version": "*",
      "model_name": "LayoutModel",
      "state": {}
     },
     "9f2b928b32754d6480a0bc4d467fb1d8": {
      "model_module": "bqplot",
      "model_module_version": "*",
      "model_name": "AxisModel",
      "state": {
       "scale": "IPY_MODEL_70b56e35996a41f9b98aae1d4b3a0de6",
       "side": "bottom",
       "tick_values": {
        "type": null,
        "values": null
       }
      }
     },
     "a0eb9ab1425646c69fc2840c0941fa18": {
      "model_module": "bqplot",
      "model_module_version": "*",
      "model_name": "LinearScaleModel",
      "state": {
       "allow_padding": false,
       "max": 1,
       "min": 0,
       "stabilized": false
      }
     },
     "a3286294f6934c28a5cc6f005a4ad3f5": {
      "model_module": "bqplot",
      "model_module_version": "*",
      "model_name": "AxisModel",
      "state": {
       "orientation": "vertical",
       "scale": "IPY_MODEL_34df6ed626e24fee9670950c3ad65421",
       "side": "left",
       "tick_format": "0.2f",
       "tick_values": {
        "type": null,
        "values": null
       }
      }
     },
     "a38f51f8426840de878b8284b5f192ff": {
      "model_module": "bqplot",
      "model_module_version": "*",
      "model_name": "BarsModel",
      "state": {
       "color": {
        "type": null,
        "values": null
       },
       "interactions": {
        "click": "tooltip"
       },
       "labels": [
        "Level 1",
        "Level 2"
       ],
       "scales": {
        "x": "IPY_MODEL_d62f5d9739f54164a9f89709c61eaac7",
        "y": "IPY_MODEL_c89b2cbbc2574921a3958974ea9b81d5"
       },
       "selected_style": {
        "fill": "red",
        "stroke": "orange"
       },
       "tooltip": "IPY_MODEL_2c5f69d8d17b41f29d01b00679e0d3fd",
       "type": "grouped",
       "x": {
        "type": "float",
        "values": [
         0,
         1,
         2,
         3,
         4,
         5,
         6,
         7,
         8,
         9
        ]
       },
       "y": {
        "type": "float64",
        "values": [
         [
          -0.24974044995861952,
          0.5267460998496634,
          -0.9158941897439492,
          -0.31655558431691505,
          -1.175530297312028,
          -0.1172667364946595,
          1.5477813134329308,
          0.299905322641189,
          1.4860113494751623,
          -0.18619313672513862
         ],
         [
          -1.1074330978071256,
          -0.17673736643160212,
          -0.5645950301980646,
          -1.0343459068491498,
          0.7679049346070108,
          -0.6211237824373956,
          -1.6582063942423266,
          -0.63432993877443,
          -1.0901191809525361,
          1.2750402079464198
         ]
        ]
       }
      }
     },
     "a598381d52eb4d18b68b87b39d654559": {
      "model_module": "jupyter-js-widgets",
      "model_module_version": "*",
      "model_name": "LayoutModel",
      "state": {}
     },
     "b2acc910646042f1ac52529260321640": {
      "model_module": "bqplot",
      "model_module_version": "*",
      "model_name": "LinearScaleModel",
      "state": {
       "allow_padding": false,
       "max": 1,
       "min": 0,
       "stabilized": false
      }
     },
     "b370101a7caf4493b29514c0f126fef5": {
      "model_module": "jupyter-js-widgets",
      "model_module_version": "*",
      "model_name": "LayoutModel",
      "state": {}
     },
     "b98bbd58bed14c978941f8887b97e4d8": {
      "model_module": "bqplot",
      "model_module_version": "*",
      "model_name": "ColorScaleModel",
      "state": {
       "_model_name": "ColorScaleModel",
       "_view_name": "ColorScale",
       "colors": [],
       "mid": null,
       "scale_type": "linear",
       "scheme": "Reds"
      }
     },
     "bdb5f2a2fb214758b84da83aa72d557f": {
      "model_module": "jupyter-js-widgets",
      "model_module_version": "*",
      "model_name": "LayoutModel",
      "state": {}
     },
     "c02ca4eeaee44e829cab64912be9e66f": {
      "model_module": "bqplot",
      "model_module_version": "*",
      "model_name": "TooltipModel",
      "state": {
       "fields": [
        "name",
        "index"
       ],
       "formats": [
        "",
        ".2f"
       ],
       "labels": [
        "id",
        "line_num"
       ],
       "layout": "IPY_MODEL_b370101a7caf4493b29514c0f126fef5"
      }
     },
     "c2271f5f90ae486fa353d24ca4edb47e": {
      "model_module": "bqplot",
      "model_module_version": "*",
      "model_name": "LinearScaleModel",
      "state": {
       "allow_padding": false,
       "max": 1,
       "min": 0,
       "stabilized": false
      }
     },
     "c89b2cbbc2574921a3958974ea9b81d5": {
      "model_module": "bqplot",
      "model_module_version": "*",
      "model_name": "LinearScaleModel",
      "state": {
       "stabilized": false
      }
     },
     "cccfa90a4c874d7d9e77ddae1283d7a7": {
      "model_module": "bqplot",
      "model_module_version": "*",
      "model_name": "FigureModel",
      "state": {
       "_dom_classes": [],
       "axes": [
        "IPY_MODEL_70c003cfb83a4bd1891dac5fc8a5b01b",
        "IPY_MODEL_4d2eb18588d34b8aa5bd3b8aba87812d"
       ],
       "layout": "IPY_MODEL_632ae27f5564448d96738c70438d6ab7",
       "marks": [
        "IPY_MODEL_72c419f3c07e4ed1a20c846aaf2bc290"
       ],
       "scale_x": "IPY_MODEL_2d00746d397a4b55831b734c414397be",
       "scale_y": "IPY_MODEL_86d4c2385e36464fa8380888073794f7"
      }
     },
     "d0a5a998f7ec45dd9f2e5e76bf51f502": {
      "model_module": "bqplot",
      "model_module_version": "*",
      "model_name": "LinearScaleModel",
      "state": {
       "allow_padding": false,
       "max": 1,
       "min": 0,
       "stabilized": false
      }
     },
     "d4ffc844a12e4ec48956452815065467": {
      "model_module": "jupyter-js-widgets",
      "model_module_version": "*",
      "model_name": "LayoutModel",
      "state": {}
     },
     "d62f5d9739f54164a9f89709c61eaac7": {
      "model_module": "bqplot",
      "model_module_version": "*",
      "model_name": "OrdinalScaleModel",
      "state": {
       "domain": []
      }
     },
     "d9bde03356a44536af9af1bd8557c7e1": {
      "model_module": "bqplot",
      "model_module_version": "*",
      "model_name": "LinearScaleModel",
      "state": {
       "allow_padding": false,
       "max": 1,
       "min": 0,
       "stabilized": false
      }
     },
     "dd0c1e18a3d9473a98aca0fc9cc60dcd": {
      "model_module": "bqplot",
      "model_module_version": "*",
      "model_name": "FigureModel",
      "state": {
       "_dom_classes": [],
       "axes": [
        "IPY_MODEL_0c43364f7a354045882e013d62718778",
        "IPY_MODEL_a3286294f6934c28a5cc6f005a4ad3f5"
       ],
       "layout": "IPY_MODEL_1cc7d1f8036d4f0abbd0ec0ac0b13e04",
       "marks": [
        "IPY_MODEL_5e9af711a30d41b0a192456c20688862"
       ],
       "scale_x": "IPY_MODEL_b2acc910646042f1ac52529260321640",
       "scale_y": "IPY_MODEL_c2271f5f90ae486fa353d24ca4edb47e"
      }
     },
     "df2db2ae68b447108c14de780facdd38": {
      "model_module": "bqplot",
      "model_module_version": "*",
      "model_name": "LinearScaleModel",
      "state": {
       "allow_padding": false,
       "max": 1,
       "min": 0,
       "stabilized": false
      }
     },
     "e4c27d14b5f94814afead4bbbab9326a": {
      "model_module": "bqplot",
      "model_module_version": "*",
      "model_name": "LinearScaleModel",
      "state": {
       "allow_padding": false,
       "max": 1,
       "min": 0,
       "stabilized": false
      }
     },
     "e56a8e365ed84250be2ff411e1586134": {
      "model_module": "jupyter-js-widgets",
      "model_module_version": "*",
      "model_name": "LayoutModel",
      "state": {
       "align_self": "stretch",
       "flex": "1",
       "min_width": "400px"
      }
     },
     "e5c28a290a704619b88ce3890230cb78": {
      "model_module": "bqplot",
      "model_module_version": "*",
      "model_name": "LinearScaleModel",
      "state": {
       "stabilized": false
      }
     },
     "ea4de2cc07094b71960810e5da186869": {
      "model_module": "bqplot",
      "model_module_version": "*",
      "model_name": "AxisModel",
      "state": {
       "orientation": "vertical",
       "scale": "IPY_MODEL_e5c28a290a704619b88ce3890230cb78",
       "side": "left",
       "tick_format": "0.2f",
       "tick_values": {
        "type": null,
        "values": null
       }
      }
     },
     "eced308463a249bcbdb3ed313feb3c5b": {
      "model_module": "bqplot",
      "model_module_version": "*",
      "model_name": "LinearScaleModel",
      "state": {
       "allow_padding": false,
       "max": 1,
       "min": 0,
       "stabilized": false
      }
     },
     "edcecf4e6d3a470e9ee78be1363082c4": {
      "model_module": "bqplot",
      "model_module_version": "*",
      "model_name": "AxisModel",
      "state": {
       "orientation": "vertical",
       "scale": "IPY_MODEL_c89b2cbbc2574921a3958974ea9b81d5",
       "side": "left",
       "tick_format": "0.2f",
       "tick_values": {
        "type": null,
        "values": null
       }
      }
     },
     "f09f131eac514d1cbc16ca2a651d0fa4": {
      "model_module": "bqplot",
      "model_module_version": "*",
      "model_name": "LinearScaleModel",
      "state": {
       "stabilized": false
      }
     },
     "f49b6205aaef4cbabf74c304480a035e": {
      "model_module": "bqplot",
      "model_module_version": "*",
      "model_name": "TooltipModel",
      "state": {
       "fields": [
        "count",
        "midpoint"
       ],
       "formats": [
        "",
        ".2f"
       ],
       "labels": [
        "count",
        "midpoint"
       ],
       "layout": "IPY_MODEL_3e084b2931d545d4b0c12996bfe424e4"
      }
     },
     "f94fcd6b3e754de1a1c34c1ff3d4d7ed": {
      "model_module": "bqplot",
      "model_module_version": "*",
      "model_name": "FigureModel",
      "state": {
       "_dom_classes": [],
       "axes": [
        "IPY_MODEL_9f2b928b32754d6480a0bc4d467fb1d8",
        "IPY_MODEL_ea4de2cc07094b71960810e5da186869"
       ],
       "layout": "IPY_MODEL_2b81baf3a7ae4c30bbdd8bbbdb4efc1b",
       "marks": [
        "IPY_MODEL_3b3c1b6e61ca437a895a13d03f2ca435",
        "IPY_MODEL_982bab15925f424bb3dae2a35fe4a3c9"
       ],
       "scale_x": "IPY_MODEL_a0eb9ab1425646c69fc2840c0941fa18",
       "scale_y": "IPY_MODEL_df2db2ae68b447108c14de780facdd38"
      }
     }
    },
    "version_major": 1,
    "version_minor": 0
   }
  }
 },
 "nbformat": 4,
 "nbformat_minor": 1
}
