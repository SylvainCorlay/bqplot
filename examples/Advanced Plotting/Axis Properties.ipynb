{
 "cells": [
  {
   "cell_type": "code",
   "execution_count": 1,
   "metadata": {},
   "outputs": [],
   "source": [
    "import numpy as np\n",
    "from bqplot import *"
   ]
  },
  {
   "cell_type": "code",
   "execution_count": 2,
   "metadata": {
    "collapsed": true
   },
   "outputs": [],
   "source": [
    "np.random.seed(0)\n",
    "size = 100\n",
    "x_data = range(size)\n",
    "y_data = np.cumsum(np.random.randn(size) * 100.0)\n",
    "y_data_2 = np.cumsum(np.random.randn(size))"
   ]
  },
  {
   "cell_type": "markdown",
   "metadata": {},
   "source": [
    "## Miscellaneous Properties"
   ]
  },
  {
   "cell_type": "code",
   "execution_count": 3,
   "metadata": {},
   "outputs": [
    {
     "data": {
      "application/vnd.jupyter.widget-view+json": {
       "model_id": "2c4a806c29564f85a85fed2bb9325459"
      }
     },
     "metadata": {},
     "output_type": "display_data"
    }
   ],
   "source": [
    "y_sc = LinearScale()\n",
    "\n",
    "ax_x = Axis(label='Test X', scale=y_sc, grid_lines='solid')\n",
    "ax_y = Axis(label='Test Y', scale=y_sc, orientation='vertical', tick_format='0.2f', grid_lines='solid')\n",
    "\n",
    "line = Lines(x=y_data_2, y=y_data_2,\n",
    "             scales={'x': y_sc, 'y': y_sc}, colors=['hotpink', 'orange'])\n",
    "\n",
    "m_fig = dict(left=100, top=50, bottom=50, right=100)\n",
    "fig = Figure(axes=[ax_x, ax_y], marks=[line], fig_margin=m_fig)\n",
    "fig"
   ]
  },
  {
   "cell_type": "code",
   "execution_count": 4,
   "metadata": {
    "collapsed": true
   },
   "outputs": [],
   "source": [
    "# Displaying Grid Lines for the axis\n",
    "ax_x.grid_lines = 'solid'\n",
    "ax_y.grid_lines = 'dashed'"
   ]
  },
  {
   "cell_type": "code",
   "execution_count": 5,
   "metadata": {
    "collapsed": true
   },
   "outputs": [],
   "source": [
    "# Changing the side of the axis\n",
    "ax_y.side = \"right\"\n",
    "ax_x.side = \"top\""
   ]
  },
  {
   "cell_type": "code",
   "execution_count": 6,
   "metadata": {
    "collapsed": true
   },
   "outputs": [],
   "source": [
    "ax_y.orientation = \"horizontal\"\n",
    "ax_x.orientation = \"vertical\""
   ]
  },
  {
   "cell_type": "code",
   "execution_count": 7,
   "metadata": {
    "collapsed": true
   },
   "outputs": [],
   "source": [
    "## Changing the format of the ticks on the axis\n",
    "fig.axes[0].tick_format = \"0.2f\"\n",
    "fig.axes[1].tick_format = \"0.0f\""
   ]
  },
  {
   "cell_type": "code",
   "execution_count": 8,
   "metadata": {
    "collapsed": true
   },
   "outputs": [],
   "source": [
    "## Changing the color of the axis\n",
    "with ax_x.hold_sync():\n",
    "    ax_x.color = 'orangered'\n",
    "    ax_x.label_color = 'orangered'"
   ]
  },
  {
   "cell_type": "code",
   "execution_count": 9,
   "metadata": {
    "collapsed": true
   },
   "outputs": [],
   "source": [
    "#change the grid colors\n",
    "ax_x.grid_color = 'red'"
   ]
  },
  {
   "cell_type": "markdown",
   "metadata": {},
   "source": [
    "## Label Placement"
   ]
  },
  {
   "cell_type": "code",
   "execution_count": 10,
   "metadata": {},
   "outputs": [
    {
     "data": {
      "application/vnd.jupyter.widget-view+json": {
       "model_id": "a95b48a0d8be483b8efb3f4007cfb84d"
      }
     },
     "metadata": {},
     "output_type": "display_data"
    }
   ],
   "source": [
    "x_sc = LinearScale()\n",
    "y_sc = LinearScale()\n",
    "\n",
    "ax_x = Axis(label='Test X', scale=x_sc)\n",
    "ax_y = Axis(label='Test Y', scale=y_sc, orientation='vertical', tick_format='0.3f')\n",
    "\n",
    "line = Lines(x=x_data, y=y_data_2, scales={'x': x_sc, 'y': y_sc}, colors=['hotpink', 'orange'])\n",
    "\n",
    "m_fig = dict(left=100, top=50, bottom=50, right=100)\n",
    "Figure(axes=[ax_x, ax_y], marks=[line], fig_margin=m_fig)"
   ]
  },
  {
   "cell_type": "code",
   "execution_count": 11,
   "metadata": {
    "collapsed": true
   },
   "outputs": [],
   "source": [
    "## moving the label along the axis\n",
    "ax_x.label_location = 'end'\n",
    "ax_y.label_location = 'start'"
   ]
  },
  {
   "cell_type": "code",
   "execution_count": 12,
   "metadata": {
    "collapsed": true
   },
   "outputs": [],
   "source": [
    "## moving the label perpendicular to the axis\n",
    "ax_y.label_offset = '6ex'\n",
    "ax_x.label_offset = '-1em'"
   ]
  },
  {
   "cell_type": "markdown",
   "metadata": {},
   "source": [
    "## Ticks properties"
   ]
  },
  {
   "cell_type": "code",
   "execution_count": 13,
   "metadata": {},
   "outputs": [
    {
     "data": {
      "application/vnd.jupyter.widget-view+json": {
       "model_id": "cf52a5e340b549a491db5bc3fcf72feb"
      }
     },
     "metadata": {},
     "output_type": "display_data"
    }
   ],
   "source": [
    "x_sc = LinearScale()\n",
    "y_sc = LinearScale()\n",
    "\n",
    "ax_x = Axis(label='index', scale=x_sc)\n",
    "ax_y = Axis(label='Brownian', scale=y_sc, orientation='vertical', tick_format='0.2f')\n",
    "\n",
    "line = Lines(x=x_data[:20], y=y_data[:20], scales={'x': x_sc, 'y': y_sc}, colors=['hotpink', 'orange'])\n",
    "\n",
    "m_fig = dict(left=50, top=50, bottom=50, right=50)\n",
    "Figure(axes=[ax_x, ax_y], marks=[line], fig_margin=m_fig)"
   ]
  },
  {
   "cell_type": "code",
   "execution_count": 14,
   "metadata": {
    "collapsed": true
   },
   "outputs": [],
   "source": [
    "# Setting the number of ticks\n",
    "ax_x.num_ticks = 8"
   ]
  },
  {
   "cell_type": "code",
   "execution_count": 15,
   "metadata": {
    "collapsed": true
   },
   "outputs": [],
   "source": [
    "# Setting the tick values\n",
    "ax_x.tick_values = np.arange(1, 21)"
   ]
  },
  {
   "cell_type": "markdown",
   "metadata": {},
   "source": [
    "# Axis Placement"
   ]
  },
  {
   "cell_type": "code",
   "execution_count": 16,
   "metadata": {},
   "outputs": [],
   "source": [
    "sc_x = LinearScale()\n",
    "sc_y = LinearScale(reverse=True)\n",
    "sc_y2 = LinearScale()\n",
    "\n",
    "sc1 = Scatter(x=x_data[:10], y=y_data[:10],\n",
    "              scales={'x': sc_x, 'y': sc_y},\n",
    "              labels=['Test 1'],\n",
    "              default_size=100, display_legend=True)\n",
    "\n",
    "sc2 = Scatter(x=x_data[:10], y=y_data_2[:10],\n",
    "              default_colors=['dodgerblue'],\n",
    "              marker='cross', labels=['Test 2'],\n",
    "              scales={'x': sc_x, 'y': sc_y2}, display_legend=True)"
   ]
  },
  {
   "cell_type": "markdown",
   "metadata": {},
   "source": [
    "## Placement of axis in terms of figure scales"
   ]
  },
  {
   "cell_type": "code",
   "execution_count": 17,
   "metadata": {},
   "outputs": [
    {
     "data": {
      "application/vnd.jupyter.widget-view+json": {
       "model_id": "b10096143dc14031859e3eb28d667c42"
      }
     },
     "metadata": {},
     "output_type": "display_data"
    }
   ],
   "source": [
    "## Setting offset for axis in terms of figure scales\n",
    "ax_x = Axis(label='Test X', scale=sc_x, \n",
    "            grid_lines='solid', offset=dict(value=0.2), label_location=\"start\")\n",
    "\n",
    "ax_y = Axis(label='Test Y', scale=sc_y, \n",
    "            orientation='vertical', tick_format='0.2f', grid_lines='solid', label_location=\"end\")\n",
    "\n",
    "ax_y2 = Axis(label='Test Y2', scale=sc_y2, orientation='vertical', side='right', \n",
    "             tick_format='0.2f')\n",
    "Figure(axes=[ax_x, ax_y, ax_y2], marks=[sc1, sc2], legend_location='top-right',\n",
    "       padding_x=0.025)"
   ]
  },
  {
   "cell_type": "code",
   "execution_count": 18,
   "metadata": {
    "collapsed": true
   },
   "outputs": [],
   "source": [
    "# restoring to default position\n",
    "ax_x.offset = {}"
   ]
  },
  {
   "cell_type": "markdown",
   "metadata": {},
   "source": [
    "## Placement of axis in terms of actual scales and data"
   ]
  },
  {
   "cell_type": "code",
   "execution_count": 19,
   "metadata": {},
   "outputs": [],
   "source": [
    "ax_y.offset = dict(value=3.0, scale=sc_x)"
   ]
  },
  {
   "cell_type": "markdown",
   "metadata": {},
   "source": [
    "# Color Axis"
   ]
  },
  {
   "cell_type": "code",
   "execution_count": 20,
   "metadata": {},
   "outputs": [
    {
     "data": {
      "application/vnd.jupyter.widget-view+json": {
       "model_id": "5b808e9a2b634559940c16de139c4b06"
      }
     },
     "metadata": {},
     "output_type": "display_data"
    }
   ],
   "source": [
    "x_sc = LinearScale()\n",
    "y_sc = LinearScale()\n",
    "col_sc = ColorScale()\n",
    "\n",
    "scatter = Scatter(x=x_data, y=y_data, color=y_data_2,\n",
    "                  scales={'x': x_sc, 'y':y_sc, 'color': col_sc})\n",
    "ax_x = Axis(scale=x_sc)\n",
    "ax_y = Axis(scale=y_sc, orientation='vertical', tick_format='0.2f')\n",
    "ax_c = ColorAxis(scale=col_sc, label='Color')\n",
    "\n",
    "margin=dict(top=80, left=80, right=80, bottom=80)\n",
    "Figure(marks=[scatter], axes=[ax_x, ax_y, ax_c], fig_margin=margin)"
   ]
  },
  {
   "cell_type": "markdown",
   "metadata": {},
   "source": [
    "## Changing side and orientation of color axis"
   ]
  },
  {
   "cell_type": "code",
   "execution_count": 21,
   "metadata": {
    "collapsed": true
   },
   "outputs": [],
   "source": [
    "ax_c.side = 'top'"
   ]
  },
  {
   "cell_type": "code",
   "execution_count": 22,
   "metadata": {
    "collapsed": true
   },
   "outputs": [],
   "source": [
    "with ax_c.hold_sync():\n",
    "    ax_c.orientation = 'vertical'\n",
    "    ax_c.side = 'right'"
   ]
  },
  {
   "cell_type": "code",
   "execution_count": 23,
   "metadata": {
    "collapsed": true
   },
   "outputs": [],
   "source": [
    "ax_y.side = 'right'\n",
    "ax_c.side = 'left'"
   ]
  }
 ],
 "metadata": {
  "kernelspec": {
   "display_name": "Python 3",
   "language": "python",
   "name": "python3"
  },
  "language_info": {
   "codemirror_mode": {
    "name": "ipython",
    "version": 3
   },
   "file_extension": ".py",
   "mimetype": "text/x-python",
   "name": "python",
   "nbconvert_exporter": "python",
   "pygments_lexer": "ipython3",
   "version": "3.5.2"
  },
  "widgets": {
   "application/vnd.jupyter.widget-state+json": {
    "state": {
     "01aa598a851b419f8aac278cebc07cd4": {
      "model_module": "bqplot",
      "model_module_version": "*",
      "model_name": "AxisModel",
      "state": {
       "label": "Test Y2",
       "orientation": "vertical",
       "scale": "IPY_MODEL_8bd2276d33c94dc1a9485e7cd7a9ea56",
       "side": "right",
       "tick_format": "0.2f",
       "tick_values": {
        "type": null,
        "values": null
       }
      }
     },
     "01fa5416b87e4b7792945669f05d9338": {
      "model_module": "bqplot",
      "model_module_version": "*",
      "model_name": "LinearScaleModel",
      "state": {
       "allow_padding": false,
       "max": 1,
       "min": 0,
       "stabilized": false
      }
     },
     "1ce70aeab0124fc0bc68711951955c91": {
      "model_module": "jupyter-js-widgets",
      "model_module_version": "*",
      "model_name": "LayoutModel",
      "state": {
       "align_self": "stretch",
       "flex": "1",
       "min_width": "400px"
      }
     },
     "22f22bd1f8474fa8b9394d89017fe752": {
      "model_module": "bqplot",
      "model_module_version": "*",
      "model_name": "LinearScaleModel",
      "state": {
       "stabilized": false
      }
     },
     "23ee05dd2f704f6f9eaa5ab8c06dc7c8": {
      "model_module": "bqplot",
      "model_module_version": "*",
      "model_name": "AxisModel",
      "state": {
       "label": "Test X",
       "label_location": "start",
       "scale": "IPY_MODEL_efddc4f5001c499daab2f6c5fb59a697",
       "side": "bottom",
       "tick_values": {
        "type": null,
        "values": null
       }
      }
     },
     "2c4a806c29564f85a85fed2bb9325459": {
      "model_module": "bqplot",
      "model_module_version": "*",
      "model_name": "FigureModel",
      "state": {
       "_dom_classes": [],
       "axes": [
        "IPY_MODEL_c46bdd1dd52544b386bf0e7f9e03f613",
        "IPY_MODEL_4902ba7a52e54138a07b88129061ac63"
       ],
       "fig_margin": {
        "bottom": 50,
        "left": 100,
        "right": 100,
        "top": 50
       },
       "layout": "IPY_MODEL_b1ba5a1542334cdd90182b050559dc2b",
       "marks": [
        "IPY_MODEL_600e119022e04eabad8e6f8f61c90b5b"
       ],
       "scale_x": "IPY_MODEL_ff8ca67d715441aca743d982aac4815b",
       "scale_y": "IPY_MODEL_bf150cf25fd345f1bdba67a6b828d5df"
      }
     },
     "31a528a6ed664d2ba4e3801dfdea733c": {
      "model_module": "bqplot",
      "model_module_version": "*",
      "model_name": "LinearScaleModel",
      "state": {
       "stabilized": false
      }
     },
     "375a05c6f4674c46b6748bb2e6fd2773": {
      "model_module": "bqplot",
      "model_module_version": "*",
      "model_name": "LinesModel",
      "state": {
       "color": {
        "type": null,
        "values": null
       },
       "colors": [
        "hotpink",
        "orange"
       ],
       "display_legend": false,
       "fill_colors": [],
       "labels": [
        "C1"
       ],
       "scales": {
        "x": "IPY_MODEL_22f22bd1f8474fa8b9394d89017fe752",
        "y": "IPY_MODEL_31a528a6ed664d2ba4e3801dfdea733c"
       },
       "x": {
        "type": "float",
        "values": [
         0,
         1,
         2,
         3,
         4,
         5,
         6,
         7,
         8,
         9,
         10,
         11,
         12,
         13,
         14,
         15,
         16,
         17,
         18,
         19
        ]
       },
       "y": {
        "type": "float64",
        "values": [
         176.4052345967664,
         216.42095543348873,
         314.29475384406265,
         538.3840737642084,
         725.1398727792052,
         627.4120847915641,
         722.4209265441231,
         707.2852057143533,
         696.9633205349975,
         738.0231707288347,
         752.4275278449225,
         897.8548785412199,
         973.9586510559193,
         986.1261527052021,
         1030.5124759797447,
         1063.8799087171715,
         1213.2878160329321,
         1192.7719896563522,
         1224.0787598214422,
         1138.6691858912698
        ]
       }
      }
     },
     "397b104eb0eb46efbe1402db7717391b": {
      "model_module": "bqplot",
      "model_module_version": "*",
      "model_name": "LinearScaleModel",
      "state": {
       "allow_padding": false,
       "max": 1,
       "min": 0,
       "stabilized": false
      }
     },
     "3c71ed0e22d84531bcddddac5f9206cd": {
      "model_module": "bqplot",
      "model_module_version": "*",
      "model_name": "LinearScaleModel",
      "state": {
       "stabilized": false
      }
     },
     "3d0b5223003642d09b08258c22637474": {
      "model_module": "bqplot",
      "model_module_version": "*",
      "model_name": "ScatterModel",
      "state": {
       "_model_module": "bqplot",
       "_model_module_version": "*",
       "_view_module": "bqplot",
       "_view_module_version": "*",
       "apply_clip": true,
       "color": {
        "type": "float64",
        "values": [
         1.8831506970562544,
         0.535391635913808,
         -0.7350933625719256,
         0.23430334558608557,
         -0.9388200595280743,
         1.0048011261212184,
         0.5911821453614711,
         -0.1562726660792867,
         1.7666693604010981,
         3.2471841518355227,
         5.114743112262093,
         6.020787770537478,
         5.159562085482775,
         7.0696270385818085,
         6.8016236676304285,
         7.6040800634268235,
         8.551332031200571,
         8.396321938109738,
         9.010401308455819,
         9.932607980022345,
         10.309033511177974,
         9.20963272059378,
         9.507870894799835,
         10.834256791486865,
         10.139688931755499,
         9.990054391427828,
         9.55490083970619,
         11.404164568185532,
         12.076459325197968,
         12.483921161439078,
         11.714005086993762,
         12.25325427828558,
         11.578921617628204,
         11.610752175902554,
         10.974906097523673,
         11.651339392470174,
         12.227930209085114,
         12.01963145350712,
         12.415638166168765,
         11.32257665743826,
         9.831319064732654,
         10.27071076599719,
         10.437384261369719,
         11.072415698261825,
         13.455560473125766,
         14.40003996011618,
         13.487217734672022,
         14.604234022767875,
         13.288326612256354,
         12.826742007441645,
         12.758500402117013,
         14.47184312376638,
         13.72708830171794,
         12.900649763058926,
         12.802197238633493,
         12.138718952271386,
         13.265354874377893,
         12.18542336601447,
         11.037954713603368,
         10.600134668858933,
         10.102102218166628,
         12.031634271983615,
         12.981055078909375,
         13.068606320294565,
         11.843170801464398,
         12.687533777865944,
         11.68731843047638,
         10.142547333698769,
         11.33057712605107,
         11.64751973797592,
         12.568378561756738,
         12.88710621469976,
         13.74393682660245,
         13.092911233302303,
         12.058668391517838,
         12.740262909799466,
         11.936853245625624,
         11.247303467875424,
         10.791770964358081,
         10.809250123383137,
         10.455256212129653,
         9.080304918711635,
         8.436686515878744,
         6.213283363654318,
         6.838514814681505,
         5.2364571590747575,
         4.1320738196463065,
         4.184238898907281,
         3.4446759025159674,
         4.987690497922703,
         3.6948335881992542,
         3.9618844575484373,
         3.9226016393209417,
         2.7545081415797443,
         3.277784802111498,
         3.10623847088925,
         3.8780290221029174,
         4.701533176066649,
         6.864769125347339,
         8.201297074783731
        ]
       },
       "colors": [
        "DeepSkyBlue"
       ],
       "display_legend": false,
       "enable_hover": true,
       "hovered_style": {},
       "interactions": {
        "hover": "tooltip"
       },
       "labels": [],
       "msg_throttle": 1,
       "names": {
        "type": null,
        "values": null
       },
       "opacity": {
        "type": null,
        "values": null
       },
       "preserve_domain": {},
       "rotation": {
        "type": null,
        "values": null
       },
       "scales": {
        "color": "IPY_MODEL_605fa8d679fc4110b523f0703a8fe75c",
        "x": "IPY_MODEL_fa8439af763f415baae8de181ac75328",
        "y": "IPY_MODEL_59c1e072180041c590e16629de456a26"
       },
       "selected": [],
       "selected_style": {},
       "size": {
        "type": null,
        "values": null
       },
       "skew": {
        "type": null,
        "values": null
       },
       "tooltip": null,
       "tooltip_location": "mouse",
       "tooltip_style": {
        "opacity": 0.9
       },
       "unhovered_style": {},
       "unselected_style": {},
       "visible": true,
       "x": {
        "type": "float",
        "values": [
         0,
         1,
         2,
         3,
         4,
         5,
         6,
         7,
         8,
         9,
         10,
         11,
         12,
         13,
         14,
         15,
         16,
         17,
         18,
         19,
         20,
         21,
         22,
         23,
         24,
         25,
         26,
         27,
         28,
         29,
         30,
         31,
         32,
         33,
         34,
         35,
         36,
         37,
         38,
         39,
         40,
         41,
         42,
         43,
         44,
         45,
         46,
         47,
         48,
         49,
         50,
         51,
         52,
         53,
         54,
         55,
         56,
         57,
         58,
         59,
         60,
         61,
         62,
         63,
         64,
         65,
         66,
         67,
         68,
         69,
         70,
         71,
         72,
         73,
         74,
         75,
         76,
         77,
         78,
         79,
         80,
         81,
         82,
         83,
         84,
         85,
         86,
         87,
         88,
         89,
         90,
         91,
         92,
         93,
         94,
         95,
         96,
         97,
         98,
         99
        ]
       },
       "y": {
        "type": "float64",
        "values": [
         176.4052345967664,
         216.42095543348873,
         314.29475384406265,
         538.3840737642084,
         725.1398727792052,
         627.4120847915641,
         722.4209265441231,
         707.2852057143533,
         696.9633205349975,
         738.0231707288347,
         752.4275278449225,
         897.8548785412199,
         973.9586510559193,
         986.1261527052021,
         1030.5124759797447,
         1063.8799087171715,
         1213.2878160329321,
         1192.7719896563522,
         1224.0787598214422,
         1138.6691858912698,
         883.3702043078619,
         948.7320638518979,
         1035.1756837378484,
         960.9591816972043,
         1187.934644095965,
         1042.4980766360886,
         1047.0739283662333,
         1028.35554336365,
         1181.6334647994956,
         1328.569341789524,
         1344.0640843592157,
         1381.8803363194331,
         1293.101761556422,
         1095.0221147340292,
         1060.230899801414,
         1075.865796711812,
         1198.8948647845841,
         1319.1328496630254,
         1280.4001679222301,
         1250.1698928646965,
         1145.3145963579873,
         1003.3128026400898,
         832.6857835775885,
         1027.7633231007674,
         976.798104925602,
         932.9906747644834,
         807.7111387594907,
         885.4601743426817,
         724.0703895868866,
         702.7963615654897,
         613.2497054461222,
         651.9399552320484,
         600.8594414751611,
         482.7962230629199,
         479.97800022905443,
         522.8111872820962,
         529.462909520413,
         559.7100992943911,
         496.2778899262947,
         460.00377332758086,
         392.75772854998576,
         356.80241239593164,
         275.48778419148624,
         102.85952395831856,
         120.60213818369385,
         80.42404456286766,
         -82.59579013373678,
         -36.31756458115937,
         -127.04740101948357,
         -121.85286143986968,
         -48.943805222116,
         -36.04551414637493,
         77.89455430795515,
         -45.58802772741012,
         -5.353863609655221,
         -73.83487270368654,
         -160.91458762187472,
         -218.79955409831626,
         -249.95480731105351,
         -244.33827308807898,
         -360.8532571664146,
         -270.7706084709959,
         -224.20436449794994,
         -377.82873312567233,
         -229.00351374611236,
         -39.41459614305404,
         78.46336097291103,
         60.47087739167594,
         -46.604384759378306,
         58.840787933735356,
         18.523093236417395,
         140.76760027466014,
         161.59509808234617,
         259.25900173071744,
         294.8956414481576,
         365.55295826735244,
         366.6029603394345,
         545.190009730018,
         557.88121900038,
         598.0801553448503
        ]
       }
      }
     },
     "4902ba7a52e54138a07b88129061ac63": {
      "model_module": "bqplot",
      "model_module_version": "*",
      "model_name": "AxisModel",
      "state": {
       "grid_lines": "dashed",
       "label": "Test Y",
       "scale": "IPY_MODEL_a2e12d82beca42d2ad69629a449e76eb",
       "side": "bottom",
       "tick_format": "0.0f",
       "tick_values": {
        "type": null,
        "values": null
       }
      }
     },
     "4c9fe755db3e499990f5132eaa60d476": {
      "model_module": "jupyter-js-widgets",
      "model_module_version": "*",
      "model_name": "LayoutModel",
      "state": {
       "align_self": "stretch",
       "flex": "1",
       "min_width": "400px"
      }
     },
     "506c788cbf974b8989811a9bcb10b14a": {
      "model_module": "bqplot",
      "model_module_version": "*",
      "model_name": "ScatterModel",
      "state": {
       "_model_module": "bqplot",
       "_model_module_version": "*",
       "_view_module": "bqplot",
       "_view_module_version": "*",
       "apply_clip": true,
       "color": {
        "type": null,
        "values": null
       },
       "colors": [
        "DeepSkyBlue"
       ],
       "default_size": 100,
       "display_legend": true,
       "enable_hover": true,
       "hovered_style": {},
       "interactions": {
        "hover": "tooltip"
       },
       "labels": [
        "Test 1"
       ],
       "msg_throttle": 1,
       "names": {
        "type": null,
        "values": null
       },
       "opacity": {
        "type": null,
        "values": null
       },
       "preserve_domain": {},
       "rotation": {
        "type": null,
        "values": null
       },
       "scales": {
        "x": "IPY_MODEL_efddc4f5001c499daab2f6c5fb59a697",
        "y": "IPY_MODEL_98262a5a8bad41b99c19dd29af91aa9e"
       },
       "selected": [],
       "selected_style": {},
       "size": {
        "type": null,
        "values": null
       },
       "skew": {
        "type": null,
        "values": null
       },
       "tooltip": null,
       "tooltip_location": "mouse",
       "tooltip_style": {
        "opacity": 0.9
       },
       "unhovered_style": {},
       "unselected_style": {},
       "visible": true,
       "x": {
        "type": "float",
        "values": [
         0,
         1,
         2,
         3,
         4,
         5,
         6,
         7,
         8,
         9
        ]
       },
       "y": {
        "type": "float64",
        "values": [
         176.4052345967664,
         216.42095543348873,
         314.29475384406265,
         538.3840737642084,
         725.1398727792052,
         627.4120847915641,
         722.4209265441231,
         707.2852057143533,
         696.9633205349975,
         738.0231707288347
        ]
       }
      }
     },
     "59c1e072180041c590e16629de456a26": {
      "model_module": "bqplot",
      "model_module_version": "*",
      "model_name": "LinearScaleModel",
      "state": {
       "stabilized": false
      }
     },
     "5b808e9a2b634559940c16de139c4b06": {
      "model_module": "bqplot",
      "model_module_version": "*",
      "model_name": "FigureModel",
      "state": {
       "_dom_classes": [],
       "axes": [
        "IPY_MODEL_af734a9a8b4247c696735c76930399c3",
        "IPY_MODEL_e5f323e5622341d699ec3cbe3a79d5c7",
        "IPY_MODEL_5f280e039461488ab6fa495b2c150efe"
       ],
       "fig_margin": {
        "bottom": 80,
        "left": 80,
        "right": 80,
        "top": 80
       },
       "layout": "IPY_MODEL_6e6411ac4e994fa5a5f96986a96f0004",
       "marks": [
        "IPY_MODEL_3d0b5223003642d09b08258c22637474"
       ],
       "scale_x": "IPY_MODEL_d6f7486254a74e6fb6dd152f9c9e28d4",
       "scale_y": "IPY_MODEL_ed1627e822274f489f885441ff1f24a4"
      }
     },
     "5f280e039461488ab6fa495b2c150efe": {
      "model_module": "bqplot",
      "model_module_version": "*",
      "model_name": "ColorAxisModel",
      "state": {
       "label": "Color",
       "orientation": "vertical",
       "scale": "IPY_MODEL_605fa8d679fc4110b523f0703a8fe75c",
       "side": "left",
       "tick_values": {
        "type": null,
        "values": null
       }
      }
     },
     "600e119022e04eabad8e6f8f61c90b5b": {
      "model_module": "bqplot",
      "model_module_version": "*",
      "model_name": "LinesModel",
      "state": {
       "color": {
        "type": null,
        "values": null
       },
       "colors": [
        "hotpink",
        "orange"
       ],
       "display_legend": false,
       "fill_colors": [],
       "labels": [
        "C1"
       ],
       "scales": {
        "x": "IPY_MODEL_a2e12d82beca42d2ad69629a449e76eb",
        "y": "IPY_MODEL_a2e12d82beca42d2ad69629a449e76eb"
       },
       "x": {
        "type": "float64",
        "values": [
         1.8831506970562544,
         0.535391635913808,
         -0.7350933625719256,
         0.23430334558608557,
         -0.9388200595280743,
         1.0048011261212184,
         0.5911821453614711,
         -0.1562726660792867,
         1.7666693604010981,
         3.2471841518355227,
         5.114743112262093,
         6.020787770537478,
         5.159562085482775,
         7.0696270385818085,
         6.8016236676304285,
         7.6040800634268235,
         8.551332031200571,
         8.396321938109738,
         9.010401308455819,
         9.932607980022345,
         10.309033511177974,
         9.20963272059378,
         9.507870894799835,
         10.834256791486865,
         10.139688931755499,
         9.990054391427828,
         9.55490083970619,
         11.404164568185532,
         12.076459325197968,
         12.483921161439078,
         11.714005086993762,
         12.25325427828558,
         11.578921617628204,
         11.610752175902554,
         10.974906097523673,
         11.651339392470174,
         12.227930209085114,
         12.01963145350712,
         12.415638166168765,
         11.32257665743826,
         9.831319064732654,
         10.27071076599719,
         10.437384261369719,
         11.072415698261825,
         13.455560473125766,
         14.40003996011618,
         13.487217734672022,
         14.604234022767875,
         13.288326612256354,
         12.826742007441645,
         12.758500402117013,
         14.47184312376638,
         13.72708830171794,
         12.900649763058926,
         12.802197238633493,
         12.138718952271386,
         13.265354874377893,
         12.18542336601447,
         11.037954713603368,
         10.600134668858933,
         10.102102218166628,
         12.031634271983615,
         12.981055078909375,
         13.068606320294565,
         11.843170801464398,
         12.687533777865944,
         11.68731843047638,
         10.142547333698769,
         11.33057712605107,
         11.64751973797592,
         12.568378561756738,
         12.88710621469976,
         13.74393682660245,
         13.092911233302303,
         12.058668391517838,
         12.740262909799466,
         11.936853245625624,
         11.247303467875424,
         10.791770964358081,
         10.809250123383137,
         10.455256212129653,
         9.080304918711635,
         8.436686515878744,
         6.213283363654318,
         6.838514814681505,
         5.2364571590747575,
         4.1320738196463065,
         4.184238898907281,
         3.4446759025159674,
         4.987690497922703,
         3.6948335881992542,
         3.9618844575484373,
         3.9226016393209417,
         2.7545081415797443,
         3.277784802111498,
         3.10623847088925,
         3.8780290221029174,
         4.701533176066649,
         6.864769125347339,
         8.201297074783731
        ]
       },
       "y": {
        "type": "float64",
        "values": [
         1.8831506970562544,
         0.535391635913808,
         -0.7350933625719256,
         0.23430334558608557,
         -0.9388200595280743,
         1.0048011261212184,
         0.5911821453614711,
         -0.1562726660792867,
         1.7666693604010981,
         3.2471841518355227,
         5.114743112262093,
         6.020787770537478,
         5.159562085482775,
         7.0696270385818085,
         6.8016236676304285,
         7.6040800634268235,
         8.551332031200571,
         8.396321938109738,
         9.010401308455819,
         9.932607980022345,
         10.309033511177974,
         9.20963272059378,
         9.507870894799835,
         10.834256791486865,
         10.139688931755499,
         9.990054391427828,
         9.55490083970619,
         11.404164568185532,
         12.076459325197968,
         12.483921161439078,
         11.714005086993762,
         12.25325427828558,
         11.578921617628204,
         11.610752175902554,
         10.974906097523673,
         11.651339392470174,
         12.227930209085114,
         12.01963145350712,
         12.415638166168765,
         11.32257665743826,
         9.831319064732654,
         10.27071076599719,
         10.437384261369719,
         11.072415698261825,
         13.455560473125766,
         14.40003996011618,
         13.487217734672022,
         14.604234022767875,
         13.288326612256354,
         12.826742007441645,
         12.758500402117013,
         14.47184312376638,
         13.72708830171794,
         12.900649763058926,
         12.802197238633493,
         12.138718952271386,
         13.265354874377893,
         12.18542336601447,
         11.037954713603368,
         10.600134668858933,
         10.102102218166628,
         12.031634271983615,
         12.981055078909375,
         13.068606320294565,
         11.843170801464398,
         12.687533777865944,
         11.68731843047638,
         10.142547333698769,
         11.33057712605107,
         11.64751973797592,
         12.568378561756738,
         12.88710621469976,
         13.74393682660245,
         13.092911233302303,
         12.058668391517838,
         12.740262909799466,
         11.936853245625624,
         11.247303467875424,
         10.791770964358081,
         10.809250123383137,
         10.455256212129653,
         9.080304918711635,
         8.436686515878744,
         6.213283363654318,
         6.838514814681505,
         5.2364571590747575,
         4.1320738196463065,
         4.184238898907281,
         3.4446759025159674,
         4.987690497922703,
         3.6948335881992542,
         3.9618844575484373,
         3.9226016393209417,
         2.7545081415797443,
         3.277784802111498,
         3.10623847088925,
         3.8780290221029174,
         4.701533176066649,
         6.864769125347339,
         8.201297074783731
        ]
       }
      }
     },
     "605fa8d679fc4110b523f0703a8fe75c": {
      "model_module": "bqplot",
      "model_module_version": "*",
      "model_name": "ColorScaleModel",
      "state": {
       "_model_name": "ColorScaleModel",
       "_view_name": "ColorScale",
       "colors": [],
       "mid": null,
       "scale_type": "linear",
       "scheme": "RdYlGn"
      }
     },
     "6b1c5d047cdf450793c76f2da3220935": {
      "model_module": "bqplot",
      "model_module_version": "*",
      "model_name": "AxisModel",
      "state": {
       "label": "index",
       "num_ticks": 8,
       "scale": "IPY_MODEL_22f22bd1f8474fa8b9394d89017fe752",
       "side": "bottom",
       "tick_values": {
        "type": "float",
        "values": [
         1,
         2,
         3,
         4,
         5,
         6,
         7,
         8,
         9,
         10,
         11,
         12,
         13,
         14,
         15,
         16,
         17,
         18,
         19,
         20
        ]
       }
      }
     },
     "6e6411ac4e994fa5a5f96986a96f0004": {
      "model_module": "jupyter-js-widgets",
      "model_module_version": "*",
      "model_name": "LayoutModel",
      "state": {
       "align_self": "stretch",
       "flex": "1",
       "min_width": "400px"
      }
     },
     "76c70af009964ee595b5f5822b0b249b": {
      "model_module": "bqplot",
      "model_module_version": "*",
      "model_name": "LinearScaleModel",
      "state": {
       "allow_padding": false,
       "max": 1,
       "min": 0,
       "stabilized": false
      }
     },
     "7766ccca36ff418982f822c269786bd5": {
      "model_module": "bqplot",
      "model_module_version": "*",
      "model_name": "LinearScaleModel",
      "state": {
       "allow_padding": false,
       "max": 1,
       "min": 0,
       "stabilized": false
      }
     },
     "8bd2276d33c94dc1a9485e7cd7a9ea56": {
      "model_module": "bqplot",
      "model_module_version": "*",
      "model_name": "LinearScaleModel",
      "state": {
       "stabilized": false
      }
     },
     "8c23f9a9bec845cc9528df810d839e60": {
      "model_module": "bqplot",
      "model_module_version": "*",
      "model_name": "AxisModel",
      "state": {
       "label": "Brownian",
       "orientation": "vertical",
       "scale": "IPY_MODEL_31a528a6ed664d2ba4e3801dfdea733c",
       "side": "left",
       "tick_format": "0.2f",
       "tick_values": {
        "type": null,
        "values": null
       }
      }
     },
     "98262a5a8bad41b99c19dd29af91aa9e": {
      "model_module": "bqplot",
      "model_module_version": "*",
      "model_name": "LinearScaleModel",
      "state": {
       "reverse": true,
       "stabilized": false
      }
     },
     "982ecfd16be7430da0f78735b2bf9ca4": {
      "model_module": "bqplot",
      "model_module_version": "*",
      "model_name": "AxisModel",
      "state": {
       "label": "Test Y",
       "label_location": "end",
       "offset": {
        "scale": "IPY_MODEL_efddc4f5001c499daab2f6c5fb59a697",
        "value": 3
       },
       "orientation": "vertical",
       "scale": "IPY_MODEL_98262a5a8bad41b99c19dd29af91aa9e",
       "side": "left",
       "tick_format": "0.2f",
       "tick_values": {
        "type": null,
        "values": null
       }
      }
     },
     "a2e12d82beca42d2ad69629a449e76eb": {
      "model_module": "bqplot",
      "model_module_version": "*",
      "model_name": "LinearScaleModel",
      "state": {
       "stabilized": false
      }
     },
     "a95b48a0d8be483b8efb3f4007cfb84d": {
      "model_module": "bqplot",
      "model_module_version": "*",
      "model_name": "FigureModel",
      "state": {
       "_dom_classes": [],
       "axes": [
        "IPY_MODEL_ceed27dcae69420daa5c70bfaebc834a",
        "IPY_MODEL_bcc25ea7960a41b6ba3badec8f1b23f8"
       ],
       "fig_margin": {
        "bottom": 50,
        "left": 100,
        "right": 100,
        "top": 50
       },
       "layout": "IPY_MODEL_be0f56fac582426bb1980136107526a7",
       "marks": [
        "IPY_MODEL_afde6350a36343e8ac1f0d139f9d7122"
       ],
       "scale_x": "IPY_MODEL_76c70af009964ee595b5f5822b0b249b",
       "scale_y": "IPY_MODEL_397b104eb0eb46efbe1402db7717391b"
      }
     },
     "af734a9a8b4247c696735c76930399c3": {
      "model_module": "bqplot",
      "model_module_version": "*",
      "model_name": "AxisModel",
      "state": {
       "scale": "IPY_MODEL_fa8439af763f415baae8de181ac75328",
       "side": "bottom",
       "tick_values": {
        "type": null,
        "values": null
       }
      }
     },
     "afde6350a36343e8ac1f0d139f9d7122": {
      "model_module": "bqplot",
      "model_module_version": "*",
      "model_name": "LinesModel",
      "state": {
       "color": {
        "type": null,
        "values": null
       },
       "colors": [
        "hotpink",
        "orange"
       ],
       "display_legend": false,
       "fill_colors": [],
       "labels": [
        "C1"
       ],
       "scales": {
        "x": "IPY_MODEL_3c71ed0e22d84531bcddddac5f9206cd",
        "y": "IPY_MODEL_ec2b95a71ed34f57ad8c4e6155e2d16b"
       },
       "x": {
        "type": "float",
        "values": [
         0,
         1,
         2,
         3,
         4,
         5,
         6,
         7,
         8,
         9,
         10,
         11,
         12,
         13,
         14,
         15,
         16,
         17,
         18,
         19,
         20,
         21,
         22,
         23,
         24,
         25,
         26,
         27,
         28,
         29,
         30,
         31,
         32,
         33,
         34,
         35,
         36,
         37,
         38,
         39,
         40,
         41,
         42,
         43,
         44,
         45,
         46,
         47,
         48,
         49,
         50,
         51,
         52,
         53,
         54,
         55,
         56,
         57,
         58,
         59,
         60,
         61,
         62,
         63,
         64,
         65,
         66,
         67,
         68,
         69,
         70,
         71,
         72,
         73,
         74,
         75,
         76,
         77,
         78,
         79,
         80,
         81,
         82,
         83,
         84,
         85,
         86,
         87,
         88,
         89,
         90,
         91,
         92,
         93,
         94,
         95,
         96,
         97,
         98,
         99
        ]
       },
       "y": {
        "type": "float64",
        "values": [
         1.8831506970562544,
         0.535391635913808,
         -0.7350933625719256,
         0.23430334558608557,
         -0.9388200595280743,
         1.0048011261212184,
         0.5911821453614711,
         -0.1562726660792867,
         1.7666693604010981,
         3.2471841518355227,
         5.114743112262093,
         6.020787770537478,
         5.159562085482775,
         7.0696270385818085,
         6.8016236676304285,
         7.6040800634268235,
         8.551332031200571,
         8.396321938109738,
         9.010401308455819,
         9.932607980022345,
         10.309033511177974,
         9.20963272059378,
         9.507870894799835,
         10.834256791486865,
         10.139688931755499,
         9.990054391427828,
         9.55490083970619,
         11.404164568185532,
         12.076459325197968,
         12.483921161439078,
         11.714005086993762,
         12.25325427828558,
         11.578921617628204,
         11.610752175902554,
         10.974906097523673,
         11.651339392470174,
         12.227930209085114,
         12.01963145350712,
         12.415638166168765,
         11.32257665743826,
         9.831319064732654,
         10.27071076599719,
         10.437384261369719,
         11.072415698261825,
         13.455560473125766,
         14.40003996011618,
         13.487217734672022,
         14.604234022767875,
         13.288326612256354,
         12.826742007441645,
         12.758500402117013,
         14.47184312376638,
         13.72708830171794,
         12.900649763058926,
         12.802197238633493,
         12.138718952271386,
         13.265354874377893,
         12.18542336601447,
         11.037954713603368,
         10.600134668858933,
         10.102102218166628,
         12.031634271983615,
         12.981055078909375,
         13.068606320294565,
         11.843170801464398,
         12.687533777865944,
         11.68731843047638,
         10.142547333698769,
         11.33057712605107,
         11.64751973797592,
         12.568378561756738,
         12.88710621469976,
         13.74393682660245,
         13.092911233302303,
         12.058668391517838,
         12.740262909799466,
         11.936853245625624,
         11.247303467875424,
         10.791770964358081,
         10.809250123383137,
         10.455256212129653,
         9.080304918711635,
         8.436686515878744,
         6.213283363654318,
         6.838514814681505,
         5.2364571590747575,
         4.1320738196463065,
         4.184238898907281,
         3.4446759025159674,
         4.987690497922703,
         3.6948335881992542,
         3.9618844575484373,
         3.9226016393209417,
         2.7545081415797443,
         3.277784802111498,
         3.10623847088925,
         3.8780290221029174,
         4.701533176066649,
         6.864769125347339,
         8.201297074783731
        ]
       }
      }
     },
     "b10096143dc14031859e3eb28d667c42": {
      "model_module": "bqplot",
      "model_module_version": "*",
      "model_name": "FigureModel",
      "state": {
       "_dom_classes": [],
       "axes": [
        "IPY_MODEL_23ee05dd2f704f6f9eaa5ab8c06dc7c8",
        "IPY_MODEL_982ecfd16be7430da0f78735b2bf9ca4",
        "IPY_MODEL_01aa598a851b419f8aac278cebc07cd4"
       ],
       "layout": "IPY_MODEL_1ce70aeab0124fc0bc68711951955c91",
       "marks": [
        "IPY_MODEL_506c788cbf974b8989811a9bcb10b14a",
        "IPY_MODEL_fdd6d08bdf1244bda663c3adac494fd8"
       ],
       "padding_x": 0.025,
       "scale_x": "IPY_MODEL_c80bcdf21cf048319b63498fc54e7471",
       "scale_y": "IPY_MODEL_7766ccca36ff418982f822c269786bd5"
      }
     },
     "b1ba5a1542334cdd90182b050559dc2b": {
      "model_module": "jupyter-js-widgets",
      "model_module_version": "*",
      "model_name": "LayoutModel",
      "state": {
       "align_self": "stretch",
       "flex": "1",
       "min_width": "400px"
      }
     },
     "bcc25ea7960a41b6ba3badec8f1b23f8": {
      "model_module": "bqplot",
      "model_module_version": "*",
      "model_name": "AxisModel",
      "state": {
       "label": "Test Y",
       "label_location": "start",
       "label_offset": "6ex",
       "orientation": "vertical",
       "scale": "IPY_MODEL_ec2b95a71ed34f57ad8c4e6155e2d16b",
       "side": "left",
       "tick_format": "0.3f",
       "tick_values": {
        "type": null,
        "values": null
       }
      }
     },
     "be0f56fac582426bb1980136107526a7": {
      "model_module": "jupyter-js-widgets",
      "model_module_version": "*",
      "model_name": "LayoutModel",
      "state": {
       "align_self": "stretch",
       "flex": "1",
       "min_width": "400px"
      }
     },
     "bf150cf25fd345f1bdba67a6b828d5df": {
      "model_module": "bqplot",
      "model_module_version": "*",
      "model_name": "LinearScaleModel",
      "state": {
       "allow_padding": false,
       "max": 1,
       "min": 0,
       "stabilized": false
      }
     },
     "c2437925c5aa47668e3a6b7875cc392e": {
      "model_module": "bqplot",
      "model_module_version": "*",
      "model_name": "LinearScaleModel",
      "state": {
       "allow_padding": false,
       "max": 1,
       "min": 0,
       "stabilized": false
      }
     },
     "c46bdd1dd52544b386bf0e7f9e03f613": {
      "model_module": "bqplot",
      "model_module_version": "*",
      "model_name": "AxisModel",
      "state": {
       "color": "orangered",
       "grid_color": "red",
       "label": "Test X",
       "label_color": "orangered",
       "orientation": "vertical",
       "scale": "IPY_MODEL_a2e12d82beca42d2ad69629a449e76eb",
       "side": "left",
       "tick_format": "0.2f",
       "tick_values": {
        "type": null,
        "values": null
       }
      }
     },
     "c80bcdf21cf048319b63498fc54e7471": {
      "model_module": "bqplot",
      "model_module_version": "*",
      "model_name": "LinearScaleModel",
      "state": {
       "allow_padding": false,
       "max": 1,
       "min": 0,
       "stabilized": false
      }
     },
     "ceed27dcae69420daa5c70bfaebc834a": {
      "model_module": "bqplot",
      "model_module_version": "*",
      "model_name": "AxisModel",
      "state": {
       "label": "Test X",
       "label_location": "end",
       "label_offset": "-1em",
       "scale": "IPY_MODEL_3c71ed0e22d84531bcddddac5f9206cd",
       "side": "bottom",
       "tick_values": {
        "type": null,
        "values": null
       }
      }
     },
     "cf52a5e340b549a491db5bc3fcf72feb": {
      "model_module": "bqplot",
      "model_module_version": "*",
      "model_name": "FigureModel",
      "state": {
       "_dom_classes": [],
       "axes": [
        "IPY_MODEL_6b1c5d047cdf450793c76f2da3220935",
        "IPY_MODEL_8c23f9a9bec845cc9528df810d839e60"
       ],
       "fig_margin": {
        "bottom": 50,
        "left": 50,
        "right": 50,
        "top": 50
       },
       "layout": "IPY_MODEL_4c9fe755db3e499990f5132eaa60d476",
       "marks": [
        "IPY_MODEL_375a05c6f4674c46b6748bb2e6fd2773"
       ],
       "scale_x": "IPY_MODEL_c2437925c5aa47668e3a6b7875cc392e",
       "scale_y": "IPY_MODEL_01fa5416b87e4b7792945669f05d9338"
      }
     },
     "d6f7486254a74e6fb6dd152f9c9e28d4": {
      "model_module": "bqplot",
      "model_module_version": "*",
      "model_name": "LinearScaleModel",
      "state": {
       "allow_padding": false,
       "max": 1,
       "min": 0,
       "stabilized": false
      }
     },
     "e5f323e5622341d699ec3cbe3a79d5c7": {
      "model_module": "bqplot",
      "model_module_version": "*",
      "model_name": "AxisModel",
      "state": {
       "orientation": "vertical",
       "scale": "IPY_MODEL_59c1e072180041c590e16629de456a26",
       "side": "right",
       "tick_format": "0.2f",
       "tick_values": {
        "type": null,
        "values": null
       }
      }
     },
     "ec2b95a71ed34f57ad8c4e6155e2d16b": {
      "model_module": "bqplot",
      "model_module_version": "*",
      "model_name": "LinearScaleModel",
      "state": {
       "stabilized": false
      }
     },
     "ed1627e822274f489f885441ff1f24a4": {
      "model_module": "bqplot",
      "model_module_version": "*",
      "model_name": "LinearScaleModel",
      "state": {
       "allow_padding": false,
       "max": 1,
       "min": 0,
       "stabilized": false
      }
     },
     "efddc4f5001c499daab2f6c5fb59a697": {
      "model_module": "bqplot",
      "model_module_version": "*",
      "model_name": "LinearScaleModel",
      "state": {
       "stabilized": false
      }
     },
     "fa8439af763f415baae8de181ac75328": {
      "model_module": "bqplot",
      "model_module_version": "*",
      "model_name": "LinearScaleModel",
      "state": {
       "stabilized": false
      }
     },
     "fdd6d08bdf1244bda663c3adac494fd8": {
      "model_module": "bqplot",
      "model_module_version": "*",
      "model_name": "ScatterModel",
      "state": {
       "_model_module": "bqplot",
       "_model_module_version": "*",
       "_view_module": "bqplot",
       "_view_module_version": "*",
       "apply_clip": true,
       "color": {
        "type": null,
        "values": null
       },
       "colors": [
        "dodgerblue"
       ],
       "display_legend": true,
       "enable_hover": true,
       "hovered_style": {},
       "interactions": {
        "hover": "tooltip"
       },
       "labels": [
        "Test 2"
       ],
       "marker": "cross",
       "msg_throttle": 1,
       "names": {
        "type": null,
        "values": null
       },
       "opacity": {
        "type": null,
        "values": null
       },
       "preserve_domain": {},
       "rotation": {
        "type": null,
        "values": null
       },
       "scales": {
        "x": "IPY_MODEL_efddc4f5001c499daab2f6c5fb59a697",
        "y": "IPY_MODEL_8bd2276d33c94dc1a9485e7cd7a9ea56"
       },
       "selected": [],
       "selected_style": {},
       "size": {
        "type": null,
        "values": null
       },
       "skew": {
        "type": null,
        "values": null
       },
       "tooltip": null,
       "tooltip_location": "mouse",
       "tooltip_style": {
        "opacity": 0.9
       },
       "unhovered_style": {},
       "unselected_style": {},
       "visible": true,
       "x": {
        "type": "float",
        "values": [
         0,
         1,
         2,
         3,
         4,
         5,
         6,
         7,
         8,
         9
        ]
       },
       "y": {
        "type": "float64",
        "values": [
         1.8831506970562544,
         0.535391635913808,
         -0.7350933625719256,
         0.23430334558608557,
         -0.9388200595280743,
         1.0048011261212184,
         0.5911821453614711,
         -0.1562726660792867,
         1.7666693604010981,
         3.2471841518355227
        ]
       }
      }
     },
     "ff8ca67d715441aca743d982aac4815b": {
      "model_module": "bqplot",
      "model_module_version": "*",
      "model_name": "LinearScaleModel",
      "state": {
       "allow_padding": false,
       "max": 1,
       "min": 0,
       "stabilized": false
      }
     }
    },
    "version_major": 1,
    "version_minor": 0
   }
  }
 },
 "nbformat": 4,
 "nbformat_minor": 1
}
