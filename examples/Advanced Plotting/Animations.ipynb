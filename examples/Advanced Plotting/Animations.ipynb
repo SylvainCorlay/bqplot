{
 "cells": [
  {
   "cell_type": "markdown",
   "metadata": {},
   "source": [
    "### Animations of marks and axes can be enabled by setting 'animation_duration' property of the figure"
   ]
  },
  {
   "cell_type": "markdown",
   "metadata": {},
   "source": [
    "## Line Animations"
   ]
  },
  {
   "cell_type": "code",
   "execution_count": 1,
   "metadata": {
    "collapsed": true
   },
   "outputs": [],
   "source": [
    "import numpy as np\n",
    "from bqplot import *"
   ]
  },
  {
   "cell_type": "code",
   "execution_count": 2,
   "metadata": {},
   "outputs": [
    {
     "data": {
      "application/vnd.jupyter.widget-view+json": {
       "model_id": "5046c8aa70d347fe9fccd49771e04fdd"
      }
     },
     "metadata": {},
     "output_type": "display_data"
    }
   ],
   "source": [
    "xs = LinearScale()\n",
    "ys = LinearScale()\n",
    "x = np.arange(100)\n",
    "y = np.cumsum(np.random.randn(2, 100), axis=1) #two random walks\n",
    "\n",
    "line = Lines(x=x, y=y, scales={'x': xs, 'y': ys}, colors=['red', 'green'])\n",
    "xax = Axis(scale=xs, label='x', grid_lines='solid')\n",
    "yax = Axis(scale=ys, orientation='vertical', tick_format='0.2f', label='y', grid_lines='solid')\n",
    "\n",
    "Figure(marks=[line], axes=[xax, yax], animation_duration=1000)"
   ]
  },
  {
   "cell_type": "code",
   "execution_count": 3,
   "metadata": {
    "collapsed": true
   },
   "outputs": [],
   "source": [
    "# update data of the line mark\n",
    "line.y = np.cumsum(np.random.randn(2, 100), axis=1)"
   ]
  },
  {
   "cell_type": "markdown",
   "metadata": {},
   "source": [
    "## Scatter Animations"
   ]
  },
  {
   "cell_type": "code",
   "execution_count": 4,
   "metadata": {},
   "outputs": [
    {
     "data": {
      "application/vnd.jupyter.widget-view+json": {
       "model_id": "924d533b9c4a4bbca61637af46548404"
      }
     },
     "metadata": {},
     "output_type": "display_data"
    }
   ],
   "source": [
    "xs = LinearScale()\n",
    "ys = LinearScale()\n",
    "x, y = np.random.rand(2, 20)\n",
    "scatt = Scatter(x=x, y=y, scales={'x': xs, 'y': ys}, default_colors=['blue'])\n",
    "xax = Axis(scale=xs, label='x', grid_lines='solid')\n",
    "yax = Axis(scale=ys, orientation='vertical', tick_format='0.2f', label='y', grid_lines='solid')\n",
    "\n",
    "Figure(marks=[scatt], axes=[xax, yax], animation_duration=1000)"
   ]
  },
  {
   "cell_type": "code",
   "execution_count": 5,
   "metadata": {
    "collapsed": true
   },
   "outputs": [],
   "source": [
    "#data updates\n",
    "scatt.x = np.random.rand(20) * 10\n",
    "scatt.y = np.random.rand(20)"
   ]
  },
  {
   "cell_type": "markdown",
   "metadata": {
    "collapsed": true
   },
   "source": [
    "## Pie Animations"
   ]
  },
  {
   "cell_type": "code",
   "execution_count": 6,
   "metadata": {},
   "outputs": [
    {
     "data": {
      "application/vnd.jupyter.widget-view+json": {
       "model_id": "defca3a54fa94db78c85347cd099a3c1"
      }
     },
     "metadata": {},
     "output_type": "display_data"
    }
   ],
   "source": [
    "data = np.random.rand(10)\n",
    "pie = Pie(sizes=data, radius=150, sort=False, labels=list('ABCDEFGHIJ'))\n",
    "Figure(marks=[pie], animation_duration=1000)"
   ]
  },
  {
   "cell_type": "code",
   "execution_count": 7,
   "metadata": {
    "collapsed": true
   },
   "outputs": [],
   "source": [
    "pie.sizes = np.random.rand(10)"
   ]
  },
  {
   "cell_type": "code",
   "execution_count": 8,
   "metadata": {
    "collapsed": true
   },
   "outputs": [],
   "source": [
    "pie.sort = True"
   ]
  },
  {
   "cell_type": "code",
   "execution_count": 9,
   "metadata": {
    "collapsed": true
   },
   "outputs": [],
   "source": [
    "#make pie a donut\n",
    "pie.radius = 150\n",
    "pie.inner_radius = 50"
   ]
  },
  {
   "cell_type": "markdown",
   "metadata": {},
   "source": [
    "## Bar animations"
   ]
  },
  {
   "cell_type": "code",
   "execution_count": 10,
   "metadata": {
    "collapsed": true
   },
   "outputs": [],
   "source": [
    "n = 10\n",
    "x = list('ABCDEFGHIJ')\n",
    "y1, y2 = np.random.rand(2, n)"
   ]
  },
  {
   "cell_type": "code",
   "execution_count": 11,
   "metadata": {},
   "outputs": [
    {
     "data": {
      "application/vnd.jupyter.widget-view+json": {
       "model_id": "a7780a90b3b8451dafdd26b187712beb"
      }
     },
     "metadata": {},
     "output_type": "display_data"
    }
   ],
   "source": [
    "xs = OrdinalScale()\n",
    "ys = LinearScale()\n",
    "\n",
    "bar = Bars(x=x, y=[y1, y2], scales={'x': xs, 'y': ys}, padding=0.2, type='grouped')\n",
    "xax = Axis(scale=xs)\n",
    "yax = Axis(scale=ys, orientation='vertical', tick_format='0.0%', grid_lines='solid')\n",
    "\n",
    "Figure(marks=[bar], axes=[xax, yax], animation_duration=1000)"
   ]
  },
  {
   "cell_type": "code",
   "execution_count": 12,
   "metadata": {},
   "outputs": [],
   "source": [
    "y1, y2 = np.random.rand(2, n)\n",
    "bar.y = [y1, y2]"
   ]
  },
  {
   "cell_type": "markdown",
   "metadata": {},
   "source": [
    "## Multiple Mark Animations"
   ]
  },
  {
   "cell_type": "code",
   "execution_count": 13,
   "metadata": {},
   "outputs": [
    {
     "data": {
      "application/vnd.jupyter.widget-view+json": {
       "model_id": "70c21cb10305442ca1f02107ca328d5a"
      }
     },
     "metadata": {},
     "output_type": "display_data"
    }
   ],
   "source": [
    "xs = LinearScale()\n",
    "ys1 = LinearScale()\n",
    "ys2 = LinearScale()\n",
    "\n",
    "x = np.arange(20)\n",
    "y = np.cumsum(np.random.randn(20))\n",
    "y1 = np.random.rand(20)\n",
    "\n",
    "line = Lines(x=x, y=y, scales={'x': xs, 'y': ys1}, colors=['magenta'], marker='square')\n",
    "bar = Bars(x=x, y=y1, scales={'x': xs, 'y': ys2}, colorpadding=0.2, colors=['steelblue'])\n",
    "\n",
    "xax = Axis(scale=xs, label='x', grid_lines='solid')\n",
    "yax1 = Axis(scale=ys1, orientation='vertical', tick_format='0.1f', label='y', grid_lines='solid')\n",
    "yax2 = Axis(scale=ys2, orientation='vertical', side='right', tick_format='0.0%', label='y1', grid_lines='none')\n",
    "\n",
    "Figure(marks=[bar, line], axes=[xax, yax1, yax2], animation_duration=1000)"
   ]
  },
  {
   "cell_type": "code",
   "execution_count": 14,
   "metadata": {
    "collapsed": true
   },
   "outputs": [],
   "source": [
    "# update mark data\n",
    "line.y = np.cumsum(np.random.randn(20))\n",
    "bar.y = np.random.rand(20)"
   ]
  }
 ],
 "metadata": {
  "kernelspec": {
   "display_name": "Python 3",
   "language": "python",
   "name": "python3"
  },
  "language_info": {
   "codemirror_mode": {
    "name": "ipython",
    "version": 3
   },
   "file_extension": ".py",
   "mimetype": "text/x-python",
   "name": "python",
   "nbconvert_exporter": "python",
   "pygments_lexer": "ipython3",
   "version": "3.5.2"
  },
  "widgets": {
   "application/vnd.jupyter.widget-state+json": {
    "state": {
     "028df1e202204bb1b9812ed717fa3e46": {
      "model_module": "bqplot",
      "model_module_version": "*",
      "model_name": "LinesModel",
      "state": {
       "color": {
        "type": null,
        "values": null
       },
       "colors": [
        "magenta"
       ],
       "display_legend": false,
       "fill_colors": [],
       "labels": [
        "C1"
       ],
       "marker": "square",
       "scales": {
        "x": "IPY_MODEL_1d9b5438e50b4a3084ceb8c41672cffa",
        "y": "IPY_MODEL_e68975a3678349aab0a65554ab01f801"
       },
       "x": {
        "type": "float",
        "values": [
         0,
         1,
         2,
         3,
         4,
         5,
         6,
         7,
         8,
         9,
         10,
         11,
         12,
         13,
         14,
         15,
         16,
         17,
         18,
         19
        ]
       },
       "y": {
        "type": "float64",
        "values": [
         1.0167262136581185,
         2.4317804102679537,
         2.0974168765469803,
         1.1329339295527037,
         0.5189139080597908,
         0.6137669775819914,
         0.8332767826197531,
         -0.20254806110721968,
         0.9989461674362432,
         2.629841929449156,
         3.865985864693948,
         4.429389071792145,
         2.4947720491645216,
         3.4615835006143536,
         3.086161284630138,
         1.792128818230615,
         0.9536064304508636,
         1.2018530830439191,
         1.5023207239899241,
         1.2586872692459457
        ]
       }
      }
     },
     "084e2aebf54b48d68000b942c5b58ae7": {
      "model_module": "bqplot",
      "model_module_version": "*",
      "model_name": "LinesModel",
      "state": {
       "color": {
        "type": null,
        "values": null
       },
       "colors": [
        "red",
        "green"
       ],
       "display_legend": false,
       "fill_colors": [],
       "labels": [
        "C1",
        "C2"
       ],
       "scales": {
        "x": "IPY_MODEL_17c609c2cf0640a5b7c89b8d4ffebef9",
        "y": "IPY_MODEL_24e7e8e057b448768827a84b5a7e3e97"
       },
       "x": {
        "type": "float",
        "values": [
         0,
         1,
         2,
         3,
         4,
         5,
         6,
         7,
         8,
         9,
         10,
         11,
         12,
         13,
         14,
         15,
         16,
         17,
         18,
         19,
         20,
         21,
         22,
         23,
         24,
         25,
         26,
         27,
         28,
         29,
         30,
         31,
         32,
         33,
         34,
         35,
         36,
         37,
         38,
         39,
         40,
         41,
         42,
         43,
         44,
         45,
         46,
         47,
         48,
         49,
         50,
         51,
         52,
         53,
         54,
         55,
         56,
         57,
         58,
         59,
         60,
         61,
         62,
         63,
         64,
         65,
         66,
         67,
         68,
         69,
         70,
         71,
         72,
         73,
         74,
         75,
         76,
         77,
         78,
         79,
         80,
         81,
         82,
         83,
         84,
         85,
         86,
         87,
         88,
         89,
         90,
         91,
         92,
         93,
         94,
         95,
         96,
         97,
         98,
         99
        ]
       },
       "y": {
        "type": "float64",
        "values": [
         [
          1.497980911738173,
          1.3984906788047087,
          2.0096408607492124,
          1.9009569929806112,
          2.1210711824884974,
          4.138454921454885,
          4.421814241487907,
          4.181488144684156,
          3.267219412595406,
          4.027957851895397,
          2.6592151906296806,
          2.9746485220509404,
          1.0503187140752708,
          1.0994780718454087,
          0.2590158292337712,
          0.3180920208947976,
          -0.38545233399782175,
          0.37427584719930607,
          0.2257348089314869,
          1.6580660057802419,
          1.8847052470123236,
          1.8514324855769735,
          1.6457025261153808,
          1.3571530756724144,
          1.1652925951804756,
          1.3854570662472918,
          1.566229209537423,
          1.010885826970747,
          0.3058863169423892,
          0.6816745340235563,
          -0.30848174334531864,
          0.5508146439370442,
          1.4994853793253615,
          0.940712203452428,
          -0.023132164745144124,
          -0.25032640748494006,
          0.9396094455525024,
          -0.009894789735289122,
          0.407477791031642,
          -0.06285002786489396,
          -0.268479496626407,
          -0.0484441330524967,
          0.5384027863950046,
          -0.5990611381797927,
          -1.8282734756401164,
          -2.6629906161939885,
          -2.615089843660978,
          -4.287591823182969,
          -3.760967309979716,
          -4.743856825824668,
          -4.1914763562945545,
          -3.108728277226386,
          -5.770245128158638,
          -6.630960774895004,
          -5.8571945629166935,
          -5.567875764937039,
          -7.117116623330118,
          -7.429109950032585,
          -5.356873509470223,
          -5.323734025816108,
          -6.009193614552748,
          -7.202149050724557,
          -8.400025441383532,
          -8.300836021561844,
          -9.102053210509673,
          -7.253678679045363,
          -7.383806971456974,
          -8.41355921527574,
          -7.918649335445641,
          -7.491400308967854,
          -7.296493524905611,
          -6.880880591946959,
          -6.196534527414608,
          -5.711857840771763,
          -5.762237338368891,
          -5.874944924793811,
          -5.2107877201096775,
          -3.824505529713515,
          -4.415280827925682,
          -6.647450976979565,
          -7.094953376613604,
          -8.210839680363955,
          -6.7701730876387565,
          -7.3755909789520055,
          -6.202178144871921,
          -8.188796183281864,
          -8.510227087130776,
          -8.682761352892205,
          -7.014690820499654,
          -7.52396899703612,
          -7.347953501179368,
          -7.8390346568940075,
          -7.418840077728108,
          -8.500710156872994,
          -8.965693509514638,
          -7.635329443637447,
          -8.233058784615613,
          -7.924750353465911,
          -8.789881681534512,
          -8.816086930582214
         ],
         [
          -1.6185993273234551,
          -0.5411342226666158,
          -1.7709255417242513,
          -0.9529623397361823,
          -1.0276219214131352,
          0.5491488454999345,
          0.07847588956689677,
          1.262949345139997,
          2.253736060114009,
          1.0601987425835917,
          2.2801758563631322,
          1.4734347375171493,
          0.1269942704964897,
          -0.017881494760914662,
          0.22464201441928888,
          0.29720998547813315,
          -0.22107420615471718,
          -0.12408197526716526,
          -0.664210131083435,
          -0.16964496312417876,
          0.4473384042727897,
          -0.38078587217950877,
          -0.013191973272654922,
          0.37024989439990225,
          1.176913513491148,
          1.8706142238465429,
          2.7107115595174163,
          2.6829519597654534,
          1.962865085766063,
          1.7146050986238395,
          2.968168980962533,
          1.9595309647941475,
          2.3073328648643847,
          1.8018860334053743,
          3.671699721602031,
          4.474182078410928,
          6.018912945752277,
          5.981745389230042,
          6.508135052320844,
          6.717579371488591,
          7.546640133141723,
          7.582882921474927,
          8.110438223737248,
          8.601068652330694,
          9.522960526715705,
          10.617595862306743,
          10.336578471186842,
          10.34528090513527,
          11.535008462815304,
          11.793645953959013,
          9.982775280898283,
          8.663051048286821,
          8.043969537547166,
          9.186365943009246,
          9.960547611710833,
          10.339404727507464,
          10.631148142763985,
          10.37833079824864,
          10.376155022636135,
          11.924955913219407,
          13.045815795833128,
          12.26898440495923,
          12.269422088235949,
          12.196416866009926,
          12.086836523623274,
          13.275153711004203,
          13.805151735287236,
          15.039637149394219,
          16.378632842784864,
          15.75416685528884,
          14.507278369352086,
          13.841230743443747,
          14.389960056266622,
          14.673583446441947,
          14.432876571139415,
          13.972349706825936,
          12.975292749087686,
          13.438265556351872,
          13.564574449445065,
          15.032209323845603,
          15.220858209710629,
          15.190941558905308,
          14.66485186734535,
          13.491506143243049,
          11.91954691494958,
          11.789385226040245,
          12.12639946349444,
          12.276607921616332,
          11.371821684804457,
          13.060705381982205,
          13.740965534955054,
          14.690893912921151,
          14.394197398531947,
          13.382677627630216,
          13.788448519382833,
          16.539319412969885,
          17.109032603061554,
          17.320723893700624,
          16.38870115069081,
          17.049996433533302
         ]
        ]
       }
      }
     },
     "0b2cc63da7134fd49fc0d967965bf377": {
      "model_module": "bqplot",
      "model_module_version": "*",
      "model_name": "AxisModel",
      "state": {
       "label": "x",
       "scale": "IPY_MODEL_1d9b5438e50b4a3084ceb8c41672cffa",
       "side": "bottom",
       "tick_values": {
        "type": null,
        "values": null
       }
      }
     },
     "0e34750baf6b43fca0811fe2fbaa7f61": {
      "model_module": "bqplot",
      "model_module_version": "*",
      "model_name": "OrdinalScaleModel",
      "state": {
       "domain": []
      }
     },
     "10ae2d4f33ef46359438998eb782843d": {
      "model_module": "bqplot",
      "model_module_version": "*",
      "model_name": "LinearScaleModel",
      "state": {
       "allow_padding": false,
       "max": 1,
       "min": 0,
       "stabilized": false
      }
     },
     "12ee69b7c71740eaad625a7661173641": {
      "model_module": "bqplot",
      "model_module_version": "*",
      "model_name": "LinearScaleModel",
      "state": {
       "allow_padding": false,
       "max": 1,
       "min": 0,
       "stabilized": false
      }
     },
     "17c609c2cf0640a5b7c89b8d4ffebef9": {
      "model_module": "bqplot",
      "model_module_version": "*",
      "model_name": "LinearScaleModel",
      "state": {
       "stabilized": false
      }
     },
     "19283546181f4c6a9e0e26938dfc2a5e": {
      "model_module": "bqplot",
      "model_module_version": "*",
      "model_name": "AxisModel",
      "state": {
       "label": "y",
       "orientation": "vertical",
       "scale": "IPY_MODEL_e68975a3678349aab0a65554ab01f801",
       "side": "left",
       "tick_format": "0.1f",
       "tick_values": {
        "type": null,
        "values": null
       }
      }
     },
     "1d9b5438e50b4a3084ceb8c41672cffa": {
      "model_module": "bqplot",
      "model_module_version": "*",
      "model_name": "LinearScaleModel",
      "state": {
       "stabilized": false
      }
     },
     "1fa9e57512c64ff2b97ff7cf6d5833f9": {
      "model_module": "bqplot",
      "model_module_version": "*",
      "model_name": "LinearScaleModel",
      "state": {
       "stabilized": false
      }
     },
     "24e7e8e057b448768827a84b5a7e3e97": {
      "model_module": "bqplot",
      "model_module_version": "*",
      "model_name": "LinearScaleModel",
      "state": {
       "stabilized": false
      }
     },
     "25281c0e94214322a986aee25a6282a4": {
      "model_module": "bqplot",
      "model_module_version": "*",
      "model_name": "AxisModel",
      "state": {
       "label": "x",
       "scale": "IPY_MODEL_17c609c2cf0640a5b7c89b8d4ffebef9",
       "side": "bottom",
       "tick_values": {
        "type": null,
        "values": null
       }
      }
     },
     "2b3f59c0209d440b84b43a405a855582": {
      "model_module": "jupyter-js-widgets",
      "model_module_version": "*",
      "model_name": "LayoutModel",
      "state": {
       "align_self": "stretch",
       "flex": "1",
       "min_width": "400px"
      }
     },
     "36dff4bc5ff740f09c07f6632efc23f4": {
      "model_module": "bqplot",
      "model_module_version": "*",
      "model_name": "ScatterModel",
      "state": {
       "_model_module": "bqplot",
       "_model_module_version": "*",
       "_view_module": "bqplot",
       "_view_module_version": "*",
       "apply_clip": true,
       "color": {
        "type": null,
        "values": null
       },
       "colors": [
        "blue"
       ],
       "display_legend": false,
       "enable_hover": true,
       "hovered_style": {},
       "interactions": {
        "hover": "tooltip"
       },
       "labels": [],
       "msg_throttle": 1,
       "names": {
        "type": null,
        "values": null
       },
       "opacity": {
        "type": null,
        "values": null
       },
       "preserve_domain": {},
       "rotation": {
        "type": null,
        "values": null
       },
       "scales": {
        "x": "IPY_MODEL_4f09051495d8471eb16d9d798414dec1",
        "y": "IPY_MODEL_8437c964ee71423ab7ea4a39ce2a1abe"
       },
       "selected": [],
       "selected_style": {},
       "size": {
        "type": null,
        "values": null
       },
       "skew": {
        "type": null,
        "values": null
       },
       "tooltip": null,
       "tooltip_location": "mouse",
       "tooltip_style": {
        "opacity": 0.9
       },
       "unhovered_style": {},
       "unselected_style": {},
       "visible": true,
       "x": {
        "type": "float64",
        "values": [
         2.498524388769363,
         8.241221571268778,
         5.896393683749831,
         2.0897181896855033,
         8.610236241295286,
         4.606629573127727,
         1.9038614349466187,
         0.4823679050599172,
         8.538295601629773,
         9.94587779102338,
         6.099421818354283,
         5.5351576801197675,
         0.12981672482908047,
         9.31747035330147,
         2.5197343913131833,
         4.100997754206688,
         7.499249817209109,
         7.929569923061489,
         3.4116291558624834,
         1.5070131283165111
        ]
       },
       "y": {
        "type": "float64",
        "values": [
         0.922503932253972,
         0.5323962397979363,
         0.8846445719034625,
         0.8912847818147941,
         0.5244659807040849,
         0.3352021248735383,
         0.7994902782429155,
         0.773632121525993,
         0.45809472944231755,
         0.29980001287487135,
         0.19053073383620767,
         0.7456813180270583,
         0.30575421228028554,
         0.971818631036177,
         0.3511095682416048,
         0.9838312781674116,
         0.5424474490195355,
         0.5391700496023291,
         0.07180424720483203,
         0.5254154697902357
        ]
       }
      }
     },
     "468df44d1333473193c34aadd62763a7": {
      "model_module": "bqplot",
      "model_module_version": "*",
      "model_name": "BarsModel",
      "state": {
       "color": {
        "type": null,
        "values": null
       },
       "display_legend": false,
       "padding": 0.2,
       "scales": {
        "x": "IPY_MODEL_0e34750baf6b43fca0811fe2fbaa7f61",
        "y": "IPY_MODEL_c983b1638f7f4da6814ae5a30b7f76f3"
       },
       "type": "grouped",
       "x": {
        "type": "<U1",
        "values": [
         "A",
         "B",
         "C",
         "D",
         "E",
         "F",
         "G",
         "H",
         "I",
         "J"
        ]
       },
       "y": {
        "type": "float64",
        "values": [
         [
          0.34357590853849374,
          0.8504820372731138,
          0.9220055060581905,
          0.339608786692704,
          0.037575490653432686,
          0.3402486142545912,
          0.4621607553531075,
          0.8514765508427508,
          0.18334928631044878,
          0.17558755553191707
         ],
         [
          0.3423089263684995,
          0.7198126371720857,
          0.0882030316872513,
          0.8566939467134962,
          0.2369530136106871,
          0.8181378748033518,
          0.11205999787544862,
          0.3999255996769533,
          0.9766714334181852,
          0.38536817442379934
         ]
        ]
       }
      }
     },
     "4f09051495d8471eb16d9d798414dec1": {
      "model_module": "bqplot",
      "model_module_version": "*",
      "model_name": "LinearScaleModel",
      "state": {
       "stabilized": false
      }
     },
     "4fa4bdfafca24ecab64e0e803ded8c08": {
      "model_module": "bqplot",
      "model_module_version": "*",
      "model_name": "AxisModel",
      "state": {
       "grid_lines": "none",
       "label": "y1",
       "orientation": "vertical",
       "scale": "IPY_MODEL_1fa9e57512c64ff2b97ff7cf6d5833f9",
       "side": "right",
       "tick_format": "0.0%",
       "tick_values": {
        "type": null,
        "values": null
       }
      }
     },
     "5046c8aa70d347fe9fccd49771e04fdd": {
      "model_module": "bqplot",
      "model_module_version": "*",
      "model_name": "FigureModel",
      "state": {
       "_dom_classes": [],
       "animation_duration": 1000,
       "axes": [
        "IPY_MODEL_25281c0e94214322a986aee25a6282a4",
        "IPY_MODEL_cbc33f4b9eac4d6aabd5b2f5d3a11ba6"
       ],
       "layout": "IPY_MODEL_60c9ad08a0784d7ea017465e30074253",
       "marks": [
        "IPY_MODEL_084e2aebf54b48d68000b942c5b58ae7"
       ],
       "scale_x": "IPY_MODEL_12ee69b7c71740eaad625a7661173641",
       "scale_y": "IPY_MODEL_decfdad2774d4317a771ce2e8d325947"
      }
     },
     "52c40225cbfb42c59f2b337e66c2c3ab": {
      "model_module": "bqplot",
      "model_module_version": "*",
      "model_name": "BarsModel",
      "state": {
       "color": {
        "type": null,
        "values": null
       },
       "colors": [
        "steelblue"
       ],
       "display_legend": false,
       "scales": {
        "x": "IPY_MODEL_1d9b5438e50b4a3084ceb8c41672cffa",
        "y": "IPY_MODEL_1fa9e57512c64ff2b97ff7cf6d5833f9"
       },
       "x": {
        "type": "float",
        "values": [
         0,
         1,
         2,
         3,
         4,
         5,
         6,
         7,
         8,
         9,
         10,
         11,
         12,
         13,
         14,
         15,
         16,
         17,
         18,
         19
        ]
       },
       "y": {
        "type": "float64",
        "values": [
         0.9252946769285455,
         0.7922484171068584,
         0.7728501865919452,
         0.39182536024209225,
         0.7115075123775253,
         0.5472878951152689,
         0.32428122391866787,
         0.3218933012109665,
         0.43030200218831605,
         0.039337538204208156,
         0.13614308166364353,
         0.1500946923623484,
         0.8321441306767483,
         0.1280096501617609,
         0.8017304203632708,
         0.9436727314904274,
         0.6238799915004246,
         0.45220956015695535,
         0.168322700974064,
         0.6927776559580767
        ]
       }
      }
     },
     "5dacd55823a54c52a2f7bf21efbcb302": {
      "model_module": "bqplot",
      "model_module_version": "*",
      "model_name": "LinearScaleModel",
      "state": {
       "allow_padding": false,
       "max": 1,
       "min": 0,
       "stabilized": false
      }
     },
     "5fab6c5a9a4240eab8b702abfe643ef1": {
      "model_module": "bqplot",
      "model_module_version": "*",
      "model_name": "LinearScaleModel",
      "state": {
       "allow_padding": false,
       "max": 1,
       "min": 0,
       "stabilized": false
      }
     },
     "60c9ad08a0784d7ea017465e30074253": {
      "model_module": "jupyter-js-widgets",
      "model_module_version": "*",
      "model_name": "LayoutModel",
      "state": {
       "align_self": "stretch",
       "flex": "1",
       "min_width": "400px"
      }
     },
     "70c21cb10305442ca1f02107ca328d5a": {
      "model_module": "bqplot",
      "model_module_version": "*",
      "model_name": "FigureModel",
      "state": {
       "_dom_classes": [],
       "animation_duration": 1000,
       "axes": [
        "IPY_MODEL_0b2cc63da7134fd49fc0d967965bf377",
        "IPY_MODEL_19283546181f4c6a9e0e26938dfc2a5e",
        "IPY_MODEL_4fa4bdfafca24ecab64e0e803ded8c08"
       ],
       "layout": "IPY_MODEL_891c7600d4b844b19debca96c140aa9a",
       "marks": [
        "IPY_MODEL_52c40225cbfb42c59f2b337e66c2c3ab",
        "IPY_MODEL_028df1e202204bb1b9812ed717fa3e46"
       ],
       "scale_x": "IPY_MODEL_10ae2d4f33ef46359438998eb782843d",
       "scale_y": "IPY_MODEL_938a3d225902440db24554e547825cd5"
      }
     },
     "7a8b484cdb8d472ea15329dc3a660a5d": {
      "model_module": "jupyter-js-widgets",
      "model_module_version": "*",
      "model_name": "LayoutModel",
      "state": {
       "align_self": "stretch",
       "flex": "1",
       "min_width": "400px"
      }
     },
     "7d3459464f534256b82fa5658b2cb58b": {
      "model_module": "bqplot",
      "model_module_version": "*",
      "model_name": "LinearScaleModel",
      "state": {
       "allow_padding": false,
       "max": 1,
       "min": 0,
       "stabilized": false
      }
     },
     "7d354a8d6698499eb6cb9586b1699028": {
      "model_module": "bqplot",
      "model_module_version": "*",
      "model_name": "AxisModel",
      "state": {
       "label": "x",
       "scale": "IPY_MODEL_4f09051495d8471eb16d9d798414dec1",
       "side": "bottom",
       "tick_values": {
        "type": null,
        "values": null
       }
      }
     },
     "8437c964ee71423ab7ea4a39ce2a1abe": {
      "model_module": "bqplot",
      "model_module_version": "*",
      "model_name": "LinearScaleModel",
      "state": {
       "stabilized": false
      }
     },
     "891c7600d4b844b19debca96c140aa9a": {
      "model_module": "jupyter-js-widgets",
      "model_module_version": "*",
      "model_name": "LayoutModel",
      "state": {
       "align_self": "stretch",
       "flex": "1",
       "min_width": "400px"
      }
     },
     "90880f783d9543b2a0c90b3740cda0fe": {
      "model_module": "bqplot",
      "model_module_version": "*",
      "model_name": "LinearScaleModel",
      "state": {
       "allow_padding": false,
       "max": 1,
       "min": 0,
       "stabilized": false
      }
     },
     "924d533b9c4a4bbca61637af46548404": {
      "model_module": "bqplot",
      "model_module_version": "*",
      "model_name": "FigureModel",
      "state": {
       "_dom_classes": [],
       "animation_duration": 1000,
       "axes": [
        "IPY_MODEL_7d354a8d6698499eb6cb9586b1699028",
        "IPY_MODEL_bff835dd6a2d442e944e4602e0b76f9f"
       ],
       "layout": "IPY_MODEL_bd4157be690648d693796bd1000ec14c",
       "marks": [
        "IPY_MODEL_36dff4bc5ff740f09c07f6632efc23f4"
       ],
       "scale_x": "IPY_MODEL_fba705a409ed4c789d3858efb642cb45",
       "scale_y": "IPY_MODEL_7d3459464f534256b82fa5658b2cb58b"
      }
     },
     "9372ebf9490f42d381c053c375d7e498": {
      "model_module": "bqplot",
      "model_module_version": "*",
      "model_name": "AxisModel",
      "state": {
       "orientation": "vertical",
       "scale": "IPY_MODEL_c983b1638f7f4da6814ae5a30b7f76f3",
       "side": "left",
       "tick_format": "0.0%",
       "tick_values": {
        "type": null,
        "values": null
       }
      }
     },
     "938a3d225902440db24554e547825cd5": {
      "model_module": "bqplot",
      "model_module_version": "*",
      "model_name": "LinearScaleModel",
      "state": {
       "allow_padding": false,
       "max": 1,
       "min": 0,
       "stabilized": false
      }
     },
     "a7780a90b3b8451dafdd26b187712beb": {
      "model_module": "bqplot",
      "model_module_version": "*",
      "model_name": "FigureModel",
      "state": {
       "_dom_classes": [],
       "animation_duration": 1000,
       "axes": [
        "IPY_MODEL_e0de4afacae04d11b30a21aabd5f0b79",
        "IPY_MODEL_9372ebf9490f42d381c053c375d7e498"
       ],
       "layout": "IPY_MODEL_2b3f59c0209d440b84b43a405a855582",
       "marks": [
        "IPY_MODEL_468df44d1333473193c34aadd62763a7"
       ],
       "scale_x": "IPY_MODEL_5fab6c5a9a4240eab8b702abfe643ef1",
       "scale_y": "IPY_MODEL_b0dc83c57c6b43cfbd5a07d8ab5275a8"
      }
     },
     "b0dc83c57c6b43cfbd5a07d8ab5275a8": {
      "model_module": "bqplot",
      "model_module_version": "*",
      "model_name": "LinearScaleModel",
      "state": {
       "allow_padding": false,
       "max": 1,
       "min": 0,
       "stabilized": false
      }
     },
     "bd4157be690648d693796bd1000ec14c": {
      "model_module": "jupyter-js-widgets",
      "model_module_version": "*",
      "model_name": "LayoutModel",
      "state": {
       "align_self": "stretch",
       "flex": "1",
       "min_width": "400px"
      }
     },
     "bff835dd6a2d442e944e4602e0b76f9f": {
      "model_module": "bqplot",
      "model_module_version": "*",
      "model_name": "AxisModel",
      "state": {
       "label": "y",
       "orientation": "vertical",
       "scale": "IPY_MODEL_8437c964ee71423ab7ea4a39ce2a1abe",
       "side": "left",
       "tick_format": "0.2f",
       "tick_values": {
        "type": null,
        "values": null
       }
      }
     },
     "c983b1638f7f4da6814ae5a30b7f76f3": {
      "model_module": "bqplot",
      "model_module_version": "*",
      "model_name": "LinearScaleModel",
      "state": {
       "stabilized": false
      }
     },
     "cbc33f4b9eac4d6aabd5b2f5d3a11ba6": {
      "model_module": "bqplot",
      "model_module_version": "*",
      "model_name": "AxisModel",
      "state": {
       "label": "y",
       "orientation": "vertical",
       "scale": "IPY_MODEL_24e7e8e057b448768827a84b5a7e3e97",
       "side": "left",
       "tick_format": "0.2f",
       "tick_values": {
        "type": null,
        "values": null
       }
      }
     },
     "d41d7e91343445b29ccfe83493c836e6": {
      "model_module": "bqplot",
      "model_module_version": "*",
      "model_name": "PieModel",
      "state": {
       "color": {
        "type": null,
        "values": null
       },
       "display_labels": true,
       "display_legend": false,
       "font_size": "10px",
       "font_weight": "normal",
       "inner_radius": 50,
       "label_color": null,
       "labels": [
        "A",
        "B",
        "C",
        "D",
        "E",
        "F",
        "G",
        "H",
        "I",
        "J"
       ],
       "radius": 150,
       "sizes": {
        "type": "float64",
        "values": [
         0.8413266585524988,
         0.6346355118087997,
         0.3545829898156556,
         0.035760105238552775,
         0.9365180688778202,
         0.32069055260699375,
         0.15719849035882483,
         0.7770110984917172,
         0.8549313156514152,
         0.2904057020193962
        ]
       },
       "sort": true
      }
     },
     "decfdad2774d4317a771ce2e8d325947": {
      "model_module": "bqplot",
      "model_module_version": "*",
      "model_name": "LinearScaleModel",
      "state": {
       "allow_padding": false,
       "max": 1,
       "min": 0,
       "stabilized": false
      }
     },
     "defca3a54fa94db78c85347cd099a3c1": {
      "model_module": "bqplot",
      "model_module_version": "*",
      "model_name": "FigureModel",
      "state": {
       "_dom_classes": [],
       "animation_duration": 1000,
       "layout": "IPY_MODEL_7a8b484cdb8d472ea15329dc3a660a5d",
       "marks": [
        "IPY_MODEL_d41d7e91343445b29ccfe83493c836e6"
       ],
       "scale_x": "IPY_MODEL_90880f783d9543b2a0c90b3740cda0fe",
       "scale_y": "IPY_MODEL_5dacd55823a54c52a2f7bf21efbcb302"
      }
     },
     "e0de4afacae04d11b30a21aabd5f0b79": {
      "model_module": "bqplot",
      "model_module_version": "*",
      "model_name": "AxisModel",
      "state": {
       "scale": "IPY_MODEL_0e34750baf6b43fca0811fe2fbaa7f61",
       "side": "bottom",
       "tick_values": {
        "type": null,
        "values": null
       }
      }
     },
     "e68975a3678349aab0a65554ab01f801": {
      "model_module": "bqplot",
      "model_module_version": "*",
      "model_name": "LinearScaleModel",
      "state": {
       "stabilized": false
      }
     },
     "fba705a409ed4c789d3858efb642cb45": {
      "model_module": "bqplot",
      "model_module_version": "*",
      "model_name": "LinearScaleModel",
      "state": {
       "allow_padding": false,
       "max": 1,
       "min": 0,
       "stabilized": false
      }
     }
    },
    "version_major": 1,
    "version_minor": 0
   }
  }
 },
 "nbformat": 4,
 "nbformat_minor": 1
}
