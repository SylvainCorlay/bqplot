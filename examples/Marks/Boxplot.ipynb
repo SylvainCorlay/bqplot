{
 "cells": [
  {
   "cell_type": "code",
   "execution_count": 1,
   "metadata": {
    "input_collapsed": false
   },
   "outputs": [],
   "source": [
    "import numpy as np\n",
    "import bqplot as bq"
   ]
  },
  {
   "cell_type": "code",
   "execution_count": 2,
   "metadata": {
    "input_collapsed": false
   },
   "outputs": [],
   "source": [
    "x_data = [1, 2, 3, 4, 5, 6, 7]\n",
    "\n",
    "y_data = [\n",
    "    [160.10, 162.34, 161.82, 162.24, 161.44, 158.51, 157.68, 151.93, 151.41, 153.06, 155.38, 161.07, 160.51, 162.99, 161.86, 163.27, 164.05, 164.52, 162.67],\n",
    "    [161.54, 162.17, 161.95, 161.76, 162.15, 160.92, 160.64, 161.43, 161.89, 164.16, 164.16, 162.79, 161.92, 163.30, 163.49, 162.07, 161.46, 161.82, 162.65],\n",
    "    [164.40, 164.35, 163.46, 163.60, 161.87, 162.08, 162.18, 161.79, 163.23, 169.10, 182.05, 179.84, 181.75, 183.80, 183.52, 185.93, 186.42, 189.36, 185.71],\n",
    "    [188.67, 186.91, 187.17, 189.83, 189.64, 190.06, 189.01, 192.31, 191.62, 193.11, 194.00, 193.75, 192.80, 192.96, 191.81, 191.28, 191.72, 191.20, 190.68],\n",
    "    [191.95, 191.56, 192.30, 192.00, 192.25, 192.99, 191.16, 190.41, 191.23, 190.10, 190.07, 189.36, 187.38, 187.88, 191.81, 191.28, 191.72, 189.99, 190.14],\n",
    "    [187.95, 187.34, 187.47, 186.63, 184.30, 185.97, 187.10, 189.64, 189.15, 191.67, 194.00, 194.57, 195.78, 194.40, 195.24, 193.63,  190.85, 192.5, 192.49],\n",
    "    [192.36, 188.49, 189.86, 188.00, 187.70, 188.42, 187.22, 188.04, 188.53, 188.39, 186.35, 181.27, 181.71, 180.37, 180.72, 180.88, 182.14, 181.55, 182.82]\n",
    "]"
   ]
  },
  {
   "cell_type": "code",
   "execution_count": 3,
   "metadata": {},
   "outputs": [
    {
     "data": {
      "application/vnd.jupyter.widget-view+json": {
       "model_id": "007b201da3d74168900daf49b133b522"
      }
     },
     "metadata": {},
     "output_type": "display_data"
    }
   ],
   "source": [
    "sc_x = bq.LinearScale()\n",
    "sc_y = bq.LinearScale()\n",
    "ax_x = bq.Axis(label='X', scale=sc_x )\n",
    "ax_y = bq.Axis(label='Y', scale=sc_y, orientation='vertical', tick_format='0.1f')\n",
    "boxes = bq.Boxplot(x=x_data, y=y_data, scales={'x': sc_x, 'y': sc_y}, \n",
    "                box_fill_color='gray', outlier_fill_color='black')\n",
    "bq.Figure(axes=[ax_x, ax_y], marks=[boxes])"
   ]
  },
  {
   "cell_type": "code",
   "execution_count": 4,
   "metadata": {
    "input_collapsed": false
   },
   "outputs": [],
   "source": [
    "boxes.stroke = 'red'\n",
    "boxes.box_fill_color = 'blue'\n",
    "boxes.outlier_fill_color = 'red'"
   ]
  },
  {
   "cell_type": "code",
   "execution_count": 5,
   "metadata": {
    "collapsed": true
   },
   "outputs": [],
   "source": [
    "boxes.opacities = [0.1, 0.2]"
   ]
  }
 ],
 "metadata": {
  "kernelspec": {
   "display_name": "Python 3",
   "language": "python",
   "name": "python3"
  },
  "language_info": {
   "codemirror_mode": {
    "name": "ipython",
    "version": 3
   },
   "file_extension": ".py",
   "mimetype": "text/x-python",
   "name": "python",
   "nbconvert_exporter": "python",
   "pygments_lexer": "ipython3",
   "version": "3.5.2"
  },
  "widgets": {
   "application/vnd.jupyter.widget-state+json": {
    "state": {
     "007b201da3d74168900daf49b133b522": {
      "model_module": "bqplot",
      "model_module_version": "*",
      "model_name": "FigureModel",
      "state": {
       "_dom_classes": [],
       "axes": [
        "IPY_MODEL_663649fe766945cc8f8a42cd89334466",
        "IPY_MODEL_034da71288f14b6cb0534a6910ca9711"
       ],
       "layout": "IPY_MODEL_e82ef9aea6854930a4725d5a59c7884a",
       "marks": [
        "IPY_MODEL_f9eb1414505e4fa8bafc9139b02dc208"
       ],
       "scale_x": "IPY_MODEL_3a6769a4978b4d9192012b66d8692956",
       "scale_y": "IPY_MODEL_a921aca3c6d34efdad325094c86cfbbf"
      }
     },
     "034da71288f14b6cb0534a6910ca9711": {
      "model_module": "bqplot",
      "model_module_version": "*",
      "model_name": "AxisModel",
      "state": {
       "label": "Y",
       "orientation": "vertical",
       "scale": "IPY_MODEL_2aec3346ea844a8cb8b7334d316f8495",
       "side": "left",
       "tick_format": "0.1f",
       "tick_values": {
        "type": null,
        "values": null
       }
      }
     },
     "1bf598b2e19c43a2863db8802ffcf102": {
      "model_module": "bqplot",
      "model_module_version": "*",
      "model_name": "LinearScaleModel",
      "state": {
       "stabilized": false
      }
     },
     "2aec3346ea844a8cb8b7334d316f8495": {
      "model_module": "bqplot",
      "model_module_version": "*",
      "model_name": "LinearScaleModel",
      "state": {
       "stabilized": false
      }
     },
     "2dcefb1f2d9b448aaf9e223a3240ab33": {
      "model_module": "bqplot",
      "model_module_version": "*",
      "model_name": "LinearScaleModel",
      "state": {
       "stabilized": false
      }
     },
     "374027cb5cbd451e8f2a0d80541f8930": {
      "model_module": "bqplot",
      "model_module_version": "*",
      "model_name": "LinearScaleModel",
      "state": {
       "allow_padding": false,
       "max": 1,
       "min": 0,
       "stabilized": false
      }
     },
     "3a6769a4978b4d9192012b66d8692956": {
      "model_module": "bqplot",
      "model_module_version": "*",
      "model_name": "LinearScaleModel",
      "state": {
       "allow_padding": false,
       "max": 1,
       "min": 0,
       "stabilized": false
      }
     },
     "4e84e2a53e944187b04f13fdf5abfac7": {
      "model_module": "bqplot",
      "model_module_version": "*",
      "model_name": "FigureModel",
      "state": {
       "_dom_classes": [],
       "axes": [
        "IPY_MODEL_eff69421fa094ce1821917afe76e26fa",
        "IPY_MODEL_94cfec7f0b3b47e8bf13eadaeb9a486a"
       ],
       "layout": "IPY_MODEL_5be15041702e4d59856cfd7de0fc2dae",
       "marks": [
        "IPY_MODEL_a10aec9d60ef46018af637f3ffabe8e0"
       ],
       "scale_x": "IPY_MODEL_5758aa3c1f8843519c7a80ca4183da0b",
       "scale_y": "IPY_MODEL_374027cb5cbd451e8f2a0d80541f8930"
      }
     },
     "5758aa3c1f8843519c7a80ca4183da0b": {
      "model_module": "bqplot",
      "model_module_version": "*",
      "model_name": "LinearScaleModel",
      "state": {
       "allow_padding": false,
       "max": 1,
       "min": 0,
       "stabilized": false
      }
     },
     "5be15041702e4d59856cfd7de0fc2dae": {
      "model_module": "jupyter-js-widgets",
      "model_module_version": "*",
      "model_name": "LayoutModel",
      "state": {
       "align_self": "stretch",
       "flex": "1",
       "min_width": "400px"
      }
     },
     "663649fe766945cc8f8a42cd89334466": {
      "model_module": "bqplot",
      "model_module_version": "*",
      "model_name": "AxisModel",
      "state": {
       "label": "X",
       "scale": "IPY_MODEL_2dcefb1f2d9b448aaf9e223a3240ab33",
       "side": "bottom",
       "tick_values": {
        "type": null,
        "values": null
       }
      }
     },
     "94cfec7f0b3b47e8bf13eadaeb9a486a": {
      "model_module": "bqplot",
      "model_module_version": "*",
      "model_name": "AxisModel",
      "state": {
       "label": "Y",
       "orientation": "vertical",
       "scale": "IPY_MODEL_e3cfe7dd04df4761bd0318027f52a392",
       "side": "left",
       "tick_format": "0.1f",
       "tick_values": {
        "type": null,
        "values": null
       }
      }
     },
     "a10aec9d60ef46018af637f3ffabe8e0": {
      "model_module": "bqplot",
      "model_module_version": "*",
      "model_name": "BoxplotModel",
      "state": {
       "box_fill_color": "blue",
       "display_legend": false,
       "opacities": [
        0.1,
        0.2
       ],
       "outlier_fill_color": "red",
       "scales": {
        "x": "IPY_MODEL_1bf598b2e19c43a2863db8802ffcf102",
        "y": "IPY_MODEL_e3cfe7dd04df4761bd0318027f52a392"
       },
       "stroke": "red",
       "x": {
        "type": "float",
        "values": [
         1,
         2,
         3,
         4,
         5,
         6,
         7
        ]
       },
       "y": {
        "type": "float64",
        "values": [
         [
          151.41,
          151.93,
          153.06,
          155.38,
          157.68,
          158.51,
          160.1,
          160.51,
          161.07,
          161.44,
          161.82,
          161.86,
          162.24,
          162.34,
          162.67,
          162.99,
          163.27,
          164.05,
          164.52
         ],
         [
          160.64,
          160.92,
          161.43,
          161.46,
          161.54,
          161.76,
          161.82,
          161.89,
          161.92,
          161.95,
          162.07,
          162.15,
          162.17,
          162.65,
          162.79,
          163.3,
          163.49,
          164.16,
          164.16
         ],
         [
          161.79,
          161.87,
          162.08,
          162.18,
          163.23,
          163.46,
          163.6,
          164.35,
          164.4,
          169.1,
          179.84,
          181.75,
          182.05,
          183.52,
          183.8,
          185.71,
          185.93,
          186.42,
          189.36
         ],
         [
          186.91,
          187.17,
          188.67,
          189.01,
          189.64,
          189.83,
          190.06,
          190.68,
          191.2,
          191.28,
          191.62,
          191.72,
          191.81,
          192.31,
          192.8,
          192.96,
          193.11,
          193.75,
          194
         ],
         [
          187.38,
          187.88,
          189.36,
          189.99,
          190.07,
          190.1,
          190.14,
          190.41,
          191.16,
          191.23,
          191.28,
          191.56,
          191.72,
          191.81,
          191.95,
          192,
          192.25,
          192.3,
          192.99
         ],
         [
          184.3,
          185.97,
          186.63,
          187.1,
          187.34,
          187.47,
          187.95,
          189.15,
          189.64,
          190.85,
          191.67,
          192.49,
          192.5,
          193.63,
          194,
          194.4,
          194.57,
          195.24,
          195.78
         ],
         [
          180.37,
          180.72,
          180.88,
          181.27,
          181.55,
          181.71,
          182.14,
          182.82,
          186.35,
          187.22,
          187.7,
          188,
          188.04,
          188.39,
          188.42,
          188.49,
          188.53,
          189.86,
          192.36
         ]
        ]
       }
      }
     },
     "a921aca3c6d34efdad325094c86cfbbf": {
      "model_module": "bqplot",
      "model_module_version": "*",
      "model_name": "LinearScaleModel",
      "state": {
       "allow_padding": false,
       "max": 1,
       "min": 0,
       "stabilized": false
      }
     },
     "e3cfe7dd04df4761bd0318027f52a392": {
      "model_module": "bqplot",
      "model_module_version": "*",
      "model_name": "LinearScaleModel",
      "state": {
       "stabilized": false
      }
     },
     "e82ef9aea6854930a4725d5a59c7884a": {
      "model_module": "jupyter-js-widgets",
      "model_module_version": "*",
      "model_name": "LayoutModel",
      "state": {
       "align_self": "stretch",
       "flex": "1",
       "min_width": "400px"
      }
     },
     "eff69421fa094ce1821917afe76e26fa": {
      "model_module": "bqplot",
      "model_module_version": "*",
      "model_name": "AxisModel",
      "state": {
       "label": "X",
       "scale": "IPY_MODEL_1bf598b2e19c43a2863db8802ffcf102",
       "side": "bottom",
       "tick_values": {
        "type": null,
        "values": null
       }
      }
     },
     "f9eb1414505e4fa8bafc9139b02dc208": {
      "model_module": "bqplot",
      "model_module_version": "*",
      "model_name": "BoxplotModel",
      "state": {
       "box_fill_color": "blue",
       "display_legend": false,
       "opacities": [
        0.1,
        0.2
       ],
       "outlier_fill_color": "red",
       "scales": {
        "x": "IPY_MODEL_2dcefb1f2d9b448aaf9e223a3240ab33",
        "y": "IPY_MODEL_2aec3346ea844a8cb8b7334d316f8495"
       },
       "stroke": "red",
       "x": {
        "type": "float",
        "values": [
         1,
         2,
         3,
         4,
         5,
         6,
         7
        ]
       },
       "y": {
        "type": "float64",
        "values": [
         [
          151.41,
          151.93,
          153.06,
          155.38,
          157.68,
          158.51,
          160.1,
          160.51,
          161.07,
          161.44,
          161.82,
          161.86,
          162.24,
          162.34,
          162.67,
          162.99,
          163.27,
          164.05,
          164.52
         ],
         [
          160.64,
          160.92,
          161.43,
          161.46,
          161.54,
          161.76,
          161.82,
          161.89,
          161.92,
          161.95,
          162.07,
          162.15,
          162.17,
          162.65,
          162.79,
          163.3,
          163.49,
          164.16,
          164.16
         ],
         [
          161.79,
          161.87,
          162.08,
          162.18,
          163.23,
          163.46,
          163.6,
          164.35,
          164.4,
          169.1,
          179.84,
          181.75,
          182.05,
          183.52,
          183.8,
          185.71,
          185.93,
          186.42,
          189.36
         ],
         [
          186.91,
          187.17,
          188.67,
          189.01,
          189.64,
          189.83,
          190.06,
          190.68,
          191.2,
          191.28,
          191.62,
          191.72,
          191.81,
          192.31,
          192.8,
          192.96,
          193.11,
          193.75,
          194
         ],
         [
          187.38,
          187.88,
          189.36,
          189.99,
          190.07,
          190.1,
          190.14,
          190.41,
          191.16,
          191.23,
          191.28,
          191.56,
          191.72,
          191.81,
          191.95,
          192,
          192.25,
          192.3,
          192.99
         ],
         [
          184.3,
          185.97,
          186.63,
          187.1,
          187.34,
          187.47,
          187.95,
          189.15,
          189.64,
          190.85,
          191.67,
          192.49,
          192.5,
          193.63,
          194,
          194.4,
          194.57,
          195.24,
          195.78
         ],
         [
          180.37,
          180.72,
          180.88,
          181.27,
          181.55,
          181.71,
          182.14,
          182.82,
          186.35,
          187.22,
          187.7,
          188,
          188.04,
          188.39,
          188.42,
          188.49,
          188.53,
          189.86,
          192.36
         ]
        ]
       }
      }
     }
    },
    "version_major": 1,
    "version_minor": 0
   }
  }
 },
 "nbformat": 4,
 "nbformat_minor": 1
}
