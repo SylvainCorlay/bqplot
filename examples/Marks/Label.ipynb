{
 "cells": [
  {
   "cell_type": "code",
   "execution_count": 1,
   "metadata": {},
   "outputs": [],
   "source": [
    "from bqplot import *\n",
    "import numpy as np\n",
    "import pandas as pd"
   ]
  },
  {
   "cell_type": "code",
   "execution_count": 2,
   "metadata": {},
   "outputs": [],
   "source": [
    "np.random.seed(10)\n",
    "price_data = pd.DataFrame(np.cumsum(np.random.randn(150, 2).dot([[0.5, 0.8], [0.8, 1.0]]), axis=0) + 100,\n",
    "                          columns=['Security 1', 'Security 2'],\n",
    "                          index=pd.date_range(start='01-01-2007', periods=150))\n",
    "y_data = np.cumsum(np.random.randn(100))"
   ]
  },
  {
   "cell_type": "markdown",
   "metadata": {},
   "source": [
    "## Label positioned in data co-ordinates"
   ]
  },
  {
   "cell_type": "code",
   "execution_count": 3,
   "metadata": {},
   "outputs": [
    {
     "data": {
      "application/vnd.jupyter.widget-view+json": {
       "model_id": "8ebda9e059634aa486bcb4ef6615d2e7"
      }
     },
     "metadata": {},
     "output_type": "display_data"
    }
   ],
   "source": [
    "x_sc = LinearScale()\n",
    "y_sc = LinearScale()\n",
    "\n",
    "test_line = Lines(x=np.arange(10), y=y_data[:10], scales={'x': x_sc, 'y': y_sc})\n",
    "test_label = Label(x=np.arange(5), y=y_data[:5], scales={'x': x_sc, 'y': y_sc},\n",
    "                   text=['Test', 'Label', 'for', 'the', 'Data'], font_size=26, font_weight='bolder',\n",
    "                   colors=['orange', 'red'], update_on_move=True)\n",
    "\n",
    "ax_x = Axis(scale=x_sc, label='X')\n",
    "ax_y = Axis(scale=y_sc, orientation='vertical', tick_format='0.2f', label='Y')\n",
    "\n",
    "Figure(marks=[test_label, test_line], axes=[ax_x, ax_y], title='Basic Label Example')"
   ]
  },
  {
   "cell_type": "markdown",
   "metadata": {},
   "source": [
    "Setting the label attribute `enable_move` to `True` makes the label draggable"
   ]
  },
  {
   "cell_type": "code",
   "execution_count": 4,
   "metadata": {
    "collapsed": true
   },
   "outputs": [],
   "source": [
    "test_label.enable_move = True"
   ]
  },
  {
   "cell_type": "markdown",
   "metadata": {},
   "source": [
    "## Label positioned in terms of Figure co-ordinates"
   ]
  },
  {
   "cell_type": "code",
   "execution_count": 5,
   "metadata": {},
   "outputs": [
    {
     "data": {
      "application/vnd.jupyter.widget-view+json": {
       "model_id": "7e247fe71baa46728bd57e95ad6a7f8a"
      }
     },
     "metadata": {},
     "output_type": "display_data"
    }
   ],
   "source": [
    "x_sc = LinearScale()\n",
    "y_sc = LinearScale()\n",
    "\n",
    "test_line = Lines(x=np.arange(10), y=y_data,  scales={'x': x_sc, 'y': y_sc})\n",
    "test_label = Label(x=[0.5], y=[0.2], text=['Test Label'], font_size=26,\n",
    "                  font_weight='bolder', colors=['orange'])\n",
    "\n",
    "ax_x = Axis(scale=x_sc)\n",
    "ax_y = Axis(scale=y_sc, orientation='vertical', tick_format='0.2f')\n",
    "\n",
    "Figure(marks=[test_line, test_label], axes=[ax_x, ax_y])"
   ]
  },
  {
   "cell_type": "code",
   "execution_count": 6,
   "metadata": {
    "collapsed": true
   },
   "outputs": [],
   "source": [
    "# Rotating the label\n",
    "test_label.rotate_angle = 30"
   ]
  },
  {
   "cell_type": "markdown",
   "metadata": {},
   "source": [
    "## Label positioned at a Date value"
   ]
  },
  {
   "cell_type": "code",
   "execution_count": 7,
   "metadata": {},
   "outputs": [
    {
     "data": {
      "application/vnd.jupyter.widget-view+json": {
       "model_id": "11279cedd0d341baa21a283a8d6d561a"
      }
     },
     "metadata": {},
     "output_type": "display_data"
    }
   ],
   "source": [
    "dt_sc = DateScale()\n",
    "y_sc = LinearScale()\n",
    "\n",
    "lines = Lines(x=price_data.index.values, y=price_data['Security 1'].values, scales={'x': dt_sc, 'y': y_sc})\n",
    "label = Label(x=[np.datetime64('2007-03-14')], y=[0.5], scales={'x': dt_sc}, text=['Pi-Day'], colors=['orange'])\n",
    "\n",
    "ax_x = Axis(scale=dt_sc)\n",
    "ax_y = Axis(scale=y_sc, orientation='vertical')\n",
    "\n",
    "Figure(marks=[lines, label], axes=[ax_x, ax_y])"
   ]
  },
  {
   "cell_type": "code",
   "execution_count": 8,
   "metadata": {
    "collapsed": true
   },
   "outputs": [],
   "source": [
    "# Setting an offset in pixel\n",
    "label.x_offset = 100"
   ]
  }
 ],
 "metadata": {
  "kernelspec": {
   "display_name": "Python 3",
   "language": "python",
   "name": "python3"
  },
  "language_info": {
   "codemirror_mode": {
    "name": "ipython",
    "version": 3
   },
   "file_extension": ".py",
   "mimetype": "text/x-python",
   "name": "python",
   "nbconvert_exporter": "python",
   "pygments_lexer": "ipython3",
   "version": "3.5.2"
  },
  "widgets": {
   "application/vnd.jupyter.widget-state+json": {
    "state": {
     "076bb858056b40a5bd21f1d410f461ca": {
      "model_module": "bqplot",
      "model_module_version": "*",
      "model_name": "AxisModel",
      "state": {
       "orientation": "vertical",
       "scale": "IPY_MODEL_e4c0cd30dfe14cc08803e8e2bfeeddb5",
       "side": "left",
       "tick_format": "0.2f",
       "tick_values": {
        "type": null,
        "values": null
       }
      }
     },
     "0b0b8a1bb87e41238baae87061feff36": {
      "model_module": "bqplot",
      "model_module_version": "*",
      "model_name": "LinearScaleModel",
      "state": {
       "stabilized": false
      }
     },
     "11279cedd0d341baa21a283a8d6d561a": {
      "model_module": "bqplot",
      "model_module_version": "*",
      "model_name": "FigureModel",
      "state": {
       "_dom_classes": [],
       "axes": [
        "IPY_MODEL_16608fdf57ef47ba82c2fb21db43d3f2",
        "IPY_MODEL_a71825e744094d818e2c84bf9aa9ad18"
       ],
       "layout": "IPY_MODEL_3848ee4158134a23a9310110445c006a",
       "marks": [
        "IPY_MODEL_5310bd2a19bf47a99cd71fc0bd8f3611",
        "IPY_MODEL_e066921a87234b41acb09d4a9c1e4d7f"
       ],
       "scale_x": "IPY_MODEL_c84e4678a0b44a2fa05b7dadd38c11d9",
       "scale_y": "IPY_MODEL_432b2ea8ee114b03bfcb21b18000b447"
      }
     },
     "1154308d0ce942238c2056722842443a": {
      "model_module": "bqplot",
      "model_module_version": "*",
      "model_name": "AxisModel",
      "state": {
       "scale": "IPY_MODEL_2bd6a584fe7840109e24a9b85e10ddaa",
       "side": "bottom",
       "tick_values": {
        "type": null,
        "values": null
       }
      }
     },
     "132d29eca7c842c993f7439c92c2a55a": {
      "model_module": "jupyter-js-widgets",
      "model_module_version": "*",
      "model_name": "LayoutModel",
      "state": {
       "align_self": "stretch",
       "flex": "1",
       "min_width": "400px"
      }
     },
     "16608fdf57ef47ba82c2fb21db43d3f2": {
      "model_module": "bqplot",
      "model_module_version": "*",
      "model_name": "AxisModel",
      "state": {
       "scale": "IPY_MODEL_a2d56a22717f4d9e90c4dc1a1d856e60",
       "side": "bottom",
       "tick_values": {
        "type": null,
        "values": null
       }
      }
     },
     "195aa08eeddf45e7af64337cf228caf4": {
      "model_module": "bqplot",
      "model_module_version": "*",
      "model_name": "LabelModel",
      "state": {
       "_model_module": "bqplot",
       "_model_module_version": "*",
       "_view_module": "bqplot",
       "_view_module_version": "*",
       "apply_clip": true,
       "color": {
        "type": null,
        "values": null
       },
       "colors": [
        "orange"
       ],
       "default_size": 16,
       "display_legend": false,
       "enable_hover": true,
       "font_weight": "bolder",
       "hovered_style": {},
       "interactions": {
        "hover": "tooltip"
       },
       "labels": [],
       "msg_throttle": 1,
       "opacity": {
        "type": null,
        "values": null
       },
       "preserve_domain": {},
       "rotate_angle": 30,
       "rotation": {
        "type": null,
        "values": null
       },
       "scales": {},
       "selected": [],
       "selected_style": {},
       "size": {
        "type": null,
        "values": null
       },
       "text": {
        "type": "<U10",
        "values": [
         "Test Label"
        ]
       },
       "tooltip": null,
       "tooltip_location": "mouse",
       "tooltip_style": {
        "opacity": 0.9
       },
       "unhovered_style": {},
       "unselected_style": {},
       "visible": true,
       "x": {
        "type": "float64",
        "values": [
         0.5
        ]
       },
       "y": {
        "type": "float64",
        "values": [
         0.2
        ]
       }
      }
     },
     "233adda90be74dc787154ed7c69f107a": {
      "model_module": "jupyter-js-widgets",
      "model_module_version": "*",
      "model_name": "LayoutModel",
      "state": {
       "align_self": "stretch",
       "flex": "1",
       "min_width": "400px"
      }
     },
     "2bd6a584fe7840109e24a9b85e10ddaa": {
      "model_module": "bqplot",
      "model_module_version": "*",
      "model_name": "LinearScaleModel",
      "state": {
       "stabilized": false
      }
     },
     "3403f4b399a344daa4600561aeaf5dbf": {
      "model_module": "bqplot",
      "model_module_version": "*",
      "model_name": "LinearScaleModel",
      "state": {
       "stabilized": false
      }
     },
     "3848ee4158134a23a9310110445c006a": {
      "model_module": "jupyter-js-widgets",
      "model_module_version": "*",
      "model_name": "LayoutModel",
      "state": {
       "align_self": "stretch",
       "flex": "1",
       "min_width": "400px"
      }
     },
     "3dac8f69776b415197c7850d3fda6288": {
      "model_module": "bqplot",
      "model_module_version": "*",
      "model_name": "LinesModel",
      "state": {
       "color": {
        "type": null,
        "values": null
       },
       "display_legend": false,
       "fill_colors": [],
       "labels": [
        "C1"
       ],
       "scales": {
        "x": "IPY_MODEL_2bd6a584fe7840109e24a9b85e10ddaa",
        "y": "IPY_MODEL_e4c0cd30dfe14cc08803e8e2bfeeddb5"
       },
       "x": {
        "type": "float",
        "values": [
         0,
         1,
         2,
         3,
         4,
         5,
         6,
         7,
         8,
         9
        ]
       },
       "y": {
        "type": "float64",
        "values": [
         0.755299957952175,
         1.6347856485098373,
         1.3948293496809325,
         0.6997727042735964,
         0.22837262130990832,
         0.5778490299772745,
         2.189306323970623,
         2.428645590401863,
         2.913648218549143,
         1.2550435119758483,
         3.9349538199551635,
         2.8314316886939372,
         4.649214297408276,
         4.093166955766973,
         5.0508781954546595,
         5.866098876883078,
         5.9304182766370905,
         5.764012905123355,
         4.823303130130518,
         4.76970862840742,
         5.870844831551745,
         6.24296737695732,
         5.359506389863574,
         6.517557961561137,
         5.313904469966881,
         5.523743611838625,
         4.632556689709944,
         3.8498689427186124,
         4.9295996205143195,
         4.46675873491805,
         2.951683055568022,
         2.4129645237906954,
         3.169586381518874,
         2.440187159047623,
         3.6549698091277953,
         4.663252775833019,
         4.736535784759749,
         5.9102681981825524,
         7.773219865503508,
         5.789583367854539,
         6.946272297962803,
         7.555554564245167,
         7.2323533317721616,
         7.896498938700489,
         8.293224931792121,
         7.717108070917576,
         9.205326462995592,
         9.345573329800667,
         10.53389008378531,
         10.288144696236932,
         8.65255807822777,
         8.897356166773756,
         8.662273936964743,
         7.401446131310602,
         5.709478202533794,
         6.325929124938667,
         7.59562040661196,
         8.992958383229297,
         9.52718334549642,
         9.531285384055158,
         9.72070522634455,
         9.7654799117615,
         10.560165186098274,
         10.06702444465733,
         8.805434705657596,
         8.586174441654597,
         8.783446665500124,
         8.528166211455838,
         8.553973802962346,
         10.754940240604133,
         11.639307844096678,
         10.252485309485536,
         10.906147623815453,
         8.729538989162451,
         9.348487913556879,
         9.825722216668076,
         9.851818744804778,
         8.882113071999978,
         7.898384947966461,
         8.310917663628038,
         7.696612817290502,
         8.533694592663306,
         7.91007558438549,
         7.546889382958321,
         8.306360714091195,
         8.272433714414113,
         8.106033021695652,
         8.375605445114529,
         8.75091099617065,
         8.666995751989443,
         8.893122101238891,
         8.77724137064795,
         9.188843782710792,
         9.476654217005521,
         9.980925694118982,
         10.78519305181072,
         9.754584838918225,
         8.396887278879408,
         8.130385413849437,
         7.959092616264396
        ]
       }
      }
     },
     "432b2ea8ee114b03bfcb21b18000b447": {
      "model_module": "bqplot",
      "model_module_version": "*",
      "model_name": "LinearScaleModel",
      "state": {
       "allow_padding": false,
       "max": 1,
       "min": 0,
       "stabilized": false
      }
     },
     "5310bd2a19bf47a99cd71fc0bd8f3611": {
      "model_module": "bqplot",
      "model_module_version": "*",
      "model_name": "LinesModel",
      "state": {
       "color": {
        "type": null,
        "values": null
       },
       "display_legend": false,
       "fill_colors": [],
       "labels": [
        "C1"
       ],
       "scales": {
        "x": "IPY_MODEL_a2d56a22717f4d9e90c4dc1a1d856e60",
        "y": "IPY_MODEL_c32e5eca8fbc454e94a187ef693aeb41"
       },
       "x": {
        "type": "date",
        "values": [
         "2007-01-01T00:00:00.000000",
         "2007-01-02T00:00:00.000000",
         "2007-01-03T00:00:00.000000",
         "2007-01-04T00:00:00.000000",
         "2007-01-05T00:00:00.000000",
         "2007-01-06T00:00:00.000000",
         "2007-01-07T00:00:00.000000",
         "2007-01-08T00:00:00.000000",
         "2007-01-09T00:00:00.000000",
         "2007-01-10T00:00:00.000000",
         "2007-01-11T00:00:00.000000",
         "2007-01-12T00:00:00.000000",
         "2007-01-13T00:00:00.000000",
         "2007-01-14T00:00:00.000000",
         "2007-01-15T00:00:00.000000",
         "2007-01-16T00:00:00.000000",
         "2007-01-17T00:00:00.000000",
         "2007-01-18T00:00:00.000000",
         "2007-01-19T00:00:00.000000",
         "2007-01-20T00:00:00.000000",
         "2007-01-21T00:00:00.000000",
         "2007-01-22T00:00:00.000000",
         "2007-01-23T00:00:00.000000",
         "2007-01-24T00:00:00.000000",
         "2007-01-25T00:00:00.000000",
         "2007-01-26T00:00:00.000000",
         "2007-01-27T00:00:00.000000",
         "2007-01-28T00:00:00.000000",
         "2007-01-29T00:00:00.000000",
         "2007-01-30T00:00:00.000000",
         "2007-01-31T00:00:00.000000",
         "2007-02-01T00:00:00.000000",
         "2007-02-02T00:00:00.000000",
         "2007-02-03T00:00:00.000000",
         "2007-02-04T00:00:00.000000",
         "2007-02-05T00:00:00.000000",
         "2007-02-06T00:00:00.000000",
         "2007-02-07T00:00:00.000000",
         "2007-02-08T00:00:00.000000",
         "2007-02-09T00:00:00.000000",
         "2007-02-10T00:00:00.000000",
         "2007-02-11T00:00:00.000000",
         "2007-02-12T00:00:00.000000",
         "2007-02-13T00:00:00.000000",
         "2007-02-14T00:00:00.000000",
         "2007-02-15T00:00:00.000000",
         "2007-02-16T00:00:00.000000",
         "2007-02-17T00:00:00.000000",
         "2007-02-18T00:00:00.000000",
         "2007-02-19T00:00:00.000000",
         "2007-02-20T00:00:00.000000",
         "2007-02-21T00:00:00.000000",
         "2007-02-22T00:00:00.000000",
         "2007-02-23T00:00:00.000000",
         "2007-02-24T00:00:00.000000",
         "2007-02-25T00:00:00.000000",
         "2007-02-26T00:00:00.000000",
         "2007-02-27T00:00:00.000000",
         "2007-02-28T00:00:00.000000",
         "2007-03-01T00:00:00.000000",
         "2007-03-02T00:00:00.000000",
         "2007-03-03T00:00:00.000000",
         "2007-03-04T00:00:00.000000",
         "2007-03-05T00:00:00.000000",
         "2007-03-06T00:00:00.000000",
         "2007-03-07T00:00:00.000000",
         "2007-03-08T00:00:00.000000",
         "2007-03-09T00:00:00.000000",
         "2007-03-10T00:00:00.000000",
         "2007-03-11T00:00:00.000000",
         "2007-03-12T00:00:00.000000",
         "2007-03-13T00:00:00.000000",
         "2007-03-14T00:00:00.000000",
         "2007-03-15T00:00:00.000000",
         "2007-03-16T00:00:00.000000",
         "2007-03-17T00:00:00.000000",
         "2007-03-18T00:00:00.000000",
         "2007-03-19T00:00:00.000000",
         "2007-03-20T00:00:00.000000",
         "2007-03-21T00:00:00.000000",
         "2007-03-22T00:00:00.000000",
         "2007-03-23T00:00:00.000000",
         "2007-03-24T00:00:00.000000",
         "2007-03-25T00:00:00.000000",
         "2007-03-26T00:00:00.000000",
         "2007-03-27T00:00:00.000000",
         "2007-03-28T00:00:00.000000",
         "2007-03-29T00:00:00.000000",
         "2007-03-30T00:00:00.000000",
         "2007-03-31T00:00:00.000000",
         "2007-04-01T00:00:00.000000",
         "2007-04-02T00:00:00.000000",
         "2007-04-03T00:00:00.000000",
         "2007-04-04T00:00:00.000000",
         "2007-04-05T00:00:00.000000",
         "2007-04-06T00:00:00.000000",
         "2007-04-07T00:00:00.000000",
         "2007-04-08T00:00:00.000000",
         "2007-04-09T00:00:00.000000",
         "2007-04-10T00:00:00.000000",
         "2007-04-11T00:00:00.000000",
         "2007-04-12T00:00:00.000000",
         "2007-04-13T00:00:00.000000",
         "2007-04-14T00:00:00.000000",
         "2007-04-15T00:00:00.000000",
         "2007-04-16T00:00:00.000000",
         "2007-04-17T00:00:00.000000",
         "2007-04-18T00:00:00.000000",
         "2007-04-19T00:00:00.000000",
         "2007-04-20T00:00:00.000000",
         "2007-04-21T00:00:00.000000",
         "2007-04-22T00:00:00.000000",
         "2007-04-23T00:00:00.000000",
         "2007-04-24T00:00:00.000000",
         "2007-04-25T00:00:00.000000",
         "2007-04-26T00:00:00.000000",
         "2007-04-27T00:00:00.000000",
         "2007-04-28T00:00:00.000000",
         "2007-04-29T00:00:00.000000",
         "2007-04-30T00:00:00.000000",
         "2007-05-01T00:00:00.000000",
         "2007-05-02T00:00:00.000000",
         "2007-05-03T00:00:00.000000",
         "2007-05-04T00:00:00.000000",
         "2007-05-05T00:00:00.000000",
         "2007-05-06T00:00:00.000000",
         "2007-05-07T00:00:00.000000",
         "2007-05-08T00:00:00.000000",
         "2007-05-09T00:00:00.000000",
         "2007-05-10T00:00:00.000000",
         "2007-05-11T00:00:00.000000",
         "2007-05-12T00:00:00.000000",
         "2007-05-13T00:00:00.000000",
         "2007-05-14T00:00:00.000000",
         "2007-05-15T00:00:00.000000",
         "2007-05-16T00:00:00.000000",
         "2007-05-17T00:00:00.000000",
         "2007-05-18T00:00:00.000000",
         "2007-05-19T00:00:00.000000",
         "2007-05-20T00:00:00.000000",
         "2007-05-21T00:00:00.000000",
         "2007-05-22T00:00:00.000000",
         "2007-05-23T00:00:00.000000",
         "2007-05-24T00:00:00.000000",
         "2007-05-25T00:00:00.000000",
         "2007-05-26T00:00:00.000000",
         "2007-05-27T00:00:00.000000",
         "2007-05-28T00:00:00.000000",
         "2007-05-29T00:00:00.000000",
         "2007-05-30T00:00:00.000000"
        ]
       },
       "y": {
        "type": "float64",
        "values": [
         101.23801643158349,
         100.45860920558503,
         100.19320874395515,
         100.41280335737319,
         100.27526890436586,
         101.45421189839242,
         101.7942983255202,
         102.26472348084681,
         101.8045318776902,
         101.68295646998027,
         99.2993944929322,
         101.34040343950134,
         103.24034683685231,
         104.4083185464448,
         104.76325790034961,
         104.19015209472845,
         103.87559263066656,
         104.68583979448476,
         104.61583891894252,
         104.65849944921914,
         104.7079177116804,
         103.8467312582914,
         103.27427757618801,
         103.35444340220687,
         103.51908353085356,
         103.73740622548861,
         104.03399470576355,
         104.61797171281687,
         106.54929069526747,
         106.2034101019566,
         105.68593585430867,
         105.69208040648623,
         105.22808244977817,
         104.61632905480359,
         104.33755491029625,
         104.86595544217924,
         105.54931846201353,
         107.68081619656708,
         107.42313598339236,
         106.26216266049734,
         108.65055627488165,
         107.54424457529367,
         105.8059509646528,
         106.09620868264881,
         104.60932623941498,
         105.3588155381247,
         104.72474515478034,
         105.81533998422378,
         105.64596350487766,
         104.49585312020758,
         103.02862544022139,
         102.94297195506336,
         102.55067789196129,
         103.081252852709,
         102.80485293908707,
         102.57467750031464,
         103.18535491247638,
         102.74983499923384,
         102.64320521557538,
         101.4848732773704,
         100.14195855987744,
         102.73232128862003,
         103.70092389566874,
         104.34563016290159,
         105.7083001622075,
         104.6896858847731,
         104.62076899990605,
         103.83041650041743,
         104.52382742415074,
         106.67425277773,
         105.44298961241992,
         105.0343390776996,
         106.51474199999863,
         105.6422076249026,
         106.71636113813388,
         107.30315645678802,
         108.37024342226962,
         108.2975694501327,
         108.38136559662674,
         106.4689383842479,
         107.03279623095736,
         107.79313966653649,
         105.68884455288436,
         104.88918135504149,
         104.61433980744455,
         104.24864205886625,
         105.25018876698181,
         104.68510146572494,
         105.44187473905733,
         105.70976450245779,
         104.45616682518464,
         105.31828875286881,
         106.52455870843599,
         106.50502691045203,
         106.92758229892799,
         106.93849751725276,
         106.30019296246522,
         107.10884085517968,
         106.76455534044536,
         106.8905580740172,
         107.91932192162865,
         107.53526476846005,
         105.41698738007244,
         105.93286818236074,
         104.25244297476713,
         105.12544999248529,
         105.02847540608002,
         104.77711335408245,
         105.07930586712627,
         106.2863809399151,
         106.68849110936718,
         105.80598849756579,
         106.13255778263157,
         105.55696204306179,
         105.74472038571773,
         105.71552467875894,
         106.0287762869906,
         106.43587528991452,
         105.60266764656708,
         106.11621533610834,
         105.53978858025214,
         103.53155884867434,
         102.82224766793516,
         101.82878019857539,
         103.5967969315057,
         103.29831348828996,
         103.29197975452882,
         104.45603193343885,
         104.55127926747183,
         103.85547499613484,
         105.03031133069484,
         104.48558441467728,
         104.19158569223762,
         104.38097593052791,
         103.97428399466368,
         104.07397191633859,
         103.07288445947361,
         102.82349079019198,
         102.55432484718584,
         103.30903352961302,
         102.93283567748891,
         103.58723885959593,
         104.99373665695991,
         105.44883683013829,
         104.02241628342584,
         103.30223255690626,
         103.70486097917677,
         104.53302576960934,
         104.52063892344434,
         105.26620103730134
        ]
       }
      }
     },
     "7a3ba7dd75b14fd7a4231717c779bd3f": {
      "model_module": "bqplot",
      "model_module_version": "*",
      "model_name": "LinearScaleModel",
      "state": {
       "allow_padding": false,
       "max": 1,
       "min": 0,
       "stabilized": false
      }
     },
     "7e247fe71baa46728bd57e95ad6a7f8a": {
      "model_module": "bqplot",
      "model_module_version": "*",
      "model_name": "FigureModel",
      "state": {
       "_dom_classes": [],
       "axes": [
        "IPY_MODEL_1154308d0ce942238c2056722842443a",
        "IPY_MODEL_076bb858056b40a5bd21f1d410f461ca"
       ],
       "layout": "IPY_MODEL_132d29eca7c842c993f7439c92c2a55a",
       "marks": [
        "IPY_MODEL_3dac8f69776b415197c7850d3fda6288",
        "IPY_MODEL_195aa08eeddf45e7af64337cf228caf4"
       ],
       "scale_x": "IPY_MODEL_fa3f32e83f7741f8bd81412046e33006",
       "scale_y": "IPY_MODEL_bc92a30afd2840bfb3e92333d8085e27"
      }
     },
     "8ebda9e059634aa486bcb4ef6615d2e7": {
      "model_module": "bqplot",
      "model_module_version": "*",
      "model_name": "FigureModel",
      "state": {
       "_dom_classes": [],
       "axes": [
        "IPY_MODEL_cbfbb2afee514d059e8c8ba23f92a48d",
        "IPY_MODEL_d294d599a0104982a96e448ce4bd1c83"
       ],
       "layout": "IPY_MODEL_233adda90be74dc787154ed7c69f107a",
       "marks": [
        "IPY_MODEL_b4f1f753615f40829abf4baa5bad91f8",
        "IPY_MODEL_b914c5c26ecc4d5ca775aeb0a8626f01"
       ],
       "scale_x": "IPY_MODEL_7a3ba7dd75b14fd7a4231717c779bd3f",
       "scale_y": "IPY_MODEL_b4bb53e252e845d8b574d15d4d0ad32d",
       "title": "Basic Label Example"
      }
     },
     "a2d56a22717f4d9e90c4dc1a1d856e60": {
      "model_module": "bqplot",
      "model_module_version": "*",
      "model_name": "DateScaleModel",
      "state": {}
     },
     "a71825e744094d818e2c84bf9aa9ad18": {
      "model_module": "bqplot",
      "model_module_version": "*",
      "model_name": "AxisModel",
      "state": {
       "orientation": "vertical",
       "scale": "IPY_MODEL_c32e5eca8fbc454e94a187ef693aeb41",
       "side": "left",
       "tick_values": {
        "type": null,
        "values": null
       }
      }
     },
     "b4bb53e252e845d8b574d15d4d0ad32d": {
      "model_module": "bqplot",
      "model_module_version": "*",
      "model_name": "LinearScaleModel",
      "state": {
       "allow_padding": false,
       "max": 1,
       "min": 0,
       "stabilized": false
      }
     },
     "b4f1f753615f40829abf4baa5bad91f8": {
      "model_module": "bqplot",
      "model_module_version": "*",
      "model_name": "LabelModel",
      "state": {
       "_model_module": "bqplot",
       "_model_module_version": "*",
       "_view_module": "bqplot",
       "_view_module_version": "*",
       "apply_clip": true,
       "color": {
        "type": null,
        "values": null
       },
       "colors": [
        "orange",
        "red"
       ],
       "default_size": 16,
       "display_legend": false,
       "enable_hover": true,
       "enable_move": true,
       "font_weight": "bolder",
       "hovered_style": {},
       "interactions": {
        "hover": "tooltip"
       },
       "labels": [],
       "msg_throttle": 1,
       "opacity": {
        "type": null,
        "values": null
       },
       "preserve_domain": {},
       "rotation": {
        "type": null,
        "values": null
       },
       "scales": {
        "x": "IPY_MODEL_0b0b8a1bb87e41238baae87061feff36",
        "y": "IPY_MODEL_3403f4b399a344daa4600561aeaf5dbf"
       },
       "selected": [],
       "selected_style": {},
       "size": {
        "type": null,
        "values": null
       },
       "text": {
        "type": "<U5",
        "values": [
         "Test",
         "Label",
         "for",
         "the",
         "Data"
        ]
       },
       "tooltip": null,
       "tooltip_location": "mouse",
       "tooltip_style": {
        "opacity": 0.9
       },
       "unhovered_style": {},
       "unselected_style": {},
       "update_on_move": true,
       "visible": true,
       "x": {
        "type": "float",
        "values": [
         0,
         1,
         2,
         3,
         4
        ]
       },
       "y": {
        "type": "float64",
        "values": [
         0.755299957952175,
         1.6347856485098373,
         1.3948293496809325,
         0.6997727042735964,
         0.22837262130990832
        ]
       }
      }
     },
     "b914c5c26ecc4d5ca775aeb0a8626f01": {
      "model_module": "bqplot",
      "model_module_version": "*",
      "model_name": "LinesModel",
      "state": {
       "color": {
        "type": null,
        "values": null
       },
       "display_legend": false,
       "fill_colors": [],
       "labels": [
        "C1"
       ],
       "scales": {
        "x": "IPY_MODEL_0b0b8a1bb87e41238baae87061feff36",
        "y": "IPY_MODEL_3403f4b399a344daa4600561aeaf5dbf"
       },
       "x": {
        "type": "float",
        "values": [
         0,
         1,
         2,
         3,
         4,
         5,
         6,
         7,
         8,
         9
        ]
       },
       "y": {
        "type": "float64",
        "values": [
         0.755299957952175,
         1.6347856485098373,
         1.3948293496809325,
         0.6997727042735964,
         0.22837262130990832,
         0.5778490299772745,
         2.189306323970623,
         2.428645590401863,
         2.913648218549143,
         1.2550435119758483
        ]
       }
      }
     },
     "bc92a30afd2840bfb3e92333d8085e27": {
      "model_module": "bqplot",
      "model_module_version": "*",
      "model_name": "LinearScaleModel",
      "state": {
       "allow_padding": false,
       "max": 1,
       "min": 0,
       "stabilized": false
      }
     },
     "c32e5eca8fbc454e94a187ef693aeb41": {
      "model_module": "bqplot",
      "model_module_version": "*",
      "model_name": "LinearScaleModel",
      "state": {
       "stabilized": false
      }
     },
     "c84e4678a0b44a2fa05b7dadd38c11d9": {
      "model_module": "bqplot",
      "model_module_version": "*",
      "model_name": "LinearScaleModel",
      "state": {
       "allow_padding": false,
       "max": 1,
       "min": 0,
       "stabilized": false
      }
     },
     "cbfbb2afee514d059e8c8ba23f92a48d": {
      "model_module": "bqplot",
      "model_module_version": "*",
      "model_name": "AxisModel",
      "state": {
       "label": "X",
       "scale": "IPY_MODEL_0b0b8a1bb87e41238baae87061feff36",
       "side": "bottom",
       "tick_values": {
        "type": null,
        "values": null
       }
      }
     },
     "d294d599a0104982a96e448ce4bd1c83": {
      "model_module": "bqplot",
      "model_module_version": "*",
      "model_name": "AxisModel",
      "state": {
       "label": "Y",
       "orientation": "vertical",
       "scale": "IPY_MODEL_3403f4b399a344daa4600561aeaf5dbf",
       "side": "left",
       "tick_format": "0.2f",
       "tick_values": {
        "type": null,
        "values": null
       }
      }
     },
     "e066921a87234b41acb09d4a9c1e4d7f": {
      "model_module": "bqplot",
      "model_module_version": "*",
      "model_name": "LabelModel",
      "state": {
       "_model_module": "bqplot",
       "_model_module_version": "*",
       "_view_module": "bqplot",
       "_view_module_version": "*",
       "apply_clip": true,
       "color": {
        "type": null,
        "values": null
       },
       "colors": [
        "orange"
       ],
       "default_size": 16,
       "display_legend": false,
       "enable_hover": true,
       "hovered_style": {},
       "interactions": {
        "hover": "tooltip"
       },
       "labels": [],
       "msg_throttle": 1,
       "opacity": {
        "type": null,
        "values": null
       },
       "preserve_domain": {},
       "rotation": {
        "type": null,
        "values": null
       },
       "scales": {
        "x": "IPY_MODEL_a2d56a22717f4d9e90c4dc1a1d856e60"
       },
       "selected": [],
       "selected_style": {},
       "size": {
        "type": null,
        "values": null
       },
       "text": {
        "type": "<U6",
        "values": [
         "Pi-Day"
        ]
       },
       "tooltip": null,
       "tooltip_location": "mouse",
       "tooltip_style": {
        "opacity": 0.9
       },
       "unhovered_style": {},
       "unselected_style": {},
       "visible": true,
       "x": {
        "type": "date",
        "values": [
         "2007-03-14T00:00:00.000000"
        ]
       },
       "x_offset": 100,
       "y": {
        "type": "float64",
        "values": [
         0.5
        ]
       }
      }
     },
     "e4c0cd30dfe14cc08803e8e2bfeeddb5": {
      "model_module": "bqplot",
      "model_module_version": "*",
      "model_name": "LinearScaleModel",
      "state": {
       "stabilized": false
      }
     },
     "fa3f32e83f7741f8bd81412046e33006": {
      "model_module": "bqplot",
      "model_module_version": "*",
      "model_name": "LinearScaleModel",
      "state": {
       "allow_padding": false,
       "max": 1,
       "min": 0,
       "stabilized": false
      }
     }
    },
    "version_major": 1,
    "version_minor": 0
   }
  }
 },
 "nbformat": 4,
 "nbformat_minor": 1
}
