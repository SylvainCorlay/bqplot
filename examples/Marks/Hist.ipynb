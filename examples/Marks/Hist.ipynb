{
 "cells": [
  {
   "cell_type": "code",
   "execution_count": 1,
   "metadata": {},
   "outputs": [],
   "source": [
    "import numpy as np\n",
    "from bqplot import *"
   ]
  },
  {
   "cell_type": "markdown",
   "metadata": {},
   "source": [
    "## Basic Histogram"
   ]
  },
  {
   "cell_type": "code",
   "execution_count": 2,
   "metadata": {},
   "outputs": [],
   "source": [
    "np.random.seed(0)\n",
    "x_data = np.random.randn(100)"
   ]
  },
  {
   "cell_type": "code",
   "execution_count": 3,
   "metadata": {},
   "outputs": [
    {
     "data": {
      "application/vnd.jupyter.widget-view+json": {
       "model_id": "bcf04076c67d4cb3a56960a010c74c22"
      }
     },
     "metadata": {},
     "output_type": "display_data"
    }
   ],
   "source": [
    "x_sc = LinearScale()\n",
    "y_sc = LinearScale()\n",
    "\n",
    "hist = Hist(sample=x_data, scales={'sample': x_sc, 'count': y_sc})\n",
    "ax_x = Axis(scale=x_sc, tick_format='0.2f')\n",
    "ax_y = Axis(scale=y_sc, orientation='vertical')\n",
    "\n",
    "Figure(marks=[hist], axes=[ax_x, ax_y], padding_y=0)"
   ]
  },
  {
   "cell_type": "code",
   "execution_count": 4,
   "metadata": {},
   "outputs": [
    {
     "data": {
      "text/plain": [
       "array([1, 5, 7, 13, 17, 18, 16, 11, 7, 5], dtype=object)"
      ]
     },
     "execution_count": 4,
     "metadata": {},
     "output_type": "execute_result"
    }
   ],
   "source": [
    "hist.count"
   ]
  },
  {
   "cell_type": "code",
   "execution_count": 5,
   "metadata": {
    "collapsed": true
   },
   "outputs": [],
   "source": [
    "# Changing the number of bins\n",
    "hist.bins = 20"
   ]
  },
  {
   "cell_type": "markdown",
   "metadata": {},
   "source": [
    "## Properties of Histogram"
   ]
  },
  {
   "cell_type": "code",
   "execution_count": 6,
   "metadata": {},
   "outputs": [
    {
     "data": {
      "application/vnd.jupyter.widget-view+json": {
       "model_id": "a723173ae75e4c12b007eafc859b144e"
      }
     },
     "metadata": {},
     "output_type": "display_data"
    }
   ],
   "source": [
    "# normalizing the count\n",
    "\n",
    "x_sc = LinearScale()\n",
    "y_sc = LinearScale()\n",
    "\n",
    "hist = Hist(sample=x_data, scales={'sample': x_sc, 'count': y_sc}, normalized=True)\n",
    "ax_x = Axis(scale=x_sc, tick_format='0.2f')\n",
    "ax_y = Axis(scale=y_sc, orientation='vertical')\n",
    "\n",
    "Figure(marks=[hist], axes=[ax_x, ax_y], padding_y=0)"
   ]
  },
  {
   "cell_type": "code",
   "execution_count": 7,
   "metadata": {
    "collapsed": true
   },
   "outputs": [],
   "source": [
    "# changing the color\n",
    "hist.colors=['orangered']"
   ]
  },
  {
   "cell_type": "code",
   "execution_count": 8,
   "metadata": {},
   "outputs": [],
   "source": [
    "# stroke and opacity update\n",
    "hist.stroke = 'orange'\n",
    "hist.opacities = [0.5] * hist.bins"
   ]
  },
  {
   "cell_type": "markdown",
   "metadata": {},
   "source": [
    "## Read-only properties of Histogram"
   ]
  },
  {
   "cell_type": "code",
   "execution_count": 9,
   "metadata": {},
   "outputs": [
    {
     "data": {
      "application/vnd.jupyter.widget-view+json": {
       "model_id": "06b34eeb788642a88545db34a2a62131"
      }
     },
     "metadata": {},
     "output_type": "display_data"
    }
   ],
   "source": [
    "x_sc = LinearScale()\n",
    "y_sc = LinearScale()\n",
    "\n",
    "hist = Hist(sample=x_data, scales={'sample': x_sc, 'count': y_sc})\n",
    "ax_x = Axis(scale=x_sc, tick_format='0.2f')\n",
    "ax_y = Axis(scale=y_sc, orientation='vertical')\n",
    "\n",
    "Figure(marks=[hist], axes=[ax_x, ax_y], padding_y=0)"
   ]
  },
  {
   "cell_type": "code",
   "execution_count": 10,
   "metadata": {},
   "outputs": [
    {
     "data": {
      "text/plain": [
       "array([1, 5, 7, 13, 17, 18, 16, 11, 7, 5], dtype=object)"
      ]
     },
     "execution_count": 10,
     "metadata": {},
     "output_type": "execute_result"
    }
   ],
   "source": [
    "# count is the number of elements in each interval\n",
    "hist.count"
   ]
  },
  {
   "cell_type": "code",
   "execution_count": 11,
   "metadata": {},
   "outputs": [
    {
     "data": {
      "text/plain": [
       "[-2.3118525938429944,\n",
       " -1.8295781498608257,\n",
       " -1.347303705878657,\n",
       " -0.8650292618964883,\n",
       " -0.38275481791431964,\n",
       " 0.09951962606784903,\n",
       " 0.5817940700500177,\n",
       " 1.0640685140321864,\n",
       " 1.546342958014355,\n",
       " 2.0286174019965237]"
      ]
     },
     "execution_count": 11,
     "metadata": {},
     "output_type": "execute_result"
    }
   ],
   "source": [
    "# mid points are the mid points of each interval\n",
    "hist.midpoints"
   ]
  }
 ],
 "metadata": {
  "kernelspec": {
   "display_name": "Python 3",
   "language": "python",
   "name": "python3"
  },
  "language_info": {
   "codemirror_mode": {
    "name": "ipython",
    "version": 3
   },
   "file_extension": ".py",
   "mimetype": "text/x-python",
   "name": "python",
   "nbconvert_exporter": "python",
   "pygments_lexer": "ipython3",
   "version": "3.5.2"
  },
  "widgets": {
   "application/vnd.jupyter.widget-state+json": {
    "state": {
     "031eaaaa00c34134bcd82d79579313b0": {
      "model_module": "bqplot",
      "model_module_version": "*",
      "model_name": "LinearScaleModel",
      "state": {
       "stabilized": false
      }
     },
     "06b34eeb788642a88545db34a2a62131": {
      "model_module": "bqplot",
      "model_module_version": "*",
      "model_name": "FigureModel",
      "state": {
       "_dom_classes": [],
       "axes": [
        "IPY_MODEL_f8ae4531ecb04627aaa4bc8dbb0aa6a7",
        "IPY_MODEL_e2b6a03d5fac4ecc848f11b860a32876"
       ],
       "layout": "IPY_MODEL_85e7177de17b408aa0eca12335d50773",
       "marks": [
        "IPY_MODEL_b1190be1275c48d5a1ee03642df1a4cb"
       ],
       "padding_y": 0,
       "scale_x": "IPY_MODEL_ba16a1dbcf354b59a17c4a20a7b21641",
       "scale_y": "IPY_MODEL_173c51e6aa164d0ab1755b4b3dfae1bc"
      }
     },
     "10a1661fa7284d7cbeeae226cc8d9041": {
      "model_module": "bqplot",
      "model_module_version": "*",
      "model_name": "LinearScaleModel",
      "state": {
       "allow_padding": false,
       "max": 1,
       "min": 0,
       "stabilized": false
      }
     },
     "173c51e6aa164d0ab1755b4b3dfae1bc": {
      "model_module": "bqplot",
      "model_module_version": "*",
      "model_name": "LinearScaleModel",
      "state": {
       "allow_padding": false,
       "max": 1,
       "min": 0,
       "stabilized": false
      }
     },
     "18f20f59b8354507a46ea855dd318587": {
      "model_module": "bqplot",
      "model_module_version": "*",
      "model_name": "LinearScaleModel",
      "state": {
       "allow_padding": false,
       "max": 1,
       "min": 0,
       "stabilized": false
      }
     },
     "269d7ae3d5ea4decaa5f8f47536f929d": {
      "model_module": "bqplot",
      "model_module_version": "*",
      "model_name": "LinearScaleModel",
      "state": {
       "stabilized": false
      }
     },
     "41d7dae654d04fc3b39de7a09ae9f5ff": {
      "model_module": "jupyter-js-widgets",
      "model_module_version": "*",
      "model_name": "LayoutModel",
      "state": {
       "align_self": "stretch",
       "flex": "1",
       "min_width": "400px"
      }
     },
     "4581661dff894aa4b3496d1c3d851ecb": {
      "model_module": "bqplot",
      "model_module_version": "*",
      "model_name": "LinearScaleModel",
      "state": {
       "stabilized": false
      }
     },
     "563ec67f41a54948a388923d514949af": {
      "model_module": "bqplot",
      "model_module_version": "*",
      "model_name": "HistModel",
      "state": {
       "bins": 20,
       "count": {
        "type": "object",
        "values": [
         1,
         0,
         1,
         4,
         3,
         4,
         7,
         6,
         7,
         10,
         7,
         11,
         11,
         5,
         6,
         5,
         5,
         2,
         3,
         2
        ]
       },
       "display_legend": false,
       "midpoints": [
        -2.4324212048385365,
        -2.191283982847452,
        -1.9501467608563678,
        -1.7090095388652835,
        -1.4678723168741992,
        -1.2267350948831148,
        -0.9855978728920305,
        -0.7444606509009462,
        -0.5033234289098618,
        -0.2621862069187775,
        -0.021048984927693137,
        0.2200882370633912,
        0.46122545905447554,
        0.7023626810455599,
        0.9434999030366442,
        1.1846371250277286,
        1.425774347018813,
        1.6669115690098972,
        1.9080487910009816,
        2.1491860129920655
       ],
       "sample": {
        "type": "float64",
        "values": [
         1.764052345967664,
         0.4001572083672233,
         0.9787379841057392,
         2.240893199201458,
         1.8675579901499675,
         -0.977277879876411,
         0.9500884175255894,
         -0.1513572082976979,
         -0.10321885179355784,
         0.41059850193837233,
         0.144043571160878,
         1.454273506962975,
         0.7610377251469934,
         0.12167501649282841,
         0.44386323274542566,
         0.33367432737426683,
         1.4940790731576061,
         -0.20515826376580087,
         0.31306770165090136,
         -0.8540957393017248,
         -2.5529898158340787,
         0.6536185954403606,
         0.8644361988595057,
         -0.7421650204064419,
         2.2697546239876076,
         -1.4543656745987648,
         0.04575851730144607,
         -0.1871838500258336,
         1.5327792143584575,
         1.469358769900285,
         0.1549474256969163,
         0.37816251960217356,
         -0.8877857476301128,
         -1.980796468223927,
         -0.3479121493261526,
         0.15634896910398005,
         1.2302906807277207,
         1.2023798487844113,
         -0.3873268174079523,
         -0.30230275057533557,
         -1.0485529650670926,
         -1.4200179371789752,
         -1.7062701906250126,
         1.9507753952317897,
         -0.5096521817516535,
         -0.4380743016111864,
         -1.2527953600499262,
         0.7774903558319101,
         -1.6138978475579515,
         -0.2127402802139687,
         -0.8954665611936756,
         0.386902497859262,
         -0.510805137568873,
         -1.180632184122412,
         -0.028182228338654868,
         0.42833187053041766,
         0.06651722238316789,
         0.3024718977397814,
         -0.6343220936809637,
         -0.3627411659871382,
         -0.672460447775951,
         -0.3595531615405413,
         -0.813146282044454,
         -1.7262826023316769,
         0.17742614225375286,
         -0.40178093620826194,
         -1.6301983469660446,
         0.4627822555257742,
         -0.9072983643832422,
         0.05194539579613895,
         0.7290905621775369,
         0.12898291075741067,
         1.1394006845433007,
         -1.2348258203536526,
         0.402341641177549,
         -0.6848100909403132,
         -0.8707971491818818,
         -0.5788496647644155,
         -0.31155253212737266,
         0.05616534222974544,
         -1.1651498407833565,
         0.9008264869541871,
         0.46566243973045984,
         -1.5362436862772237,
         1.4882521937955997,
         1.8958891760305832,
         1.1787795711596507,
         -0.17992483581235091,
         -1.0707526215105425,
         1.0544517269311366,
         -0.40317694697317963,
         1.2224450703824274,
         0.2082749780768603,
         0.9766390364837128,
         0.3563663971744019,
         0.7065731681919482,
         0.010500020720820478,
         1.7858704939058352,
         0.12691209270361992,
         0.40198936344470165
        ]
       },
       "scales": {
        "count": "IPY_MODEL_269d7ae3d5ea4decaa5f8f47536f929d",
        "sample": "IPY_MODEL_4581661dff894aa4b3496d1c3d851ecb"
       }
      }
     },
     "6c286d19e2194f50864f3e6e938e354a": {
      "model_module": "bqplot",
      "model_module_version": "*",
      "model_name": "LinearScaleModel",
      "state": {
       "allow_padding": false,
       "max": 1,
       "min": 0,
       "stabilized": false
      }
     },
     "6fd502c587b64fecb6a5f37e9bbfcf58": {
      "model_module": "bqplot",
      "model_module_version": "*",
      "model_name": "AxisModel",
      "state": {
       "orientation": "vertical",
       "scale": "IPY_MODEL_97cfec3af87f46f7aaa987b5fb4a1256",
       "side": "left",
       "tick_values": {
        "type": null,
        "values": null
       }
      }
     },
     "7552414deb1c4d329aad24cf053ec9b6": {
      "model_module": "bqplot",
      "model_module_version": "*",
      "model_name": "LinearScaleModel",
      "state": {
       "stabilized": false
      }
     },
     "7761c0d7d0d444f7ad11bb4b8fcf6fa1": {
      "model_module": "bqplot",
      "model_module_version": "*",
      "model_name": "AxisModel",
      "state": {
       "scale": "IPY_MODEL_031eaaaa00c34134bcd82d79579313b0",
       "side": "bottom",
       "tick_format": "0.2f",
       "tick_values": {
        "type": null,
        "values": null
       }
      }
     },
     "823f17d923ee4bd2b15ff9fbc8a7a318": {
      "model_module": "jupyter-js-widgets",
      "model_module_version": "*",
      "model_name": "LayoutModel",
      "state": {
       "align_self": "stretch",
       "flex": "1",
       "min_width": "400px"
      }
     },
     "85e7177de17b408aa0eca12335d50773": {
      "model_module": "jupyter-js-widgets",
      "model_module_version": "*",
      "model_name": "LayoutModel",
      "state": {
       "align_self": "stretch",
       "flex": "1",
       "min_width": "400px"
      }
     },
     "87c7840aa76041c5b42ffe2506cc274d": {
      "model_module": "bqplot",
      "model_module_version": "*",
      "model_name": "LinearScaleModel",
      "state": {
       "stabilized": false
      }
     },
     "97ce0aff2a1b4baf9aa9afd7be8cd6f0": {
      "model_module": "bqplot",
      "model_module_version": "*",
      "model_name": "AxisModel",
      "state": {
       "orientation": "vertical",
       "scale": "IPY_MODEL_269d7ae3d5ea4decaa5f8f47536f929d",
       "side": "left",
       "tick_values": {
        "type": null,
        "values": null
       }
      }
     },
     "97cfec3af87f46f7aaa987b5fb4a1256": {
      "model_module": "bqplot",
      "model_module_version": "*",
      "model_name": "LinearScaleModel",
      "state": {
       "stabilized": false
      }
     },
     "a723173ae75e4c12b007eafc859b144e": {
      "model_module": "bqplot",
      "model_module_version": "*",
      "model_name": "FigureModel",
      "state": {
       "_dom_classes": [],
       "axes": [
        "IPY_MODEL_7761c0d7d0d444f7ad11bb4b8fcf6fa1",
        "IPY_MODEL_6fd502c587b64fecb6a5f37e9bbfcf58"
       ],
       "layout": "IPY_MODEL_823f17d923ee4bd2b15ff9fbc8a7a318",
       "marks": [
        "IPY_MODEL_fd616534dfde4190a39eec99de8b6cc6"
       ],
       "padding_y": 0,
       "scale_x": "IPY_MODEL_c9d08f835e5e4d30a45bfd728e02a5da",
       "scale_y": "IPY_MODEL_6c286d19e2194f50864f3e6e938e354a"
      }
     },
     "b1190be1275c48d5a1ee03642df1a4cb": {
      "model_module": "bqplot",
      "model_module_version": "*",
      "model_name": "HistModel",
      "state": {
       "count": {
        "type": "object",
        "values": [
         1,
         5,
         7,
         13,
         17,
         18,
         16,
         11,
         7,
         5
        ]
       },
       "display_legend": false,
       "midpoints": [
        -2.3118525938429944,
        -1.8295781498608257,
        -1.347303705878657,
        -0.8650292618964883,
        -0.38275481791431964,
        0.09951962606784903,
        0.5817940700500177,
        1.0640685140321864,
        1.546342958014355,
        2.0286174019965237
       ],
       "sample": {
        "type": "float64",
        "values": [
         1.764052345967664,
         0.4001572083672233,
         0.9787379841057392,
         2.240893199201458,
         1.8675579901499675,
         -0.977277879876411,
         0.9500884175255894,
         -0.1513572082976979,
         -0.10321885179355784,
         0.41059850193837233,
         0.144043571160878,
         1.454273506962975,
         0.7610377251469934,
         0.12167501649282841,
         0.44386323274542566,
         0.33367432737426683,
         1.4940790731576061,
         -0.20515826376580087,
         0.31306770165090136,
         -0.8540957393017248,
         -2.5529898158340787,
         0.6536185954403606,
         0.8644361988595057,
         -0.7421650204064419,
         2.2697546239876076,
         -1.4543656745987648,
         0.04575851730144607,
         -0.1871838500258336,
         1.5327792143584575,
         1.469358769900285,
         0.1549474256969163,
         0.37816251960217356,
         -0.8877857476301128,
         -1.980796468223927,
         -0.3479121493261526,
         0.15634896910398005,
         1.2302906807277207,
         1.2023798487844113,
         -0.3873268174079523,
         -0.30230275057533557,
         -1.0485529650670926,
         -1.4200179371789752,
         -1.7062701906250126,
         1.9507753952317897,
         -0.5096521817516535,
         -0.4380743016111864,
         -1.2527953600499262,
         0.7774903558319101,
         -1.6138978475579515,
         -0.2127402802139687,
         -0.8954665611936756,
         0.386902497859262,
         -0.510805137568873,
         -1.180632184122412,
         -0.028182228338654868,
         0.42833187053041766,
         0.06651722238316789,
         0.3024718977397814,
         -0.6343220936809637,
         -0.3627411659871382,
         -0.672460447775951,
         -0.3595531615405413,
         -0.813146282044454,
         -1.7262826023316769,
         0.17742614225375286,
         -0.40178093620826194,
         -1.6301983469660446,
         0.4627822555257742,
         -0.9072983643832422,
         0.05194539579613895,
         0.7290905621775369,
         0.12898291075741067,
         1.1394006845433007,
         -1.2348258203536526,
         0.402341641177549,
         -0.6848100909403132,
         -0.8707971491818818,
         -0.5788496647644155,
         -0.31155253212737266,
         0.05616534222974544,
         -1.1651498407833565,
         0.9008264869541871,
         0.46566243973045984,
         -1.5362436862772237,
         1.4882521937955997,
         1.8958891760305832,
         1.1787795711596507,
         -0.17992483581235091,
         -1.0707526215105425,
         1.0544517269311366,
         -0.40317694697317963,
         1.2224450703824274,
         0.2082749780768603,
         0.9766390364837128,
         0.3563663971744019,
         0.7065731681919482,
         0.010500020720820478,
         1.7858704939058352,
         0.12691209270361992,
         0.40198936344470165
        ]
       },
       "scales": {
        "count": "IPY_MODEL_87c7840aa76041c5b42ffe2506cc274d",
        "sample": "IPY_MODEL_7552414deb1c4d329aad24cf053ec9b6"
       }
      }
     },
     "ba16a1dbcf354b59a17c4a20a7b21641": {
      "model_module": "bqplot",
      "model_module_version": "*",
      "model_name": "LinearScaleModel",
      "state": {
       "allow_padding": false,
       "max": 1,
       "min": 0,
       "stabilized": false
      }
     },
     "bcf04076c67d4cb3a56960a010c74c22": {
      "model_module": "bqplot",
      "model_module_version": "*",
      "model_name": "FigureModel",
      "state": {
       "_dom_classes": [],
       "axes": [
        "IPY_MODEL_bd1fe83e6cbb4fa49f7ea0ad1ea84c27",
        "IPY_MODEL_97ce0aff2a1b4baf9aa9afd7be8cd6f0"
       ],
       "layout": "IPY_MODEL_41d7dae654d04fc3b39de7a09ae9f5ff",
       "marks": [
        "IPY_MODEL_563ec67f41a54948a388923d514949af"
       ],
       "padding_y": 0,
       "scale_x": "IPY_MODEL_10a1661fa7284d7cbeeae226cc8d9041",
       "scale_y": "IPY_MODEL_18f20f59b8354507a46ea855dd318587"
      }
     },
     "bd1fe83e6cbb4fa49f7ea0ad1ea84c27": {
      "model_module": "bqplot",
      "model_module_version": "*",
      "model_name": "AxisModel",
      "state": {
       "scale": "IPY_MODEL_4581661dff894aa4b3496d1c3d851ecb",
       "side": "bottom",
       "tick_format": "0.2f",
       "tick_values": {
        "type": null,
        "values": null
       }
      }
     },
     "c9d08f835e5e4d30a45bfd728e02a5da": {
      "model_module": "bqplot",
      "model_module_version": "*",
      "model_name": "LinearScaleModel",
      "state": {
       "allow_padding": false,
       "max": 1,
       "min": 0,
       "stabilized": false
      }
     },
     "e2b6a03d5fac4ecc848f11b860a32876": {
      "model_module": "bqplot",
      "model_module_version": "*",
      "model_name": "AxisModel",
      "state": {
       "orientation": "vertical",
       "scale": "IPY_MODEL_87c7840aa76041c5b42ffe2506cc274d",
       "side": "left",
       "tick_values": {
        "type": null,
        "values": null
       }
      }
     },
     "f8ae4531ecb04627aaa4bc8dbb0aa6a7": {
      "model_module": "bqplot",
      "model_module_version": "*",
      "model_name": "AxisModel",
      "state": {
       "scale": "IPY_MODEL_7552414deb1c4d329aad24cf053ec9b6",
       "side": "bottom",
       "tick_format": "0.2f",
       "tick_values": {
        "type": null,
        "values": null
       }
      }
     },
     "fd616534dfde4190a39eec99de8b6cc6": {
      "model_module": "bqplot",
      "model_module_version": "*",
      "model_name": "HistModel",
      "state": {
       "colors": [
        "orangered"
       ],
       "count": {
        "type": "object",
        "values": [
         0.01,
         0.05,
         0.07,
         0.13,
         0.17,
         0.18,
         0.16,
         0.11,
         0.07,
         0.05
        ]
       },
       "display_legend": false,
       "midpoints": [
        -2.3118525938429944,
        -1.8295781498608257,
        -1.347303705878657,
        -0.8650292618964883,
        -0.38275481791431964,
        0.09951962606784903,
        0.5817940700500177,
        1.0640685140321864,
        1.546342958014355,
        2.0286174019965237
       ],
       "normalized": true,
       "opacities": [
        0.5,
        0.5,
        0.5,
        0.5,
        0.5,
        0.5,
        0.5,
        0.5,
        0.5,
        0.5
       ],
       "sample": {
        "type": "float64",
        "values": [
         1.764052345967664,
         0.4001572083672233,
         0.9787379841057392,
         2.240893199201458,
         1.8675579901499675,
         -0.977277879876411,
         0.9500884175255894,
         -0.1513572082976979,
         -0.10321885179355784,
         0.41059850193837233,
         0.144043571160878,
         1.454273506962975,
         0.7610377251469934,
         0.12167501649282841,
         0.44386323274542566,
         0.33367432737426683,
         1.4940790731576061,
         -0.20515826376580087,
         0.31306770165090136,
         -0.8540957393017248,
         -2.5529898158340787,
         0.6536185954403606,
         0.8644361988595057,
         -0.7421650204064419,
         2.2697546239876076,
         -1.4543656745987648,
         0.04575851730144607,
         -0.1871838500258336,
         1.5327792143584575,
         1.469358769900285,
         0.1549474256969163,
         0.37816251960217356,
         -0.8877857476301128,
         -1.980796468223927,
         -0.3479121493261526,
         0.15634896910398005,
         1.2302906807277207,
         1.2023798487844113,
         -0.3873268174079523,
         -0.30230275057533557,
         -1.0485529650670926,
         -1.4200179371789752,
         -1.7062701906250126,
         1.9507753952317897,
         -0.5096521817516535,
         -0.4380743016111864,
         -1.2527953600499262,
         0.7774903558319101,
         -1.6138978475579515,
         -0.2127402802139687,
         -0.8954665611936756,
         0.386902497859262,
         -0.510805137568873,
         -1.180632184122412,
         -0.028182228338654868,
         0.42833187053041766,
         0.06651722238316789,
         0.3024718977397814,
         -0.6343220936809637,
         -0.3627411659871382,
         -0.672460447775951,
         -0.3595531615405413,
         -0.813146282044454,
         -1.7262826023316769,
         0.17742614225375286,
         -0.40178093620826194,
         -1.6301983469660446,
         0.4627822555257742,
         -0.9072983643832422,
         0.05194539579613895,
         0.7290905621775369,
         0.12898291075741067,
         1.1394006845433007,
         -1.2348258203536526,
         0.402341641177549,
         -0.6848100909403132,
         -0.8707971491818818,
         -0.5788496647644155,
         -0.31155253212737266,
         0.05616534222974544,
         -1.1651498407833565,
         0.9008264869541871,
         0.46566243973045984,
         -1.5362436862772237,
         1.4882521937955997,
         1.8958891760305832,
         1.1787795711596507,
         -0.17992483581235091,
         -1.0707526215105425,
         1.0544517269311366,
         -0.40317694697317963,
         1.2224450703824274,
         0.2082749780768603,
         0.9766390364837128,
         0.3563663971744019,
         0.7065731681919482,
         0.010500020720820478,
         1.7858704939058352,
         0.12691209270361992,
         0.40198936344470165
        ]
       },
       "scales": {
        "count": "IPY_MODEL_97cfec3af87f46f7aaa987b5fb4a1256",
        "sample": "IPY_MODEL_031eaaaa00c34134bcd82d79579313b0"
       },
       "stroke": "orange"
      }
     }
    },
    "version_major": 1,
    "version_minor": 0
   }
  }
 },
 "nbformat": 4,
 "nbformat_minor": 1
}
