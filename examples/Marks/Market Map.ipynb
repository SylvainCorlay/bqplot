{
 "cells": [
  {
   "cell_type": "code",
   "execution_count": 1,
   "metadata": {},
   "outputs": [],
   "source": [
    "import pandas as pd\n",
    "from bqplot import ColorScale, ColorAxis, DateScale, LinearScale, Axis, Lines, Figure\n",
    "from ipywidgets import Label, VBox, Layout\n",
    "from bqplot.market_map import MarketMap\n",
    "import os"
   ]
  },
  {
   "cell_type": "markdown",
   "metadata": {},
   "source": [
    "## Get Data"
   ]
  },
  {
   "cell_type": "code",
   "execution_count": 2,
   "metadata": {},
   "outputs": [],
   "source": [
    "data = pd.read_csv(os.path.abspath('../data_files/country_codes.csv'), index_col=[0])\n",
    "country_codes = data.index.values\n",
    "country_names = data['Name']"
   ]
  },
  {
   "cell_type": "markdown",
   "metadata": {},
   "source": [
    "## Basic Market Map"
   ]
  },
  {
   "cell_type": "code",
   "execution_count": 3,
   "metadata": {},
   "outputs": [
    {
     "name": "stderr",
     "output_type": "stream",
     "text": [
      "/Users/scorlay/jupyter/bquant/bqplot/bqplot/traits.py:202: UserWarning: The 'ref_data' dataframe trait of the <class 'bqplot.market_map.MarketMap'> instance disregards the index name\n",
      "  warnings.warn(\"The '%s' dataframe trait of the %s instance disregards the index name\" % (trait.name, trait.this_class))\n"
     ]
    },
    {
     "data": {
      "application/vnd.jupyter.widget-view+json": {
       "model_id": "84851b71fc814e6692cee9490d54c3fc"
      }
     },
     "metadata": {},
     "output_type": "display_data"
    }
   ],
   "source": [
    "market_map = MarketMap(names=country_codes,      \n",
    "                       # basic data which needs to set for each map\n",
    "                       ref_data=data,            \n",
    "                       # Data frame which can be used for different properties of the map\n",
    "                       # Axis and scale for color data\n",
    "                       tooltip_fields=['Name'])  \n",
    "\n",
    "market_map"
   ]
  },
  {
   "cell_type": "code",
   "execution_count": 4,
   "metadata": {
    "collapsed": true
   },
   "outputs": [],
   "source": [
    "market_map.colors = ['MediumSeaGreen']"
   ]
  },
  {
   "cell_type": "code",
   "execution_count": 5,
   "metadata": {
    "collapsed": true
   },
   "outputs": [],
   "source": [
    "market_map.font_style = {'font-size': '22px', 'fill':'white'}"
   ]
  },
  {
   "cell_type": "code",
   "execution_count": 6,
   "metadata": {
    "collapsed": true
   },
   "outputs": [],
   "source": [
    "market_map.title = 'My First Market Map'\n",
    "market_map.title_style = {'fill': 'Red'}"
   ]
  },
  {
   "cell_type": "markdown",
   "metadata": {},
   "source": [
    "## GDP data with grouping by continent\n",
    "\n",
    "World Bank national accounts data, and OECD National Accounts data files. (The World Bank: GDP per capita (current US$))"
   ]
  },
  {
   "cell_type": "code",
   "execution_count": 7,
   "metadata": {},
   "outputs": [],
   "source": [
    "gdp_data = pd.read_csv(os.path.abspath('../data_files/gdp_per_capita.csv'), index_col=[0], parse_dates=True)\n",
    "gdp_data.fillna(method='backfill', inplace=True)\n",
    "gdp_data.fillna(method='ffill', inplace=True)"
   ]
  },
  {
   "cell_type": "code",
   "execution_count": 8,
   "metadata": {},
   "outputs": [
    {
     "name": "stderr",
     "output_type": "stream",
     "text": [
      "/Users/scorlay/jupyter/bquant/bqplot/bqplot/traits.py:202: UserWarning: The 'ref_data' dataframe trait of the <class 'bqplot.market_map.MarketMap'> instance disregards the index name\n",
      "  warnings.warn(\"The '%s' dataframe trait of the %s instance disregards the index name\" % (trait.name, trait.this_class))\n"
     ]
    }
   ],
   "source": [
    "col = ColorScale(scheme='Greens')\n",
    "continents = data['Continent'].values\n",
    "ax_c = ColorAxis(scale=col, label='GDP per Capita', visible=False)\n",
    "\n",
    "data['GDP'] = gdp_data.ix[-1]\n",
    "\n",
    "market_map = MarketMap(names=country_codes, groups=continents,       # Basic data which needs to set for each map\n",
    "                       cols=25, row_groups=3,                        # Properties for the visualization\n",
    "                       ref_data=data,                                # Data frame used for different properties of the map\n",
    "                       tooltip_fields=['Name', 'Continent', 'GDP'],  # Columns from data frame to be displayed as tooltip\n",
    "                       tooltip_formats=['', '', '.1f'],\n",
    "                       scales={'color': col}, axes=[ax_c])           # Axis and scale for color data"
   ]
  },
  {
   "cell_type": "code",
   "execution_count": 9,
   "metadata": {},
   "outputs": [
    {
     "data": {
      "application/vnd.jupyter.widget-view+json": {
       "model_id": "089da0f0b7f44920a5a97435d3cb5781"
      }
     },
     "metadata": {},
     "output_type": "display_data"
    }
   ],
   "source": [
    "deb_output = Label()\n",
    "def selected_index_changed(change):\n",
    "    deb_output.value = str(change.new)\n",
    "        \n",
    "market_map.observe(selected_index_changed, 'selected')\n",
    "VBox([deb_output, market_map])"
   ]
  },
  {
   "cell_type": "code",
   "execution_count": 10,
   "metadata": {},
   "outputs": [],
   "source": [
    "# Attribute to show the names of the groups, in this case the continents\n",
    "market_map.show_groups = True"
   ]
  },
  {
   "cell_type": "code",
   "execution_count": 11,
   "metadata": {},
   "outputs": [],
   "source": [
    "# Setting the selected countries\n",
    "market_map.show_groups = False\n",
    "market_map.selected = ['PAN', 'FRA', 'PHL']"
   ]
  },
  {
   "cell_type": "code",
   "execution_count": 12,
   "metadata": {},
   "outputs": [],
   "source": [
    "# changing selected stroke and hovered stroke variable\n",
    "market_map.selected_stroke = 'yellow'\n",
    "market_map.hovered_stroke = 'violet'"
   ]
  },
  {
   "cell_type": "markdown",
   "metadata": {},
   "source": [
    "## Setting the color based on data"
   ]
  },
  {
   "cell_type": "code",
   "execution_count": 13,
   "metadata": {},
   "outputs": [],
   "source": [
    "# Adding data for color and making color axis visible\n",
    "market_map.color = data['GDP']\n",
    "ax_c.visible = True"
   ]
  },
  {
   "cell_type": "markdown",
   "metadata": {},
   "source": [
    "## Adding a widget as tooltip"
   ]
  },
  {
   "cell_type": "code",
   "execution_count": 14,
   "metadata": {},
   "outputs": [],
   "source": [
    "# Creating the figure to be displayed as the tooltip\n",
    "sc_x = DateScale()\n",
    "sc_y = LinearScale()\n",
    "\n",
    "ax_x = Axis(scale=sc_x, grid_lines='dashed', label='Date')\n",
    "ax_y = Axis(scale=sc_y, orientation='vertical', grid_lines='dashed',\n",
    "            label='GDP', label_location='end', label_offset='-1em')\n",
    "\n",
    "line = Lines(x= gdp_data.index.values, y=[], scales={'x': sc_x, 'y': sc_y}, colors=['orange'])\n",
    "fig_tooltip = Figure(marks=[line], axes=[ax_x, ax_y], layout=Layout(min_width='600px'))"
   ]
  },
  {
   "cell_type": "code",
   "execution_count": 15,
   "metadata": {},
   "outputs": [
    {
     "name": "stderr",
     "output_type": "stream",
     "text": [
      "/Users/scorlay/jupyter/bquant/bqplot/bqplot/traits.py:202: UserWarning: The 'ref_data' dataframe trait of the <class 'bqplot.market_map.MarketMap'> instance disregards the index name\n",
      "  warnings.warn(\"The '%s' dataframe trait of the %s instance disregards the index name\" % (trait.name, trait.this_class))\n"
     ]
    },
    {
     "data": {
      "application/vnd.jupyter.widget-view+json": {
       "model_id": "fa6c710ef91241c3a874268da1d3d4dc"
      }
     },
     "metadata": {},
     "output_type": "display_data"
    }
   ],
   "source": [
    "market_map = MarketMap(names=country_codes, groups=continents,\n",
    "                       cols=25, row_groups=3,\n",
    "                       color=data['GDP'], scales={'color': col}, axes=[ax_c],\n",
    "                       ref_data=data, tooltip_widget=fig_tooltip)\n",
    "\n",
    "# Update the tooltip chart\n",
    "hovered_symbol = ''\n",
    "def hover_handler(self, content):\n",
    "    global hovered_symbol\n",
    "    symbol = content.get('ref_data', {}).get('Country Code', '')\n",
    "    if(symbol != hovered_symbol):\n",
    "        hovered_symbol = symbol\n",
    "        if(gdp_data.get(hovered_symbol) is not None):\n",
    "            line.y = gdp_data[hovered_symbol].values\n",
    "            fig_tooltip.title = content.get('ref_data', {}).get('Name', '')\n",
    "\n",
    "# Custom msg sent when a particular cell is hovered on\n",
    "market_map.on_hover(hover_handler)\n",
    "market_map"
   ]
  },
  {
   "cell_type": "markdown",
   "metadata": {},
   "source": [
    "This notebook uses data derived from the World Bank dataset.\n",
    "- The World Bank: GDP per capita (current US$)\n",
    "- The World Bank: Country Codes \n",
    "\n",
    "See the LICENSE file for more information."
   ]
  }
 ],
 "metadata": {
  "anaconda-cloud": {},
  "kernelspec": {
   "display_name": "Python 3",
   "language": "python",
   "name": "python3"
  },
  "language_info": {
   "codemirror_mode": {
    "name": "ipython",
    "version": 3
   },
   "file_extension": ".py",
   "mimetype": "text/x-python",
   "name": "python",
   "nbconvert_exporter": "python",
   "pygments_lexer": "ipython3",
   "version": "3.5.2"
  },
  "widgets": {
   "application/vnd.jupyter.widget-state+json": {
    "state": {
     "089da0f0b7f44920a5a97435d3cb5781": {
      "model_module": "jupyter-js-widgets",
      "model_module_version": "*",
      "model_name": "VBoxModel",
      "state": {
       "children": [
        "IPY_MODEL_a178811afbd2448e96ce7b199e100d96",
        "IPY_MODEL_47b0bf02f8614312b7853923f4ee859a"
       ],
       "layout": "IPY_MODEL_e0e89b3dbe9742a69f97a58d5a99f1a6"
      }
     },
     "0a6e393db209485d931e1bc094a568c7": {
      "model_module": "bqplot",
      "model_module_version": "*",
      "model_name": "AxisModel",
      "state": {
       "grid_lines": "dashed",
       "label": "Date",
       "scale": "IPY_MODEL_ae55c3c36894429eb8abe2b02281527e",
       "side": "bottom",
       "tick_values": {
        "type": null,
        "values": null
       }
      }
     },
     "1556a7de85fc40648c1d44c8871545af": {
      "model_module": "jupyter-js-widgets",
      "model_module_version": "*",
      "model_name": "LayoutModel",
      "state": {
       "align_self": "stretch",
       "flex": "1",
       "min_width": "400px"
      }
     },
     "47b0bf02f8614312b7853923f4ee859a": {
      "model_module": "bqplot",
      "model_module_version": "*",
      "model_name": "MarketMapModel",
      "state": {
       "_dom_classes": [],
       "axes": [
        "IPY_MODEL_cd2f45479c6145a2852ec9c167c7b2d7"
       ],
       "color": {
        "type": "float64",
        "values": [
         41000,
         42500,
         666,
         14000,
         4620,
         3650,
         5940,
         12900,
         null,
         51100,
         61900,
         25400,
         7880,
         4800,
         15200,
         1100,
         47500,
         720,
         7710,
         25200,
         295,
         825,
         85700,
         40800,
         3150,
         11600,
         22200,
         2380,
         7760,
         8040,
         4890,
         50300,
         475,
         379,
         3100,
         84700,
         1650,
         14500,
         1430,
         7590,
         7720,
         10000,
         73600,
         6850,
         3720,
         null,
         27200,
         19600,
         47600,
         1780,
         60600,
         7430,
         6080,
         5360,
         6290,
         19700,
         3440,
         590,
         30300,
         568,
         49500,
         4540,
         3050,
         52800,
         42700,
         10100,
         45600,
         8300,
         3670,
         1460,
         22500,
         423,
         550,
         18400,
         21700,
         3700,
         null,
         586,
         4020,
         40200,
         2350,
         13500,
         833,
         13900,
         3510,
         53300,
         37000,
         49700,
         1630,
         6430,
         5290,
         52100,
         35000,
         5290,
         5420,
         36200,
         1340,
         1270,
         1080,
         1600,
         861,
         15200,
         null,
         28000,
         52200,
         64100,
         12300,
         1710,
         10100,
         7440,
         150000,
         3630,
         461,
         995,
         16400,
         111000,
         16000,
         6580,
         3140,
         163000,
         2230,
         7370,
         null,
         449,
         3630,
         5370,
         766,
         1200,
         4170,
         null,
         1270,
         22800,
         10000,
         8620,
         253,
         10400,
         10800,
         619,
         5720,
         12600,
         441,
         3180,
         1910,
         51600,
         97400,
         698,
         42400,
         20800,
         11800,
         6590,
         14500,
         2110,
         2840,
         1330,
         14400,
         28700,
         22100,
         11900,
         4480,
         93400,
         10000,
         6150,
         12700,
         652,
         25400,
         2020,
         15400,
         1900,
         58900,
         56300,
         24000,
         18400,
         788,
         62200,
         1070,
         145,
         9830,
         1110,
         1690,
         3950,
         null,
         2070,
         2680,
         null,
         1050,
         646,
         5560,
         1100,
         1280,
         9030,
         4320,
         4110,
         10500,
         18200,
         3880,
         null,
         998,
         3080,
         677,
         54600,
         16800,
         2040,
         6660,
         16500,
         18700,
         2050,
         3170,
         4170,
         1470,
         6480,
         1800,
         936
        ]
       },
       "colors": [
        "#1f77b4",
        "#ff7f0e",
        "#2ca02c",
        "#d62728",
        "#9467bd",
        "#8c564b",
        "#e377c2",
        "#7f7f7f",
        "#bcbd22",
        "#17becf"
       ],
       "cols": 25,
       "display_text": {
        "type": null,
        "values": null
       },
       "groups": {
        "type": "object",
        "values": [
         "Europe",
         "Asia",
         "Asia",
         "North America",
         "Europe",
         "Asia",
         "Africa",
         "South America",
         "Australia and Oceania",
         "Europe",
         "Australia and Oceania",
         "North America",
         "Asia",
         "Europe",
         "North America",
         "Asia",
         "Europe",
         "Africa",
         "Europe",
         "Asia",
         "Africa",
         "Africa",
         "North America",
         "Asia",
         "South America",
         "South America",
         "North America",
         "Asia",
         "Africa",
         "Europe",
         "North America",
         "North America",
         "Africa",
         "Africa",
         "Africa",
         "Europe",
         "Africa",
         "South America",
         "Africa",
         "Asia",
         "South America",
         "North America",
         "Australia and Oceania",
         "North America",
         "Africa",
         "North America",
         "Asia",
         "Europe",
         "Europe",
         "Africa",
         "Europe",
         "North America",
         "North America",
         "Africa",
         "South America",
         "Europe",
         "Africa",
         "Africa",
         "Europe",
         "Africa",
         "Europe",
         "Australia and Oceania",
         "Australia and Oceania",
         "Europe",
         "Europe",
         "Africa",
         "Europe",
         "North America",
         "Asia",
         "Africa",
         "North America",
         "Africa",
         "Africa",
         "Africa",
         "Europe",
         "North America",
         "Australia and Oceania",
         "Africa",
         "South America",
         "Asia",
         "North America",
         "Europe",
         "North America",
         "Europe",
         "Asia",
         "Europe",
         "Asia",
         "Europe",
         "Asia",
         "Asia",
         "Asia",
         "Europe",
         "Europe",
         "North America",
         "Asia",
         "Asia",
         "Africa",
         "Asia",
         "Asia",
         "Australia and Oceania",
         "Africa",
         "North America",
         "Asia",
         "Asia",
         "Asia",
         "North America",
         "Asia",
         "Asia",
         "Asia",
         "North America",
         "Europe",
         "Asia",
         "Africa",
         "Africa",
         "Europe",
         "Europe",
         "Europe",
         "Africa",
         "Africa",
         "Europe",
         "Europe",
         "Europe",
         "North America",
         "Africa",
         "Australia and Oceania",
         "Europe",
         "Africa",
         "Asia",
         "Asia",
         "Australia and Oceania",
         "Africa",
         "Europe",
         "Africa",
         "Asia",
         "Africa",
         "North America",
         "Asia",
         "Africa",
         "Africa",
         "Australia and Oceania",
         "Africa",
         "Africa",
         "North America",
         "Europe",
         "Europe",
         "Asia",
         "Australia and Oceania",
         "Asia",
         "North America",
         "South America",
         "Australia and Oceania",
         "Australia and Oceania",
         "Asia",
         "Asia",
         "Europe",
         "North America",
         "Europe",
         "Australia and Oceania",
         "South America",
         "Asia",
         "Europe",
         "Europe",
         "Europe",
         "Africa",
         "Asia",
         "Australia and Oceania",
         "Africa",
         "Africa",
         "Europe",
         "Asia",
         "Europe",
         "Europe",
         "Africa",
         "Europe",
         "Africa",
         "Africa",
         "South America",
         "Africa",
         "Africa",
         "North America",
         "North America",
         "Asia",
         "Africa",
         "North America",
         "Africa",
         "Africa",
         "Asia",
         "Asia",
         "Asia",
         "Asia",
         "Africa",
         "Australia and Oceania",
         "Europe",
         "North America",
         "Australia and Oceania",
         "Asia",
         "Africa",
         "Europe",
         "Africa",
         "North America",
         "South America",
         "Asia",
         "North America",
         "South America",
         "North America",
         "Asia",
         "Australia and Oceania",
         "Australia and Oceania",
         "Asia",
         "Africa",
         "Africa",
         "Africa"
        ]
       },
       "hovered_stroke": "violet",
       "layout": "IPY_MODEL_1556a7de85fc40648c1d44c8871545af",
       "max_aspect_ratio": 1.7777777777777777,
       "min_aspect_ratio": 1.7777777777777777,
       "names": {
        "type": "object",
        "values": [
         "ADO",
         "ARE",
         "AFG",
         "ATG",
         "ALB",
         "ARM",
         "AGO",
         "ARG",
         "ASM",
         "AUT",
         "AUS",
         "ABW",
         "AZE",
         "BIH",
         "BRB",
         "BGD",
         "BEL",
         "BFA",
         "BGR",
         "BHR",
         "BDI",
         "BEN",
         "BMU",
         "BRN",
         "BOL",
         "BRA",
         "BHS",
         "BTN",
         "BWA",
         "BLR",
         "BLZ",
         "CAN",
         "ZAR",
         "CAF",
         "COG",
         "CHE",
         "CIV",
         "CHL",
         "CMR",
         "CHN",
         "COL",
         "CRI",
         "CHI",
         "CUB",
         "CPV",
         "CUW",
         "CYP",
         "CZE",
         "DEU",
         "DJI",
         "DNK",
         "DMA",
         "DOM",
         "DZA",
         "ECU",
         "EST",
         "EGY",
         "ERI",
         "ESP",
         "ETH",
         "FIN",
         "FJI",
         "FSM",
         "FRO",
         "FRA",
         "GAB",
         "GBR",
         "GRD",
         "GEO",
         "GHA",
         "GRL",
         "GMB",
         "GIN",
         "GNQ",
         "GRC",
         "GTM",
         "GUM",
         "GNB",
         "GUY",
         "HKG",
         "HND",
         "HRV",
         "HTI",
         "HUN",
         "IDN",
         "IRL",
         "ISR",
         "IMY",
         "IND",
         "IRQ",
         "IRN",
         "ISL",
         "ITA",
         "JAM",
         "JOR",
         "JPN",
         "KEN",
         "KGZ",
         "KHM",
         "KIR",
         "COM",
         "KNA",
         "PRK",
         "KOR",
         "KWT",
         "CYM",
         "KAZ",
         "LAO",
         "LBN",
         "LCA",
         "LIE",
         "LKA",
         "LBR",
         "LSO",
         "LTU",
         "LUX",
         "LVA",
         "LBY",
         "MAR",
         "MCO",
         "MDA",
         "MNE",
         "MAF",
         "MDG",
         "MHL",
         "MKD",
         "MLI",
         "MMR",
         "MNG",
         "MNP",
         "MRT",
         "MLT",
         "MUS",
         "MDV",
         "MWI",
         "MEX",
         "MYS",
         "MOZ",
         "NAM",
         "NCL",
         "NER",
         "NGA",
         "NIC",
         "NLD",
         "NOR",
         "NPL",
         "NZL",
         "OMN",
         "PAN",
         "PER",
         "PYF",
         "PNG",
         "PHL",
         "PAK",
         "POL",
         "PRI",
         "PRT",
         "PLW",
         "PRY",
         "QAT",
         "ROM",
         "SRB",
         "RUS",
         "RWA",
         "SAU",
         "SLB",
         "SYC",
         "SDN",
         "SWE",
         "SGP",
         "SVN",
         "SVK",
         "SLE",
         "SMR",
         "SEN",
         "SOM",
         "SUR",
         "SSD",
         "STP",
         "SLV",
         "SXM",
         "SYR",
         "SWZ",
         "TCA",
         "TCD",
         "TGO",
         "THA",
         "TJK",
         "TMP",
         "TKM",
         "TUN",
         "TON",
         "TUR",
         "TTO",
         "TUV",
         "TWN",
         "TZA",
         "UKR",
         "UGA",
         "USA",
         "URY",
         "UZB",
         "VCT",
         "VEN",
         "VIR",
         "VNM",
         "VUT",
         "WSM",
         "YEM",
         "ZAF",
         "ZMB",
         "ZWE"
        ]
       },
       "ref_data": [
        {
         "Continent": "Europe",
         "Country Code": "ADO",
         "GDP": 41000,
         "Name": "Andorra"
        },
        {
         "Continent": "Asia",
         "Country Code": "ARE",
         "GDP": 42500,
         "Name": "United Arab Emirates"
        },
        {
         "Continent": "Asia",
         "Country Code": "AFG",
         "GDP": 666,
         "Name": "Afghanistan"
        },
        {
         "Continent": "North America",
         "Country Code": "ATG",
         "GDP": 14000,
         "Name": "Antigua and Barbuda"
        },
        {
         "Continent": "Europe",
         "Country Code": "ALB",
         "GDP": 4620,
         "Name": "Albania"
        },
        {
         "Continent": "Asia",
         "Country Code": "ARM",
         "GDP": 3650,
         "Name": "Armenia"
        },
        {
         "Continent": "Africa",
         "Country Code": "AGO",
         "GDP": 5940,
         "Name": "Angola"
        },
        {
         "Continent": "South America",
         "Country Code": "ARG",
         "GDP": 12900,
         "Name": "Argentina"
        },
        {
         "Continent": "Australia and Oceania",
         "Country Code": "ASM",
         "GDP": "nan",
         "Name": "American Samoa"
        },
        {
         "Continent": "Europe",
         "Country Code": "AUT",
         "GDP": 51100,
         "Name": "Austria"
        },
        {
         "Continent": "Australia and Oceania",
         "Country Code": "AUS",
         "GDP": 61900,
         "Name": "Australia"
        },
        {
         "Continent": "North America",
         "Country Code": "ABW",
         "GDP": 25400,
         "Name": "Aruba"
        },
        {
         "Continent": "Asia",
         "Country Code": "AZE",
         "GDP": 7880,
         "Name": "Azerbaijan"
        },
        {
         "Continent": "Europe",
         "Country Code": "BIH",
         "GDP": 4800,
         "Name": "Bosnia and Herzegovina"
        },
        {
         "Continent": "North America",
         "Country Code": "BRB",
         "GDP": 15200,
         "Name": "Barbados"
        },
        {
         "Continent": "Asia",
         "Country Code": "BGD",
         "GDP": 1100,
         "Name": "Bangladesh"
        },
        {
         "Continent": "Europe",
         "Country Code": "BEL",
         "GDP": 47500,
         "Name": "Belgium"
        },
        {
         "Continent": "Africa",
         "Country Code": "BFA",
         "GDP": 720,
         "Name": "Burkina Faso"
        },
        {
         "Continent": "Europe",
         "Country Code": "BGR",
         "GDP": 7710,
         "Name": "Bulgaria"
        },
        {
         "Continent": "Asia",
         "Country Code": "BHR",
         "GDP": 25200,
         "Name": "Bahrain"
        },
        {
         "Continent": "Africa",
         "Country Code": "BDI",
         "GDP": 295,
         "Name": "Burundi"
        },
        {
         "Continent": "Africa",
         "Country Code": "BEN",
         "GDP": 825,
         "Name": "Benin"
        },
        {
         "Continent": "North America",
         "Country Code": "BMU",
         "GDP": 85700,
         "Name": "Bermuda"
        },
        {
         "Continent": "Asia",
         "Country Code": "BRN",
         "GDP": 40800,
         "Name": "Brunei Darussalam"
        },
        {
         "Continent": "South America",
         "Country Code": "BOL",
         "GDP": 3150,
         "Name": "Bolivia"
        },
        {
         "Continent": "South America",
         "Country Code": "BRA",
         "GDP": 11600,
         "Name": "Brazil"
        },
        {
         "Continent": "North America",
         "Country Code": "BHS",
         "GDP": 22200,
         "Name": "Bahamas, The"
        },
        {
         "Continent": "Asia",
         "Country Code": "BTN",
         "GDP": 2380,
         "Name": "Bhutan"
        },
        {
         "Continent": "Africa",
         "Country Code": "BWA",
         "GDP": 7760,
         "Name": "Botswana"
        },
        {
         "Continent": "Europe",
         "Country Code": "BLR",
         "GDP": 8040,
         "Name": "Belarus"
        },
        {
         "Continent": "North America",
         "Country Code": "BLZ",
         "GDP": 4890,
         "Name": "Belize"
        },
        {
         "Continent": "North America",
         "Country Code": "CAN",
         "GDP": 50300,
         "Name": "Canada"
        },
        {
         "Continent": "Africa",
         "Country Code": "ZAR",
         "GDP": 475,
         "Name": "Congo, Dem. Rep."
        },
        {
         "Continent": "Africa",
         "Country Code": "CAF",
         "GDP": 379,
         "Name": "Central African Republic"
        },
        {
         "Continent": "Africa",
         "Country Code": "COG",
         "GDP": 3100,
         "Name": "Congo, Rep."
        },
        {
         "Continent": "Europe",
         "Country Code": "CHE",
         "GDP": 84700,
         "Name": "Switzerland"
        },
        {
         "Continent": "Africa",
         "Country Code": "CIV",
         "GDP": 1650,
         "Name": "Cote d'Ivoire"
        },
        {
         "Continent": "South America",
         "Country Code": "CHL",
         "GDP": 14500,
         "Name": "Chile"
        },
        {
         "Continent": "Africa",
         "Country Code": "CMR",
         "GDP": 1430,
         "Name": "Cameroon"
        },
        {
         "Continent": "Asia",
         "Country Code": "CHN",
         "GDP": 7590,
         "Name": "China"
        },
        {
         "Continent": "South America",
         "Country Code": "COL",
         "GDP": 7720,
         "Name": "Colombia"
        },
        {
         "Continent": "North America",
         "Country Code": "CRI",
         "GDP": 10000,
         "Name": "Costa Rica"
        },
        {
         "Continent": "Australia and Oceania",
         "Country Code": "CHI",
         "GDP": 73600,
         "Name": "Channel Islands"
        },
        {
         "Continent": "North America",
         "Country Code": "CUB",
         "GDP": 6850,
         "Name": "Cuba"
        },
        {
         "Continent": "Africa",
         "Country Code": "CPV",
         "GDP": 3720,
         "Name": "Cabo Verde"
        },
        {
         "Continent": "North America",
         "Country Code": "CUW",
         "GDP": "nan",
         "Name": "Curacao"
        },
        {
         "Continent": "Asia",
         "Country Code": "CYP",
         "GDP": 27200,
         "Name": "Cyprus"
        },
        {
         "Continent": "Europe",
         "Country Code": "CZE",
         "GDP": 19600,
         "Name": "Czech Republic"
        },
        {
         "Continent": "Europe",
         "Country Code": "DEU",
         "GDP": 47600,
         "Name": "Germany"
        },
        {
         "Continent": "Africa",
         "Country Code": "DJI",
         "GDP": 1780,
         "Name": "Djibouti"
        },
        {
         "Continent": "Europe",
         "Country Code": "DNK",
         "GDP": 60600,
         "Name": "Denmark"
        },
        {
         "Continent": "North America",
         "Country Code": "DMA",
         "GDP": 7430,
         "Name": "Dominica"
        },
        {
         "Continent": "North America",
         "Country Code": "DOM",
         "GDP": 6080,
         "Name": "Dominican Republic"
        },
        {
         "Continent": "Africa",
         "Country Code": "DZA",
         "GDP": 5360,
         "Name": "Algeria"
        },
        {
         "Continent": "South America",
         "Country Code": "ECU",
         "GDP": 6290,
         "Name": "Ecuador"
        },
        {
         "Continent": "Europe",
         "Country Code": "EST",
         "GDP": 19700,
         "Name": "Estonia"
        },
        {
         "Continent": "Africa",
         "Country Code": "EGY",
         "GDP": 3440,
         "Name": "Egypt, Arab Rep."
        },
        {
         "Continent": "Africa",
         "Country Code": "ERI",
         "GDP": 590,
         "Name": "Eritrea"
        },
        {
         "Continent": "Europe",
         "Country Code": "ESP",
         "GDP": 30300,
         "Name": "Spain"
        },
        {
         "Continent": "Africa",
         "Country Code": "ETH",
         "GDP": 568,
         "Name": "Ethiopia"
        },
        {
         "Continent": "Europe",
         "Country Code": "FIN",
         "GDP": 49500,
         "Name": "Finland"
        },
        {
         "Continent": "Australia and Oceania",
         "Country Code": "FJI",
         "GDP": 4540,
         "Name": "Fiji"
        },
        {
         "Continent": "Australia and Oceania",
         "Country Code": "FSM",
         "GDP": 3050,
         "Name": "Micronesia, Fed. Sts."
        },
        {
         "Continent": "Europe",
         "Country Code": "FRO",
         "GDP": 52800,
         "Name": "Faeroe Islands"
        },
        {
         "Continent": "Europe",
         "Country Code": "FRA",
         "GDP": 42700,
         "Name": "France"
        },
        {
         "Continent": "Africa",
         "Country Code": "GAB",
         "GDP": 10100,
         "Name": "Gabon"
        },
        {
         "Continent": "Europe",
         "Country Code": "GBR",
         "GDP": 45600,
         "Name": "United Kingdom"
        },
        {
         "Continent": "North America",
         "Country Code": "GRD",
         "GDP": 8300,
         "Name": "Grenada"
        },
        {
         "Continent": "Asia",
         "Country Code": "GEO",
         "GDP": 3670,
         "Name": "Georgia"
        },
        {
         "Continent": "Africa",
         "Country Code": "GHA",
         "GDP": 1460,
         "Name": "Ghana"
        },
        {
         "Continent": "North America",
         "Country Code": "GRL",
         "GDP": 22500,
         "Name": "Greenland"
        },
        {
         "Continent": "Africa",
         "Country Code": "GMB",
         "GDP": 423,
         "Name": "Gambia, The"
        },
        {
         "Continent": "Africa",
         "Country Code": "GIN",
         "GDP": 550,
         "Name": "Guinea"
        },
        {
         "Continent": "Africa",
         "Country Code": "GNQ",
         "GDP": 18400,
         "Name": "Equatorial Guinea"
        },
        {
         "Continent": "Europe",
         "Country Code": "GRC",
         "GDP": 21700,
         "Name": "Greece"
        },
        {
         "Continent": "North America",
         "Country Code": "GTM",
         "GDP": 3700,
         "Name": "Guatemala"
        },
        {
         "Continent": "Australia and Oceania",
         "Country Code": "GUM",
         "GDP": "nan",
         "Name": "Guam"
        },
        {
         "Continent": "Africa",
         "Country Code": "GNB",
         "GDP": 586,
         "Name": "Guinea-Bissau"
        },
        {
         "Continent": "South America",
         "Country Code": "GUY",
         "GDP": 4020,
         "Name": "Guyana"
        },
        {
         "Continent": "Asia",
         "Country Code": "HKG",
         "GDP": 40200,
         "Name": "Hong Kong SAR, China"
        },
        {
         "Continent": "North America",
         "Country Code": "HND",
         "GDP": 2350,
         "Name": "Honduras"
        },
        {
         "Continent": "Europe",
         "Country Code": "HRV",
         "GDP": 13500,
         "Name": "Croatia"
        },
        {
         "Continent": "North America",
         "Country Code": "HTI",
         "GDP": 833,
         "Name": "Haiti"
        },
        {
         "Continent": "Europe",
         "Country Code": "HUN",
         "GDP": 13900,
         "Name": "Hungary"
        },
        {
         "Continent": "Asia",
         "Country Code": "IDN",
         "GDP": 3510,
         "Name": "Indonesia"
        },
        {
         "Continent": "Europe",
         "Country Code": "IRL",
         "GDP": 53300,
         "Name": "Ireland"
        },
        {
         "Continent": "Asia",
         "Country Code": "ISR",
         "GDP": 37000,
         "Name": "Israel"
        },
        {
         "Continent": "Europe",
         "Country Code": "IMY",
         "GDP": 49700,
         "Name": "Isle of Man"
        },
        {
         "Continent": "Asia",
         "Country Code": "IND",
         "GDP": 1630,
         "Name": "India"
        },
        {
         "Continent": "Asia",
         "Country Code": "IRQ",
         "GDP": 6430,
         "Name": "Iraq"
        },
        {
         "Continent": "Asia",
         "Country Code": "IRN",
         "GDP": 5290,
         "Name": "Iran, Islamic Rep."
        },
        {
         "Continent": "Europe",
         "Country Code": "ISL",
         "GDP": 52100,
         "Name": "Iceland"
        },
        {
         "Continent": "Europe",
         "Country Code": "ITA",
         "GDP": 35000,
         "Name": "Italy"
        },
        {
         "Continent": "North America",
         "Country Code": "JAM",
         "GDP": 5290,
         "Name": "Jamaica"
        },
        {
         "Continent": "Asia",
         "Country Code": "JOR",
         "GDP": 5420,
         "Name": "Jordan"
        },
        {
         "Continent": "Asia",
         "Country Code": "JPN",
         "GDP": 36200,
         "Name": "Japan"
        },
        {
         "Continent": "Africa",
         "Country Code": "KEN",
         "GDP": 1340,
         "Name": "Kenya"
        },
        {
         "Continent": "Asia",
         "Country Code": "KGZ",
         "GDP": 1270,
         "Name": "Kyrgyz Republic"
        },
        {
         "Continent": "Asia",
         "Country Code": "KHM",
         "GDP": 1080,
         "Name": "Cambodia"
        },
        {
         "Continent": "Australia and Oceania",
         "Country Code": "KIR",
         "GDP": 1600,
         "Name": "Kiribati"
        },
        {
         "Continent": "Africa",
         "Country Code": "COM",
         "GDP": 861,
         "Name": "Comoros"
        },
        {
         "Continent": "North America",
         "Country Code": "KNA",
         "GDP": 15200,
         "Name": "St. Kitts and Nevis"
        },
        {
         "Continent": "Asia",
         "Country Code": "PRK",
         "GDP": "nan",
         "Name": "Korea, Dem. Rep."
        },
        {
         "Continent": "Asia",
         "Country Code": "KOR",
         "GDP": 28000,
         "Name": "Korea, Rep."
        },
        {
         "Continent": "Asia",
         "Country Code": "KWT",
         "GDP": 52200,
         "Name": "Kuwait"
        },
        {
         "Continent": "North America",
         "Country Code": "CYM",
         "GDP": 64100,
         "Name": "Cayman Islands"
        },
        {
         "Continent": "Asia",
         "Country Code": "KAZ",
         "GDP": 12300,
         "Name": "Kazakhstan"
        },
        {
         "Continent": "Asia",
         "Country Code": "LAO",
         "GDP": 1710,
         "Name": "Lao PDR"
        },
        {
         "Continent": "Asia",
         "Country Code": "LBN",
         "GDP": 10100,
         "Name": "Lebanon"
        },
        {
         "Continent": "North America",
         "Country Code": "LCA",
         "GDP": 7440,
         "Name": "St. Lucia"
        },
        {
         "Continent": "Europe",
         "Country Code": "LIE",
         "GDP": 150000,
         "Name": "Liechtenstein"
        },
        {
         "Continent": "Asia",
         "Country Code": "LKA",
         "GDP": 3630,
         "Name": "Sri Lanka"
        },
        {
         "Continent": "Africa",
         "Country Code": "LBR",
         "GDP": 461,
         "Name": "Liberia"
        },
        {
         "Continent": "Africa",
         "Country Code": "LSO",
         "GDP": 995,
         "Name": "Lesotho"
        },
        {
         "Continent": "Europe",
         "Country Code": "LTU",
         "GDP": 16400,
         "Name": "Lithuania"
        },
        {
         "Continent": "Europe",
         "Country Code": "LUX",
         "GDP": 111000,
         "Name": "Luxembourg"
        },
        {
         "Continent": "Europe",
         "Country Code": "LVA",
         "GDP": 16000,
         "Name": "Latvia"
        },
        {
         "Continent": "Africa",
         "Country Code": "LBY",
         "GDP": 6580,
         "Name": "Libya"
        },
        {
         "Continent": "Africa",
         "Country Code": "MAR",
         "GDP": 3140,
         "Name": "Morocco"
        },
        {
         "Continent": "Europe",
         "Country Code": "MCO",
         "GDP": 163000,
         "Name": "Monaco"
        },
        {
         "Continent": "Europe",
         "Country Code": "MDA",
         "GDP": 2230,
         "Name": "Moldova"
        },
        {
         "Continent": "Europe",
         "Country Code": "MNE",
         "GDP": 7370,
         "Name": "Montenegro"
        },
        {
         "Continent": "North America",
         "Country Code": "MAF",
         "GDP": "nan",
         "Name": "St. Martin (French part)"
        },
        {
         "Continent": "Africa",
         "Country Code": "MDG",
         "GDP": 449,
         "Name": "Madagascar"
        },
        {
         "Continent": "Australia and Oceania",
         "Country Code": "MHL",
         "GDP": 3630,
         "Name": "Marshall Islands"
        },
        {
         "Continent": "Europe",
         "Country Code": "MKD",
         "GDP": 5370,
         "Name": "Macedonia, FYR"
        },
        {
         "Continent": "Africa",
         "Country Code": "MLI",
         "GDP": 766,
         "Name": "Mali"
        },
        {
         "Continent": "Asia",
         "Country Code": "MMR",
         "GDP": 1200,
         "Name": "Myanmar"
        },
        {
         "Continent": "Asia",
         "Country Code": "MNG",
         "GDP": 4170,
         "Name": "Mongolia"
        },
        {
         "Continent": "Australia and Oceania",
         "Country Code": "MNP",
         "GDP": "nan",
         "Name": "Northern Mariana Islands"
        },
        {
         "Continent": "Africa",
         "Country Code": "MRT",
         "GDP": 1270,
         "Name": "Mauritania"
        },
        {
         "Continent": "Europe",
         "Country Code": "MLT",
         "GDP": 22800,
         "Name": "Malta"
        },
        {
         "Continent": "Africa",
         "Country Code": "MUS",
         "GDP": 10000,
         "Name": "Mauritius"
        },
        {
         "Continent": "Asia",
         "Country Code": "MDV",
         "GDP": 8620,
         "Name": "Maldives"
        },
        {
         "Continent": "Africa",
         "Country Code": "MWI",
         "GDP": 253,
         "Name": "Malawi"
        },
        {
         "Continent": "North America",
         "Country Code": "MEX",
         "GDP": 10400,
         "Name": "Mexico"
        },
        {
         "Continent": "Asia",
         "Country Code": "MYS",
         "GDP": 10800,
         "Name": "Malaysia"
        },
        {
         "Continent": "Africa",
         "Country Code": "MOZ",
         "GDP": 619,
         "Name": "Mozambique"
        },
        {
         "Continent": "Africa",
         "Country Code": "NAM",
         "GDP": 5720,
         "Name": "Namibia"
        },
        {
         "Continent": "Australia and Oceania",
         "Country Code": "NCL",
         "GDP": 12600,
         "Name": "New Caledonia"
        },
        {
         "Continent": "Africa",
         "Country Code": "NER",
         "GDP": 441,
         "Name": "Niger"
        },
        {
         "Continent": "Africa",
         "Country Code": "NGA",
         "GDP": 3180,
         "Name": "Nigeria"
        },
        {
         "Continent": "North America",
         "Country Code": "NIC",
         "GDP": 1910,
         "Name": "Nicaragua"
        },
        {
         "Continent": "Europe",
         "Country Code": "NLD",
         "GDP": 51600,
         "Name": "Netherlands"
        },
        {
         "Continent": "Europe",
         "Country Code": "NOR",
         "GDP": 97400,
         "Name": "Norway"
        },
        {
         "Continent": "Asia",
         "Country Code": "NPL",
         "GDP": 698,
         "Name": "Nepal"
        },
        {
         "Continent": "Australia and Oceania",
         "Country Code": "NZL",
         "GDP": 42400,
         "Name": "New Zealand"
        },
        {
         "Continent": "Asia",
         "Country Code": "OMN",
         "GDP": 20800,
         "Name": "Oman"
        },
        {
         "Continent": "North America",
         "Country Code": "PAN",
         "GDP": 11800,
         "Name": "Panama"
        },
        {
         "Continent": "South America",
         "Country Code": "PER",
         "GDP": 6590,
         "Name": "Peru"
        },
        {
         "Continent": "Australia and Oceania",
         "Country Code": "PYF",
         "GDP": 14500,
         "Name": "French Polynesia"
        },
        {
         "Continent": "Australia and Oceania",
         "Country Code": "PNG",
         "GDP": 2110,
         "Name": "Papua New Guinea"
        },
        {
         "Continent": "Asia",
         "Country Code": "PHL",
         "GDP": 2840,
         "Name": "Philippines"
        },
        {
         "Continent": "Asia",
         "Country Code": "PAK",
         "GDP": 1330,
         "Name": "Pakistan"
        },
        {
         "Continent": "Europe",
         "Country Code": "POL",
         "GDP": 14400,
         "Name": "Poland"
        },
        {
         "Continent": "North America",
         "Country Code": "PRI",
         "GDP": 28700,
         "Name": "Puerto Rico"
        },
        {
         "Continent": "Europe",
         "Country Code": "PRT",
         "GDP": 22100,
         "Name": "Portugal"
        },
        {
         "Continent": "Australia and Oceania",
         "Country Code": "PLW",
         "GDP": 11900,
         "Name": "Palau"
        },
        {
         "Continent": "South America",
         "Country Code": "PRY",
         "GDP": 4480,
         "Name": "Paraguay"
        },
        {
         "Continent": "Asia",
         "Country Code": "QAT",
         "GDP": 93400,
         "Name": "Qatar"
        },
        {
         "Continent": "Europe",
         "Country Code": "ROM",
         "GDP": 10000,
         "Name": "Romania"
        },
        {
         "Continent": "Europe",
         "Country Code": "SRB",
         "GDP": 6150,
         "Name": "Serbia"
        },
        {
         "Continent": "Europe",
         "Country Code": "RUS",
         "GDP": 12700,
         "Name": "Russian Federation"
        },
        {
         "Continent": "Africa",
         "Country Code": "RWA",
         "GDP": 652,
         "Name": "Rwanda"
        },
        {
         "Continent": "Asia",
         "Country Code": "SAU",
         "GDP": 25400,
         "Name": "Saudi Arabia"
        },
        {
         "Continent": "Australia and Oceania",
         "Country Code": "SLB",
         "GDP": 2020,
         "Name": "Solomon Islands"
        },
        {
         "Continent": "Africa",
         "Country Code": "SYC",
         "GDP": 15400,
         "Name": "Seychelles"
        },
        {
         "Continent": "Africa",
         "Country Code": "SDN",
         "GDP": 1900,
         "Name": "Sudan"
        },
        {
         "Continent": "Europe",
         "Country Code": "SWE",
         "GDP": 58900,
         "Name": "Sweden"
        },
        {
         "Continent": "Asia",
         "Country Code": "SGP",
         "GDP": 56300,
         "Name": "Singapore"
        },
        {
         "Continent": "Europe",
         "Country Code": "SVN",
         "GDP": 24000,
         "Name": "Slovenia"
        },
        {
         "Continent": "Europe",
         "Country Code": "SVK",
         "GDP": 18400,
         "Name": "Slovak Republic"
        },
        {
         "Continent": "Africa",
         "Country Code": "SLE",
         "GDP": 788,
         "Name": "Sierra Leone"
        },
        {
         "Continent": "Europe",
         "Country Code": "SMR",
         "GDP": 62200,
         "Name": "San Marino"
        },
        {
         "Continent": "Africa",
         "Country Code": "SEN",
         "GDP": 1070,
         "Name": "Senegal"
        },
        {
         "Continent": "Africa",
         "Country Code": "SOM",
         "GDP": 145,
         "Name": "Somalia"
        },
        {
         "Continent": "South America",
         "Country Code": "SUR",
         "GDP": 9830,
         "Name": "Suriname"
        },
        {
         "Continent": "Africa",
         "Country Code": "SSD",
         "GDP": 1110,
         "Name": "South Sudan"
        },
        {
         "Continent": "Africa",
         "Country Code": "STP",
         "GDP": 1690,
         "Name": "Sao Tome and Principe"
        },
        {
         "Continent": "North America",
         "Country Code": "SLV",
         "GDP": 3950,
         "Name": "El Salvador"
        },
        {
         "Continent": "North America",
         "Country Code": "SXM",
         "GDP": "nan",
         "Name": "Sint Maarten (Dutch part)"
        },
        {
         "Continent": "Asia",
         "Country Code": "SYR",
         "GDP": 2070,
         "Name": "Syrian Arab Republic"
        },
        {
         "Continent": "Africa",
         "Country Code": "SWZ",
         "GDP": 2680,
         "Name": "Swaziland"
        },
        {
         "Continent": "North America",
         "Country Code": "TCA",
         "GDP": "nan",
         "Name": "Turks and Caicos Islands"
        },
        {
         "Continent": "Africa",
         "Country Code": "TCD",
         "GDP": 1050,
         "Name": "Chad"
        },
        {
         "Continent": "Africa",
         "Country Code": "TGO",
         "GDP": 646,
         "Name": "Togo"
        },
        {
         "Continent": "Asia",
         "Country Code": "THA",
         "GDP": 5560,
         "Name": "Thailand"
        },
        {
         "Continent": "Asia",
         "Country Code": "TJK",
         "GDP": 1100,
         "Name": "Tajikistan"
        },
        {
         "Continent": "Asia",
         "Country Code": "TMP",
         "GDP": 1280,
         "Name": "Timor-Leste"
        },
        {
         "Continent": "Asia",
         "Country Code": "TKM",
         "GDP": 9030,
         "Name": "Turkmenistan"
        },
        {
         "Continent": "Africa",
         "Country Code": "TUN",
         "GDP": 4320,
         "Name": "Tunisia"
        },
        {
         "Continent": "Australia and Oceania",
         "Country Code": "TON",
         "GDP": 4110,
         "Name": "Tonga"
        },
        {
         "Continent": "Europe",
         "Country Code": "TUR",
         "GDP": 10500,
         "Name": "Turkey"
        },
        {
         "Continent": "North America",
         "Country Code": "TTO",
         "GDP": 18200,
         "Name": "Trinidad and Tobago"
        },
        {
         "Continent": "Australia and Oceania",
         "Country Code": "TUV",
         "GDP": 3880,
         "Name": "Tuvalu"
        },
        {
         "Continent": "Asia",
         "Country Code": "TWN",
         "GDP": "nan",
         "Name": "Taiwan, China"
        },
        {
         "Continent": "Africa",
         "Country Code": "TZA",
         "GDP": 998,
         "Name": "Tanzania"
        },
        {
         "Continent": "Europe",
         "Country Code": "UKR",
         "GDP": 3080,
         "Name": "Ukraine"
        },
        {
         "Continent": "Africa",
         "Country Code": "UGA",
         "GDP": 677,
         "Name": "Uganda"
        },
        {
         "Continent": "North America",
         "Country Code": "USA",
         "GDP": 54600,
         "Name": "United States"
        },
        {
         "Continent": "South America",
         "Country Code": "URY",
         "GDP": 16800,
         "Name": "Uruguay"
        },
        {
         "Continent": "Asia",
         "Country Code": "UZB",
         "GDP": 2040,
         "Name": "Uzbekistan"
        },
        {
         "Continent": "North America",
         "Country Code": "VCT",
         "GDP": 6660,
         "Name": "St. Vincent and the Grenadines"
        },
        {
         "Continent": "South America",
         "Country Code": "VEN",
         "GDP": 16500,
         "Name": "Venezuela, RB"
        },
        {
         "Continent": "North America",
         "Country Code": "VIR",
         "GDP": 18700,
         "Name": "Virgin Islands (U.S.)"
        },
        {
         "Continent": "Asia",
         "Country Code": "VNM",
         "GDP": 2050,
         "Name": "Vietnam"
        },
        {
         "Continent": "Australia and Oceania",
         "Country Code": "VUT",
         "GDP": 3170,
         "Name": "Vanuatu"
        },
        {
         "Continent": "Australia and Oceania",
         "Country Code": "WSM",
         "GDP": 4170,
         "Name": "Samoa"
        },
        {
         "Continent": "Asia",
         "Country Code": "YEM",
         "GDP": 1470,
         "Name": "Yemen, Rep."
        },
        {
         "Continent": "Africa",
         "Country Code": "ZAF",
         "GDP": 6480,
         "Name": "South Africa"
        },
        {
         "Continent": "Africa",
         "Country Code": "ZMB",
         "GDP": 1800,
         "Name": "Zambia"
        },
        {
         "Continent": "Africa",
         "Country Code": "ZWE",
         "GDP": 936,
         "Name": "Zimbabwe"
        }
       ],
       "row_groups": 3,
       "scales": {
        "color": "IPY_MODEL_ba35ddbae328493c88c4a9b66be48f8c"
       },
       "selected": [
        "PAN",
        "FRA",
        "PHL"
       ],
       "selected_stroke": "yellow",
       "tooltip_fields": [
        "Name",
        "Continent",
        "GDP"
       ],
       "tooltip_formats": [
        "",
        "",
        ".1f"
       ]
      }
     },
     "5ef4a76abd5f4ae59b553ad45405bd76": {
      "model_module": "bqplot",
      "model_module_version": "*",
      "model_name": "FigureModel",
      "state": {
       "_dom_classes": [],
       "axes": [
        "IPY_MODEL_0a6e393db209485d931e1bc094a568c7",
        "IPY_MODEL_9a5c0a635fd7439cbd451e76712ade84"
       ],
       "layout": "IPY_MODEL_cfa3e5eaf13a484e83be4ff95ac7d326",
       "marks": [
        "IPY_MODEL_f19f53d051254f1abd5841ab810a8814"
       ],
       "scale_x": "IPY_MODEL_70770476a5e348cb9499ace3726a27df",
       "scale_y": "IPY_MODEL_9339a54f608a4ce08c3973a6cbba1fb2",
       "title": "Sint Maarten (Dutch part)"
      }
     },
     "70770476a5e348cb9499ace3726a27df": {
      "model_module": "bqplot",
      "model_module_version": "*",
      "model_name": "LinearScaleModel",
      "state": {
       "allow_padding": false,
       "max": 1,
       "min": 0,
       "stabilized": false
      }
     },
     "7252456e728e4f119d1aaa0d35ee0c96": {
      "model_module": "jupyter-js-widgets",
      "model_module_version": "*",
      "model_name": "LayoutModel",
      "state": {
       "align_self": "stretch",
       "flex": "1",
       "min_width": "400px"
      }
     },
     "79d8c8e4b65644e9ac3e5060923f6736": {
      "model_module": "jupyter-js-widgets",
      "model_module_version": "*",
      "model_name": "LayoutModel",
      "state": {
       "align_self": "stretch",
       "flex": "1",
       "min_width": "400px"
      }
     },
     "84851b71fc814e6692cee9490d54c3fc": {
      "model_module": "bqplot",
      "model_module_version": "*",
      "model_name": "MarketMapModel",
      "state": {
       "_dom_classes": [],
       "color": {
        "type": "float64",
        "values": []
       },
       "colors": [
        "MediumSeaGreen"
       ],
       "display_text": {
        "type": null,
        "values": null
       },
       "font_style": {
        "fill": "white",
        "font-size": "22px"
       },
       "groups": {
        "type": "float64",
        "values": []
       },
       "layout": "IPY_MODEL_7252456e728e4f119d1aaa0d35ee0c96",
       "max_aspect_ratio": 1.7777777777777777,
       "min_aspect_ratio": 1.7777777777777777,
       "names": {
        "type": "object",
        "values": [
         "ADO",
         "ARE",
         "AFG",
         "ATG",
         "ALB",
         "ARM",
         "AGO",
         "ARG",
         "ASM",
         "AUT",
         "AUS",
         "ABW",
         "AZE",
         "BIH",
         "BRB",
         "BGD",
         "BEL",
         "BFA",
         "BGR",
         "BHR",
         "BDI",
         "BEN",
         "BMU",
         "BRN",
         "BOL",
         "BRA",
         "BHS",
         "BTN",
         "BWA",
         "BLR",
         "BLZ",
         "CAN",
         "ZAR",
         "CAF",
         "COG",
         "CHE",
         "CIV",
         "CHL",
         "CMR",
         "CHN",
         "COL",
         "CRI",
         "CHI",
         "CUB",
         "CPV",
         "CUW",
         "CYP",
         "CZE",
         "DEU",
         "DJI",
         "DNK",
         "DMA",
         "DOM",
         "DZA",
         "ECU",
         "EST",
         "EGY",
         "ERI",
         "ESP",
         "ETH",
         "FIN",
         "FJI",
         "FSM",
         "FRO",
         "FRA",
         "GAB",
         "GBR",
         "GRD",
         "GEO",
         "GHA",
         "GRL",
         "GMB",
         "GIN",
         "GNQ",
         "GRC",
         "GTM",
         "GUM",
         "GNB",
         "GUY",
         "HKG",
         "HND",
         "HRV",
         "HTI",
         "HUN",
         "IDN",
         "IRL",
         "ISR",
         "IMY",
         "IND",
         "IRQ",
         "IRN",
         "ISL",
         "ITA",
         "JAM",
         "JOR",
         "JPN",
         "KEN",
         "KGZ",
         "KHM",
         "KIR",
         "COM",
         "KNA",
         "PRK",
         "KOR",
         "KWT",
         "CYM",
         "KAZ",
         "LAO",
         "LBN",
         "LCA",
         "LIE",
         "LKA",
         "LBR",
         "LSO",
         "LTU",
         "LUX",
         "LVA",
         "LBY",
         "MAR",
         "MCO",
         "MDA",
         "MNE",
         "MAF",
         "MDG",
         "MHL",
         "MKD",
         "MLI",
         "MMR",
         "MNG",
         "MNP",
         "MRT",
         "MLT",
         "MUS",
         "MDV",
         "MWI",
         "MEX",
         "MYS",
         "MOZ",
         "NAM",
         "NCL",
         "NER",
         "NGA",
         "NIC",
         "NLD",
         "NOR",
         "NPL",
         "NZL",
         "OMN",
         "PAN",
         "PER",
         "PYF",
         "PNG",
         "PHL",
         "PAK",
         "POL",
         "PRI",
         "PRT",
         "PLW",
         "PRY",
         "QAT",
         "ROM",
         "SRB",
         "RUS",
         "RWA",
         "SAU",
         "SLB",
         "SYC",
         "SDN",
         "SWE",
         "SGP",
         "SVN",
         "SVK",
         "SLE",
         "SMR",
         "SEN",
         "SOM",
         "SUR",
         "SSD",
         "STP",
         "SLV",
         "SXM",
         "SYR",
         "SWZ",
         "TCA",
         "TCD",
         "TGO",
         "THA",
         "TJK",
         "TMP",
         "TKM",
         "TUN",
         "TON",
         "TUR",
         "TTO",
         "TUV",
         "TWN",
         "TZA",
         "UKR",
         "UGA",
         "USA",
         "URY",
         "UZB",
         "VCT",
         "VEN",
         "VIR",
         "VNM",
         "VUT",
         "WSM",
         "YEM",
         "ZAF",
         "ZMB",
         "ZWE"
        ]
       },
       "ref_data": [
        {
         "Continent": "Europe",
         "Country Code": "ADO",
         "Name": "Andorra"
        },
        {
         "Continent": "Asia",
         "Country Code": "ARE",
         "Name": "United Arab Emirates"
        },
        {
         "Continent": "Asia",
         "Country Code": "AFG",
         "Name": "Afghanistan"
        },
        {
         "Continent": "North America",
         "Country Code": "ATG",
         "Name": "Antigua and Barbuda"
        },
        {
         "Continent": "Europe",
         "Country Code": "ALB",
         "Name": "Albania"
        },
        {
         "Continent": "Asia",
         "Country Code": "ARM",
         "Name": "Armenia"
        },
        {
         "Continent": "Africa",
         "Country Code": "AGO",
         "Name": "Angola"
        },
        {
         "Continent": "South America",
         "Country Code": "ARG",
         "Name": "Argentina"
        },
        {
         "Continent": "Australia and Oceania",
         "Country Code": "ASM",
         "Name": "American Samoa"
        },
        {
         "Continent": "Europe",
         "Country Code": "AUT",
         "Name": "Austria"
        },
        {
         "Continent": "Australia and Oceania",
         "Country Code": "AUS",
         "Name": "Australia"
        },
        {
         "Continent": "North America",
         "Country Code": "ABW",
         "Name": "Aruba"
        },
        {
         "Continent": "Asia",
         "Country Code": "AZE",
         "Name": "Azerbaijan"
        },
        {
         "Continent": "Europe",
         "Country Code": "BIH",
         "Name": "Bosnia and Herzegovina"
        },
        {
         "Continent": "North America",
         "Country Code": "BRB",
         "Name": "Barbados"
        },
        {
         "Continent": "Asia",
         "Country Code": "BGD",
         "Name": "Bangladesh"
        },
        {
         "Continent": "Europe",
         "Country Code": "BEL",
         "Name": "Belgium"
        },
        {
         "Continent": "Africa",
         "Country Code": "BFA",
         "Name": "Burkina Faso"
        },
        {
         "Continent": "Europe",
         "Country Code": "BGR",
         "Name": "Bulgaria"
        },
        {
         "Continent": "Asia",
         "Country Code": "BHR",
         "Name": "Bahrain"
        },
        {
         "Continent": "Africa",
         "Country Code": "BDI",
         "Name": "Burundi"
        },
        {
         "Continent": "Africa",
         "Country Code": "BEN",
         "Name": "Benin"
        },
        {
         "Continent": "North America",
         "Country Code": "BMU",
         "Name": "Bermuda"
        },
        {
         "Continent": "Asia",
         "Country Code": "BRN",
         "Name": "Brunei Darussalam"
        },
        {
         "Continent": "South America",
         "Country Code": "BOL",
         "Name": "Bolivia"
        },
        {
         "Continent": "South America",
         "Country Code": "BRA",
         "Name": "Brazil"
        },
        {
         "Continent": "North America",
         "Country Code": "BHS",
         "Name": "Bahamas, The"
        },
        {
         "Continent": "Asia",
         "Country Code": "BTN",
         "Name": "Bhutan"
        },
        {
         "Continent": "Africa",
         "Country Code": "BWA",
         "Name": "Botswana"
        },
        {
         "Continent": "Europe",
         "Country Code": "BLR",
         "Name": "Belarus"
        },
        {
         "Continent": "North America",
         "Country Code": "BLZ",
         "Name": "Belize"
        },
        {
         "Continent": "North America",
         "Country Code": "CAN",
         "Name": "Canada"
        },
        {
         "Continent": "Africa",
         "Country Code": "ZAR",
         "Name": "Congo, Dem. Rep."
        },
        {
         "Continent": "Africa",
         "Country Code": "CAF",
         "Name": "Central African Republic"
        },
        {
         "Continent": "Africa",
         "Country Code": "COG",
         "Name": "Congo, Rep."
        },
        {
         "Continent": "Europe",
         "Country Code": "CHE",
         "Name": "Switzerland"
        },
        {
         "Continent": "Africa",
         "Country Code": "CIV",
         "Name": "Cote d'Ivoire"
        },
        {
         "Continent": "South America",
         "Country Code": "CHL",
         "Name": "Chile"
        },
        {
         "Continent": "Africa",
         "Country Code": "CMR",
         "Name": "Cameroon"
        },
        {
         "Continent": "Asia",
         "Country Code": "CHN",
         "Name": "China"
        },
        {
         "Continent": "South America",
         "Country Code": "COL",
         "Name": "Colombia"
        },
        {
         "Continent": "North America",
         "Country Code": "CRI",
         "Name": "Costa Rica"
        },
        {
         "Continent": "Australia and Oceania",
         "Country Code": "CHI",
         "Name": "Channel Islands"
        },
        {
         "Continent": "North America",
         "Country Code": "CUB",
         "Name": "Cuba"
        },
        {
         "Continent": "Africa",
         "Country Code": "CPV",
         "Name": "Cabo Verde"
        },
        {
         "Continent": "North America",
         "Country Code": "CUW",
         "Name": "Curacao"
        },
        {
         "Continent": "Asia",
         "Country Code": "CYP",
         "Name": "Cyprus"
        },
        {
         "Continent": "Europe",
         "Country Code": "CZE",
         "Name": "Czech Republic"
        },
        {
         "Continent": "Europe",
         "Country Code": "DEU",
         "Name": "Germany"
        },
        {
         "Continent": "Africa",
         "Country Code": "DJI",
         "Name": "Djibouti"
        },
        {
         "Continent": "Europe",
         "Country Code": "DNK",
         "Name": "Denmark"
        },
        {
         "Continent": "North America",
         "Country Code": "DMA",
         "Name": "Dominica"
        },
        {
         "Continent": "North America",
         "Country Code": "DOM",
         "Name": "Dominican Republic"
        },
        {
         "Continent": "Africa",
         "Country Code": "DZA",
         "Name": "Algeria"
        },
        {
         "Continent": "South America",
         "Country Code": "ECU",
         "Name": "Ecuador"
        },
        {
         "Continent": "Europe",
         "Country Code": "EST",
         "Name": "Estonia"
        },
        {
         "Continent": "Africa",
         "Country Code": "EGY",
         "Name": "Egypt, Arab Rep."
        },
        {
         "Continent": "Africa",
         "Country Code": "ERI",
         "Name": "Eritrea"
        },
        {
         "Continent": "Europe",
         "Country Code": "ESP",
         "Name": "Spain"
        },
        {
         "Continent": "Africa",
         "Country Code": "ETH",
         "Name": "Ethiopia"
        },
        {
         "Continent": "Europe",
         "Country Code": "FIN",
         "Name": "Finland"
        },
        {
         "Continent": "Australia and Oceania",
         "Country Code": "FJI",
         "Name": "Fiji"
        },
        {
         "Continent": "Australia and Oceania",
         "Country Code": "FSM",
         "Name": "Micronesia, Fed. Sts."
        },
        {
         "Continent": "Europe",
         "Country Code": "FRO",
         "Name": "Faeroe Islands"
        },
        {
         "Continent": "Europe",
         "Country Code": "FRA",
         "Name": "France"
        },
        {
         "Continent": "Africa",
         "Country Code": "GAB",
         "Name": "Gabon"
        },
        {
         "Continent": "Europe",
         "Country Code": "GBR",
         "Name": "United Kingdom"
        },
        {
         "Continent": "North America",
         "Country Code": "GRD",
         "Name": "Grenada"
        },
        {
         "Continent": "Asia",
         "Country Code": "GEO",
         "Name": "Georgia"
        },
        {
         "Continent": "Africa",
         "Country Code": "GHA",
         "Name": "Ghana"
        },
        {
         "Continent": "North America",
         "Country Code": "GRL",
         "Name": "Greenland"
        },
        {
         "Continent": "Africa",
         "Country Code": "GMB",
         "Name": "Gambia, The"
        },
        {
         "Continent": "Africa",
         "Country Code": "GIN",
         "Name": "Guinea"
        },
        {
         "Continent": "Africa",
         "Country Code": "GNQ",
         "Name": "Equatorial Guinea"
        },
        {
         "Continent": "Europe",
         "Country Code": "GRC",
         "Name": "Greece"
        },
        {
         "Continent": "North America",
         "Country Code": "GTM",
         "Name": "Guatemala"
        },
        {
         "Continent": "Australia and Oceania",
         "Country Code": "GUM",
         "Name": "Guam"
        },
        {
         "Continent": "Africa",
         "Country Code": "GNB",
         "Name": "Guinea-Bissau"
        },
        {
         "Continent": "South America",
         "Country Code": "GUY",
         "Name": "Guyana"
        },
        {
         "Continent": "Asia",
         "Country Code": "HKG",
         "Name": "Hong Kong SAR, China"
        },
        {
         "Continent": "North America",
         "Country Code": "HND",
         "Name": "Honduras"
        },
        {
         "Continent": "Europe",
         "Country Code": "HRV",
         "Name": "Croatia"
        },
        {
         "Continent": "North America",
         "Country Code": "HTI",
         "Name": "Haiti"
        },
        {
         "Continent": "Europe",
         "Country Code": "HUN",
         "Name": "Hungary"
        },
        {
         "Continent": "Asia",
         "Country Code": "IDN",
         "Name": "Indonesia"
        },
        {
         "Continent": "Europe",
         "Country Code": "IRL",
         "Name": "Ireland"
        },
        {
         "Continent": "Asia",
         "Country Code": "ISR",
         "Name": "Israel"
        },
        {
         "Continent": "Europe",
         "Country Code": "IMY",
         "Name": "Isle of Man"
        },
        {
         "Continent": "Asia",
         "Country Code": "IND",
         "Name": "India"
        },
        {
         "Continent": "Asia",
         "Country Code": "IRQ",
         "Name": "Iraq"
        },
        {
         "Continent": "Asia",
         "Country Code": "IRN",
         "Name": "Iran, Islamic Rep."
        },
        {
         "Continent": "Europe",
         "Country Code": "ISL",
         "Name": "Iceland"
        },
        {
         "Continent": "Europe",
         "Country Code": "ITA",
         "Name": "Italy"
        },
        {
         "Continent": "North America",
         "Country Code": "JAM",
         "Name": "Jamaica"
        },
        {
         "Continent": "Asia",
         "Country Code": "JOR",
         "Name": "Jordan"
        },
        {
         "Continent": "Asia",
         "Country Code": "JPN",
         "Name": "Japan"
        },
        {
         "Continent": "Africa",
         "Country Code": "KEN",
         "Name": "Kenya"
        },
        {
         "Continent": "Asia",
         "Country Code": "KGZ",
         "Name": "Kyrgyz Republic"
        },
        {
         "Continent": "Asia",
         "Country Code": "KHM",
         "Name": "Cambodia"
        },
        {
         "Continent": "Australia and Oceania",
         "Country Code": "KIR",
         "Name": "Kiribati"
        },
        {
         "Continent": "Africa",
         "Country Code": "COM",
         "Name": "Comoros"
        },
        {
         "Continent": "North America",
         "Country Code": "KNA",
         "Name": "St. Kitts and Nevis"
        },
        {
         "Continent": "Asia",
         "Country Code": "PRK",
         "Name": "Korea, Dem. Rep."
        },
        {
         "Continent": "Asia",
         "Country Code": "KOR",
         "Name": "Korea, Rep."
        },
        {
         "Continent": "Asia",
         "Country Code": "KWT",
         "Name": "Kuwait"
        },
        {
         "Continent": "North America",
         "Country Code": "CYM",
         "Name": "Cayman Islands"
        },
        {
         "Continent": "Asia",
         "Country Code": "KAZ",
         "Name": "Kazakhstan"
        },
        {
         "Continent": "Asia",
         "Country Code": "LAO",
         "Name": "Lao PDR"
        },
        {
         "Continent": "Asia",
         "Country Code": "LBN",
         "Name": "Lebanon"
        },
        {
         "Continent": "North America",
         "Country Code": "LCA",
         "Name": "St. Lucia"
        },
        {
         "Continent": "Europe",
         "Country Code": "LIE",
         "Name": "Liechtenstein"
        },
        {
         "Continent": "Asia",
         "Country Code": "LKA",
         "Name": "Sri Lanka"
        },
        {
         "Continent": "Africa",
         "Country Code": "LBR",
         "Name": "Liberia"
        },
        {
         "Continent": "Africa",
         "Country Code": "LSO",
         "Name": "Lesotho"
        },
        {
         "Continent": "Europe",
         "Country Code": "LTU",
         "Name": "Lithuania"
        },
        {
         "Continent": "Europe",
         "Country Code": "LUX",
         "Name": "Luxembourg"
        },
        {
         "Continent": "Europe",
         "Country Code": "LVA",
         "Name": "Latvia"
        },
        {
         "Continent": "Africa",
         "Country Code": "LBY",
         "Name": "Libya"
        },
        {
         "Continent": "Africa",
         "Country Code": "MAR",
         "Name": "Morocco"
        },
        {
         "Continent": "Europe",
         "Country Code": "MCO",
         "Name": "Monaco"
        },
        {
         "Continent": "Europe",
         "Country Code": "MDA",
         "Name": "Moldova"
        },
        {
         "Continent": "Europe",
         "Country Code": "MNE",
         "Name": "Montenegro"
        },
        {
         "Continent": "North America",
         "Country Code": "MAF",
         "Name": "St. Martin (French part)"
        },
        {
         "Continent": "Africa",
         "Country Code": "MDG",
         "Name": "Madagascar"
        },
        {
         "Continent": "Australia and Oceania",
         "Country Code": "MHL",
         "Name": "Marshall Islands"
        },
        {
         "Continent": "Europe",
         "Country Code": "MKD",
         "Name": "Macedonia, FYR"
        },
        {
         "Continent": "Africa",
         "Country Code": "MLI",
         "Name": "Mali"
        },
        {
         "Continent": "Asia",
         "Country Code": "MMR",
         "Name": "Myanmar"
        },
        {
         "Continent": "Asia",
         "Country Code": "MNG",
         "Name": "Mongolia"
        },
        {
         "Continent": "Australia and Oceania",
         "Country Code": "MNP",
         "Name": "Northern Mariana Islands"
        },
        {
         "Continent": "Africa",
         "Country Code": "MRT",
         "Name": "Mauritania"
        },
        {
         "Continent": "Europe",
         "Country Code": "MLT",
         "Name": "Malta"
        },
        {
         "Continent": "Africa",
         "Country Code": "MUS",
         "Name": "Mauritius"
        },
        {
         "Continent": "Asia",
         "Country Code": "MDV",
         "Name": "Maldives"
        },
        {
         "Continent": "Africa",
         "Country Code": "MWI",
         "Name": "Malawi"
        },
        {
         "Continent": "North America",
         "Country Code": "MEX",
         "Name": "Mexico"
        },
        {
         "Continent": "Asia",
         "Country Code": "MYS",
         "Name": "Malaysia"
        },
        {
         "Continent": "Africa",
         "Country Code": "MOZ",
         "Name": "Mozambique"
        },
        {
         "Continent": "Africa",
         "Country Code": "NAM",
         "Name": "Namibia"
        },
        {
         "Continent": "Australia and Oceania",
         "Country Code": "NCL",
         "Name": "New Caledonia"
        },
        {
         "Continent": "Africa",
         "Country Code": "NER",
         "Name": "Niger"
        },
        {
         "Continent": "Africa",
         "Country Code": "NGA",
         "Name": "Nigeria"
        },
        {
         "Continent": "North America",
         "Country Code": "NIC",
         "Name": "Nicaragua"
        },
        {
         "Continent": "Europe",
         "Country Code": "NLD",
         "Name": "Netherlands"
        },
        {
         "Continent": "Europe",
         "Country Code": "NOR",
         "Name": "Norway"
        },
        {
         "Continent": "Asia",
         "Country Code": "NPL",
         "Name": "Nepal"
        },
        {
         "Continent": "Australia and Oceania",
         "Country Code": "NZL",
         "Name": "New Zealand"
        },
        {
         "Continent": "Asia",
         "Country Code": "OMN",
         "Name": "Oman"
        },
        {
         "Continent": "North America",
         "Country Code": "PAN",
         "Name": "Panama"
        },
        {
         "Continent": "South America",
         "Country Code": "PER",
         "Name": "Peru"
        },
        {
         "Continent": "Australia and Oceania",
         "Country Code": "PYF",
         "Name": "French Polynesia"
        },
        {
         "Continent": "Australia and Oceania",
         "Country Code": "PNG",
         "Name": "Papua New Guinea"
        },
        {
         "Continent": "Asia",
         "Country Code": "PHL",
         "Name": "Philippines"
        },
        {
         "Continent": "Asia",
         "Country Code": "PAK",
         "Name": "Pakistan"
        },
        {
         "Continent": "Europe",
         "Country Code": "POL",
         "Name": "Poland"
        },
        {
         "Continent": "North America",
         "Country Code": "PRI",
         "Name": "Puerto Rico"
        },
        {
         "Continent": "Europe",
         "Country Code": "PRT",
         "Name": "Portugal"
        },
        {
         "Continent": "Australia and Oceania",
         "Country Code": "PLW",
         "Name": "Palau"
        },
        {
         "Continent": "South America",
         "Country Code": "PRY",
         "Name": "Paraguay"
        },
        {
         "Continent": "Asia",
         "Country Code": "QAT",
         "Name": "Qatar"
        },
        {
         "Continent": "Europe",
         "Country Code": "ROM",
         "Name": "Romania"
        },
        {
         "Continent": "Europe",
         "Country Code": "SRB",
         "Name": "Serbia"
        },
        {
         "Continent": "Europe",
         "Country Code": "RUS",
         "Name": "Russian Federation"
        },
        {
         "Continent": "Africa",
         "Country Code": "RWA",
         "Name": "Rwanda"
        },
        {
         "Continent": "Asia",
         "Country Code": "SAU",
         "Name": "Saudi Arabia"
        },
        {
         "Continent": "Australia and Oceania",
         "Country Code": "SLB",
         "Name": "Solomon Islands"
        },
        {
         "Continent": "Africa",
         "Country Code": "SYC",
         "Name": "Seychelles"
        },
        {
         "Continent": "Africa",
         "Country Code": "SDN",
         "Name": "Sudan"
        },
        {
         "Continent": "Europe",
         "Country Code": "SWE",
         "Name": "Sweden"
        },
        {
         "Continent": "Asia",
         "Country Code": "SGP",
         "Name": "Singapore"
        },
        {
         "Continent": "Europe",
         "Country Code": "SVN",
         "Name": "Slovenia"
        },
        {
         "Continent": "Europe",
         "Country Code": "SVK",
         "Name": "Slovak Republic"
        },
        {
         "Continent": "Africa",
         "Country Code": "SLE",
         "Name": "Sierra Leone"
        },
        {
         "Continent": "Europe",
         "Country Code": "SMR",
         "Name": "San Marino"
        },
        {
         "Continent": "Africa",
         "Country Code": "SEN",
         "Name": "Senegal"
        },
        {
         "Continent": "Africa",
         "Country Code": "SOM",
         "Name": "Somalia"
        },
        {
         "Continent": "South America",
         "Country Code": "SUR",
         "Name": "Suriname"
        },
        {
         "Continent": "Africa",
         "Country Code": "SSD",
         "Name": "South Sudan"
        },
        {
         "Continent": "Africa",
         "Country Code": "STP",
         "Name": "Sao Tome and Principe"
        },
        {
         "Continent": "North America",
         "Country Code": "SLV",
         "Name": "El Salvador"
        },
        {
         "Continent": "North America",
         "Country Code": "SXM",
         "Name": "Sint Maarten (Dutch part)"
        },
        {
         "Continent": "Asia",
         "Country Code": "SYR",
         "Name": "Syrian Arab Republic"
        },
        {
         "Continent": "Africa",
         "Country Code": "SWZ",
         "Name": "Swaziland"
        },
        {
         "Continent": "North America",
         "Country Code": "TCA",
         "Name": "Turks and Caicos Islands"
        },
        {
         "Continent": "Africa",
         "Country Code": "TCD",
         "Name": "Chad"
        },
        {
         "Continent": "Africa",
         "Country Code": "TGO",
         "Name": "Togo"
        },
        {
         "Continent": "Asia",
         "Country Code": "THA",
         "Name": "Thailand"
        },
        {
         "Continent": "Asia",
         "Country Code": "TJK",
         "Name": "Tajikistan"
        },
        {
         "Continent": "Asia",
         "Country Code": "TMP",
         "Name": "Timor-Leste"
        },
        {
         "Continent": "Asia",
         "Country Code": "TKM",
         "Name": "Turkmenistan"
        },
        {
         "Continent": "Africa",
         "Country Code": "TUN",
         "Name": "Tunisia"
        },
        {
         "Continent": "Australia and Oceania",
         "Country Code": "TON",
         "Name": "Tonga"
        },
        {
         "Continent": "Europe",
         "Country Code": "TUR",
         "Name": "Turkey"
        },
        {
         "Continent": "North America",
         "Country Code": "TTO",
         "Name": "Trinidad and Tobago"
        },
        {
         "Continent": "Australia and Oceania",
         "Country Code": "TUV",
         "Name": "Tuvalu"
        },
        {
         "Continent": "Asia",
         "Country Code": "TWN",
         "Name": "Taiwan, China"
        },
        {
         "Continent": "Africa",
         "Country Code": "TZA",
         "Name": "Tanzania"
        },
        {
         "Continent": "Europe",
         "Country Code": "UKR",
         "Name": "Ukraine"
        },
        {
         "Continent": "Africa",
         "Country Code": "UGA",
         "Name": "Uganda"
        },
        {
         "Continent": "North America",
         "Country Code": "USA",
         "Name": "United States"
        },
        {
         "Continent": "South America",
         "Country Code": "URY",
         "Name": "Uruguay"
        },
        {
         "Continent": "Asia",
         "Country Code": "UZB",
         "Name": "Uzbekistan"
        },
        {
         "Continent": "North America",
         "Country Code": "VCT",
         "Name": "St. Vincent and the Grenadines"
        },
        {
         "Continent": "South America",
         "Country Code": "VEN",
         "Name": "Venezuela, RB"
        },
        {
         "Continent": "North America",
         "Country Code": "VIR",
         "Name": "Virgin Islands (U.S.)"
        },
        {
         "Continent": "Asia",
         "Country Code": "VNM",
         "Name": "Vietnam"
        },
        {
         "Continent": "Australia and Oceania",
         "Country Code": "VUT",
         "Name": "Vanuatu"
        },
        {
         "Continent": "Australia and Oceania",
         "Country Code": "WSM",
         "Name": "Samoa"
        },
        {
         "Continent": "Asia",
         "Country Code": "YEM",
         "Name": "Yemen, Rep."
        },
        {
         "Continent": "Africa",
         "Country Code": "ZAF",
         "Name": "South Africa"
        },
        {
         "Continent": "Africa",
         "Country Code": "ZMB",
         "Name": "Zambia"
        },
        {
         "Continent": "Africa",
         "Country Code": "ZWE",
         "Name": "Zimbabwe"
        }
       ],
       "title": "My First Market Map",
       "title_style": {
        "fill": "Red"
       },
       "tooltip_fields": [
        "Name"
       ]
      }
     },
     "85d6219b5a81414b98800dc68d2ce36a": {
      "model_module": "bqplot",
      "model_module_version": "*",
      "model_name": "LinearScaleModel",
      "state": {
       "stabilized": false
      }
     },
     "8f6e66242cd04367803dda7aeea2b92b": {
      "model_module": "jupyter-js-widgets",
      "model_module_version": "*",
      "model_name": "LayoutModel",
      "state": {}
     },
     "9339a54f608a4ce08c3973a6cbba1fb2": {
      "model_module": "bqplot",
      "model_module_version": "*",
      "model_name": "LinearScaleModel",
      "state": {
       "allow_padding": false,
       "max": 1,
       "min": 0,
       "stabilized": false
      }
     },
     "9a5c0a635fd7439cbd451e76712ade84": {
      "model_module": "bqplot",
      "model_module_version": "*",
      "model_name": "AxisModel",
      "state": {
       "grid_lines": "dashed",
       "label": "GDP",
       "label_location": "end",
       "label_offset": "-1em",
       "orientation": "vertical",
       "scale": "IPY_MODEL_85d6219b5a81414b98800dc68d2ce36a",
       "side": "left",
       "tick_values": {
        "type": null,
        "values": null
       }
      }
     },
     "a178811afbd2448e96ce7b199e100d96": {
      "model_module": "jupyter-js-widgets",
      "model_module_version": "*",
      "model_name": "LabelModel",
      "state": {
       "layout": "IPY_MODEL_8f6e66242cd04367803dda7aeea2b92b",
       "value": "['PAN', 'FRA', 'PHL']"
      }
     },
     "ae55c3c36894429eb8abe2b02281527e": {
      "model_module": "bqplot",
      "model_module_version": "*",
      "model_name": "DateScaleModel",
      "state": {}
     },
     "ba35ddbae328493c88c4a9b66be48f8c": {
      "model_module": "bqplot",
      "model_module_version": "*",
      "model_name": "ColorScaleModel",
      "state": {
       "_model_name": "ColorScaleModel",
       "_view_name": "ColorScale",
       "colors": [],
       "mid": null,
       "scale_type": "linear",
       "scheme": "Greens"
      }
     },
     "cd2f45479c6145a2852ec9c167c7b2d7": {
      "model_module": "bqplot",
      "model_module_version": "*",
      "model_name": "ColorAxisModel",
      "state": {
       "label": "GDP per Capita",
       "scale": "IPY_MODEL_ba35ddbae328493c88c4a9b66be48f8c",
       "side": "bottom",
       "tick_values": {
        "type": null,
        "values": null
       }
      }
     },
     "cfa3e5eaf13a484e83be4ff95ac7d326": {
      "model_module": "jupyter-js-widgets",
      "model_module_version": "*",
      "model_name": "LayoutModel",
      "state": {
       "min_width": "600px"
      }
     },
     "e0e89b3dbe9742a69f97a58d5a99f1a6": {
      "model_module": "jupyter-js-widgets",
      "model_module_version": "*",
      "model_name": "LayoutModel",
      "state": {}
     },
     "f19f53d051254f1abd5841ab810a8814": {
      "model_module": "bqplot",
      "model_module_version": "*",
      "model_name": "LinesModel",
      "state": {
       "color": {
        "type": null,
        "values": null
       },
       "colors": [
        "orange"
       ],
       "display_legend": false,
       "fill_colors": [],
       "labels": [
        "C1"
       ],
       "scales": {
        "x": "IPY_MODEL_ae55c3c36894429eb8abe2b02281527e",
        "y": "IPY_MODEL_85d6219b5a81414b98800dc68d2ce36a"
       },
       "x": {
        "type": "date",
        "values": [
         "1960-01-01T00:00:00.000000",
         "1961-01-01T00:00:00.000000",
         "1962-01-01T00:00:00.000000",
         "1963-01-01T00:00:00.000000",
         "1964-01-01T00:00:00.000000",
         "1965-01-01T00:00:00.000000",
         "1966-01-01T00:00:00.000000",
         "1967-01-01T00:00:00.000000",
         "1968-01-01T00:00:00.000000",
         "1969-01-01T00:00:00.000000",
         "1970-01-01T00:00:00.000000",
         "1971-01-01T00:00:00.000000",
         "1972-01-01T00:00:00.000000",
         "1973-01-01T00:00:00.000000",
         "1974-01-01T00:00:00.000000",
         "1975-01-01T00:00:00.000000",
         "1976-01-01T00:00:00.000000",
         "1977-01-01T00:00:00.000000",
         "1978-01-01T00:00:00.000000",
         "1979-01-01T00:00:00.000000",
         "1980-01-01T00:00:00.000000",
         "1981-01-01T00:00:00.000000",
         "1982-01-01T00:00:00.000000",
         "1983-01-01T00:00:00.000000",
         "1984-01-01T00:00:00.000000",
         "1985-01-01T00:00:00.000000",
         "1986-01-01T00:00:00.000000",
         "1987-01-01T00:00:00.000000",
         "1988-01-01T00:00:00.000000",
         "1989-01-01T00:00:00.000000",
         "1990-01-01T00:00:00.000000",
         "1991-01-01T00:00:00.000000",
         "1992-01-01T00:00:00.000000",
         "1993-01-01T00:00:00.000000",
         "1994-01-01T00:00:00.000000",
         "1995-01-01T00:00:00.000000",
         "1996-01-01T00:00:00.000000",
         "1997-01-01T00:00:00.000000",
         "1998-01-01T00:00:00.000000",
         "1999-01-01T00:00:00.000000",
         "2000-01-01T00:00:00.000000",
         "2001-01-01T00:00:00.000000",
         "2002-01-01T00:00:00.000000",
         "2003-01-01T00:00:00.000000",
         "2004-01-01T00:00:00.000000",
         "2005-01-01T00:00:00.000000",
         "2006-01-01T00:00:00.000000",
         "2007-01-01T00:00:00.000000",
         "2008-01-01T00:00:00.000000",
         "2009-01-01T00:00:00.000000",
         "2010-01-01T00:00:00.000000",
         "2011-01-01T00:00:00.000000",
         "2012-01-01T00:00:00.000000",
         "2013-01-01T00:00:00.000000",
         "2014-01-01T00:00:00.000000"
        ]
       },
       "y": {
        "type": "float64",
        "values": [
         null,
         null,
         null,
         null,
         null,
         null,
         null,
         null,
         null,
         null,
         null,
         null,
         null,
         null,
         null,
         null,
         null,
         null,
         null,
         null,
         null,
         null,
         null,
         null,
         null,
         null,
         null,
         null,
         null,
         null,
         null,
         null,
         null,
         null,
         null,
         null,
         null,
         null,
         null,
         null,
         null,
         null,
         null,
         null,
         null,
         null,
         null,
         null,
         null,
         null,
         null,
         null,
         null,
         null,
         null
        ]
       }
      }
     },
     "fa6c710ef91241c3a874268da1d3d4dc": {
      "model_module": "bqplot",
      "model_module_version": "*",
      "model_name": "MarketMapModel",
      "state": {
       "_dom_classes": [],
       "axes": [
        "IPY_MODEL_cd2f45479c6145a2852ec9c167c7b2d7"
       ],
       "color": {
        "type": "float64",
        "values": [
         41000,
         42500,
         666,
         14000,
         4620,
         3650,
         5940,
         12900,
         null,
         51100,
         61900,
         25400,
         7880,
         4800,
         15200,
         1100,
         47500,
         720,
         7710,
         25200,
         295,
         825,
         85700,
         40800,
         3150,
         11600,
         22200,
         2380,
         7760,
         8040,
         4890,
         50300,
         475,
         379,
         3100,
         84700,
         1650,
         14500,
         1430,
         7590,
         7720,
         10000,
         73600,
         6850,
         3720,
         null,
         27200,
         19600,
         47600,
         1780,
         60600,
         7430,
         6080,
         5360,
         6290,
         19700,
         3440,
         590,
         30300,
         568,
         49500,
         4540,
         3050,
         52800,
         42700,
         10100,
         45600,
         8300,
         3670,
         1460,
         22500,
         423,
         550,
         18400,
         21700,
         3700,
         null,
         586,
         4020,
         40200,
         2350,
         13500,
         833,
         13900,
         3510,
         53300,
         37000,
         49700,
         1630,
         6430,
         5290,
         52100,
         35000,
         5290,
         5420,
         36200,
         1340,
         1270,
         1080,
         1600,
         861,
         15200,
         null,
         28000,
         52200,
         64100,
         12300,
         1710,
         10100,
         7440,
         150000,
         3630,
         461,
         995,
         16400,
         111000,
         16000,
         6580,
         3140,
         163000,
         2230,
         7370,
         null,
         449,
         3630,
         5370,
         766,
         1200,
         4170,
         null,
         1270,
         22800,
         10000,
         8620,
         253,
         10400,
         10800,
         619,
         5720,
         12600,
         441,
         3180,
         1910,
         51600,
         97400,
         698,
         42400,
         20800,
         11800,
         6590,
         14500,
         2110,
         2840,
         1330,
         14400,
         28700,
         22100,
         11900,
         4480,
         93400,
         10000,
         6150,
         12700,
         652,
         25400,
         2020,
         15400,
         1900,
         58900,
         56300,
         24000,
         18400,
         788,
         62200,
         1070,
         145,
         9830,
         1110,
         1690,
         3950,
         null,
         2070,
         2680,
         null,
         1050,
         646,
         5560,
         1100,
         1280,
         9030,
         4320,
         4110,
         10500,
         18200,
         3880,
         null,
         998,
         3080,
         677,
         54600,
         16800,
         2040,
         6660,
         16500,
         18700,
         2050,
         3170,
         4170,
         1470,
         6480,
         1800,
         936
        ]
       },
       "colors": [
        "#1f77b4",
        "#ff7f0e",
        "#2ca02c",
        "#d62728",
        "#9467bd",
        "#8c564b",
        "#e377c2",
        "#7f7f7f",
        "#bcbd22",
        "#17becf"
       ],
       "cols": 25,
       "display_text": {
        "type": null,
        "values": null
       },
       "groups": {
        "type": "object",
        "values": [
         "Europe",
         "Asia",
         "Asia",
         "North America",
         "Europe",
         "Asia",
         "Africa",
         "South America",
         "Australia and Oceania",
         "Europe",
         "Australia and Oceania",
         "North America",
         "Asia",
         "Europe",
         "North America",
         "Asia",
         "Europe",
         "Africa",
         "Europe",
         "Asia",
         "Africa",
         "Africa",
         "North America",
         "Asia",
         "South America",
         "South America",
         "North America",
         "Asia",
         "Africa",
         "Europe",
         "North America",
         "North America",
         "Africa",
         "Africa",
         "Africa",
         "Europe",
         "Africa",
         "South America",
         "Africa",
         "Asia",
         "South America",
         "North America",
         "Australia and Oceania",
         "North America",
         "Africa",
         "North America",
         "Asia",
         "Europe",
         "Europe",
         "Africa",
         "Europe",
         "North America",
         "North America",
         "Africa",
         "South America",
         "Europe",
         "Africa",
         "Africa",
         "Europe",
         "Africa",
         "Europe",
         "Australia and Oceania",
         "Australia and Oceania",
         "Europe",
         "Europe",
         "Africa",
         "Europe",
         "North America",
         "Asia",
         "Africa",
         "North America",
         "Africa",
         "Africa",
         "Africa",
         "Europe",
         "North America",
         "Australia and Oceania",
         "Africa",
         "South America",
         "Asia",
         "North America",
         "Europe",
         "North America",
         "Europe",
         "Asia",
         "Europe",
         "Asia",
         "Europe",
         "Asia",
         "Asia",
         "Asia",
         "Europe",
         "Europe",
         "North America",
         "Asia",
         "Asia",
         "Africa",
         "Asia",
         "Asia",
         "Australia and Oceania",
         "Africa",
         "North America",
         "Asia",
         "Asia",
         "Asia",
         "North America",
         "Asia",
         "Asia",
         "Asia",
         "North America",
         "Europe",
         "Asia",
         "Africa",
         "Africa",
         "Europe",
         "Europe",
         "Europe",
         "Africa",
         "Africa",
         "Europe",
         "Europe",
         "Europe",
         "North America",
         "Africa",
         "Australia and Oceania",
         "Europe",
         "Africa",
         "Asia",
         "Asia",
         "Australia and Oceania",
         "Africa",
         "Europe",
         "Africa",
         "Asia",
         "Africa",
         "North America",
         "Asia",
         "Africa",
         "Africa",
         "Australia and Oceania",
         "Africa",
         "Africa",
         "North America",
         "Europe",
         "Europe",
         "Asia",
         "Australia and Oceania",
         "Asia",
         "North America",
         "South America",
         "Australia and Oceania",
         "Australia and Oceania",
         "Asia",
         "Asia",
         "Europe",
         "North America",
         "Europe",
         "Australia and Oceania",
         "South America",
         "Asia",
         "Europe",
         "Europe",
         "Europe",
         "Africa",
         "Asia",
         "Australia and Oceania",
         "Africa",
         "Africa",
         "Europe",
         "Asia",
         "Europe",
         "Europe",
         "Africa",
         "Europe",
         "Africa",
         "Africa",
         "South America",
         "Africa",
         "Africa",
         "North America",
         "North America",
         "Asia",
         "Africa",
         "North America",
         "Africa",
         "Africa",
         "Asia",
         "Asia",
         "Asia",
         "Asia",
         "Africa",
         "Australia and Oceania",
         "Europe",
         "North America",
         "Australia and Oceania",
         "Asia",
         "Africa",
         "Europe",
         "Africa",
         "North America",
         "South America",
         "Asia",
         "North America",
         "South America",
         "North America",
         "Asia",
         "Australia and Oceania",
         "Australia and Oceania",
         "Asia",
         "Africa",
         "Africa",
         "Africa"
        ]
       },
       "layout": "IPY_MODEL_79d8c8e4b65644e9ac3e5060923f6736",
       "max_aspect_ratio": 1.7777777777777777,
       "min_aspect_ratio": 1.7777777777777777,
       "names": {
        "type": "object",
        "values": [
         "ADO",
         "ARE",
         "AFG",
         "ATG",
         "ALB",
         "ARM",
         "AGO",
         "ARG",
         "ASM",
         "AUT",
         "AUS",
         "ABW",
         "AZE",
         "BIH",
         "BRB",
         "BGD",
         "BEL",
         "BFA",
         "BGR",
         "BHR",
         "BDI",
         "BEN",
         "BMU",
         "BRN",
         "BOL",
         "BRA",
         "BHS",
         "BTN",
         "BWA",
         "BLR",
         "BLZ",
         "CAN",
         "ZAR",
         "CAF",
         "COG",
         "CHE",
         "CIV",
         "CHL",
         "CMR",
         "CHN",
         "COL",
         "CRI",
         "CHI",
         "CUB",
         "CPV",
         "CUW",
         "CYP",
         "CZE",
         "DEU",
         "DJI",
         "DNK",
         "DMA",
         "DOM",
         "DZA",
         "ECU",
         "EST",
         "EGY",
         "ERI",
         "ESP",
         "ETH",
         "FIN",
         "FJI",
         "FSM",
         "FRO",
         "FRA",
         "GAB",
         "GBR",
         "GRD",
         "GEO",
         "GHA",
         "GRL",
         "GMB",
         "GIN",
         "GNQ",
         "GRC",
         "GTM",
         "GUM",
         "GNB",
         "GUY",
         "HKG",
         "HND",
         "HRV",
         "HTI",
         "HUN",
         "IDN",
         "IRL",
         "ISR",
         "IMY",
         "IND",
         "IRQ",
         "IRN",
         "ISL",
         "ITA",
         "JAM",
         "JOR",
         "JPN",
         "KEN",
         "KGZ",
         "KHM",
         "KIR",
         "COM",
         "KNA",
         "PRK",
         "KOR",
         "KWT",
         "CYM",
         "KAZ",
         "LAO",
         "LBN",
         "LCA",
         "LIE",
         "LKA",
         "LBR",
         "LSO",
         "LTU",
         "LUX",
         "LVA",
         "LBY",
         "MAR",
         "MCO",
         "MDA",
         "MNE",
         "MAF",
         "MDG",
         "MHL",
         "MKD",
         "MLI",
         "MMR",
         "MNG",
         "MNP",
         "MRT",
         "MLT",
         "MUS",
         "MDV",
         "MWI",
         "MEX",
         "MYS",
         "MOZ",
         "NAM",
         "NCL",
         "NER",
         "NGA",
         "NIC",
         "NLD",
         "NOR",
         "NPL",
         "NZL",
         "OMN",
         "PAN",
         "PER",
         "PYF",
         "PNG",
         "PHL",
         "PAK",
         "POL",
         "PRI",
         "PRT",
         "PLW",
         "PRY",
         "QAT",
         "ROM",
         "SRB",
         "RUS",
         "RWA",
         "SAU",
         "SLB",
         "SYC",
         "SDN",
         "SWE",
         "SGP",
         "SVN",
         "SVK",
         "SLE",
         "SMR",
         "SEN",
         "SOM",
         "SUR",
         "SSD",
         "STP",
         "SLV",
         "SXM",
         "SYR",
         "SWZ",
         "TCA",
         "TCD",
         "TGO",
         "THA",
         "TJK",
         "TMP",
         "TKM",
         "TUN",
         "TON",
         "TUR",
         "TTO",
         "TUV",
         "TWN",
         "TZA",
         "UKR",
         "UGA",
         "USA",
         "URY",
         "UZB",
         "VCT",
         "VEN",
         "VIR",
         "VNM",
         "VUT",
         "WSM",
         "YEM",
         "ZAF",
         "ZMB",
         "ZWE"
        ]
       },
       "ref_data": [
        {
         "Continent": "Europe",
         "Country Code": "ADO",
         "GDP": 41000,
         "Name": "Andorra"
        },
        {
         "Continent": "Asia",
         "Country Code": "ARE",
         "GDP": 42500,
         "Name": "United Arab Emirates"
        },
        {
         "Continent": "Asia",
         "Country Code": "AFG",
         "GDP": 666,
         "Name": "Afghanistan"
        },
        {
         "Continent": "North America",
         "Country Code": "ATG",
         "GDP": 14000,
         "Name": "Antigua and Barbuda"
        },
        {
         "Continent": "Europe",
         "Country Code": "ALB",
         "GDP": 4620,
         "Name": "Albania"
        },
        {
         "Continent": "Asia",
         "Country Code": "ARM",
         "GDP": 3650,
         "Name": "Armenia"
        },
        {
         "Continent": "Africa",
         "Country Code": "AGO",
         "GDP": 5940,
         "Name": "Angola"
        },
        {
         "Continent": "South America",
         "Country Code": "ARG",
         "GDP": 12900,
         "Name": "Argentina"
        },
        {
         "Continent": "Australia and Oceania",
         "Country Code": "ASM",
         "GDP": "nan",
         "Name": "American Samoa"
        },
        {
         "Continent": "Europe",
         "Country Code": "AUT",
         "GDP": 51100,
         "Name": "Austria"
        },
        {
         "Continent": "Australia and Oceania",
         "Country Code": "AUS",
         "GDP": 61900,
         "Name": "Australia"
        },
        {
         "Continent": "North America",
         "Country Code": "ABW",
         "GDP": 25400,
         "Name": "Aruba"
        },
        {
         "Continent": "Asia",
         "Country Code": "AZE",
         "GDP": 7880,
         "Name": "Azerbaijan"
        },
        {
         "Continent": "Europe",
         "Country Code": "BIH",
         "GDP": 4800,
         "Name": "Bosnia and Herzegovina"
        },
        {
         "Continent": "North America",
         "Country Code": "BRB",
         "GDP": 15200,
         "Name": "Barbados"
        },
        {
         "Continent": "Asia",
         "Country Code": "BGD",
         "GDP": 1100,
         "Name": "Bangladesh"
        },
        {
         "Continent": "Europe",
         "Country Code": "BEL",
         "GDP": 47500,
         "Name": "Belgium"
        },
        {
         "Continent": "Africa",
         "Country Code": "BFA",
         "GDP": 720,
         "Name": "Burkina Faso"
        },
        {
         "Continent": "Europe",
         "Country Code": "BGR",
         "GDP": 7710,
         "Name": "Bulgaria"
        },
        {
         "Continent": "Asia",
         "Country Code": "BHR",
         "GDP": 25200,
         "Name": "Bahrain"
        },
        {
         "Continent": "Africa",
         "Country Code": "BDI",
         "GDP": 295,
         "Name": "Burundi"
        },
        {
         "Continent": "Africa",
         "Country Code": "BEN",
         "GDP": 825,
         "Name": "Benin"
        },
        {
         "Continent": "North America",
         "Country Code": "BMU",
         "GDP": 85700,
         "Name": "Bermuda"
        },
        {
         "Continent": "Asia",
         "Country Code": "BRN",
         "GDP": 40800,
         "Name": "Brunei Darussalam"
        },
        {
         "Continent": "South America",
         "Country Code": "BOL",
         "GDP": 3150,
         "Name": "Bolivia"
        },
        {
         "Continent": "South America",
         "Country Code": "BRA",
         "GDP": 11600,
         "Name": "Brazil"
        },
        {
         "Continent": "North America",
         "Country Code": "BHS",
         "GDP": 22200,
         "Name": "Bahamas, The"
        },
        {
         "Continent": "Asia",
         "Country Code": "BTN",
         "GDP": 2380,
         "Name": "Bhutan"
        },
        {
         "Continent": "Africa",
         "Country Code": "BWA",
         "GDP": 7760,
         "Name": "Botswana"
        },
        {
         "Continent": "Europe",
         "Country Code": "BLR",
         "GDP": 8040,
         "Name": "Belarus"
        },
        {
         "Continent": "North America",
         "Country Code": "BLZ",
         "GDP": 4890,
         "Name": "Belize"
        },
        {
         "Continent": "North America",
         "Country Code": "CAN",
         "GDP": 50300,
         "Name": "Canada"
        },
        {
         "Continent": "Africa",
         "Country Code": "ZAR",
         "GDP": 475,
         "Name": "Congo, Dem. Rep."
        },
        {
         "Continent": "Africa",
         "Country Code": "CAF",
         "GDP": 379,
         "Name": "Central African Republic"
        },
        {
         "Continent": "Africa",
         "Country Code": "COG",
         "GDP": 3100,
         "Name": "Congo, Rep."
        },
        {
         "Continent": "Europe",
         "Country Code": "CHE",
         "GDP": 84700,
         "Name": "Switzerland"
        },
        {
         "Continent": "Africa",
         "Country Code": "CIV",
         "GDP": 1650,
         "Name": "Cote d'Ivoire"
        },
        {
         "Continent": "South America",
         "Country Code": "CHL",
         "GDP": 14500,
         "Name": "Chile"
        },
        {
         "Continent": "Africa",
         "Country Code": "CMR",
         "GDP": 1430,
         "Name": "Cameroon"
        },
        {
         "Continent": "Asia",
         "Country Code": "CHN",
         "GDP": 7590,
         "Name": "China"
        },
        {
         "Continent": "South America",
         "Country Code": "COL",
         "GDP": 7720,
         "Name": "Colombia"
        },
        {
         "Continent": "North America",
         "Country Code": "CRI",
         "GDP": 10000,
         "Name": "Costa Rica"
        },
        {
         "Continent": "Australia and Oceania",
         "Country Code": "CHI",
         "GDP": 73600,
         "Name": "Channel Islands"
        },
        {
         "Continent": "North America",
         "Country Code": "CUB",
         "GDP": 6850,
         "Name": "Cuba"
        },
        {
         "Continent": "Africa",
         "Country Code": "CPV",
         "GDP": 3720,
         "Name": "Cabo Verde"
        },
        {
         "Continent": "North America",
         "Country Code": "CUW",
         "GDP": "nan",
         "Name": "Curacao"
        },
        {
         "Continent": "Asia",
         "Country Code": "CYP",
         "GDP": 27200,
         "Name": "Cyprus"
        },
        {
         "Continent": "Europe",
         "Country Code": "CZE",
         "GDP": 19600,
         "Name": "Czech Republic"
        },
        {
         "Continent": "Europe",
         "Country Code": "DEU",
         "GDP": 47600,
         "Name": "Germany"
        },
        {
         "Continent": "Africa",
         "Country Code": "DJI",
         "GDP": 1780,
         "Name": "Djibouti"
        },
        {
         "Continent": "Europe",
         "Country Code": "DNK",
         "GDP": 60600,
         "Name": "Denmark"
        },
        {
         "Continent": "North America",
         "Country Code": "DMA",
         "GDP": 7430,
         "Name": "Dominica"
        },
        {
         "Continent": "North America",
         "Country Code": "DOM",
         "GDP": 6080,
         "Name": "Dominican Republic"
        },
        {
         "Continent": "Africa",
         "Country Code": "DZA",
         "GDP": 5360,
         "Name": "Algeria"
        },
        {
         "Continent": "South America",
         "Country Code": "ECU",
         "GDP": 6290,
         "Name": "Ecuador"
        },
        {
         "Continent": "Europe",
         "Country Code": "EST",
         "GDP": 19700,
         "Name": "Estonia"
        },
        {
         "Continent": "Africa",
         "Country Code": "EGY",
         "GDP": 3440,
         "Name": "Egypt, Arab Rep."
        },
        {
         "Continent": "Africa",
         "Country Code": "ERI",
         "GDP": 590,
         "Name": "Eritrea"
        },
        {
         "Continent": "Europe",
         "Country Code": "ESP",
         "GDP": 30300,
         "Name": "Spain"
        },
        {
         "Continent": "Africa",
         "Country Code": "ETH",
         "GDP": 568,
         "Name": "Ethiopia"
        },
        {
         "Continent": "Europe",
         "Country Code": "FIN",
         "GDP": 49500,
         "Name": "Finland"
        },
        {
         "Continent": "Australia and Oceania",
         "Country Code": "FJI",
         "GDP": 4540,
         "Name": "Fiji"
        },
        {
         "Continent": "Australia and Oceania",
         "Country Code": "FSM",
         "GDP": 3050,
         "Name": "Micronesia, Fed. Sts."
        },
        {
         "Continent": "Europe",
         "Country Code": "FRO",
         "GDP": 52800,
         "Name": "Faeroe Islands"
        },
        {
         "Continent": "Europe",
         "Country Code": "FRA",
         "GDP": 42700,
         "Name": "France"
        },
        {
         "Continent": "Africa",
         "Country Code": "GAB",
         "GDP": 10100,
         "Name": "Gabon"
        },
        {
         "Continent": "Europe",
         "Country Code": "GBR",
         "GDP": 45600,
         "Name": "United Kingdom"
        },
        {
         "Continent": "North America",
         "Country Code": "GRD",
         "GDP": 8300,
         "Name": "Grenada"
        },
        {
         "Continent": "Asia",
         "Country Code": "GEO",
         "GDP": 3670,
         "Name": "Georgia"
        },
        {
         "Continent": "Africa",
         "Country Code": "GHA",
         "GDP": 1460,
         "Name": "Ghana"
        },
        {
         "Continent": "North America",
         "Country Code": "GRL",
         "GDP": 22500,
         "Name": "Greenland"
        },
        {
         "Continent": "Africa",
         "Country Code": "GMB",
         "GDP": 423,
         "Name": "Gambia, The"
        },
        {
         "Continent": "Africa",
         "Country Code": "GIN",
         "GDP": 550,
         "Name": "Guinea"
        },
        {
         "Continent": "Africa",
         "Country Code": "GNQ",
         "GDP": 18400,
         "Name": "Equatorial Guinea"
        },
        {
         "Continent": "Europe",
         "Country Code": "GRC",
         "GDP": 21700,
         "Name": "Greece"
        },
        {
         "Continent": "North America",
         "Country Code": "GTM",
         "GDP": 3700,
         "Name": "Guatemala"
        },
        {
         "Continent": "Australia and Oceania",
         "Country Code": "GUM",
         "GDP": "nan",
         "Name": "Guam"
        },
        {
         "Continent": "Africa",
         "Country Code": "GNB",
         "GDP": 586,
         "Name": "Guinea-Bissau"
        },
        {
         "Continent": "South America",
         "Country Code": "GUY",
         "GDP": 4020,
         "Name": "Guyana"
        },
        {
         "Continent": "Asia",
         "Country Code": "HKG",
         "GDP": 40200,
         "Name": "Hong Kong SAR, China"
        },
        {
         "Continent": "North America",
         "Country Code": "HND",
         "GDP": 2350,
         "Name": "Honduras"
        },
        {
         "Continent": "Europe",
         "Country Code": "HRV",
         "GDP": 13500,
         "Name": "Croatia"
        },
        {
         "Continent": "North America",
         "Country Code": "HTI",
         "GDP": 833,
         "Name": "Haiti"
        },
        {
         "Continent": "Europe",
         "Country Code": "HUN",
         "GDP": 13900,
         "Name": "Hungary"
        },
        {
         "Continent": "Asia",
         "Country Code": "IDN",
         "GDP": 3510,
         "Name": "Indonesia"
        },
        {
         "Continent": "Europe",
         "Country Code": "IRL",
         "GDP": 53300,
         "Name": "Ireland"
        },
        {
         "Continent": "Asia",
         "Country Code": "ISR",
         "GDP": 37000,
         "Name": "Israel"
        },
        {
         "Continent": "Europe",
         "Country Code": "IMY",
         "GDP": 49700,
         "Name": "Isle of Man"
        },
        {
         "Continent": "Asia",
         "Country Code": "IND",
         "GDP": 1630,
         "Name": "India"
        },
        {
         "Continent": "Asia",
         "Country Code": "IRQ",
         "GDP": 6430,
         "Name": "Iraq"
        },
        {
         "Continent": "Asia",
         "Country Code": "IRN",
         "GDP": 5290,
         "Name": "Iran, Islamic Rep."
        },
        {
         "Continent": "Europe",
         "Country Code": "ISL",
         "GDP": 52100,
         "Name": "Iceland"
        },
        {
         "Continent": "Europe",
         "Country Code": "ITA",
         "GDP": 35000,
         "Name": "Italy"
        },
        {
         "Continent": "North America",
         "Country Code": "JAM",
         "GDP": 5290,
         "Name": "Jamaica"
        },
        {
         "Continent": "Asia",
         "Country Code": "JOR",
         "GDP": 5420,
         "Name": "Jordan"
        },
        {
         "Continent": "Asia",
         "Country Code": "JPN",
         "GDP": 36200,
         "Name": "Japan"
        },
        {
         "Continent": "Africa",
         "Country Code": "KEN",
         "GDP": 1340,
         "Name": "Kenya"
        },
        {
         "Continent": "Asia",
         "Country Code": "KGZ",
         "GDP": 1270,
         "Name": "Kyrgyz Republic"
        },
        {
         "Continent": "Asia",
         "Country Code": "KHM",
         "GDP": 1080,
         "Name": "Cambodia"
        },
        {
         "Continent": "Australia and Oceania",
         "Country Code": "KIR",
         "GDP": 1600,
         "Name": "Kiribati"
        },
        {
         "Continent": "Africa",
         "Country Code": "COM",
         "GDP": 861,
         "Name": "Comoros"
        },
        {
         "Continent": "North America",
         "Country Code": "KNA",
         "GDP": 15200,
         "Name": "St. Kitts and Nevis"
        },
        {
         "Continent": "Asia",
         "Country Code": "PRK",
         "GDP": "nan",
         "Name": "Korea, Dem. Rep."
        },
        {
         "Continent": "Asia",
         "Country Code": "KOR",
         "GDP": 28000,
         "Name": "Korea, Rep."
        },
        {
         "Continent": "Asia",
         "Country Code": "KWT",
         "GDP": 52200,
         "Name": "Kuwait"
        },
        {
         "Continent": "North America",
         "Country Code": "CYM",
         "GDP": 64100,
         "Name": "Cayman Islands"
        },
        {
         "Continent": "Asia",
         "Country Code": "KAZ",
         "GDP": 12300,
         "Name": "Kazakhstan"
        },
        {
         "Continent": "Asia",
         "Country Code": "LAO",
         "GDP": 1710,
         "Name": "Lao PDR"
        },
        {
         "Continent": "Asia",
         "Country Code": "LBN",
         "GDP": 10100,
         "Name": "Lebanon"
        },
        {
         "Continent": "North America",
         "Country Code": "LCA",
         "GDP": 7440,
         "Name": "St. Lucia"
        },
        {
         "Continent": "Europe",
         "Country Code": "LIE",
         "GDP": 150000,
         "Name": "Liechtenstein"
        },
        {
         "Continent": "Asia",
         "Country Code": "LKA",
         "GDP": 3630,
         "Name": "Sri Lanka"
        },
        {
         "Continent": "Africa",
         "Country Code": "LBR",
         "GDP": 461,
         "Name": "Liberia"
        },
        {
         "Continent": "Africa",
         "Country Code": "LSO",
         "GDP": 995,
         "Name": "Lesotho"
        },
        {
         "Continent": "Europe",
         "Country Code": "LTU",
         "GDP": 16400,
         "Name": "Lithuania"
        },
        {
         "Continent": "Europe",
         "Country Code": "LUX",
         "GDP": 111000,
         "Name": "Luxembourg"
        },
        {
         "Continent": "Europe",
         "Country Code": "LVA",
         "GDP": 16000,
         "Name": "Latvia"
        },
        {
         "Continent": "Africa",
         "Country Code": "LBY",
         "GDP": 6580,
         "Name": "Libya"
        },
        {
         "Continent": "Africa",
         "Country Code": "MAR",
         "GDP": 3140,
         "Name": "Morocco"
        },
        {
         "Continent": "Europe",
         "Country Code": "MCO",
         "GDP": 163000,
         "Name": "Monaco"
        },
        {
         "Continent": "Europe",
         "Country Code": "MDA",
         "GDP": 2230,
         "Name": "Moldova"
        },
        {
         "Continent": "Europe",
         "Country Code": "MNE",
         "GDP": 7370,
         "Name": "Montenegro"
        },
        {
         "Continent": "North America",
         "Country Code": "MAF",
         "GDP": "nan",
         "Name": "St. Martin (French part)"
        },
        {
         "Continent": "Africa",
         "Country Code": "MDG",
         "GDP": 449,
         "Name": "Madagascar"
        },
        {
         "Continent": "Australia and Oceania",
         "Country Code": "MHL",
         "GDP": 3630,
         "Name": "Marshall Islands"
        },
        {
         "Continent": "Europe",
         "Country Code": "MKD",
         "GDP": 5370,
         "Name": "Macedonia, FYR"
        },
        {
         "Continent": "Africa",
         "Country Code": "MLI",
         "GDP": 766,
         "Name": "Mali"
        },
        {
         "Continent": "Asia",
         "Country Code": "MMR",
         "GDP": 1200,
         "Name": "Myanmar"
        },
        {
         "Continent": "Asia",
         "Country Code": "MNG",
         "GDP": 4170,
         "Name": "Mongolia"
        },
        {
         "Continent": "Australia and Oceania",
         "Country Code": "MNP",
         "GDP": "nan",
         "Name": "Northern Mariana Islands"
        },
        {
         "Continent": "Africa",
         "Country Code": "MRT",
         "GDP": 1270,
         "Name": "Mauritania"
        },
        {
         "Continent": "Europe",
         "Country Code": "MLT",
         "GDP": 22800,
         "Name": "Malta"
        },
        {
         "Continent": "Africa",
         "Country Code": "MUS",
         "GDP": 10000,
         "Name": "Mauritius"
        },
        {
         "Continent": "Asia",
         "Country Code": "MDV",
         "GDP": 8620,
         "Name": "Maldives"
        },
        {
         "Continent": "Africa",
         "Country Code": "MWI",
         "GDP": 253,
         "Name": "Malawi"
        },
        {
         "Continent": "North America",
         "Country Code": "MEX",
         "GDP": 10400,
         "Name": "Mexico"
        },
        {
         "Continent": "Asia",
         "Country Code": "MYS",
         "GDP": 10800,
         "Name": "Malaysia"
        },
        {
         "Continent": "Africa",
         "Country Code": "MOZ",
         "GDP": 619,
         "Name": "Mozambique"
        },
        {
         "Continent": "Africa",
         "Country Code": "NAM",
         "GDP": 5720,
         "Name": "Namibia"
        },
        {
         "Continent": "Australia and Oceania",
         "Country Code": "NCL",
         "GDP": 12600,
         "Name": "New Caledonia"
        },
        {
         "Continent": "Africa",
         "Country Code": "NER",
         "GDP": 441,
         "Name": "Niger"
        },
        {
         "Continent": "Africa",
         "Country Code": "NGA",
         "GDP": 3180,
         "Name": "Nigeria"
        },
        {
         "Continent": "North America",
         "Country Code": "NIC",
         "GDP": 1910,
         "Name": "Nicaragua"
        },
        {
         "Continent": "Europe",
         "Country Code": "NLD",
         "GDP": 51600,
         "Name": "Netherlands"
        },
        {
         "Continent": "Europe",
         "Country Code": "NOR",
         "GDP": 97400,
         "Name": "Norway"
        },
        {
         "Continent": "Asia",
         "Country Code": "NPL",
         "GDP": 698,
         "Name": "Nepal"
        },
        {
         "Continent": "Australia and Oceania",
         "Country Code": "NZL",
         "GDP": 42400,
         "Name": "New Zealand"
        },
        {
         "Continent": "Asia",
         "Country Code": "OMN",
         "GDP": 20800,
         "Name": "Oman"
        },
        {
         "Continent": "North America",
         "Country Code": "PAN",
         "GDP": 11800,
         "Name": "Panama"
        },
        {
         "Continent": "South America",
         "Country Code": "PER",
         "GDP": 6590,
         "Name": "Peru"
        },
        {
         "Continent": "Australia and Oceania",
         "Country Code": "PYF",
         "GDP": 14500,
         "Name": "French Polynesia"
        },
        {
         "Continent": "Australia and Oceania",
         "Country Code": "PNG",
         "GDP": 2110,
         "Name": "Papua New Guinea"
        },
        {
         "Continent": "Asia",
         "Country Code": "PHL",
         "GDP": 2840,
         "Name": "Philippines"
        },
        {
         "Continent": "Asia",
         "Country Code": "PAK",
         "GDP": 1330,
         "Name": "Pakistan"
        },
        {
         "Continent": "Europe",
         "Country Code": "POL",
         "GDP": 14400,
         "Name": "Poland"
        },
        {
         "Continent": "North America",
         "Country Code": "PRI",
         "GDP": 28700,
         "Name": "Puerto Rico"
        },
        {
         "Continent": "Europe",
         "Country Code": "PRT",
         "GDP": 22100,
         "Name": "Portugal"
        },
        {
         "Continent": "Australia and Oceania",
         "Country Code": "PLW",
         "GDP": 11900,
         "Name": "Palau"
        },
        {
         "Continent": "South America",
         "Country Code": "PRY",
         "GDP": 4480,
         "Name": "Paraguay"
        },
        {
         "Continent": "Asia",
         "Country Code": "QAT",
         "GDP": 93400,
         "Name": "Qatar"
        },
        {
         "Continent": "Europe",
         "Country Code": "ROM",
         "GDP": 10000,
         "Name": "Romania"
        },
        {
         "Continent": "Europe",
         "Country Code": "SRB",
         "GDP": 6150,
         "Name": "Serbia"
        },
        {
         "Continent": "Europe",
         "Country Code": "RUS",
         "GDP": 12700,
         "Name": "Russian Federation"
        },
        {
         "Continent": "Africa",
         "Country Code": "RWA",
         "GDP": 652,
         "Name": "Rwanda"
        },
        {
         "Continent": "Asia",
         "Country Code": "SAU",
         "GDP": 25400,
         "Name": "Saudi Arabia"
        },
        {
         "Continent": "Australia and Oceania",
         "Country Code": "SLB",
         "GDP": 2020,
         "Name": "Solomon Islands"
        },
        {
         "Continent": "Africa",
         "Country Code": "SYC",
         "GDP": 15400,
         "Name": "Seychelles"
        },
        {
         "Continent": "Africa",
         "Country Code": "SDN",
         "GDP": 1900,
         "Name": "Sudan"
        },
        {
         "Continent": "Europe",
         "Country Code": "SWE",
         "GDP": 58900,
         "Name": "Sweden"
        },
        {
         "Continent": "Asia",
         "Country Code": "SGP",
         "GDP": 56300,
         "Name": "Singapore"
        },
        {
         "Continent": "Europe",
         "Country Code": "SVN",
         "GDP": 24000,
         "Name": "Slovenia"
        },
        {
         "Continent": "Europe",
         "Country Code": "SVK",
         "GDP": 18400,
         "Name": "Slovak Republic"
        },
        {
         "Continent": "Africa",
         "Country Code": "SLE",
         "GDP": 788,
         "Name": "Sierra Leone"
        },
        {
         "Continent": "Europe",
         "Country Code": "SMR",
         "GDP": 62200,
         "Name": "San Marino"
        },
        {
         "Continent": "Africa",
         "Country Code": "SEN",
         "GDP": 1070,
         "Name": "Senegal"
        },
        {
         "Continent": "Africa",
         "Country Code": "SOM",
         "GDP": 145,
         "Name": "Somalia"
        },
        {
         "Continent": "South America",
         "Country Code": "SUR",
         "GDP": 9830,
         "Name": "Suriname"
        },
        {
         "Continent": "Africa",
         "Country Code": "SSD",
         "GDP": 1110,
         "Name": "South Sudan"
        },
        {
         "Continent": "Africa",
         "Country Code": "STP",
         "GDP": 1690,
         "Name": "Sao Tome and Principe"
        },
        {
         "Continent": "North America",
         "Country Code": "SLV",
         "GDP": 3950,
         "Name": "El Salvador"
        },
        {
         "Continent": "North America",
         "Country Code": "SXM",
         "GDP": "nan",
         "Name": "Sint Maarten (Dutch part)"
        },
        {
         "Continent": "Asia",
         "Country Code": "SYR",
         "GDP": 2070,
         "Name": "Syrian Arab Republic"
        },
        {
         "Continent": "Africa",
         "Country Code": "SWZ",
         "GDP": 2680,
         "Name": "Swaziland"
        },
        {
         "Continent": "North America",
         "Country Code": "TCA",
         "GDP": "nan",
         "Name": "Turks and Caicos Islands"
        },
        {
         "Continent": "Africa",
         "Country Code": "TCD",
         "GDP": 1050,
         "Name": "Chad"
        },
        {
         "Continent": "Africa",
         "Country Code": "TGO",
         "GDP": 646,
         "Name": "Togo"
        },
        {
         "Continent": "Asia",
         "Country Code": "THA",
         "GDP": 5560,
         "Name": "Thailand"
        },
        {
         "Continent": "Asia",
         "Country Code": "TJK",
         "GDP": 1100,
         "Name": "Tajikistan"
        },
        {
         "Continent": "Asia",
         "Country Code": "TMP",
         "GDP": 1280,
         "Name": "Timor-Leste"
        },
        {
         "Continent": "Asia",
         "Country Code": "TKM",
         "GDP": 9030,
         "Name": "Turkmenistan"
        },
        {
         "Continent": "Africa",
         "Country Code": "TUN",
         "GDP": 4320,
         "Name": "Tunisia"
        },
        {
         "Continent": "Australia and Oceania",
         "Country Code": "TON",
         "GDP": 4110,
         "Name": "Tonga"
        },
        {
         "Continent": "Europe",
         "Country Code": "TUR",
         "GDP": 10500,
         "Name": "Turkey"
        },
        {
         "Continent": "North America",
         "Country Code": "TTO",
         "GDP": 18200,
         "Name": "Trinidad and Tobago"
        },
        {
         "Continent": "Australia and Oceania",
         "Country Code": "TUV",
         "GDP": 3880,
         "Name": "Tuvalu"
        },
        {
         "Continent": "Asia",
         "Country Code": "TWN",
         "GDP": "nan",
         "Name": "Taiwan, China"
        },
        {
         "Continent": "Africa",
         "Country Code": "TZA",
         "GDP": 998,
         "Name": "Tanzania"
        },
        {
         "Continent": "Europe",
         "Country Code": "UKR",
         "GDP": 3080,
         "Name": "Ukraine"
        },
        {
         "Continent": "Africa",
         "Country Code": "UGA",
         "GDP": 677,
         "Name": "Uganda"
        },
        {
         "Continent": "North America",
         "Country Code": "USA",
         "GDP": 54600,
         "Name": "United States"
        },
        {
         "Continent": "South America",
         "Country Code": "URY",
         "GDP": 16800,
         "Name": "Uruguay"
        },
        {
         "Continent": "Asia",
         "Country Code": "UZB",
         "GDP": 2040,
         "Name": "Uzbekistan"
        },
        {
         "Continent": "North America",
         "Country Code": "VCT",
         "GDP": 6660,
         "Name": "St. Vincent and the Grenadines"
        },
        {
         "Continent": "South America",
         "Country Code": "VEN",
         "GDP": 16500,
         "Name": "Venezuela, RB"
        },
        {
         "Continent": "North America",
         "Country Code": "VIR",
         "GDP": 18700,
         "Name": "Virgin Islands (U.S.)"
        },
        {
         "Continent": "Asia",
         "Country Code": "VNM",
         "GDP": 2050,
         "Name": "Vietnam"
        },
        {
         "Continent": "Australia and Oceania",
         "Country Code": "VUT",
         "GDP": 3170,
         "Name": "Vanuatu"
        },
        {
         "Continent": "Australia and Oceania",
         "Country Code": "WSM",
         "GDP": 4170,
         "Name": "Samoa"
        },
        {
         "Continent": "Asia",
         "Country Code": "YEM",
         "GDP": 1470,
         "Name": "Yemen, Rep."
        },
        {
         "Continent": "Africa",
         "Country Code": "ZAF",
         "GDP": 6480,
         "Name": "South Africa"
        },
        {
         "Continent": "Africa",
         "Country Code": "ZMB",
         "GDP": 1800,
         "Name": "Zambia"
        },
        {
         "Continent": "Africa",
         "Country Code": "ZWE",
         "GDP": 936,
         "Name": "Zimbabwe"
        }
       ],
       "row_groups": 3,
       "scales": {
        "color": "IPY_MODEL_ba35ddbae328493c88c4a9b66be48f8c"
       },
       "tooltip_widget": "IPY_MODEL_5ef4a76abd5f4ae59b553ad45405bd76"
      }
     }
    },
    "version_major": 1,
    "version_minor": 0
   }
  }
 },
 "nbformat": 4,
 "nbformat_minor": 1
}
