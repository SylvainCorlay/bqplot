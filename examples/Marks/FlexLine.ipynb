{
 "cells": [
  {
   "cell_type": "code",
   "execution_count": 1,
   "metadata": {
    "scrolled": true
   },
   "outputs": [],
   "source": [
    "from bqplot import *"
   ]
  },
  {
   "cell_type": "markdown",
   "metadata": {},
   "source": [
    "## Get Data"
   ]
  },
  {
   "cell_type": "code",
   "execution_count": 2,
   "metadata": {
    "scrolled": true
   },
   "outputs": [],
   "source": [
    "dates = np.arange('2005-02', '2005-03', dtype='datetime64[D]')\n",
    "size = len(dates)\n",
    "spx = 100 + 5 * np.cumsum(np.random.randn(size))\n",
    "vix = 10 + np.cumsum(np.random.randn(size))"
   ]
  },
  {
   "cell_type": "markdown",
   "metadata": {},
   "source": [
    "## Displaying extra dimension with color"
   ]
  },
  {
   "cell_type": "code",
   "execution_count": 3,
   "metadata": {
    "scrolled": true
   },
   "outputs": [
    {
     "data": {
      "application/vnd.jupyter.widget-view+json": {
       "model_id": "0b91d218c2cb486b931f46349c679dd1"
      }
     },
     "metadata": {},
     "output_type": "display_data"
    }
   ],
   "source": [
    "lin_x = DateScale()\n",
    "lin_y = LinearScale()\n",
    "col_line = ColorScale(colors=['green', 'white', 'red'])\n",
    "\n",
    "ax_x = Axis(scale=lin_x, label='Date', label_location='end')\n",
    "ax_y = Axis(scale=lin_y, orientation='vertical', label='Index', label_offset='4ex')\n",
    "ax_col = ColorAxis(label='Vol', scale=col_line, tick_format='0.2f')\n",
    "\n",
    "fig_margin = dict(top=50, left=80, right=20, bottom=70)\n",
    "fl = FlexLine(x=dates, y=spx, color=vix,\n",
    "              scales={'x': lin_x, 'color': col_line, 'y': lin_y})\n",
    "\n",
    "Figure(marks=[fl], axes=[ax_x, ax_y, ax_col], fig_margin=fig_margin)"
   ]
  },
  {
   "cell_type": "markdown",
   "metadata": {},
   "source": [
    "## Displaying extra dimension with width"
   ]
  },
  {
   "cell_type": "code",
   "execution_count": 4,
   "metadata": {
    "scrolled": true
   },
   "outputs": [
    {
     "data": {
      "application/vnd.jupyter.widget-view+json": {
       "model_id": "29fbe6dfd1834810889931d9cab0b64d"
      }
     },
     "metadata": {},
     "output_type": "display_data"
    }
   ],
   "source": [
    "lin_x = DateScale()\n",
    "lin_y = LinearScale()\n",
    "width_line = LinearScale()\n",
    "\n",
    "\n",
    "ax_x = Axis(scale=lin_x, label='Date')\n",
    "ax_y = Axis(scale=lin_y, orientation='vertical', label='SPX Index')\n",
    "\n",
    "fl2 = FlexLine(x=dates, y=spx, width=vix,\n",
    "               scales={'x': lin_x, 'width': width_line, 'y': lin_y},\n",
    "               stroke_width=5)\n",
    "\n",
    "Figure(marks=[fl2], axes=[ax_x, ax_y])"
   ]
  }
 ],
 "metadata": {
  "kernelspec": {
   "display_name": "Python 3",
   "language": "python",
   "name": "python3"
  },
  "language_info": {
   "codemirror_mode": {
    "name": "ipython",
    "version": 3
   },
   "file_extension": ".py",
   "mimetype": "text/x-python",
   "name": "python",
   "nbconvert_exporter": "python",
   "pygments_lexer": "ipython3",
   "version": "3.5.2"
  },
  "widgets": {
   "application/vnd.jupyter.widget-state+json": {
    "state": {
     "0b91d218c2cb486b931f46349c679dd1": {
      "model_module": "bqplot",
      "model_module_version": "*",
      "model_name": "FigureModel",
      "state": {
       "_dom_classes": [],
       "axes": [
        "IPY_MODEL_474cb81ab6c94d15b0f7e54142df8e7c",
        "IPY_MODEL_dae9e476370b4e909d7d8ecd18e8b4d9",
        "IPY_MODEL_c4e4873eab3d49618d5d654a527dfe08"
       ],
       "fig_margin": {
        "bottom": 70,
        "left": 80,
        "right": 20,
        "top": 50
       },
       "layout": "IPY_MODEL_983a8c15fd3646edbd8a5de67c3e7733",
       "marks": [
        "IPY_MODEL_3af9f133d5384df2814d8d1bd6269e65"
       ],
       "scale_x": "IPY_MODEL_49ae7e1282f94cb48c329aa8dc6ea0fe",
       "scale_y": "IPY_MODEL_31921d7843844bfe978a9cc75649783f"
      }
     },
     "0e9f0702e5e440b6acaef5397f3dd836": {
      "model_module": "bqplot",
      "model_module_version": "*",
      "model_name": "DateScaleModel",
      "state": {}
     },
     "1e23a401a007475c832a946240b231a6": {
      "model_module": "bqplot",
      "model_module_version": "*",
      "model_name": "DateScaleModel",
      "state": {}
     },
     "2512e2e4b6ba49b296df390bc88834d9": {
      "model_module": "bqplot",
      "model_module_version": "*",
      "model_name": "LinearScaleModel",
      "state": {
       "stabilized": false
      }
     },
     "29fbe6dfd1834810889931d9cab0b64d": {
      "model_module": "bqplot",
      "model_module_version": "*",
      "model_name": "FigureModel",
      "state": {
       "_dom_classes": [],
       "axes": [
        "IPY_MODEL_a2cfe63fe0ef41c19ea5d6b107ea8083",
        "IPY_MODEL_eabccafa4ce340fc9418272bca42c4d3"
       ],
       "layout": "IPY_MODEL_780bc6ed9ee1422a9f809b0fc3256282",
       "marks": [
        "IPY_MODEL_47ff3d4c14184d2aa48f8e79d0f1a68c"
       ],
       "scale_x": "IPY_MODEL_b462ec6953a6446ab654b0a2e020e022",
       "scale_y": "IPY_MODEL_70095c53026f419cbd1928a4259f03b5"
      }
     },
     "31921d7843844bfe978a9cc75649783f": {
      "model_module": "bqplot",
      "model_module_version": "*",
      "model_name": "LinearScaleModel",
      "state": {
       "allow_padding": false,
       "max": 1,
       "min": 0,
       "stabilized": false
      }
     },
     "3af9f133d5384df2814d8d1bd6269e65": {
      "model_module": "bqplot",
      "model_module_version": "*",
      "model_name": "FlexLineModel",
      "state": {
       "color": {
        "type": "float64",
        "values": [
         10.442268636332944,
         8.235688700881258,
         8.811622219176256,
         8.93397388812587,
         8.934151259156,
         10.111548912913094,
         8.837172012835326,
         8.32525824986994,
         7.225302967015439,
         7.350917534769599,
         6.425091109731374,
         5.611105540457793,
         5.0009623010339155,
         5.360189240836162,
         4.487348478468526,
         4.951654599856492,
         6.511043765869401,
         8.751818067637181,
         9.42405557435331,
         8.089271623268527,
         8.904150587434831,
         8.34337873846905,
         8.349736300113719,
         6.627768856181852,
         6.044511793890964,
         8.185739499173987,
         9.098794305968111,
         11.431889803317363
        ]
       },
       "display_legend": false,
       "labels": [
        "C1"
       ],
       "scales": {
        "color": "IPY_MODEL_5a734f49601e40ccb6d2bfaff250855c",
        "x": "IPY_MODEL_0e9f0702e5e440b6acaef5397f3dd836",
        "y": "IPY_MODEL_62274a3c700442b99496843c170a5a10"
       },
       "stroke_width": 1.5,
       "width": {
        "type": null,
        "values": null
       },
       "x": {
        "type": "date",
        "values": [
         "2005-02-01T00:00:00.000000",
         "2005-02-02T00:00:00.000000",
         "2005-02-03T00:00:00.000000",
         "2005-02-04T00:00:00.000000",
         "2005-02-05T00:00:00.000000",
         "2005-02-06T00:00:00.000000",
         "2005-02-07T00:00:00.000000",
         "2005-02-08T00:00:00.000000",
         "2005-02-09T00:00:00.000000",
         "2005-02-10T00:00:00.000000",
         "2005-02-11T00:00:00.000000",
         "2005-02-12T00:00:00.000000",
         "2005-02-13T00:00:00.000000",
         "2005-02-14T00:00:00.000000",
         "2005-02-15T00:00:00.000000",
         "2005-02-16T00:00:00.000000",
         "2005-02-17T00:00:00.000000",
         "2005-02-18T00:00:00.000000",
         "2005-02-19T00:00:00.000000",
         "2005-02-20T00:00:00.000000",
         "2005-02-21T00:00:00.000000",
         "2005-02-22T00:00:00.000000",
         "2005-02-23T00:00:00.000000",
         "2005-02-24T00:00:00.000000",
         "2005-02-25T00:00:00.000000",
         "2005-02-26T00:00:00.000000",
         "2005-02-27T00:00:00.000000",
         "2005-02-28T00:00:00.000000"
        ]
       },
       "y": {
        "type": "float64",
        "values": [
         92.54839196426846,
         92.65325163949039,
         101.66143414716352,
         97.65539430713473,
         97.05325875046931,
         96.76977774191234,
         97.15332438119371,
         96.81054625817781,
         97.87901171408996,
         104.5409515073308,
         101.41208754485858,
         101.28927382273041,
         104.57387778380121,
         98.50858415256499,
         101.13930484175654,
         94.9009220815046,
         96.7084952537087,
         88.79616604269341,
         84.59421892371134,
         89.68712031312491,
         84.12043907242233,
         75.73883412668229,
         79.46748788467191,
         73.14594544925151,
         74.92963006515319,
         82.00892204145896,
         79.52330595284286,
         88.63699075353182
        ]
       }
      }
     },
     "474cb81ab6c94d15b0f7e54142df8e7c": {
      "model_module": "bqplot",
      "model_module_version": "*",
      "model_name": "AxisModel",
      "state": {
       "label": "Date",
       "label_location": "end",
       "scale": "IPY_MODEL_0e9f0702e5e440b6acaef5397f3dd836",
       "side": "bottom",
       "tick_values": {
        "type": null,
        "values": null
       }
      }
     },
     "47ff3d4c14184d2aa48f8e79d0f1a68c": {
      "model_module": "bqplot",
      "model_module_version": "*",
      "model_name": "FlexLineModel",
      "state": {
       "color": {
        "type": null,
        "values": null
       },
       "display_legend": false,
       "labels": [
        "C1"
       ],
       "scales": {
        "width": "IPY_MODEL_d7a8f32c3dad451a91cbb9ae8f7c0e8c",
        "x": "IPY_MODEL_1e23a401a007475c832a946240b231a6",
        "y": "IPY_MODEL_2512e2e4b6ba49b296df390bc88834d9"
       },
       "stroke_width": 5,
       "width": {
        "type": "float64",
        "values": [
         10.442268636332944,
         8.235688700881258,
         8.811622219176256,
         8.93397388812587,
         8.934151259156,
         10.111548912913094,
         8.837172012835326,
         8.32525824986994,
         7.225302967015439,
         7.350917534769599,
         6.425091109731374,
         5.611105540457793,
         5.0009623010339155,
         5.360189240836162,
         4.487348478468526,
         4.951654599856492,
         6.511043765869401,
         8.751818067637181,
         9.42405557435331,
         8.089271623268527,
         8.904150587434831,
         8.34337873846905,
         8.349736300113719,
         6.627768856181852,
         6.044511793890964,
         8.185739499173987,
         9.098794305968111,
         11.431889803317363
        ]
       },
       "x": {
        "type": "date",
        "values": [
         "2005-02-01T00:00:00.000000",
         "2005-02-02T00:00:00.000000",
         "2005-02-03T00:00:00.000000",
         "2005-02-04T00:00:00.000000",
         "2005-02-05T00:00:00.000000",
         "2005-02-06T00:00:00.000000",
         "2005-02-07T00:00:00.000000",
         "2005-02-08T00:00:00.000000",
         "2005-02-09T00:00:00.000000",
         "2005-02-10T00:00:00.000000",
         "2005-02-11T00:00:00.000000",
         "2005-02-12T00:00:00.000000",
         "2005-02-13T00:00:00.000000",
         "2005-02-14T00:00:00.000000",
         "2005-02-15T00:00:00.000000",
         "2005-02-16T00:00:00.000000",
         "2005-02-17T00:00:00.000000",
         "2005-02-18T00:00:00.000000",
         "2005-02-19T00:00:00.000000",
         "2005-02-20T00:00:00.000000",
         "2005-02-21T00:00:00.000000",
         "2005-02-22T00:00:00.000000",
         "2005-02-23T00:00:00.000000",
         "2005-02-24T00:00:00.000000",
         "2005-02-25T00:00:00.000000",
         "2005-02-26T00:00:00.000000",
         "2005-02-27T00:00:00.000000",
         "2005-02-28T00:00:00.000000"
        ]
       },
       "y": {
        "type": "float64",
        "values": [
         92.54839196426846,
         92.65325163949039,
         101.66143414716352,
         97.65539430713473,
         97.05325875046931,
         96.76977774191234,
         97.15332438119371,
         96.81054625817781,
         97.87901171408996,
         104.5409515073308,
         101.41208754485858,
         101.28927382273041,
         104.57387778380121,
         98.50858415256499,
         101.13930484175654,
         94.9009220815046,
         96.7084952537087,
         88.79616604269341,
         84.59421892371134,
         89.68712031312491,
         84.12043907242233,
         75.73883412668229,
         79.46748788467191,
         73.14594544925151,
         74.92963006515319,
         82.00892204145896,
         79.52330595284286,
         88.63699075353182
        ]
       }
      }
     },
     "49ae7e1282f94cb48c329aa8dc6ea0fe": {
      "model_module": "bqplot",
      "model_module_version": "*",
      "model_name": "LinearScaleModel",
      "state": {
       "allow_padding": false,
       "max": 1,
       "min": 0,
       "stabilized": false
      }
     },
     "5a734f49601e40ccb6d2bfaff250855c": {
      "model_module": "bqplot",
      "model_module_version": "*",
      "model_name": "ColorScaleModel",
      "state": {
       "_model_name": "ColorScaleModel",
       "_view_name": "ColorScale",
       "colors": [
        "green",
        "white",
        "red"
       ],
       "mid": null,
       "scale_type": "linear",
       "scheme": "RdYlGn"
      }
     },
     "62274a3c700442b99496843c170a5a10": {
      "model_module": "bqplot",
      "model_module_version": "*",
      "model_name": "LinearScaleModel",
      "state": {
       "stabilized": false
      }
     },
     "70095c53026f419cbd1928a4259f03b5": {
      "model_module": "bqplot",
      "model_module_version": "*",
      "model_name": "LinearScaleModel",
      "state": {
       "allow_padding": false,
       "max": 1,
       "min": 0,
       "stabilized": false
      }
     },
     "780bc6ed9ee1422a9f809b0fc3256282": {
      "model_module": "jupyter-js-widgets",
      "model_module_version": "*",
      "model_name": "LayoutModel",
      "state": {
       "align_self": "stretch",
       "flex": "1",
       "min_width": "400px"
      }
     },
     "983a8c15fd3646edbd8a5de67c3e7733": {
      "model_module": "jupyter-js-widgets",
      "model_module_version": "*",
      "model_name": "LayoutModel",
      "state": {
       "align_self": "stretch",
       "flex": "1",
       "min_width": "400px"
      }
     },
     "a2cfe63fe0ef41c19ea5d6b107ea8083": {
      "model_module": "bqplot",
      "model_module_version": "*",
      "model_name": "AxisModel",
      "state": {
       "label": "Date",
       "scale": "IPY_MODEL_1e23a401a007475c832a946240b231a6",
       "side": "bottom",
       "tick_values": {
        "type": null,
        "values": null
       }
      }
     },
     "b462ec6953a6446ab654b0a2e020e022": {
      "model_module": "bqplot",
      "model_module_version": "*",
      "model_name": "LinearScaleModel",
      "state": {
       "allow_padding": false,
       "max": 1,
       "min": 0,
       "stabilized": false
      }
     },
     "c4e4873eab3d49618d5d654a527dfe08": {
      "model_module": "bqplot",
      "model_module_version": "*",
      "model_name": "ColorAxisModel",
      "state": {
       "label": "Vol",
       "scale": "IPY_MODEL_5a734f49601e40ccb6d2bfaff250855c",
       "side": "bottom",
       "tick_format": "0.2f",
       "tick_values": {
        "type": null,
        "values": null
       }
      }
     },
     "d7a8f32c3dad451a91cbb9ae8f7c0e8c": {
      "model_module": "bqplot",
      "model_module_version": "*",
      "model_name": "LinearScaleModel",
      "state": {
       "stabilized": false
      }
     },
     "dae9e476370b4e909d7d8ecd18e8b4d9": {
      "model_module": "bqplot",
      "model_module_version": "*",
      "model_name": "AxisModel",
      "state": {
       "label": "Index",
       "label_offset": "4ex",
       "orientation": "vertical",
       "scale": "IPY_MODEL_62274a3c700442b99496843c170a5a10",
       "side": "left",
       "tick_values": {
        "type": null,
        "values": null
       }
      }
     },
     "eabccafa4ce340fc9418272bca42c4d3": {
      "model_module": "bqplot",
      "model_module_version": "*",
      "model_name": "AxisModel",
      "state": {
       "label": "SPX Index",
       "orientation": "vertical",
       "scale": "IPY_MODEL_2512e2e4b6ba49b296df390bc88834d9",
       "side": "left",
       "tick_values": {
        "type": null,
        "values": null
       }
      }
     }
    },
    "version_major": 1,
    "version_minor": 0
   }
  }
 },
 "nbformat": 4,
 "nbformat_minor": 1
}
