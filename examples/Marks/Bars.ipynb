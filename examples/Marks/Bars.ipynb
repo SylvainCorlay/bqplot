{
 "cells": [
  {
   "cell_type": "code",
   "execution_count": 1,
   "metadata": {},
   "outputs": [],
   "source": [
    "import numpy as np\n",
    "from bqplot import *"
   ]
  },
  {
   "cell_type": "code",
   "execution_count": 2,
   "metadata": {},
   "outputs": [],
   "source": [
    "size = 100\n",
    "np.random.seed(0)\n",
    "\n",
    "x_data = range(size)\n",
    "y_data = np.random.randn(size)\n",
    "y_data_2 = np.random.randn(size)\n",
    "y_data_3 = np.cumsum(np.random.randn(size) * 100.)"
   ]
  },
  {
   "cell_type": "markdown",
   "metadata": {},
   "source": [
    "## Basic Bar Chart"
   ]
  },
  {
   "cell_type": "code",
   "execution_count": 3,
   "metadata": {},
   "outputs": [
    {
     "data": {
      "application/vnd.jupyter.widget-view+json": {
       "model_id": "62fb9e4baab24c43a27aed32b18b22ac"
      }
     },
     "metadata": {},
     "output_type": "display_data"
    }
   ],
   "source": [
    "x_ord = OrdinalScale()\n",
    "y_sc = LinearScale()\n",
    "\n",
    "bar = Bars(x=x_data[:20], y=y_data[:20], scales={'x': x_ord, 'y': y_sc})\n",
    "ax_x = Axis(scale=x_ord)\n",
    "ax_y = Axis(scale=y_sc, orientation='vertical', tick_format='0.2f')\n",
    "\n",
    "Figure(marks=[bar], axes=[ax_x, ax_y])"
   ]
  },
  {
   "cell_type": "markdown",
   "metadata": {},
   "source": [
    "## Changing the reference value from which the Bars are drawn"
   ]
  },
  {
   "cell_type": "code",
   "execution_count": 4,
   "metadata": {},
   "outputs": [
    {
     "data": {
      "application/vnd.jupyter.widget-view+json": {
       "model_id": "5e465d8958a44551af8abd1e64a1588a"
      }
     },
     "metadata": {},
     "output_type": "display_data"
    }
   ],
   "source": [
    "x_ord = LinearScale()\n",
    "y_sc = LinearScale()\n",
    "\n",
    "bar = Bars(x=x_data[:20], y=np.abs(y_data_2[:20]), scales={'x': x_ord, 'y': y_sc}, base=1.0)\n",
    "ax_x = Axis(scale=x_ord)\n",
    "ax_y = Axis(scale=y_sc, orientation='vertical', tick_format='0.2f')\n",
    "\n",
    "Figure(marks=[bar], axes=[ax_x, ax_y])"
   ]
  },
  {
   "cell_type": "code",
   "execution_count": 5,
   "metadata": {
    "collapsed": true
   },
   "outputs": [],
   "source": [
    "# changing the base\n",
    "bar.base = 2.0"
   ]
  },
  {
   "cell_type": "code",
   "execution_count": 6,
   "metadata": {},
   "outputs": [],
   "source": [
    "bar.align = 'right'"
   ]
  },
  {
   "cell_type": "markdown",
   "metadata": {},
   "source": [
    "## Bar Chart Properties"
   ]
  },
  {
   "cell_type": "code",
   "execution_count": 7,
   "metadata": {},
   "outputs": [
    {
     "data": {
      "application/vnd.jupyter.widget-view+json": {
       "model_id": "ff99e78e2cee4c31ad5900a58bec9f4b"
      }
     },
     "metadata": {},
     "output_type": "display_data"
    }
   ],
   "source": [
    "# Increasing the spacing between the bars\n",
    "x_ord = OrdinalScale()\n",
    "y_sc = LinearScale()\n",
    "\n",
    "bar = Bars(x=x_data[:20], y=y_data[:20], scales={'x': x_ord, 'y': y_sc}, padding=0.2)\n",
    "ax_x = Axis(scale=x_ord)\n",
    "ax_y = Axis(scale=y_sc, orientation='vertical', tick_format='0.2f')\n",
    "\n",
    "Figure(marks=[bar], axes=[ax_x, ax_y])"
   ]
  },
  {
   "cell_type": "code",
   "execution_count": 8,
   "metadata": {
    "collapsed": true
   },
   "outputs": [],
   "source": [
    "# changing basic properties like stroke and opacity\n",
    "bar.stroke = 'orange'\n",
    "bar.opacities = [0.5, 0.2]"
   ]
  },
  {
   "cell_type": "markdown",
   "metadata": {},
   "source": [
    "## Stacked Bar Chart for 2-d data"
   ]
  },
  {
   "cell_type": "code",
   "execution_count": 9,
   "metadata": {},
   "outputs": [
    {
     "data": {
      "application/vnd.jupyter.widget-view+json": {
       "model_id": "ba79767e049b4c8daa03634e94a740a6"
      }
     },
     "metadata": {},
     "output_type": "display_data"
    }
   ],
   "source": [
    "x_ord = OrdinalScale()\n",
    "y_sc = LinearScale()\n",
    "\n",
    "bar = Bars(x=x_data, y=[y_data[:20], y_data_2[:20]], \n",
    "           scales={'x': x_ord, 'y': y_sc}, padding=0.2)\n",
    "ax_x = Axis(scale=x_ord)\n",
    "ax_y = Axis(scale=y_sc, orientation='vertical', tick_format='0.2f')\n",
    "\n",
    "Figure(marks=[bar], axes=[ax_x, ax_y])"
   ]
  },
  {
   "cell_type": "markdown",
   "metadata": {},
   "source": [
    "## Grouped Bar Chart"
   ]
  },
  {
   "cell_type": "code",
   "execution_count": 10,
   "metadata": {
    "collapsed": true
   },
   "outputs": [],
   "source": [
    "bar.type = 'grouped' # equivalent to saying \n",
    "# bar = Bars(x=x_data, y=y_data, scales={'x': x_ord, 'y': y_sc}, padding=0.2, type='grouped')"
   ]
  },
  {
   "cell_type": "markdown",
   "metadata": {},
   "source": [
    "## Modifying color mode"
   ]
  },
  {
   "cell_type": "code",
   "execution_count": 11,
   "metadata": {},
   "outputs": [
    {
     "data": {
      "application/vnd.jupyter.widget-view+json": {
       "model_id": "9d84d24926d044cd9b72dc682ec85d1a"
      }
     },
     "metadata": {},
     "output_type": "display_data"
    }
   ],
   "source": [
    "## Color mode has 2 values. 'group' and 'element'. \n",
    "## 'group' means for every x all bars have same color.\n",
    "## 'element' means for every dimension of y, all bars have same color.\n",
    "x_ord = OrdinalScale()\n",
    "y_sc = LinearScale()\n",
    "\n",
    "bar = Bars(x=x_data, y=[y_data[:20], y_data_2[:20]],\n",
    "           scales={'x': x_ord, 'y': y_sc}, padding=0.2, color_mode='group')\n",
    "ax_x = Axis(scale=x_ord)\n",
    "ax_y = Axis(scale=y_sc, orientation='vertical', tick_format='0.2f')\n",
    "\n",
    "Figure(marks=[bar], axes=[ax_x, ax_y])"
   ]
  },
  {
   "cell_type": "code",
   "execution_count": 12,
   "metadata": {},
   "outputs": [
    {
     "data": {
      "application/vnd.jupyter.widget-view+json": {
       "model_id": "de0a3dc3ef0a463d9e4d5954335b7167"
      }
     },
     "metadata": {},
     "output_type": "display_data"
    }
   ],
   "source": [
    "## for 1-d array for Y.\n",
    "x_ord = OrdinalScale()\n",
    "y_sc = LinearScale()\n",
    "\n",
    "bar = Bars(x=x_data, y=y_data[:20], scales={'x': x_ord, 'y': y_sc}, padding=0.2, \n",
    "           color_mode='element', labels=['Bar Chart'], \n",
    "           display_legend=True)\n",
    "ax_x = Axis(scale=x_ord)\n",
    "ax_y = Axis(scale=y_sc, orientation='vertical', tick_format='0.2f')\n",
    "\n",
    "Figure(marks=[bar], axes=[ax_x, ax_y])"
   ]
  },
  {
   "cell_type": "markdown",
   "metadata": {
    "collapsed": true
   },
   "source": [
    "## Representing additional dimension using Color"
   ]
  },
  {
   "cell_type": "code",
   "execution_count": 13,
   "metadata": {},
   "outputs": [
    {
     "data": {
      "application/vnd.jupyter.widget-view+json": {
       "model_id": "6c4cce39b8c54415b8c9a4b602b8eda1"
      }
     },
     "metadata": {},
     "output_type": "display_data"
    }
   ],
   "source": [
    "# In this example, the color is just the magnitude of the y data\n",
    "x_ord = OrdinalScale()\n",
    "y_sc = LinearScale()\n",
    "col_sc = ColorScale(scheme='Reds')\n",
    "\n",
    "bar = Bars(x=x_data[:20], y=y_data[:20], color=np.abs(y_data[:20]),\n",
    "           scales={'x': x_ord, 'y': y_sc, 'color': col_sc}, padding=0.2)\n",
    "ax_x = Axis(scale=x_ord)\n",
    "ax_y = Axis(scale=y_sc, orientation='vertical', tick_format='0.2f')\n",
    "ax_c = ColorAxis(scale=col_sc, tick_format='0.2f')\n",
    "\n",
    "margin = dict(top=50, bottom=80, left=50, right=50)\n",
    "\n",
    "Figure(marks=[bar], axes=[ax_x, ax_y, ax_c], fig_margin=margin)"
   ]
  },
  {
   "cell_type": "markdown",
   "metadata": {},
   "source": [
    "## Adding color for 2-d data"
   ]
  },
  {
   "cell_type": "code",
   "execution_count": 14,
   "metadata": {},
   "outputs": [
    {
     "data": {
      "application/vnd.jupyter.widget-view+json": {
       "model_id": "9e4d37e17efa4aa09008069017a6b48d"
      }
     },
     "metadata": {},
     "output_type": "display_data"
    }
   ],
   "source": [
    "# By default color is applied along the axis=1\n",
    "x_ord = OrdinalScale()\n",
    "y_sc = LinearScale()\n",
    "col_sc = ColorScale(scheme='Reds')\n",
    "\n",
    "y_vals = [y_data[:20], y_data_2[:20], y_data_3[:20] / 100.0]\n",
    "color_data = np.mean(y_vals, axis=1)\n",
    "\n",
    "bar = Bars(x=x_data, y=y_vals, color=color_data, \n",
    "           scales={'x': x_ord, 'y': y_sc, 'color': col_sc}, padding=0.2,\n",
    "           labels=['Dim 1', 'Dim 2', 'Dim 3'], display_legend=True)\n",
    "ax_x = Axis(scale=x_ord)\n",
    "ax_y = Axis(scale=y_sc, orientation='vertical', tick_format='0.2f')\n",
    "ax_c = ColorAxis(scale=col_sc, tick_format='0.2f')\n",
    "\n",
    "margin = dict(top=50, bottom=80, left=50, right=50)\n",
    "Figure(marks=[bar], axes=[ax_x, ax_y, ax_c], fig_margin=margin)"
   ]
  },
  {
   "cell_type": "code",
   "execution_count": 15,
   "metadata": {},
   "outputs": [
    {
     "data": {
      "application/vnd.jupyter.widget-view+json": {
       "model_id": "bbff87b3cf22467d9b3d2709e33cabf6"
      }
     },
     "metadata": {},
     "output_type": "display_data"
    }
   ],
   "source": [
    "# Applying color along the axis=0\n",
    "x_ord = OrdinalScale()\n",
    "y_sc = LinearScale()\n",
    "col_sc = ColorScale(mid=0.0)\n",
    "\n",
    "y_vals = [y_data[:20], y_data_2[:20], y_data_3[:20] / 100.0]\n",
    "color_data = np.mean(y_vals, axis=0)\n",
    "\n",
    "bar = Bars(x=x_data, y=y_vals, color=color_data, \n",
    "           scales={'x': x_ord, 'y': y_sc, 'color': col_sc},\n",
    "           padding=0.2, color_mode='group', stroke='orange')\n",
    "ax_x = Axis(scale=x_ord)\n",
    "ax_y = Axis(scale=y_sc, orientation='vertical', tick_format='0.2f')\n",
    "ax_c = ColorAxis(scale=col_sc, tick_format='0.2f')\n",
    "\n",
    "margin = dict(top=50, bottom=80, left=50, right=50)\n",
    "Figure(marks=[bar], axes=[ax_x, ax_y, ax_c], fig_margin=margin)"
   ]
  }
 ],
 "metadata": {
  "kernelspec": {
   "display_name": "Python 3",
   "language": "python",
   "name": "python3"
  },
  "language_info": {
   "codemirror_mode": {
    "name": "ipython",
    "version": 3
   },
   "file_extension": ".py",
   "mimetype": "text/x-python",
   "name": "python",
   "nbconvert_exporter": "python",
   "pygments_lexer": "ipython3",
   "version": "3.5.2"
  },
  "widgets": {
   "application/vnd.jupyter.widget-state+json": {
    "state": {
     "004a0383e30d4ee1bc2baed868f62d9d": {
      "model_module": "bqplot",
      "model_module_version": "*",
      "model_name": "BarsModel",
      "state": {
       "color": {
        "type": null,
        "values": null
       },
       "color_mode": "element",
       "labels": [
        "Bar Chart"
       ],
       "padding": 0.2,
       "scales": {
        "x": "IPY_MODEL_c860895e5443403eba602cf0c0a67c17",
        "y": "IPY_MODEL_766089b7bff9484ea0ec44a14839f47d"
       },
       "x": {
        "type": "float",
        "values": [
         0,
         1,
         2,
         3,
         4,
         5,
         6,
         7,
         8,
         9,
         10,
         11,
         12,
         13,
         14,
         15,
         16,
         17,
         18,
         19,
         20,
         21,
         22,
         23,
         24,
         25,
         26,
         27,
         28,
         29,
         30,
         31,
         32,
         33,
         34,
         35,
         36,
         37,
         38,
         39,
         40,
         41,
         42,
         43,
         44,
         45,
         46,
         47,
         48,
         49,
         50,
         51,
         52,
         53,
         54,
         55,
         56,
         57,
         58,
         59,
         60,
         61,
         62,
         63,
         64,
         65,
         66,
         67,
         68,
         69,
         70,
         71,
         72,
         73,
         74,
         75,
         76,
         77,
         78,
         79,
         80,
         81,
         82,
         83,
         84,
         85,
         86,
         87,
         88,
         89,
         90,
         91,
         92,
         93,
         94,
         95,
         96,
         97,
         98,
         99
        ]
       },
       "y": {
        "type": "float64",
        "values": [
         1.764052345967664,
         0.4001572083672233,
         0.9787379841057392,
         2.240893199201458,
         1.8675579901499675,
         -0.977277879876411,
         0.9500884175255894,
         -0.1513572082976979,
         -0.10321885179355784,
         0.41059850193837233,
         0.144043571160878,
         1.454273506962975,
         0.7610377251469934,
         0.12167501649282841,
         0.44386323274542566,
         0.33367432737426683,
         1.4940790731576061,
         -0.20515826376580087,
         0.31306770165090136,
         -0.8540957393017248
        ]
       }
      }
     },
     "038bef67c7aa4edbb091285a5a8ae375": {
      "model_module": "bqplot",
      "model_module_version": "*",
      "model_name": "LinearScaleModel",
      "state": {
       "stabilized": false
      }
     },
     "047f54a4d47944799b74d73eb71d05bb": {
      "model_module": "jupyter-js-widgets",
      "model_module_version": "*",
      "model_name": "LayoutModel",
      "state": {
       "align_self": "stretch",
       "flex": "1",
       "min_width": "400px"
      }
     },
     "05cd5ba14ae646ca99d57990009bad10": {
      "model_module": "bqplot",
      "model_module_version": "*",
      "model_name": "BarsModel",
      "state": {
       "color": {
        "type": null,
        "values": null
       },
       "display_legend": false,
       "opacities": [
        0.5,
        0.2
       ],
       "padding": 0.2,
       "scales": {
        "x": "IPY_MODEL_14737d63e0e94124a042ec656518dee8",
        "y": "IPY_MODEL_f6c1e16e9e1448829215f852120399ad"
       },
       "stroke": "orange",
       "x": {
        "type": "float",
        "values": [
         0,
         1,
         2,
         3,
         4,
         5,
         6,
         7,
         8,
         9,
         10,
         11,
         12,
         13,
         14,
         15,
         16,
         17,
         18,
         19
        ]
       },
       "y": {
        "type": "float64",
        "values": [
         1.764052345967664,
         0.4001572083672233,
         0.9787379841057392,
         2.240893199201458,
         1.8675579901499675,
         -0.977277879876411,
         0.9500884175255894,
         -0.1513572082976979,
         -0.10321885179355784,
         0.41059850193837233,
         0.144043571160878,
         1.454273506962975,
         0.7610377251469934,
         0.12167501649282841,
         0.44386323274542566,
         0.33367432737426683,
         1.4940790731576061,
         -0.20515826376580087,
         0.31306770165090136,
         -0.8540957393017248
        ]
       }
      }
     },
     "0d047f6c5e514eb590ea1b0e2b730ab9": {
      "model_module": "bqplot",
      "model_module_version": "*",
      "model_name": "AxisModel",
      "state": {
       "scale": "IPY_MODEL_f4484a117e734685b4ce5bfb25115b72",
       "side": "bottom",
       "tick_values": {
        "type": null,
        "values": null
       }
      }
     },
     "0e90770ffc8444d5835edb3b4ffbddbd": {
      "model_module": "bqplot",
      "model_module_version": "*",
      "model_name": "LinearScaleModel",
      "state": {
       "stabilized": false
      }
     },
     "0ef8fff1d5f9427c94b75265007e19e3": {
      "model_module": "bqplot",
      "model_module_version": "*",
      "model_name": "LinearScaleModel",
      "state": {
       "allow_padding": false,
       "max": 1,
       "min": 0,
       "stabilized": false
      }
     },
     "0fc4dd3106224e6b94bf0160f54afa9f": {
      "model_module": "bqplot",
      "model_module_version": "*",
      "model_name": "BarsModel",
      "state": {
       "color": {
        "type": "float64",
        "values": [
         1.764052345967664,
         0.4001572083672233,
         0.9787379841057392,
         2.240893199201458,
         1.8675579901499675,
         0.977277879876411,
         0.9500884175255894,
         0.1513572082976979,
         0.10321885179355784,
         0.41059850193837233,
         0.144043571160878,
         1.454273506962975,
         0.7610377251469934,
         0.12167501649282841,
         0.44386323274542566,
         0.33367432737426683,
         1.4940790731576061,
         0.20515826376580087,
         0.31306770165090136,
         0.8540957393017248
        ]
       },
       "display_legend": false,
       "padding": 0.2,
       "scales": {
        "color": "IPY_MODEL_239fecc805534c6c97bb946b80e06bff",
        "x": "IPY_MODEL_17b3719565f5403e9087462968312f7c",
        "y": "IPY_MODEL_038bef67c7aa4edbb091285a5a8ae375"
       },
       "x": {
        "type": "float",
        "values": [
         0,
         1,
         2,
         3,
         4,
         5,
         6,
         7,
         8,
         9,
         10,
         11,
         12,
         13,
         14,
         15,
         16,
         17,
         18,
         19
        ]
       },
       "y": {
        "type": "float64",
        "values": [
         1.764052345967664,
         0.4001572083672233,
         0.9787379841057392,
         2.240893199201458,
         1.8675579901499675,
         -0.977277879876411,
         0.9500884175255894,
         -0.1513572082976979,
         -0.10321885179355784,
         0.41059850193837233,
         0.144043571160878,
         1.454273506962975,
         0.7610377251469934,
         0.12167501649282841,
         0.44386323274542566,
         0.33367432737426683,
         1.4940790731576061,
         -0.20515826376580087,
         0.31306770165090136,
         -0.8540957393017248
        ]
       }
      }
     },
     "10f149a72c9f4bdb8decc6a72a4aa828": {
      "model_module": "bqplot",
      "model_module_version": "*",
      "model_name": "LinearScaleModel",
      "state": {
       "allow_padding": false,
       "max": 1,
       "min": 0,
       "stabilized": false
      }
     },
     "12e7761349294614be4cdb7e14bc2ff4": {
      "model_module": "jupyter-js-widgets",
      "model_module_version": "*",
      "model_name": "LayoutModel",
      "state": {
       "align_self": "stretch",
       "flex": "1",
       "min_width": "400px"
      }
     },
     "14737d63e0e94124a042ec656518dee8": {
      "model_module": "bqplot",
      "model_module_version": "*",
      "model_name": "OrdinalScaleModel",
      "state": {
       "domain": []
      }
     },
     "17b3719565f5403e9087462968312f7c": {
      "model_module": "bqplot",
      "model_module_version": "*",
      "model_name": "OrdinalScaleModel",
      "state": {
       "domain": []
      }
     },
     "1afd26427cca40d5976643c0976641ae": {
      "model_module": "jupyter-js-widgets",
      "model_module_version": "*",
      "model_name": "LayoutModel",
      "state": {
       "align_self": "stretch",
       "flex": "1",
       "min_width": "400px"
      }
     },
     "20cf7b2de78749fd9b315a0d9930021a": {
      "model_module": "bqplot",
      "model_module_version": "*",
      "model_name": "AxisModel",
      "state": {
       "orientation": "vertical",
       "scale": "IPY_MODEL_6365de0d69bd49959e61c848e9d95fae",
       "side": "left",
       "tick_format": "0.2f",
       "tick_values": {
        "type": null,
        "values": null
       }
      }
     },
     "21a980a0cd9b432681556104439f96ac": {
      "model_module": "jupyter-js-widgets",
      "model_module_version": "*",
      "model_name": "LayoutModel",
      "state": {
       "align_self": "stretch",
       "flex": "1",
       "min_width": "400px"
      }
     },
     "21cf735296e849ffb17f710929916b08": {
      "model_module": "bqplot",
      "model_module_version": "*",
      "model_name": "LinearScaleModel",
      "state": {
       "allow_padding": false,
       "max": 1,
       "min": 0,
       "stabilized": false
      }
     },
     "234b7616096d4e9baa4e11a683d88a94": {
      "model_module": "bqplot",
      "model_module_version": "*",
      "model_name": "OrdinalScaleModel",
      "state": {
       "domain": []
      }
     },
     "239fecc805534c6c97bb946b80e06bff": {
      "model_module": "bqplot",
      "model_module_version": "*",
      "model_name": "ColorScaleModel",
      "state": {
       "_model_name": "ColorScaleModel",
       "_view_name": "ColorScale",
       "colors": [],
       "mid": null,
       "scale_type": "linear",
       "scheme": "Reds"
      }
     },
     "35fc4169dd9e4e4fbe9d89c5c26971a1": {
      "model_module": "bqplot",
      "model_module_version": "*",
      "model_name": "LinearScaleModel",
      "state": {
       "allow_padding": false,
       "max": 1,
       "min": 0,
       "stabilized": false
      }
     },
     "3715da0b43a244a9bb119110fb392eca": {
      "model_module": "bqplot",
      "model_module_version": "*",
      "model_name": "LinearScaleModel",
      "state": {
       "allow_padding": false,
       "max": 1,
       "min": 0,
       "stabilized": false
      }
     },
     "5174db30f73a4792a79f8d41ee726c33": {
      "model_module": "bqplot",
      "model_module_version": "*",
      "model_name": "LinearScaleModel",
      "state": {
       "stabilized": false
      }
     },
     "57df66cfd3914149809aa363e5a200a8": {
      "model_module": "jupyter-js-widgets",
      "model_module_version": "*",
      "model_name": "LayoutModel",
      "state": {
       "align_self": "stretch",
       "flex": "1",
       "min_width": "400px"
      }
     },
     "58de40b1201443ada4c73ffa24fd81f3": {
      "model_module": "bqplot",
      "model_module_version": "*",
      "model_name": "LinearScaleModel",
      "state": {
       "allow_padding": false,
       "max": 1,
       "min": 0,
       "stabilized": false
      }
     },
     "5a5214411c3a4d918454a0b28a636b80": {
      "model_module": "bqplot",
      "model_module_version": "*",
      "model_name": "OrdinalScaleModel",
      "state": {
       "domain": []
      }
     },
     "5e465d8958a44551af8abd1e64a1588a": {
      "model_module": "bqplot",
      "model_module_version": "*",
      "model_name": "FigureModel",
      "state": {
       "_dom_classes": [],
       "axes": [
        "IPY_MODEL_e91fff544ffd4957868ac0705e0d895c",
        "IPY_MODEL_a4a6f0f80c6246cbaf14ccd6d045a2b4"
       ],
       "layout": "IPY_MODEL_21a980a0cd9b432681556104439f96ac",
       "marks": [
        "IPY_MODEL_7d9ca8967d3246b3a477d29eb086ef86"
       ],
       "scale_x": "IPY_MODEL_35fc4169dd9e4e4fbe9d89c5c26971a1",
       "scale_y": "IPY_MODEL_0ef8fff1d5f9427c94b75265007e19e3"
      }
     },
     "609147c4b3a842afbe176da5b84f3382": {
      "model_module": "bqplot",
      "model_module_version": "*",
      "model_name": "AxisModel",
      "state": {
       "scale": "IPY_MODEL_234b7616096d4e9baa4e11a683d88a94",
       "side": "bottom",
       "tick_values": {
        "type": null,
        "values": null
       }
      }
     },
     "62fb9e4baab24c43a27aed32b18b22ac": {
      "model_module": "bqplot",
      "model_module_version": "*",
      "model_name": "FigureModel",
      "state": {
       "_dom_classes": [],
       "axes": [
        "IPY_MODEL_eb27f3a124754ef09b3747a439927796",
        "IPY_MODEL_a005a22ed2fb436ea789d53411999038"
       ],
       "layout": "IPY_MODEL_86b9695c49084494802054b3ef7d5337",
       "marks": [
        "IPY_MODEL_fda3d03ad47c494dbdb22d98edecee0c"
       ],
       "scale_x": "IPY_MODEL_6ac75817b22e445191553dc5af764b6d",
       "scale_y": "IPY_MODEL_58de40b1201443ada4c73ffa24fd81f3"
      }
     },
     "6365de0d69bd49959e61c848e9d95fae": {
      "model_module": "bqplot",
      "model_module_version": "*",
      "model_name": "LinearScaleModel",
      "state": {
       "stabilized": false
      }
     },
     "6575a6f12af146158e4bf9d344ecb74b": {
      "model_module": "bqplot",
      "model_module_version": "*",
      "model_name": "AxisModel",
      "state": {
       "scale": "IPY_MODEL_17b3719565f5403e9087462968312f7c",
       "side": "bottom",
       "tick_values": {
        "type": null,
        "values": null
       }
      }
     },
     "6a2c972b8e33493f913f890ee3fc84a7": {
      "model_module": "bqplot",
      "model_module_version": "*",
      "model_name": "OrdinalScaleModel",
      "state": {
       "domain": []
      }
     },
     "6ac75817b22e445191553dc5af764b6d": {
      "model_module": "bqplot",
      "model_module_version": "*",
      "model_name": "LinearScaleModel",
      "state": {
       "allow_padding": false,
       "max": 1,
       "min": 0,
       "stabilized": false
      }
     },
     "6bc639cfd9e74f21a44e71475d728487": {
      "model_module": "bqplot",
      "model_module_version": "*",
      "model_name": "BarsModel",
      "state": {
       "color": {
        "type": "float64",
        "values": [
         1.0926737350271583,
         -0.5187209560978644,
         0.06645052199624957,
         1.45221740615027,
         0.8269761407415802,
         0.37862703288366006,
         0.2272270350816683,
         -0.49721042015499384,
         0.5022761776678464,
         0.4933560873488503,
         0.8369121361179314,
         1.058890085732003,
         0.5008306980529718,
         1.0560003089741812,
         0.12255818773549203,
         0.3059652437935148,
         0.7353585450932654,
         -0.07209067565103715,
         1.1101174508637859,
         0.809686353732845
        ]
       },
       "color_mode": "group",
       "display_legend": false,
       "padding": 0.2,
       "scales": {
        "color": "IPY_MODEL_b4792cc717a94a65bab9c45c232f3431",
        "x": "IPY_MODEL_f4484a117e734685b4ce5bfb25115b72",
        "y": "IPY_MODEL_6365de0d69bd49959e61c848e9d95fae"
       },
       "stroke": "orange",
       "x": {
        "type": "float",
        "values": [
         0,
         1,
         2,
         3,
         4,
         5,
         6,
         7,
         8,
         9,
         10,
         11,
         12,
         13,
         14,
         15,
         16,
         17,
         18,
         19,
         20,
         21,
         22,
         23,
         24,
         25,
         26,
         27,
         28,
         29,
         30,
         31,
         32,
         33,
         34,
         35,
         36,
         37,
         38,
         39,
         40,
         41,
         42,
         43,
         44,
         45,
         46,
         47,
         48,
         49,
         50,
         51,
         52,
         53,
         54,
         55,
         56,
         57,
         58,
         59,
         60,
         61,
         62,
         63,
         64,
         65,
         66,
         67,
         68,
         69,
         70,
         71,
         72,
         73,
         74,
         75,
         76,
         77,
         78,
         79,
         80,
         81,
         82,
         83,
         84,
         85,
         86,
         87,
         88,
         89,
         90,
         91,
         92,
         93,
         94,
         95,
         96,
         97,
         98,
         99
        ]
       },
       "y": {
        "type": "float64",
        "values": [
         [
          1.764052345967664,
          0.4001572083672233,
          0.9787379841057392,
          2.240893199201458,
          1.8675579901499675,
          -0.977277879876411,
          0.9500884175255894,
          -0.1513572082976979,
          -0.10321885179355784,
          0.41059850193837233,
          0.144043571160878,
          1.454273506962975,
          0.7610377251469934,
          0.12167501649282841,
          0.44386323274542566,
          0.33367432737426683,
          1.4940790731576061,
          -0.20515826376580087,
          0.31306770165090136,
          -0.8540957393017248
         ],
         [
          1.8831506970562544,
          -1.3477590611424464,
          -1.2704849984857336,
          0.9693967081580112,
          -1.17312340511416,
          1.9436211856492926,
          -0.41361898075974735,
          -0.7474548114407578,
          1.9229420264803847,
          1.4805147914344243,
          1.8675589604265699,
          0.9060446582753853,
          -0.8612256850547025,
          1.9100649530990337,
          -0.2680033709513804,
          0.8024563957963952,
          0.947251967773748,
          -0.1550100930908342,
          0.6140793703460803,
          0.9222066715665268
         ],
         [
          -0.36918183794244364,
          -0.60856101551837,
          0.4910985803687431,
          1.1463623110913408,
          1.786493837188933,
          0.1695377928780985,
          0.14521166847916286,
          -0.5928192407265258,
          -0.3128946416832876,
          -0.4110450313262456,
          0.4991338767663464,
          0.8163520919576485,
          1.6026800540666244,
          1.1362609573306812,
          0.19181470141243082,
          -0.21823499179011763,
          -0.23525540565155822,
          0.1438963299035236,
          2.403205280594376,
          2.360948128933733
         ]
        ]
       }
      }
     },
     "6c4cce39b8c54415b8c9a4b602b8eda1": {
      "model_module": "bqplot",
      "model_module_version": "*",
      "model_name": "FigureModel",
      "state": {
       "_dom_classes": [],
       "axes": [
        "IPY_MODEL_6575a6f12af146158e4bf9d344ecb74b",
        "IPY_MODEL_fcf4693d849148059d8270e97555b42d",
        "IPY_MODEL_e2e014cb73ef43fbab98a4ae4698886d"
       ],
       "fig_margin": {
        "bottom": 80,
        "left": 50,
        "right": 50,
        "top": 50
       },
       "layout": "IPY_MODEL_57df66cfd3914149809aa363e5a200a8",
       "marks": [
        "IPY_MODEL_0fc4dd3106224e6b94bf0160f54afa9f"
       ],
       "scale_x": "IPY_MODEL_c385549053f946c4b762b04330403548",
       "scale_y": "IPY_MODEL_e810790e5bde4975a9196dd87eb335c7"
      }
     },
     "71b36b1ab96e4985b339f93830b3071f": {
      "model_module": "bqplot",
      "model_module_version": "*",
      "model_name": "AxisModel",
      "state": {
       "scale": "IPY_MODEL_c860895e5443403eba602cf0c0a67c17",
       "side": "bottom",
       "tick_values": {
        "type": null,
        "values": null
       }
      }
     },
     "766089b7bff9484ea0ec44a14839f47d": {
      "model_module": "bqplot",
      "model_module_version": "*",
      "model_name": "LinearScaleModel",
      "state": {
       "stabilized": false
      }
     },
     "77aec2368a374df9bc22b3dba3a54109": {
      "model_module": "bqplot",
      "model_module_version": "*",
      "model_name": "LinearScaleModel",
      "state": {
       "stabilized": false
      }
     },
     "77d15d6dd04c47f3b6a31bf4f25c9839": {
      "model_module": "bqplot",
      "model_module_version": "*",
      "model_name": "AxisModel",
      "state": {
       "scale": "IPY_MODEL_14737d63e0e94124a042ec656518dee8",
       "side": "bottom",
       "tick_values": {
        "type": null,
        "values": null
       }
      }
     },
     "79f95c5a33ca4be2a86a4187bc7d0e46": {
      "model_module": "bqplot",
      "model_module_version": "*",
      "model_name": "LinearScaleModel",
      "state": {
       "allow_padding": false,
       "max": 1,
       "min": 0,
       "stabilized": false
      }
     },
     "7d9ca8967d3246b3a477d29eb086ef86": {
      "model_module": "bqplot",
      "model_module_version": "*",
      "model_name": "BarsModel",
      "state": {
       "align": "right",
       "base": 2,
       "color": {
        "type": null,
        "values": null
       },
       "display_legend": false,
       "scales": {
        "x": "IPY_MODEL_5174db30f73a4792a79f8d41ee726c33",
        "y": "IPY_MODEL_e831d5ac6c5248bab82e05ceb3a39a99"
       },
       "x": {
        "type": "float",
        "values": [
         0,
         1,
         2,
         3,
         4,
         5,
         6,
         7,
         8,
         9,
         10,
         11,
         12,
         13,
         14,
         15,
         16,
         17,
         18,
         19
        ]
       },
       "y": {
        "type": "float64",
        "values": [
         1.8831506970562544,
         1.3477590611424464,
         1.2704849984857336,
         0.9693967081580112,
         1.17312340511416,
         1.9436211856492926,
         0.41361898075974735,
         0.7474548114407578,
         1.9229420264803847,
         1.4805147914344243,
         1.8675589604265699,
         0.9060446582753853,
         0.8612256850547025,
         1.9100649530990337,
         0.2680033709513804,
         0.8024563957963952,
         0.947251967773748,
         0.1550100930908342,
         0.6140793703460803,
         0.9222066715665268
        ]
       }
      }
     },
     "81afd287bc184b3e992474ac201add78": {
      "model_module": "bqplot",
      "model_module_version": "*",
      "model_name": "AxisModel",
      "state": {
       "scale": "IPY_MODEL_89ab0462fdff486aae5911b1ed8549f9",
       "side": "bottom",
       "tick_values": {
        "type": null,
        "values": null
       }
      }
     },
     "8438e1b0aaee487d8532202b32da4937": {
      "model_module": "bqplot",
      "model_module_version": "*",
      "model_name": "LinearScaleModel",
      "state": {
       "allow_padding": false,
       "max": 1,
       "min": 0,
       "stabilized": false
      }
     },
     "86b9695c49084494802054b3ef7d5337": {
      "model_module": "jupyter-js-widgets",
      "model_module_version": "*",
      "model_name": "LayoutModel",
      "state": {
       "align_self": "stretch",
       "flex": "1",
       "min_width": "400px"
      }
     },
     "88feaa765f6c4c729a8d049a204ac0f9": {
      "model_module": "jupyter-js-widgets",
      "model_module_version": "*",
      "model_name": "LayoutModel",
      "state": {
       "align_self": "stretch",
       "flex": "1",
       "min_width": "400px"
      }
     },
     "89ab0462fdff486aae5911b1ed8549f9": {
      "model_module": "bqplot",
      "model_module_version": "*",
      "model_name": "OrdinalScaleModel",
      "state": {
       "domain": []
      }
     },
     "8e3b6fa97c7b430ba461aca6907a7de9": {
      "model_module": "jupyter-js-widgets",
      "model_module_version": "*",
      "model_name": "LayoutModel",
      "state": {
       "align_self": "stretch",
       "flex": "1",
       "min_width": "400px"
      }
     },
     "9372f7fe62374f628517f3dd490e6387": {
      "model_module": "bqplot",
      "model_module_version": "*",
      "model_name": "LinearScaleModel",
      "state": {
       "allow_padding": false,
       "max": 1,
       "min": 0,
       "stabilized": false
      }
     },
     "9adfc162f29a4f378d1a928e9ff5e537": {
      "model_module": "bqplot",
      "model_module_version": "*",
      "model_name": "AxisModel",
      "state": {
       "orientation": "vertical",
       "scale": "IPY_MODEL_fc9d2587b5f34862923d5e5710775f8b",
       "side": "left",
       "tick_format": "0.2f",
       "tick_values": {
        "type": null,
        "values": null
       }
      }
     },
     "9d84d24926d044cd9b72dc682ec85d1a": {
      "model_module": "bqplot",
      "model_module_version": "*",
      "model_name": "FigureModel",
      "state": {
       "_dom_classes": [],
       "axes": [
        "IPY_MODEL_81afd287bc184b3e992474ac201add78",
        "IPY_MODEL_9adfc162f29a4f378d1a928e9ff5e537"
       ],
       "layout": "IPY_MODEL_a030bc6ec4ff4a27940c34cc01cfb7a6",
       "marks": [
        "IPY_MODEL_ae1338f21caf4c42bacd7069c660d0d6"
       ],
       "scale_x": "IPY_MODEL_ce3dd557ab1e448d8820bbd720b760ce",
       "scale_y": "IPY_MODEL_f4498ab423d74584b1fb5fffac3e0204"
      }
     },
     "9e4d37e17efa4aa09008069017a6b48d": {
      "model_module": "bqplot",
      "model_module_version": "*",
      "model_name": "FigureModel",
      "state": {
       "_dom_classes": [],
       "axes": [
        "IPY_MODEL_609147c4b3a842afbe176da5b84f3382",
        "IPY_MODEL_adbbe0638289467485b8ce29e726f575",
        "IPY_MODEL_e5625b1ce672487a97e5be0426332505"
       ],
       "fig_margin": {
        "bottom": 80,
        "left": 50,
        "right": 50,
        "top": 50
       },
       "layout": "IPY_MODEL_1afd26427cca40d5976643c0976641ae",
       "marks": [
        "IPY_MODEL_dc6b2aad455f4ea398a7e933ba61404b"
       ],
       "scale_x": "IPY_MODEL_79f95c5a33ca4be2a86a4187bc7d0e46",
       "scale_y": "IPY_MODEL_3715da0b43a244a9bb119110fb392eca"
      }
     },
     "a005a22ed2fb436ea789d53411999038": {
      "model_module": "bqplot",
      "model_module_version": "*",
      "model_name": "AxisModel",
      "state": {
       "orientation": "vertical",
       "scale": "IPY_MODEL_e1bd79027d9a4e8283c3483af9f82781",
       "side": "left",
       "tick_format": "0.2f",
       "tick_values": {
        "type": null,
        "values": null
       }
      }
     },
     "a030bc6ec4ff4a27940c34cc01cfb7a6": {
      "model_module": "jupyter-js-widgets",
      "model_module_version": "*",
      "model_name": "LayoutModel",
      "state": {
       "align_self": "stretch",
       "flex": "1",
       "min_width": "400px"
      }
     },
     "a2b1b58ac76c4c9891b14a3820504111": {
      "model_module": "bqplot",
      "model_module_version": "*",
      "model_name": "AxisModel",
      "state": {
       "orientation": "vertical",
       "scale": "IPY_MODEL_766089b7bff9484ea0ec44a14839f47d",
       "side": "left",
       "tick_format": "0.2f",
       "tick_values": {
        "type": null,
        "values": null
       }
      }
     },
     "a4a6f0f80c6246cbaf14ccd6d045a2b4": {
      "model_module": "bqplot",
      "model_module_version": "*",
      "model_name": "AxisModel",
      "state": {
       "orientation": "vertical",
       "scale": "IPY_MODEL_e831d5ac6c5248bab82e05ceb3a39a99",
       "side": "left",
       "tick_format": "0.2f",
       "tick_values": {
        "type": null,
        "values": null
       }
      }
     },
     "a95dc7db24d647dea4e1924404e310ab": {
      "model_module": "bqplot",
      "model_module_version": "*",
      "model_name": "AxisModel",
      "state": {
       "orientation": "vertical",
       "scale": "IPY_MODEL_77aec2368a374df9bc22b3dba3a54109",
       "side": "left",
       "tick_format": "0.2f",
       "tick_values": {
        "type": null,
        "values": null
       }
      }
     },
     "aa17c60e58d649078098a7cf485e5e4b": {
      "model_module": "bqplot",
      "model_module_version": "*",
      "model_name": "LinearScaleModel",
      "state": {
       "allow_padding": false,
       "max": 1,
       "min": 0,
       "stabilized": false
      }
     },
     "adbbe0638289467485b8ce29e726f575": {
      "model_module": "bqplot",
      "model_module_version": "*",
      "model_name": "AxisModel",
      "state": {
       "orientation": "vertical",
       "scale": "IPY_MODEL_0e90770ffc8444d5835edb3b4ffbddbd",
       "side": "left",
       "tick_format": "0.2f",
       "tick_values": {
        "type": null,
        "values": null
       }
      }
     },
     "ae1338f21caf4c42bacd7069c660d0d6": {
      "model_module": "bqplot",
      "model_module_version": "*",
      "model_name": "BarsModel",
      "state": {
       "color": {
        "type": null,
        "values": null
       },
       "color_mode": "group",
       "display_legend": false,
       "padding": 0.2,
       "scales": {
        "x": "IPY_MODEL_89ab0462fdff486aae5911b1ed8549f9",
        "y": "IPY_MODEL_fc9d2587b5f34862923d5e5710775f8b"
       },
       "x": {
        "type": "float",
        "values": [
         0,
         1,
         2,
         3,
         4,
         5,
         6,
         7,
         8,
         9,
         10,
         11,
         12,
         13,
         14,
         15,
         16,
         17,
         18,
         19,
         20,
         21,
         22,
         23,
         24,
         25,
         26,
         27,
         28,
         29,
         30,
         31,
         32,
         33,
         34,
         35,
         36,
         37,
         38,
         39,
         40,
         41,
         42,
         43,
         44,
         45,
         46,
         47,
         48,
         49,
         50,
         51,
         52,
         53,
         54,
         55,
         56,
         57,
         58,
         59,
         60,
         61,
         62,
         63,
         64,
         65,
         66,
         67,
         68,
         69,
         70,
         71,
         72,
         73,
         74,
         75,
         76,
         77,
         78,
         79,
         80,
         81,
         82,
         83,
         84,
         85,
         86,
         87,
         88,
         89,
         90,
         91,
         92,
         93,
         94,
         95,
         96,
         97,
         98,
         99
        ]
       },
       "y": {
        "type": "float64",
        "values": [
         [
          1.764052345967664,
          0.4001572083672233,
          0.9787379841057392,
          2.240893199201458,
          1.8675579901499675,
          -0.977277879876411,
          0.9500884175255894,
          -0.1513572082976979,
          -0.10321885179355784,
          0.41059850193837233,
          0.144043571160878,
          1.454273506962975,
          0.7610377251469934,
          0.12167501649282841,
          0.44386323274542566,
          0.33367432737426683,
          1.4940790731576061,
          -0.20515826376580087,
          0.31306770165090136,
          -0.8540957393017248
         ],
         [
          1.8831506970562544,
          -1.3477590611424464,
          -1.2704849984857336,
          0.9693967081580112,
          -1.17312340511416,
          1.9436211856492926,
          -0.41361898075974735,
          -0.7474548114407578,
          1.9229420264803847,
          1.4805147914344243,
          1.8675589604265699,
          0.9060446582753853,
          -0.8612256850547025,
          1.9100649530990337,
          -0.2680033709513804,
          0.8024563957963952,
          0.947251967773748,
          -0.1550100930908342,
          0.6140793703460803,
          0.9222066715665268
         ]
        ]
       }
      }
     },
     "b4792cc717a94a65bab9c45c232f3431": {
      "model_module": "bqplot",
      "model_module_version": "*",
      "model_name": "ColorScaleModel",
      "state": {
       "_model_name": "ColorScaleModel",
       "_view_name": "ColorScale",
       "colors": [],
       "mid": 0,
       "scale_type": "linear",
       "scheme": "RdYlGn"
      }
     },
     "b911561450364fbf88cb985d77299b89": {
      "model_module": "bqplot",
      "model_module_version": "*",
      "model_name": "BarsModel",
      "state": {
       "color": {
        "type": null,
        "values": null
       },
       "display_legend": false,
       "padding": 0.2,
       "scales": {
        "x": "IPY_MODEL_5a5214411c3a4d918454a0b28a636b80",
        "y": "IPY_MODEL_77aec2368a374df9bc22b3dba3a54109"
       },
       "type": "grouped",
       "x": {
        "type": "float",
        "values": [
         0,
         1,
         2,
         3,
         4,
         5,
         6,
         7,
         8,
         9,
         10,
         11,
         12,
         13,
         14,
         15,
         16,
         17,
         18,
         19,
         20,
         21,
         22,
         23,
         24,
         25,
         26,
         27,
         28,
         29,
         30,
         31,
         32,
         33,
         34,
         35,
         36,
         37,
         38,
         39,
         40,
         41,
         42,
         43,
         44,
         45,
         46,
         47,
         48,
         49,
         50,
         51,
         52,
         53,
         54,
         55,
         56,
         57,
         58,
         59,
         60,
         61,
         62,
         63,
         64,
         65,
         66,
         67,
         68,
         69,
         70,
         71,
         72,
         73,
         74,
         75,
         76,
         77,
         78,
         79,
         80,
         81,
         82,
         83,
         84,
         85,
         86,
         87,
         88,
         89,
         90,
         91,
         92,
         93,
         94,
         95,
         96,
         97,
         98,
         99
        ]
       },
       "y": {
        "type": "float64",
        "values": [
         [
          1.764052345967664,
          0.4001572083672233,
          0.9787379841057392,
          2.240893199201458,
          1.8675579901499675,
          -0.977277879876411,
          0.9500884175255894,
          -0.1513572082976979,
          -0.10321885179355784,
          0.41059850193837233,
          0.144043571160878,
          1.454273506962975,
          0.7610377251469934,
          0.12167501649282841,
          0.44386323274542566,
          0.33367432737426683,
          1.4940790731576061,
          -0.20515826376580087,
          0.31306770165090136,
          -0.8540957393017248
         ],
         [
          1.8831506970562544,
          -1.3477590611424464,
          -1.2704849984857336,
          0.9693967081580112,
          -1.17312340511416,
          1.9436211856492926,
          -0.41361898075974735,
          -0.7474548114407578,
          1.9229420264803847,
          1.4805147914344243,
          1.8675589604265699,
          0.9060446582753853,
          -0.8612256850547025,
          1.9100649530990337,
          -0.2680033709513804,
          0.8024563957963952,
          0.947251967773748,
          -0.1550100930908342,
          0.6140793703460803,
          0.9222066715665268
         ]
        ]
       }
      }
     },
     "ba79767e049b4c8daa03634e94a740a6": {
      "model_module": "bqplot",
      "model_module_version": "*",
      "model_name": "FigureModel",
      "state": {
       "_dom_classes": [],
       "axes": [
        "IPY_MODEL_cd55763307b1488c8c0875832b55dc34",
        "IPY_MODEL_a95dc7db24d647dea4e1924404e310ab"
       ],
       "layout": "IPY_MODEL_047f54a4d47944799b74d73eb71d05bb",
       "marks": [
        "IPY_MODEL_b911561450364fbf88cb985d77299b89"
       ],
       "scale_x": "IPY_MODEL_aa17c60e58d649078098a7cf485e5e4b",
       "scale_y": "IPY_MODEL_f235a008d92e4ba8874ba02c6508d91c"
      }
     },
     "bbff87b3cf22467d9b3d2709e33cabf6": {
      "model_module": "bqplot",
      "model_module_version": "*",
      "model_name": "FigureModel",
      "state": {
       "_dom_classes": [],
       "axes": [
        "IPY_MODEL_0d047f6c5e514eb590ea1b0e2b730ab9",
        "IPY_MODEL_20cf7b2de78749fd9b315a0d9930021a",
        "IPY_MODEL_c8249b982b4949b090766da688d6afcc"
       ],
       "fig_margin": {
        "bottom": 80,
        "left": 50,
        "right": 50,
        "top": 50
       },
       "layout": "IPY_MODEL_88feaa765f6c4c729a8d049a204ac0f9",
       "marks": [
        "IPY_MODEL_6bc639cfd9e74f21a44e71475d728487"
       ],
       "scale_x": "IPY_MODEL_8438e1b0aaee487d8532202b32da4937",
       "scale_y": "IPY_MODEL_9372f7fe62374f628517f3dd490e6387"
      }
     },
     "c385549053f946c4b762b04330403548": {
      "model_module": "bqplot",
      "model_module_version": "*",
      "model_name": "LinearScaleModel",
      "state": {
       "allow_padding": false,
       "max": 1,
       "min": 0,
       "stabilized": false
      }
     },
     "c702c1d4d3f04e7a875bccf7859b3a8d": {
      "model_module": "bqplot",
      "model_module_version": "*",
      "model_name": "LinearScaleModel",
      "state": {
       "allow_padding": false,
       "max": 1,
       "min": 0,
       "stabilized": false
      }
     },
     "c8249b982b4949b090766da688d6afcc": {
      "model_module": "bqplot",
      "model_module_version": "*",
      "model_name": "ColorAxisModel",
      "state": {
       "scale": "IPY_MODEL_b4792cc717a94a65bab9c45c232f3431",
       "side": "bottom",
       "tick_format": "0.2f",
       "tick_values": {
        "type": null,
        "values": null
       }
      }
     },
     "c860895e5443403eba602cf0c0a67c17": {
      "model_module": "bqplot",
      "model_module_version": "*",
      "model_name": "OrdinalScaleModel",
      "state": {
       "domain": []
      }
     },
     "cd55763307b1488c8c0875832b55dc34": {
      "model_module": "bqplot",
      "model_module_version": "*",
      "model_name": "AxisModel",
      "state": {
       "scale": "IPY_MODEL_5a5214411c3a4d918454a0b28a636b80",
       "side": "bottom",
       "tick_values": {
        "type": null,
        "values": null
       }
      }
     },
     "ce3dd557ab1e448d8820bbd720b760ce": {
      "model_module": "bqplot",
      "model_module_version": "*",
      "model_name": "LinearScaleModel",
      "state": {
       "allow_padding": false,
       "max": 1,
       "min": 0,
       "stabilized": false
      }
     },
     "d7303210e2234f168ddb27567933f6f1": {
      "model_module": "bqplot",
      "model_module_version": "*",
      "model_name": "LinearScaleModel",
      "state": {
       "allow_padding": false,
       "max": 1,
       "min": 0,
       "stabilized": false
      }
     },
     "dc6b2aad455f4ea398a7e933ba61404b": {
      "model_module": "bqplot",
      "model_module_version": "*",
      "model_name": "BarsModel",
      "state": {
       "color": {
        "type": "float64",
        "values": [
         0.5693345929456347,
         0.4966303990011173,
         0.5072501723166547
        ]
       },
       "labels": [
        "Dim 1",
        "Dim 2",
        "Dim 3"
       ],
       "padding": 0.2,
       "scales": {
        "color": "IPY_MODEL_e6e71ca6e2fc4b4ba903f58eba9933a3",
        "x": "IPY_MODEL_234b7616096d4e9baa4e11a683d88a94",
        "y": "IPY_MODEL_0e90770ffc8444d5835edb3b4ffbddbd"
       },
       "x": {
        "type": "float",
        "values": [
         0,
         1,
         2,
         3,
         4,
         5,
         6,
         7,
         8,
         9,
         10,
         11,
         12,
         13,
         14,
         15,
         16,
         17,
         18,
         19,
         20,
         21,
         22,
         23,
         24,
         25,
         26,
         27,
         28,
         29,
         30,
         31,
         32,
         33,
         34,
         35,
         36,
         37,
         38,
         39,
         40,
         41,
         42,
         43,
         44,
         45,
         46,
         47,
         48,
         49,
         50,
         51,
         52,
         53,
         54,
         55,
         56,
         57,
         58,
         59,
         60,
         61,
         62,
         63,
         64,
         65,
         66,
         67,
         68,
         69,
         70,
         71,
         72,
         73,
         74,
         75,
         76,
         77,
         78,
         79,
         80,
         81,
         82,
         83,
         84,
         85,
         86,
         87,
         88,
         89,
         90,
         91,
         92,
         93,
         94,
         95,
         96,
         97,
         98,
         99
        ]
       },
       "y": {
        "type": "float64",
        "values": [
         [
          1.764052345967664,
          0.4001572083672233,
          0.9787379841057392,
          2.240893199201458,
          1.8675579901499675,
          -0.977277879876411,
          0.9500884175255894,
          -0.1513572082976979,
          -0.10321885179355784,
          0.41059850193837233,
          0.144043571160878,
          1.454273506962975,
          0.7610377251469934,
          0.12167501649282841,
          0.44386323274542566,
          0.33367432737426683,
          1.4940790731576061,
          -0.20515826376580087,
          0.31306770165090136,
          -0.8540957393017248
         ],
         [
          1.8831506970562544,
          -1.3477590611424464,
          -1.2704849984857336,
          0.9693967081580112,
          -1.17312340511416,
          1.9436211856492926,
          -0.41361898075974735,
          -0.7474548114407578,
          1.9229420264803847,
          1.4805147914344243,
          1.8675589604265699,
          0.9060446582753853,
          -0.8612256850547025,
          1.9100649530990337,
          -0.2680033709513804,
          0.8024563957963952,
          0.947251967773748,
          -0.1550100930908342,
          0.6140793703460803,
          0.9222066715665268
         ],
         [
          -0.36918183794244364,
          -0.60856101551837,
          0.4910985803687431,
          1.1463623110913408,
          1.786493837188933,
          0.1695377928780985,
          0.14521166847916286,
          -0.5928192407265258,
          -0.3128946416832876,
          -0.4110450313262456,
          0.4991338767663464,
          0.8163520919576485,
          1.6026800540666244,
          1.1362609573306812,
          0.19181470141243082,
          -0.21823499179011763,
          -0.23525540565155822,
          0.1438963299035236,
          2.403205280594376,
          2.360948128933733
         ]
        ]
       }
      }
     },
     "de0a3dc3ef0a463d9e4d5954335b7167": {
      "model_module": "bqplot",
      "model_module_version": "*",
      "model_name": "FigureModel",
      "state": {
       "_dom_classes": [],
       "axes": [
        "IPY_MODEL_71b36b1ab96e4985b339f93830b3071f",
        "IPY_MODEL_a2b1b58ac76c4c9891b14a3820504111"
       ],
       "layout": "IPY_MODEL_8e3b6fa97c7b430ba461aca6907a7de9",
       "marks": [
        "IPY_MODEL_004a0383e30d4ee1bc2baed868f62d9d"
       ],
       "scale_x": "IPY_MODEL_c702c1d4d3f04e7a875bccf7859b3a8d",
       "scale_y": "IPY_MODEL_10f149a72c9f4bdb8decc6a72a4aa828"
      }
     },
     "e1bd79027d9a4e8283c3483af9f82781": {
      "model_module": "bqplot",
      "model_module_version": "*",
      "model_name": "LinearScaleModel",
      "state": {
       "stabilized": false
      }
     },
     "e2e014cb73ef43fbab98a4ae4698886d": {
      "model_module": "bqplot",
      "model_module_version": "*",
      "model_name": "ColorAxisModel",
      "state": {
       "scale": "IPY_MODEL_239fecc805534c6c97bb946b80e06bff",
       "side": "bottom",
       "tick_format": "0.2f",
       "tick_values": {
        "type": null,
        "values": null
       }
      }
     },
     "e5625b1ce672487a97e5be0426332505": {
      "model_module": "bqplot",
      "model_module_version": "*",
      "model_name": "ColorAxisModel",
      "state": {
       "scale": "IPY_MODEL_e6e71ca6e2fc4b4ba903f58eba9933a3",
       "side": "bottom",
       "tick_format": "0.2f",
       "tick_values": {
        "type": null,
        "values": null
       }
      }
     },
     "e6e71ca6e2fc4b4ba903f58eba9933a3": {
      "model_module": "bqplot",
      "model_module_version": "*",
      "model_name": "ColorScaleModel",
      "state": {
       "_model_name": "ColorScaleModel",
       "_view_name": "ColorScale",
       "colors": [],
       "mid": null,
       "scale_type": "linear",
       "scheme": "Reds"
      }
     },
     "e810790e5bde4975a9196dd87eb335c7": {
      "model_module": "bqplot",
      "model_module_version": "*",
      "model_name": "LinearScaleModel",
      "state": {
       "allow_padding": false,
       "max": 1,
       "min": 0,
       "stabilized": false
      }
     },
     "e831d5ac6c5248bab82e05ceb3a39a99": {
      "model_module": "bqplot",
      "model_module_version": "*",
      "model_name": "LinearScaleModel",
      "state": {
       "stabilized": false
      }
     },
     "e91fff544ffd4957868ac0705e0d895c": {
      "model_module": "bqplot",
      "model_module_version": "*",
      "model_name": "AxisModel",
      "state": {
       "scale": "IPY_MODEL_5174db30f73a4792a79f8d41ee726c33",
       "side": "bottom",
       "tick_values": {
        "type": null,
        "values": null
       }
      }
     },
     "eb27f3a124754ef09b3747a439927796": {
      "model_module": "bqplot",
      "model_module_version": "*",
      "model_name": "AxisModel",
      "state": {
       "scale": "IPY_MODEL_6a2c972b8e33493f913f890ee3fc84a7",
       "side": "bottom",
       "tick_values": {
        "type": null,
        "values": null
       }
      }
     },
     "f235a008d92e4ba8874ba02c6508d91c": {
      "model_module": "bqplot",
      "model_module_version": "*",
      "model_name": "LinearScaleModel",
      "state": {
       "allow_padding": false,
       "max": 1,
       "min": 0,
       "stabilized": false
      }
     },
     "f4484a117e734685b4ce5bfb25115b72": {
      "model_module": "bqplot",
      "model_module_version": "*",
      "model_name": "OrdinalScaleModel",
      "state": {
       "domain": []
      }
     },
     "f4498ab423d74584b1fb5fffac3e0204": {
      "model_module": "bqplot",
      "model_module_version": "*",
      "model_name": "LinearScaleModel",
      "state": {
       "allow_padding": false,
       "max": 1,
       "min": 0,
       "stabilized": false
      }
     },
     "f6c1e16e9e1448829215f852120399ad": {
      "model_module": "bqplot",
      "model_module_version": "*",
      "model_name": "LinearScaleModel",
      "state": {
       "stabilized": false
      }
     },
     "fc9d2587b5f34862923d5e5710775f8b": {
      "model_module": "bqplot",
      "model_module_version": "*",
      "model_name": "LinearScaleModel",
      "state": {
       "stabilized": false
      }
     },
     "fcf4693d849148059d8270e97555b42d": {
      "model_module": "bqplot",
      "model_module_version": "*",
      "model_name": "AxisModel",
      "state": {
       "orientation": "vertical",
       "scale": "IPY_MODEL_038bef67c7aa4edbb091285a5a8ae375",
       "side": "left",
       "tick_format": "0.2f",
       "tick_values": {
        "type": null,
        "values": null
       }
      }
     },
     "fda3d03ad47c494dbdb22d98edecee0c": {
      "model_module": "bqplot",
      "model_module_version": "*",
      "model_name": "BarsModel",
      "state": {
       "color": {
        "type": null,
        "values": null
       },
       "display_legend": false,
       "scales": {
        "x": "IPY_MODEL_6a2c972b8e33493f913f890ee3fc84a7",
        "y": "IPY_MODEL_e1bd79027d9a4e8283c3483af9f82781"
       },
       "x": {
        "type": "float",
        "values": [
         0,
         1,
         2,
         3,
         4,
         5,
         6,
         7,
         8,
         9,
         10,
         11,
         12,
         13,
         14,
         15,
         16,
         17,
         18,
         19
        ]
       },
       "y": {
        "type": "float64",
        "values": [
         1.764052345967664,
         0.4001572083672233,
         0.9787379841057392,
         2.240893199201458,
         1.8675579901499675,
         -0.977277879876411,
         0.9500884175255894,
         -0.1513572082976979,
         -0.10321885179355784,
         0.41059850193837233,
         0.144043571160878,
         1.454273506962975,
         0.7610377251469934,
         0.12167501649282841,
         0.44386323274542566,
         0.33367432737426683,
         1.4940790731576061,
         -0.20515826376580087,
         0.31306770165090136,
         -0.8540957393017248
        ]
       }
      }
     },
     "ff6cfbff89fb4bf98f1abcf7f1caf553": {
      "model_module": "bqplot",
      "model_module_version": "*",
      "model_name": "AxisModel",
      "state": {
       "orientation": "vertical",
       "scale": "IPY_MODEL_f6c1e16e9e1448829215f852120399ad",
       "side": "left",
       "tick_format": "0.2f",
       "tick_values": {
        "type": null,
        "values": null
       }
      }
     },
     "ff99e78e2cee4c31ad5900a58bec9f4b": {
      "model_module": "bqplot",
      "model_module_version": "*",
      "model_name": "FigureModel",
      "state": {
       "_dom_classes": [],
       "axes": [
        "IPY_MODEL_77d15d6dd04c47f3b6a31bf4f25c9839",
        "IPY_MODEL_ff6cfbff89fb4bf98f1abcf7f1caf553"
       ],
       "layout": "IPY_MODEL_12e7761349294614be4cdb7e14bc2ff4",
       "marks": [
        "IPY_MODEL_05cd5ba14ae646ca99d57990009bad10"
       ],
       "scale_x": "IPY_MODEL_d7303210e2234f168ddb27567933f6f1",
       "scale_y": "IPY_MODEL_21cf735296e849ffb17f710929916b08"
      }
     }
    },
    "version_major": 1,
    "version_minor": 0
   }
  }
 },
 "nbformat": 4,
 "nbformat_minor": 1
}
