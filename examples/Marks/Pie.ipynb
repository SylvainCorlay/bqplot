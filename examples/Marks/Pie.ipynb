{
 "cells": [
  {
   "cell_type": "code",
   "execution_count": 1,
   "metadata": {},
   "outputs": [],
   "source": [
    "from bqplot import Pie, Figure\n",
    "import numpy as np"
   ]
  },
  {
   "cell_type": "markdown",
   "metadata": {},
   "source": [
    "## Basic Pie Chart"
   ]
  },
  {
   "cell_type": "markdown",
   "metadata": {},
   "source": [
    "Generating the simplest possible pie chart and plotting it in a `Figure`.\n",
    "\n",
    "The area and angle of each slice will be proportional to the data passed to `sizes`"
   ]
  },
  {
   "cell_type": "code",
   "execution_count": 2,
   "metadata": {},
   "outputs": [
    {
     "data": {
      "application/vnd.jupyter.widget-view+json": {
       "model_id": "abfcdb8f5f274fe984d8b05484e91ccc"
      }
     },
     "metadata": {},
     "output_type": "display_data"
    }
   ],
   "source": [
    "data = range(1, 6)\n",
    "pie = Pie(sizes=data)\n",
    "# Set `animation_duration` (in milliseconds) to have smooth transitions\n",
    "fig = Figure(marks=[pie], animation_duration=1000)\n",
    "fig"
   ]
  },
  {
   "cell_type": "markdown",
   "metadata": {},
   "source": [
    "As with all bqplot Marks, pie data can be dynamically modified"
   ]
  },
  {
   "cell_type": "code",
   "execution_count": 3,
   "metadata": {},
   "outputs": [],
   "source": [
    "Nslices = 5\n",
    "pie.sizes = np.random.rand(Nslices)"
   ]
  },
  {
   "cell_type": "markdown",
   "metadata": {},
   "source": [
    "Sort the pie slices by ascending size"
   ]
  },
  {
   "cell_type": "code",
   "execution_count": 4,
   "metadata": {},
   "outputs": [],
   "source": [
    "pie.sort = True"
   ]
  },
  {
   "cell_type": "markdown",
   "metadata": {},
   "source": [
    "Setting different styles for selected slices"
   ]
  },
  {
   "cell_type": "code",
   "execution_count": 5,
   "metadata": {
    "collapsed": true
   },
   "outputs": [],
   "source": [
    "pie.selected_style = {\"opacity\": \"1\", \"stroke\": \"white\", \"stroke-width\": \"2\"}\n",
    "pie.unselected_style = {\"opacity\": \"0.2\"}\n",
    "pie.selected = [3]"
   ]
  },
  {
   "cell_type": "code",
   "execution_count": 6,
   "metadata": {
    "collapsed": true
   },
   "outputs": [],
   "source": [
    "pie.selected = None"
   ]
  },
  {
   "cell_type": "markdown",
   "metadata": {},
   "source": [
    "For more on piechart interactions, see the [Mark Interactions notebook](Mark Interactions.ipynb)"
   ]
  },
  {
   "cell_type": "markdown",
   "metadata": {},
   "source": [
    "### Adding labels"
   ]
  },
  {
   "cell_type": "code",
   "execution_count": 7,
   "metadata": {},
   "outputs": [
    {
     "data": {
      "application/vnd.jupyter.widget-view+json": {
       "model_id": "abfcdb8f5f274fe984d8b05484e91ccc"
      }
     },
     "metadata": {},
     "output_type": "display_data"
    }
   ],
   "source": [
    "pie.labels = ['{:.2f}'.format(d) for d in pie.sizes]\n",
    "fig"
   ]
  },
  {
   "cell_type": "markdown",
   "metadata": {},
   "source": [
    "Modify label styling"
   ]
  },
  {
   "cell_type": "code",
   "execution_count": 8,
   "metadata": {},
   "outputs": [],
   "source": [
    "pie.label_color = 'white'\n",
    "pie.font_size = '20px'\n",
    "pie.font_weight = 'normal'"
   ]
  },
  {
   "cell_type": "markdown",
   "metadata": {},
   "source": [
    "## Updating pie shape and style"
   ]
  },
  {
   "cell_type": "code",
   "execution_count": 9,
   "metadata": {},
   "outputs": [
    {
     "data": {
      "application/vnd.jupyter.widget-view+json": {
       "model_id": "69435ec80f644ef9b9c97a9a7d30ed93"
      }
     },
     "metadata": {},
     "output_type": "display_data"
    }
   ],
   "source": [
    "pie1 = Pie(sizes=np.random.rand(6), inner_radius=0.05)\n",
    "fig1 = Figure(marks=[pie1], animation_duration=1000)\n",
    "fig1"
   ]
  },
  {
   "cell_type": "markdown",
   "metadata": {},
   "source": [
    "### Change pie dimensions"
   ]
  },
  {
   "cell_type": "code",
   "execution_count": 10,
   "metadata": {
    "collapsed": true
   },
   "outputs": [],
   "source": [
    "# As of now, the radius sizes are absolute, in pixels\n",
    "pie1.radius = 250\n",
    "pie1.inner_radius = 80"
   ]
  },
  {
   "cell_type": "code",
   "execution_count": 11,
   "metadata": {},
   "outputs": [],
   "source": [
    "# Angles are in radians, 0 being the top vertical\n",
    "pie1.start_angle = -90\n",
    "pie1.end_angle = 90"
   ]
  },
  {
   "cell_type": "markdown",
   "metadata": {},
   "source": [
    "### Moving the pie around\n",
    "`x` and `y` attributes control the position of the pie in the figure.\n",
    "If no scales are passed for `x` and `y`, they are taken in absolute \n",
    "figure coordinates, between 0 and 1."
   ]
  },
  {
   "cell_type": "code",
   "execution_count": 17,
   "metadata": {
    "collapsed": true
   },
   "outputs": [],
   "source": [
    "pie1.y = 0.9\n",
    "pie1.x = 0.4\n",
    "pie1.radius = 320"
   ]
  },
  {
   "cell_type": "markdown",
   "metadata": {},
   "source": [
    "### Changing slice styles\n",
    "Pie slice colors cycle through the `colors` and `opacities` attribute, as the `Lines` Mark."
   ]
  },
  {
   "cell_type": "code",
   "execution_count": 18,
   "metadata": {},
   "outputs": [
    {
     "data": {
      "application/vnd.jupyter.widget-view+json": {
       "model_id": "69435ec80f644ef9b9c97a9a7d30ed93"
      }
     },
     "metadata": {},
     "output_type": "display_data"
    }
   ],
   "source": [
    "pie1.stroke = 'brown'\n",
    "pie1.colors = ['orange', 'darkviolet']\n",
    "pie1.opacities = [.1, 1]\n",
    "fig1"
   ]
  },
  {
   "cell_type": "markdown",
   "metadata": {},
   "source": [
    "## Representing an additional dimension using Color"
   ]
  },
  {
   "cell_type": "markdown",
   "metadata": {},
   "source": [
    "The `Pie` allows for its colors to be determined by data, that is passed to the `color` attribute. \n",
    "A `ColorScale` with the desired color scheme must also be passed."
   ]
  },
  {
   "cell_type": "code",
   "execution_count": 14,
   "metadata": {},
   "outputs": [
    {
     "data": {
      "application/vnd.jupyter.widget-view+json": {
       "model_id": "a8a9c1986c1646c3b7d7cf88a36e7e3a"
      }
     },
     "metadata": {},
     "output_type": "display_data"
    }
   ],
   "source": [
    "from bqplot import ColorScale, ColorAxis\n",
    "\n",
    "Nslices = 7\n",
    "size_data = np.random.rand(Nslices)\n",
    "color_data = np.random.randn(Nslices)\n",
    "\n",
    "sc = ColorScale(scheme='Reds')\n",
    "# The ColorAxis gives a visual representation of its ColorScale\n",
    "ax = ColorAxis(scale=sc)\n",
    "\n",
    "pie2 = Pie(sizes=size_data, scales={'color': sc}, color=color_data)\n",
    "Figure(marks=[pie2], axes=[ax])"
   ]
  },
  {
   "cell_type": "markdown",
   "metadata": {},
   "source": [
    "## Positioning the Pie using custom scales"
   ]
  },
  {
   "cell_type": "markdown",
   "metadata": {},
   "source": [
    "Pies can be positioned, via the `x` and `y` attributes, \n",
    "using either absolute figure scales or custom 'x' or 'y' scales"
   ]
  },
  {
   "cell_type": "code",
   "execution_count": 15,
   "metadata": {},
   "outputs": [
    {
     "data": {
      "application/vnd.jupyter.widget-view+json": {
       "model_id": "5fd648dc878f49e6bd192eb07292ec2d"
      }
     },
     "metadata": {},
     "output_type": "display_data"
    }
   ],
   "source": [
    "from datetime import datetime\n",
    "from bqplot.traits import convert_to_date\n",
    "from bqplot import DateScale, LinearScale, Axis\n",
    "\n",
    "avg_precipitation_days = [(d/30., 1-d/30.) for d in [2, 3, 4, 6, 12, 17, 23, 22, 15, 4, 1, 1]]\n",
    "temperatures = [9, 12, 16, 20, 22, 23, 22, 22, 22, 20, 15, 11]\n",
    "\n",
    "dates = [datetime(2010, k, 1) for k in range(1, 13)]\n",
    "\n",
    "sc_x = DateScale()\n",
    "sc_y = LinearScale()\n",
    "ax_x = Axis(scale=sc_x, label='month', tick_format='%B')\n",
    "ax_y = Axis(scale=sc_y, orientation='vertical', label='average temperature')\n",
    "\n",
    "pies = [Pie(sizes=precipit, x=date, y=temp, \n",
    "            scales={\"x\": sc_x, \"y\": sc_y}, radius=30., stroke='navy',\n",
    "            colors=['navy', 'navy'], opacities=[1, .1]) \n",
    "        for precipit, date, temp in zip(avg_precipitation_days, dates, temperatures)]\n",
    "\n",
    "Figure(title='Kathmandu precipitation', marks=pies, axes=[ax_x, ax_y],\n",
    "       padding_x=.05, padding_y=.1)"
   ]
  }
 ],
 "metadata": {
  "kernelspec": {
   "display_name": "Python 3",
   "language": "python",
   "name": "python3"
  },
  "language_info": {
   "codemirror_mode": {
    "name": "ipython",
    "version": 3
   },
   "file_extension": ".py",
   "mimetype": "text/x-python",
   "name": "python",
   "nbconvert_exporter": "python",
   "pygments_lexer": "ipython3",
   "version": "3.5.2"
  },
  "widgets": {
   "application/vnd.jupyter.widget-state+json": {
    "state": {
     "05e714a99b4642908e375d140747ea57": {
      "model_module": "bqplot",
      "model_module_version": "*",
      "model_name": "PieModel",
      "state": {
       "color": {
        "type": null,
        "values": null
       },
       "colors": [
        "navy",
        "navy"
       ],
       "display_labels": true,
       "display_legend": false,
       "font_size": "10px",
       "font_weight": "normal",
       "label_color": null,
       "opacities": [
        1,
        0.1
       ],
       "radius": 30,
       "scales": {
        "x": "IPY_MODEL_9c00fc73f1a94197a3648a6fea2632d7",
        "y": "IPY_MODEL_d220b188bf6a46beb8c65b625cdf27c7"
       },
       "sizes": {
        "type": "float64",
        "values": [
         0.06666666666666667,
         0.9333333333333333
        ]
       },
       "stroke": "navy",
       "x": "2010-01-01T00:00:00.000000",
       "y": 9
      }
     },
     "08757e1855464d42b8128bd7dccbf196": {
      "model_module": "bqplot",
      "model_module_version": "*",
      "model_name": "PieModel",
      "state": {
       "color": {
        "type": null,
        "values": null
       },
       "colors": [
        "navy",
        "navy"
       ],
       "display_labels": true,
       "display_legend": false,
       "font_size": "10px",
       "font_weight": "normal",
       "label_color": null,
       "opacities": [
        1,
        0.1
       ],
       "radius": 30,
       "scales": {
        "x": "IPY_MODEL_9c00fc73f1a94197a3648a6fea2632d7",
        "y": "IPY_MODEL_d220b188bf6a46beb8c65b625cdf27c7"
       },
       "sizes": {
        "type": "float64",
        "values": [
         0.7333333333333333,
         0.2666666666666667
        ]
       },
       "stroke": "navy",
       "x": "2010-08-01T00:00:00.000000",
       "y": 22
      }
     },
     "09bfa062583e413fa990d4af75486ce3": {
      "model_module": "bqplot",
      "model_module_version": "*",
      "model_name": "AxisModel",
      "state": {
       "label": "month",
       "scale": "IPY_MODEL_9c00fc73f1a94197a3648a6fea2632d7",
       "side": "bottom",
       "tick_format": "%B",
       "tick_values": {
        "type": null,
        "values": null
       }
      }
     },
     "0dfa2caab9c24ef69d07c8914aea2023": {
      "model_module": "bqplot",
      "model_module_version": "*",
      "model_name": "LinearScaleModel",
      "state": {
       "allow_padding": false,
       "max": 1,
       "min": 0,
       "stabilized": false
      }
     },
     "3f5881eef40847029bc58ff329d60f73": {
      "model_module": "bqplot",
      "model_module_version": "*",
      "model_name": "LinearScaleModel",
      "state": {
       "allow_padding": false,
       "max": 1,
       "min": 0,
       "stabilized": false
      }
     },
     "483218194b7f4b2d87bf0754795a3768": {
      "model_module": "bqplot",
      "model_module_version": "*",
      "model_name": "PieModel",
      "state": {
       "color": {
        "type": null,
        "values": null
       },
       "colors": [
        "navy",
        "navy"
       ],
       "display_labels": true,
       "display_legend": false,
       "font_size": "10px",
       "font_weight": "normal",
       "label_color": null,
       "opacities": [
        1,
        0.1
       ],
       "radius": 30,
       "scales": {
        "x": "IPY_MODEL_9c00fc73f1a94197a3648a6fea2632d7",
        "y": "IPY_MODEL_d220b188bf6a46beb8c65b625cdf27c7"
       },
       "sizes": {
        "type": "float64",
        "values": [
         0.1,
         0.9
        ]
       },
       "stroke": "navy",
       "x": "2010-02-01T00:00:00.000000",
       "y": 12
      }
     },
     "4a51ef8a8ef34b58bb13d70338407c56": {
      "model_module": "bqplot",
      "model_module_version": "*",
      "model_name": "ColorAxisModel",
      "state": {
       "scale": "IPY_MODEL_c8d9138114634353a46eb9959e49de32",
       "side": "bottom",
       "tick_values": {
        "type": null,
        "values": null
       }
      }
     },
     "4dedec3379f74509b6a81a1b0906acce": {
      "model_module": "bqplot",
      "model_module_version": "*",
      "model_name": "LinearScaleModel",
      "state": {
       "allow_padding": false,
       "max": 1,
       "min": 0,
       "stabilized": false
      }
     },
     "4f628709355945eb91612e16f27819aa": {
      "model_module": "bqplot",
      "model_module_version": "*",
      "model_name": "LinearScaleModel",
      "state": {
       "allow_padding": false,
       "max": 1,
       "min": 0,
       "stabilized": false
      }
     },
     "52053be9724e45d391b140c45e52cf60": {
      "model_module": "bqplot",
      "model_module_version": "*",
      "model_name": "PieModel",
      "state": {
       "color": {
        "type": null,
        "values": null
       },
       "colors": [
        "navy",
        "navy"
       ],
       "display_labels": true,
       "display_legend": false,
       "font_size": "10px",
       "font_weight": "normal",
       "label_color": null,
       "opacities": [
        1,
        0.1
       ],
       "radius": 30,
       "scales": {
        "x": "IPY_MODEL_9c00fc73f1a94197a3648a6fea2632d7",
        "y": "IPY_MODEL_d220b188bf6a46beb8c65b625cdf27c7"
       },
       "sizes": {
        "type": "float64",
        "values": [
         0.03333333333333333,
         0.9666666666666667
        ]
       },
       "stroke": "navy",
       "x": "2010-11-01T00:00:00.000000",
       "y": 15
      }
     },
     "52394c71d7624cd1988c486c3a17f342": {
      "model_module": "bqplot",
      "model_module_version": "*",
      "model_name": "PieModel",
      "state": {
       "color": {
        "type": null,
        "values": null
       },
       "colors": [
        "navy",
        "navy"
       ],
       "display_labels": true,
       "display_legend": false,
       "font_size": "10px",
       "font_weight": "normal",
       "label_color": null,
       "opacities": [
        1,
        0.1
       ],
       "radius": 30,
       "scales": {
        "x": "IPY_MODEL_9c00fc73f1a94197a3648a6fea2632d7",
        "y": "IPY_MODEL_d220b188bf6a46beb8c65b625cdf27c7"
       },
       "sizes": {
        "type": "float64",
        "values": [
         0.2,
         0.8
        ]
       },
       "stroke": "navy",
       "x": "2010-04-01T00:00:00.000000",
       "y": 20
      }
     },
     "5477c2d5ddb649c8810ccec024159cf7": {
      "model_module": "jupyter-js-widgets",
      "model_module_version": "*",
      "model_name": "LayoutModel",
      "state": {
       "align_self": "stretch",
       "flex": "1",
       "min_width": "400px"
      }
     },
     "5d09d018a7f2415cb18d6cabc8ce0743": {
      "model_module": "bqplot",
      "model_module_version": "*",
      "model_name": "PieModel",
      "state": {
       "color": {
        "type": null,
        "values": null
       },
       "colors": [
        "navy",
        "navy"
       ],
       "display_labels": true,
       "display_legend": false,
       "font_size": "10px",
       "font_weight": "normal",
       "label_color": null,
       "opacities": [
        1,
        0.1
       ],
       "radius": 30,
       "scales": {
        "x": "IPY_MODEL_9c00fc73f1a94197a3648a6fea2632d7",
        "y": "IPY_MODEL_d220b188bf6a46beb8c65b625cdf27c7"
       },
       "sizes": {
        "type": "float64",
        "values": [
         0.7666666666666667,
         0.23333333333333328
        ]
       },
       "stroke": "navy",
       "x": "2010-07-01T00:00:00.000000",
       "y": 22
      }
     },
     "5fd648dc878f49e6bd192eb07292ec2d": {
      "model_module": "bqplot",
      "model_module_version": "*",
      "model_name": "FigureModel",
      "state": {
       "_dom_classes": [],
       "axes": [
        "IPY_MODEL_09bfa062583e413fa990d4af75486ce3",
        "IPY_MODEL_c1ecbd570ecc4680bb6aa8708ae4ccba"
       ],
       "layout": "IPY_MODEL_7a4a6fb3804b4c0fad5a181ca713ea46",
       "marks": [
        "IPY_MODEL_05e714a99b4642908e375d140747ea57",
        "IPY_MODEL_483218194b7f4b2d87bf0754795a3768",
        "IPY_MODEL_afda98ad0f6c48d79b4ea536b76335dc",
        "IPY_MODEL_52394c71d7624cd1988c486c3a17f342",
        "IPY_MODEL_62468585ac8a41da9bf2f876ea22dcfa",
        "IPY_MODEL_8b0bb765b80347d3a80794e7e8191a08",
        "IPY_MODEL_5d09d018a7f2415cb18d6cabc8ce0743",
        "IPY_MODEL_08757e1855464d42b8128bd7dccbf196",
        "IPY_MODEL_e29d405a0df544b290b7d8c9bab8b61e",
        "IPY_MODEL_ec67d7aec45c40899dab3c476a0cddea",
        "IPY_MODEL_52053be9724e45d391b140c45e52cf60",
        "IPY_MODEL_dfea5348b7ea469db600fdd91e1412c6"
       ],
       "padding_x": 0.05,
       "padding_y": 0.1,
       "scale_x": "IPY_MODEL_75d5020c662840e08398db4714ee2977",
       "scale_y": "IPY_MODEL_3f5881eef40847029bc58ff329d60f73",
       "title": "Kathmandu precipitation"
      }
     },
     "62468585ac8a41da9bf2f876ea22dcfa": {
      "model_module": "bqplot",
      "model_module_version": "*",
      "model_name": "PieModel",
      "state": {
       "color": {
        "type": null,
        "values": null
       },
       "colors": [
        "navy",
        "navy"
       ],
       "display_labels": true,
       "display_legend": false,
       "font_size": "10px",
       "font_weight": "normal",
       "label_color": null,
       "opacities": [
        1,
        0.1
       ],
       "radius": 30,
       "scales": {
        "x": "IPY_MODEL_9c00fc73f1a94197a3648a6fea2632d7",
        "y": "IPY_MODEL_d220b188bf6a46beb8c65b625cdf27c7"
       },
       "sizes": {
        "type": "float64",
        "values": [
         0.4,
         0.6
        ]
       },
       "stroke": "navy",
       "x": "2010-05-01T00:00:00.000000",
       "y": 22
      }
     },
     "69435ec80f644ef9b9c97a9a7d30ed93": {
      "model_module": "bqplot",
      "model_module_version": "*",
      "model_name": "FigureModel",
      "state": {
       "_dom_classes": [],
       "animation_duration": 1000,
       "layout": "IPY_MODEL_dd1aedcf869247bd806e16722807eb3e",
       "marks": [
        "IPY_MODEL_7d9c86bc48294944a56a0f73a2367518"
       ],
       "scale_x": "IPY_MODEL_a2d3b9db50b14cefadd3524bc6b7db34",
       "scale_y": "IPY_MODEL_0dfa2caab9c24ef69d07c8914aea2023"
      }
     },
     "75d5020c662840e08398db4714ee2977": {
      "model_module": "bqplot",
      "model_module_version": "*",
      "model_name": "LinearScaleModel",
      "state": {
       "allow_padding": false,
       "max": 1,
       "min": 0,
       "stabilized": false
      }
     },
     "7a4a6fb3804b4c0fad5a181ca713ea46": {
      "model_module": "jupyter-js-widgets",
      "model_module_version": "*",
      "model_name": "LayoutModel",
      "state": {
       "align_self": "stretch",
       "flex": "1",
       "min_width": "400px"
      }
     },
     "7d9c86bc48294944a56a0f73a2367518": {
      "model_module": "bqplot",
      "model_module_version": "*",
      "model_name": "PieModel",
      "state": {
       "color": {
        "type": null,
        "values": null
       },
       "colors": [
        "orange",
        "darkviolet"
       ],
       "display_labels": true,
       "display_legend": false,
       "end_angle": 90,
       "font_size": "10px",
       "font_weight": "normal",
       "inner_radius": 80,
       "label_color": null,
       "opacities": [
        0.1,
        1
       ],
       "radius": 320,
       "sizes": {
        "type": "float64",
        "values": [
         0.012504239822336727,
         0.7948181951505542,
         0.9675522282748965,
         0.13570435262115077,
         0.6688614109536266,
         0.8613941469828463
        ]
       },
       "start_angle": -90,
       "stroke": "brown",
       "x": 0.4,
       "y": 0.9
      }
     },
     "8b0bb765b80347d3a80794e7e8191a08": {
      "model_module": "bqplot",
      "model_module_version": "*",
      "model_name": "PieModel",
      "state": {
       "color": {
        "type": null,
        "values": null
       },
       "colors": [
        "navy",
        "navy"
       ],
       "display_labels": true,
       "display_legend": false,
       "font_size": "10px",
       "font_weight": "normal",
       "label_color": null,
       "opacities": [
        1,
        0.1
       ],
       "radius": 30,
       "scales": {
        "x": "IPY_MODEL_9c00fc73f1a94197a3648a6fea2632d7",
        "y": "IPY_MODEL_d220b188bf6a46beb8c65b625cdf27c7"
       },
       "sizes": {
        "type": "float64",
        "values": [
         0.5666666666666667,
         0.43333333333333335
        ]
       },
       "stroke": "navy",
       "x": "2010-06-01T00:00:00.000000",
       "y": 23
      }
     },
     "9c00fc73f1a94197a3648a6fea2632d7": {
      "model_module": "bqplot",
      "model_module_version": "*",
      "model_name": "DateScaleModel",
      "state": {}
     },
     "a2d3b9db50b14cefadd3524bc6b7db34": {
      "model_module": "bqplot",
      "model_module_version": "*",
      "model_name": "LinearScaleModel",
      "state": {
       "allow_padding": false,
       "max": 1,
       "min": 0,
       "stabilized": false
      }
     },
     "a6a93b19e2074920b3cf348cf5d5b805": {
      "model_module": "bqplot",
      "model_module_version": "*",
      "model_name": "PieModel",
      "state": {
       "color": {
        "type": "float64",
        "values": [
         -0.2042504381932294,
         -0.29073200556998663,
         0.16075507629657043,
         2.357607323053183,
         1.4965434462948897,
         0.9968388750038079,
         0.31358288478500185
        ]
       },
       "display_labels": true,
       "display_legend": false,
       "font_size": "10px",
       "font_weight": "normal",
       "label_color": null,
       "scales": {
        "color": "IPY_MODEL_c8d9138114634353a46eb9959e49de32"
       },
       "sizes": {
        "type": "float64",
        "values": [
         0.8978004669783741,
         0.7174260881887884,
         0.1815265921742082,
         0.9109133698094247,
         0.18791075388487677,
         0.513222776106879,
         0.8028027732104316
        ]
       }
      }
     },
     "a8a9c1986c1646c3b7d7cf88a36e7e3a": {
      "model_module": "bqplot",
      "model_module_version": "*",
      "model_name": "FigureModel",
      "state": {
       "_dom_classes": [],
       "axes": [
        "IPY_MODEL_4a51ef8a8ef34b58bb13d70338407c56"
       ],
       "layout": "IPY_MODEL_d2be81263db349e6a42ea90751f58cc1",
       "marks": [
        "IPY_MODEL_a6a93b19e2074920b3cf348cf5d5b805"
       ],
       "scale_x": "IPY_MODEL_d37662d60b61476d93cc7309b2931bd8",
       "scale_y": "IPY_MODEL_ed51c5329a0744f587cec7a2a3ced070"
      }
     },
     "abfcdb8f5f274fe984d8b05484e91ccc": {
      "model_module": "bqplot",
      "model_module_version": "*",
      "model_name": "FigureModel",
      "state": {
       "_dom_classes": [],
       "animation_duration": 1000,
       "layout": "IPY_MODEL_5477c2d5ddb649c8810ccec024159cf7",
       "marks": [
        "IPY_MODEL_deea9b0dc1f8404f977c9aefbc4e48f4"
       ],
       "scale_x": "IPY_MODEL_4f628709355945eb91612e16f27819aa",
       "scale_y": "IPY_MODEL_4dedec3379f74509b6a81a1b0906acce"
      }
     },
     "afda98ad0f6c48d79b4ea536b76335dc": {
      "model_module": "bqplot",
      "model_module_version": "*",
      "model_name": "PieModel",
      "state": {
       "color": {
        "type": null,
        "values": null
       },
       "colors": [
        "navy",
        "navy"
       ],
       "display_labels": true,
       "display_legend": false,
       "font_size": "10px",
       "font_weight": "normal",
       "label_color": null,
       "opacities": [
        1,
        0.1
       ],
       "radius": 30,
       "scales": {
        "x": "IPY_MODEL_9c00fc73f1a94197a3648a6fea2632d7",
        "y": "IPY_MODEL_d220b188bf6a46beb8c65b625cdf27c7"
       },
       "sizes": {
        "type": "float64",
        "values": [
         0.13333333333333333,
         0.8666666666666667
        ]
       },
       "stroke": "navy",
       "x": "2010-03-01T00:00:00.000000",
       "y": 16
      }
     },
     "c1ecbd570ecc4680bb6aa8708ae4ccba": {
      "model_module": "bqplot",
      "model_module_version": "*",
      "model_name": "AxisModel",
      "state": {
       "label": "average temperature",
       "orientation": "vertical",
       "scale": "IPY_MODEL_d220b188bf6a46beb8c65b625cdf27c7",
       "side": "left",
       "tick_values": {
        "type": null,
        "values": null
       }
      }
     },
     "c8d9138114634353a46eb9959e49de32": {
      "model_module": "bqplot",
      "model_module_version": "*",
      "model_name": "ColorScaleModel",
      "state": {
       "_model_name": "ColorScaleModel",
       "_view_name": "ColorScale",
       "colors": [],
       "mid": null,
       "scale_type": "linear",
       "scheme": "Reds"
      }
     },
     "d220b188bf6a46beb8c65b625cdf27c7": {
      "model_module": "bqplot",
      "model_module_version": "*",
      "model_name": "LinearScaleModel",
      "state": {
       "stabilized": false
      }
     },
     "d2be81263db349e6a42ea90751f58cc1": {
      "model_module": "jupyter-js-widgets",
      "model_module_version": "*",
      "model_name": "LayoutModel",
      "state": {
       "align_self": "stretch",
       "flex": "1",
       "min_width": "400px"
      }
     },
     "d37662d60b61476d93cc7309b2931bd8": {
      "model_module": "bqplot",
      "model_module_version": "*",
      "model_name": "LinearScaleModel",
      "state": {
       "allow_padding": false,
       "max": 1,
       "min": 0,
       "stabilized": false
      }
     },
     "dd1aedcf869247bd806e16722807eb3e": {
      "model_module": "jupyter-js-widgets",
      "model_module_version": "*",
      "model_name": "LayoutModel",
      "state": {
       "align_self": "stretch",
       "flex": "1",
       "min_width": "400px"
      }
     },
     "deea9b0dc1f8404f977c9aefbc4e48f4": {
      "model_module": "bqplot",
      "model_module_version": "*",
      "model_name": "PieModel",
      "state": {
       "color": {
        "type": null,
        "values": null
       },
       "display_labels": true,
       "display_legend": false,
       "font_size": "20px",
       "font_weight": "normal",
       "label_color": "white",
       "labels": [
        "0.84",
        "0.58",
        "0.45",
        "0.72",
        "0.37"
       ],
       "selected": null,
       "selected_style": {
        "opacity": "1",
        "stroke": "white",
        "stroke-width": "2"
       },
       "sizes": {
        "type": "float64",
        "values": [
         0.8378177923932988,
         0.5803203210355679,
         0.4522606927302517,
         0.7196671540126603,
         0.36822398534422907
        ]
       },
       "sort": true,
       "unselected_style": {
        "opacity": "0.2"
       }
      }
     },
     "dfea5348b7ea469db600fdd91e1412c6": {
      "model_module": "bqplot",
      "model_module_version": "*",
      "model_name": "PieModel",
      "state": {
       "color": {
        "type": null,
        "values": null
       },
       "colors": [
        "navy",
        "navy"
       ],
       "display_labels": true,
       "display_legend": false,
       "font_size": "10px",
       "font_weight": "normal",
       "label_color": null,
       "opacities": [
        1,
        0.1
       ],
       "radius": 30,
       "scales": {
        "x": "IPY_MODEL_9c00fc73f1a94197a3648a6fea2632d7",
        "y": "IPY_MODEL_d220b188bf6a46beb8c65b625cdf27c7"
       },
       "sizes": {
        "type": "float64",
        "values": [
         0.03333333333333333,
         0.9666666666666667
        ]
       },
       "stroke": "navy",
       "x": "2010-12-01T00:00:00.000000",
       "y": 11
      }
     },
     "e29d405a0df544b290b7d8c9bab8b61e": {
      "model_module": "bqplot",
      "model_module_version": "*",
      "model_name": "PieModel",
      "state": {
       "color": {
        "type": null,
        "values": null
       },
       "colors": [
        "navy",
        "navy"
       ],
       "display_labels": true,
       "display_legend": false,
       "font_size": "10px",
       "font_weight": "normal",
       "label_color": null,
       "opacities": [
        1,
        0.1
       ],
       "radius": 30,
       "scales": {
        "x": "IPY_MODEL_9c00fc73f1a94197a3648a6fea2632d7",
        "y": "IPY_MODEL_d220b188bf6a46beb8c65b625cdf27c7"
       },
       "sizes": {
        "type": "float64",
        "values": [
         0.5,
         0.5
        ]
       },
       "stroke": "navy",
       "x": "2010-09-01T00:00:00.000000",
       "y": 22
      }
     },
     "ec67d7aec45c40899dab3c476a0cddea": {
      "model_module": "bqplot",
      "model_module_version": "*",
      "model_name": "PieModel",
      "state": {
       "color": {
        "type": null,
        "values": null
       },
       "colors": [
        "navy",
        "navy"
       ],
       "display_labels": true,
       "display_legend": false,
       "font_size": "10px",
       "font_weight": "normal",
       "label_color": null,
       "opacities": [
        1,
        0.1
       ],
       "radius": 30,
       "scales": {
        "x": "IPY_MODEL_9c00fc73f1a94197a3648a6fea2632d7",
        "y": "IPY_MODEL_d220b188bf6a46beb8c65b625cdf27c7"
       },
       "sizes": {
        "type": "float64",
        "values": [
         0.13333333333333333,
         0.8666666666666667
        ]
       },
       "stroke": "navy",
       "x": "2010-10-01T00:00:00.000000",
       "y": 20
      }
     },
     "ed51c5329a0744f587cec7a2a3ced070": {
      "model_module": "bqplot",
      "model_module_version": "*",
      "model_name": "LinearScaleModel",
      "state": {
       "allow_padding": false,
       "max": 1,
       "min": 0,
       "stabilized": false
      }
     }
    },
    "version_major": 1,
    "version_minor": 0
   }
  }
 },
 "nbformat": 4,
 "nbformat_minor": 1
}
