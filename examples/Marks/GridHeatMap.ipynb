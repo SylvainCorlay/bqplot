{
 "cells": [
  {
   "cell_type": "code",
   "execution_count": 1,
   "metadata": {},
   "outputs": [],
   "source": [
    "from __future__ import print_function\n",
    "import numpy as np\n",
    "from bqplot import *"
   ]
  },
  {
   "cell_type": "markdown",
   "metadata": {},
   "source": [
    "## Get Data"
   ]
  },
  {
   "cell_type": "code",
   "execution_count": 2,
   "metadata": {},
   "outputs": [],
   "source": [
    "np.random.seed(0)\n",
    "data = np.random.randn(10, 10)"
   ]
  },
  {
   "cell_type": "markdown",
   "metadata": {},
   "source": [
    "## Basic Heat map"
   ]
  },
  {
   "cell_type": "code",
   "execution_count": 3,
   "metadata": {},
   "outputs": [
    {
     "data": {
      "application/vnd.jupyter.widget-view+json": {
       "model_id": "90049233c2bd4a5780294b7eba8baa4b"
      }
     },
     "metadata": {},
     "output_type": "display_data"
    }
   ],
   "source": [
    "col_sc = ColorScale()\n",
    "grid_map = GridHeatMap(color=data, scales={'color': col_sc})\n",
    "\n",
    "Figure(marks=[grid_map], padding_y=0.0)"
   ]
  },
  {
   "cell_type": "markdown",
   "metadata": {},
   "source": [
    "## Heat map with axes"
   ]
  },
  {
   "cell_type": "code",
   "execution_count": 4,
   "metadata": {},
   "outputs": [
    {
     "data": {
      "application/vnd.jupyter.widget-view+json": {
       "model_id": "98f3847c46f2426cb1d1da5bc7d2eb89"
      }
     },
     "metadata": {},
     "output_type": "display_data"
    }
   ],
   "source": [
    "x_sc, y_sc, col_sc = OrdinalScale(), OrdinalScale(reverse=True), ColorScale()\n",
    "\n",
    "grid_map = GridHeatMap(color=data, scales={'column': x_sc, 'row': y_sc, 'color': col_sc})\n",
    "ax_x, ax_y = Axis(scale=x_sc), Axis(scale=y_sc, orientation='vertical')\n",
    "\n",
    "Figure(marks=[grid_map], axes=[ax_x, ax_y], padding_y=0.0)"
   ]
  },
  {
   "cell_type": "markdown",
   "metadata": {},
   "source": [
    "## Non Uniform Heat map"
   ]
  },
  {
   "cell_type": "code",
   "execution_count": 5,
   "metadata": {},
   "outputs": [
    {
     "data": {
      "application/vnd.jupyter.widget-view+json": {
       "model_id": "d39766eeb3074f3c91afba3f57566302"
      }
     },
     "metadata": {},
     "output_type": "display_data"
    }
   ],
   "source": [
    "x_sc, y_sc, col_sc = LinearScale(), LinearScale(reverse=True), ColorScale()\n",
    "ax_x = Axis(scale=x_sc)\n",
    "ax_y = Axis(scale=y_sc, orientation='vertical')\n",
    "\n",
    "## The data along the rows is not uniform. Hence the 5th row(from top) of the map\n",
    "## is twice the height of the remaining rows.\n",
    "row_data = np.arange(10)\n",
    "row_data[5:] = np.arange(6, 11)\n",
    "\n",
    "column_data = np.arange(10, 20)\n",
    "\n",
    "grid_map = GridHeatMap(row=row_data, column=column_data, color=data,\n",
    "                       scales={'row': y_sc, 'column': x_sc, 'color': col_sc})\n",
    "Figure(marks=[grid_map], padding_y=0.0, axes=[ax_x, ax_y])"
   ]
  },
  {
   "cell_type": "code",
   "execution_count": 6,
   "metadata": {
    "scrolled": true
   },
   "outputs": [
    {
     "name": "stdout",
     "output_type": "stream",
     "text": [
      "(10,)\n",
      "(10,)\n",
      "(10, 10)\n"
     ]
    }
   ],
   "source": [
    "print(row_data.shape)\n",
    "print(column_data.shape)\n",
    "print(data.shape)"
   ]
  },
  {
   "cell_type": "markdown",
   "metadata": {},
   "source": [
    "## Alignment of the data with respect to the grid"
   ]
  },
  {
   "cell_type": "markdown",
   "metadata": {},
   "source": [
    "For a `N-by-N` matrix, `N+1` points along the row or the column are assumed to be end points."
   ]
  },
  {
   "cell_type": "code",
   "execution_count": 7,
   "metadata": {},
   "outputs": [
    {
     "data": {
      "application/vnd.jupyter.widget-view+json": {
       "model_id": "1ec2050fc9ca4fcda428c8513f083631"
      }
     },
     "metadata": {},
     "output_type": "display_data"
    }
   ],
   "source": [
    "x_sc, y_sc, col_sc = LinearScale(), LinearScale(reverse=True), ColorScale()\n",
    "ax_x = Axis(scale=x_sc)\n",
    "ax_y = Axis(scale=y_sc, orientation='vertical')\n",
    "\n",
    "row_data = np.arange(11)\n",
    "column_data = np.arange(10, 21)\n",
    "\n",
    "grid_map = GridHeatMap(row=row_data, column=column_data, color=data,\n",
    "                       scales={'row': y_sc, 'column': x_sc, 'color': col_sc})\n",
    "Figure(marks=[grid_map], padding_y=0.0, axes=[ax_x, ax_y])"
   ]
  },
  {
   "cell_type": "markdown",
   "metadata": {},
   "source": [
    "By default, for `N` points along any dimension, data aligns to the `start` of the rectangles in the grid. \n",
    "The grid extends infinitely in the other direction. By default, the grid extends infintely\n",
    "towards the bottom and the right."
   ]
  },
  {
   "cell_type": "code",
   "execution_count": 8,
   "metadata": {},
   "outputs": [
    {
     "data": {
      "application/vnd.jupyter.widget-view+json": {
       "model_id": "fb8f75ac1210495ba0cb7007c4f5b8aa"
      }
     },
     "metadata": {},
     "output_type": "display_data"
    }
   ],
   "source": [
    "x_sc, y_sc, col_sc = LinearScale(), LinearScale(reverse=True, max=15), ColorScale()\n",
    "ax_x = Axis(scale=x_sc)\n",
    "ax_y = Axis(scale=y_sc, orientation='vertical')\n",
    "\n",
    "row_data = np.arange(10)\n",
    "column_data = np.arange(10, 20)\n",
    "\n",
    "grid_map = GridHeatMap(row=row_data, column=column_data, color=data,\n",
    "                       scales={'row': y_sc, 'column': x_sc, 'color': col_sc})\n",
    "Figure(marks=[grid_map], padding_y=0.0, axes=[ax_x, ax_y])"
   ]
  },
  {
   "cell_type": "markdown",
   "metadata": {},
   "source": [
    "By changing the `row_align` and `column_align` properties, the grid can extend in the opposite direction"
   ]
  },
  {
   "cell_type": "code",
   "execution_count": 9,
   "metadata": {},
   "outputs": [
    {
     "data": {
      "application/vnd.jupyter.widget-view+json": {
       "model_id": "a4c0a3f27d4944f8812ffc2db143f83e"
      }
     },
     "metadata": {},
     "output_type": "display_data"
    }
   ],
   "source": [
    "x_sc, y_sc, col_sc = LinearScale(), LinearScale(reverse=True, min=-5, max=15), ColorScale()\n",
    "ax_x = Axis(scale=x_sc)\n",
    "ax_y = Axis(scale=y_sc, orientation='vertical')\n",
    "\n",
    "row_data = np.arange(10)\n",
    "column_data = np.arange(10, 20)\n",
    "\n",
    "grid_map = GridHeatMap(row=row_data, column=column_data, color=data,\n",
    "                      scales={'row': y_sc, 'column': x_sc, 'color': col_sc},\n",
    "                      row_align='end')\n",
    "Figure(marks=[grid_map], padding_y=0.0, axes=[ax_x, ax_y])"
   ]
  },
  {
   "cell_type": "markdown",
   "metadata": {},
   "source": [
    "For `N+1` points on any direction, the grid extends infintely in both directions"
   ]
  },
  {
   "cell_type": "code",
   "execution_count": 10,
   "metadata": {},
   "outputs": [
    {
     "data": {
      "application/vnd.jupyter.widget-view+json": {
       "model_id": "f7707abf3c4748749caf16549736055a"
      }
     },
     "metadata": {},
     "output_type": "display_data"
    }
   ],
   "source": [
    "x_sc, y_sc, col_sc = LinearScale(), LinearScale(reverse=True, min=-5, max=15), ColorScale()\n",
    "ax_x = Axis(scale=x_sc)\n",
    "ax_y = Axis(scale=y_sc, orientation='vertical')\n",
    "\n",
    "row_data = np.arange(9)\n",
    "column_data = np.arange(10, 20)\n",
    "\n",
    "grid_map = GridHeatMap(row=row_data, column=column_data, color=data, \n",
    "                       scales={'row': y_sc, 'column': x_sc, 'color': col_sc}, row_align='end')\n",
    "Figure(marks=[grid_map], padding_y=0.0, axes=[ax_x, ax_y])"
   ]
  },
  {
   "cell_type": "markdown",
   "metadata": {},
   "source": [
    "## Changing opacity and stroke"
   ]
  },
  {
   "cell_type": "code",
   "execution_count": 11,
   "metadata": {},
   "outputs": [
    {
     "data": {
      "application/vnd.jupyter.widget-view+json": {
       "model_id": "f5d9fb8653fd4815b2c9d9c0ab45357a"
      }
     },
     "metadata": {},
     "output_type": "display_data"
    }
   ],
   "source": [
    "col_sc = ColorScale()\n",
    "\n",
    "grid_map = GridHeatMap(color=data, scales={'color': col_sc}, opacity=0.3, stroke='white')\n",
    "Figure(marks=[grid_map], padding_y=0.0)"
   ]
  },
  {
   "cell_type": "markdown",
   "metadata": {},
   "source": [
    "## Selections on the grid map"
   ]
  },
  {
   "cell_type": "markdown",
   "metadata": {},
   "source": [
    "Selection on the `GridHeatMap` works similar to excel. Clicking on a cell selects the cell, and deselects the previous selection. Using the `Ctrl` key allows multiple cells to be selected, while the `Shift` key selects the range from the last cell in the selection to the current cell."
   ]
  },
  {
   "cell_type": "code",
   "execution_count": 12,
   "metadata": {},
   "outputs": [
    {
     "data": {
      "application/vnd.jupyter.widget-view+json": {
       "model_id": "6d1e06d968874a08bb34833ef0ee2ced"
      }
     },
     "metadata": {},
     "output_type": "display_data"
    }
   ],
   "source": [
    "data = np.random.randn(10, 10)\n",
    "\n",
    "col_sc = ColorScale()\n",
    "grid_map = GridHeatMap(color=data, scales={'color': col_sc}, interactions={'click':'select'},\n",
    "                      selected_style={'opacity': '1.0'}, unselected_style={'opacity': 0.4})\n",
    "\n",
    "Figure(marks=[grid_map], padding_y=0.0)"
   ]
  },
  {
   "cell_type": "markdown",
   "metadata": {},
   "source": [
    "The `selected` trait of a `GridHeatMap` contains a list of lists, with each sub-list containing the row and column index of a selected cell."
   ]
  },
  {
   "cell_type": "code",
   "execution_count": 13,
   "metadata": {
    "scrolled": false
   },
   "outputs": [
    {
     "data": {
      "text/plain": [
       "[]"
      ]
     },
     "execution_count": 13,
     "metadata": {},
     "output_type": "execute_result"
    }
   ],
   "source": [
    "grid_map.selected"
   ]
  }
 ],
 "metadata": {
  "kernelspec": {
   "display_name": "Python 3",
   "language": "python",
   "name": "python3"
  },
  "language_info": {
   "codemirror_mode": {
    "name": "ipython",
    "version": 3
   },
   "file_extension": ".py",
   "mimetype": "text/x-python",
   "name": "python",
   "nbconvert_exporter": "python",
   "pygments_lexer": "ipython3",
   "version": "3.5.2"
  },
  "widgets": {
   "application/vnd.jupyter.widget-state+json": {
    "state": {
     "07359f4e6bae43e6ac6fab464d1201d1": {
      "model_module": "bqplot",
      "model_module_version": "*",
      "model_name": "AxisModel",
      "state": {
       "scale": "IPY_MODEL_f912c5c93ee64254ab1386feebdbdb74",
       "side": "bottom",
       "tick_values": {
        "type": null,
        "values": null
       }
      }
     },
     "07d7b6ae658a409f9d5f85e690af1828": {
      "model_module": "bqplot",
      "model_module_version": "*",
      "model_name": "LinearScaleModel",
      "state": {
       "max": 15,
       "min": -5,
       "reverse": true,
       "stabilized": false
      }
     },
     "124eab2ddcab45d8bb35e3a3428d238b": {
      "model_module": "jupyter-js-widgets",
      "model_module_version": "*",
      "model_name": "LayoutModel",
      "state": {
       "align_self": "stretch",
       "flex": "1",
       "min_width": "400px"
      }
     },
     "131598d0b29f497c85ab61b0acc98b0b": {
      "model_module": "bqplot",
      "model_module_version": "*",
      "model_name": "LinearScaleModel",
      "state": {
       "max": 15,
       "min": -5,
       "reverse": true,
       "stabilized": false
      }
     },
     "1436d34f1ce84ee5a3045cd0d2441b13": {
      "model_module": "bqplot",
      "model_module_version": "*",
      "model_name": "ColorScaleModel",
      "state": {
       "_model_name": "ColorScaleModel",
       "_view_name": "ColorScale",
       "colors": [],
       "mid": null,
       "scale_type": "linear",
       "scheme": "RdYlGn"
      }
     },
     "1ec2050fc9ca4fcda428c8513f083631": {
      "model_module": "bqplot",
      "model_module_version": "*",
      "model_name": "FigureModel",
      "state": {
       "_dom_classes": [],
       "axes": [
        "IPY_MODEL_20d22a290d8845bd9f89be36923956a1",
        "IPY_MODEL_751f6ba0c33744bdb4fa4f7fa52e12f4"
       ],
       "layout": "IPY_MODEL_ad91002badb4423dbde18be0ae207c58",
       "marks": [
        "IPY_MODEL_775ff41cbc4942878f8b1f499f02e260"
       ],
       "padding_y": 0,
       "scale_x": "IPY_MODEL_6bad79dfa1194b40af3af5eee831a43e",
       "scale_y": "IPY_MODEL_72547be628114fe9a172f8f2015e79a0"
      }
     },
     "20d22a290d8845bd9f89be36923956a1": {
      "model_module": "bqplot",
      "model_module_version": "*",
      "model_name": "AxisModel",
      "state": {
       "scale": "IPY_MODEL_47f510fc01cd4f02949b5a28683c3b1a",
       "side": "bottom",
       "tick_values": {
        "type": null,
        "values": null
       }
      }
     },
     "24275841f8224f2a985fc085ab27bda6": {
      "model_module": "bqplot",
      "model_module_version": "*",
      "model_name": "AxisModel",
      "state": {
       "orientation": "vertical",
       "scale": "IPY_MODEL_57fe89b83af9458db3409d89a62bad33",
       "side": "left",
       "tick_values": {
        "type": null,
        "values": null
       }
      }
     },
     "2a77a4b318e8466da8c14b2ecc8d0d51": {
      "model_module": "bqplot",
      "model_module_version": "*",
      "model_name": "LinearScaleModel",
      "state": {
       "allow_padding": false,
       "max": 1,
       "min": 0,
       "stabilized": false
      }
     },
     "2b6039ade8dd43bc964dbc312c471e14": {
      "model_module": "bqplot",
      "model_module_version": "*",
      "model_name": "GridHeatMapModel",
      "state": {
       "color": {
        "type": "float64",
        "values": [
         [
          1.764052345967664,
          0.4001572083672233,
          0.9787379841057392,
          2.240893199201458,
          1.8675579901499675,
          -0.977277879876411,
          0.9500884175255894,
          -0.1513572082976979,
          -0.10321885179355784,
          0.41059850193837233
         ],
         [
          0.144043571160878,
          1.454273506962975,
          0.7610377251469934,
          0.12167501649282841,
          0.44386323274542566,
          0.33367432737426683,
          1.4940790731576061,
          -0.20515826376580087,
          0.31306770165090136,
          -0.8540957393017248
         ],
         [
          -2.5529898158340787,
          0.6536185954403606,
          0.8644361988595057,
          -0.7421650204064419,
          2.2697546239876076,
          -1.4543656745987648,
          0.04575851730144607,
          -0.1871838500258336,
          1.5327792143584575,
          1.469358769900285
         ],
         [
          0.1549474256969163,
          0.37816251960217356,
          -0.8877857476301128,
          -1.980796468223927,
          -0.3479121493261526,
          0.15634896910398005,
          1.2302906807277207,
          1.2023798487844113,
          -0.3873268174079523,
          -0.30230275057533557
         ],
         [
          -1.0485529650670926,
          -1.4200179371789752,
          -1.7062701906250126,
          1.9507753952317897,
          -0.5096521817516535,
          -0.4380743016111864,
          -1.2527953600499262,
          0.7774903558319101,
          -1.6138978475579515,
          -0.2127402802139687
         ],
         [
          -0.8954665611936756,
          0.386902497859262,
          -0.510805137568873,
          -1.180632184122412,
          -0.028182228338654868,
          0.42833187053041766,
          0.06651722238316789,
          0.3024718977397814,
          -0.6343220936809637,
          -0.3627411659871382
         ],
         [
          -0.672460447775951,
          -0.3595531615405413,
          -0.813146282044454,
          -1.7262826023316769,
          0.17742614225375286,
          -0.40178093620826194,
          -1.6301983469660446,
          0.4627822555257742,
          -0.9072983643832422,
          0.05194539579613895
         ],
         [
          0.7290905621775369,
          0.12898291075741067,
          1.1394006845433007,
          -1.2348258203536526,
          0.402341641177549,
          -0.6848100909403132,
          -0.8707971491818818,
          -0.5788496647644155,
          -0.31155253212737266,
          0.05616534222974544
         ],
         [
          -1.1651498407833565,
          0.9008264869541871,
          0.46566243973045984,
          -1.5362436862772237,
          1.4882521937955997,
          1.8958891760305832,
          1.1787795711596507,
          -0.17992483581235091,
          -1.0707526215105425,
          1.0544517269311366
         ],
         [
          -0.40317694697317963,
          1.2224450703824274,
          0.2082749780768603,
          0.9766390364837128,
          0.3563663971744019,
          0.7065731681919482,
          0.010500020720820478,
          1.7858704939058352,
          0.12691209270361992,
          0.40198936344470165
         ]
        ]
       },
       "column": {
        "type": "float",
        "values": [
         10,
         11,
         12,
         13,
         14,
         15,
         16,
         17,
         18,
         19
        ]
       },
       "display_legend": false,
       "row": {
        "type": "float",
        "values": [
         0,
         1,
         2,
         3,
         4,
         5,
         6,
         7,
         8
        ]
       },
       "row_align": "end",
       "scales": {
        "color": "IPY_MODEL_9f10340eae6f449ba050b8ae8a85d73b",
        "column": "IPY_MODEL_f912c5c93ee64254ab1386feebdbdb74",
        "row": "IPY_MODEL_131598d0b29f497c85ab61b0acc98b0b"
       }
      }
     },
     "31132893e5dc491b89545b4436d71790": {
      "model_module": "jupyter-js-widgets",
      "model_module_version": "*",
      "model_name": "LayoutModel",
      "state": {
       "align_self": "stretch",
       "flex": "1",
       "min_width": "400px"
      }
     },
     "323b65992b304264b3a6dbcc954766d7": {
      "model_module": "jupyter-js-widgets",
      "model_module_version": "*",
      "model_name": "LayoutModel",
      "state": {
       "align_self": "stretch",
       "flex": "1",
       "min_width": "400px"
      }
     },
     "3771bf748ffb486987b7de46b7207746": {
      "model_module": "bqplot",
      "model_module_version": "*",
      "model_name": "ColorScaleModel",
      "state": {
       "_model_name": "ColorScaleModel",
       "_view_name": "ColorScale",
       "colors": [],
       "mid": null,
       "scale_type": "linear",
       "scheme": "RdYlGn"
      }
     },
     "385353938dbd405692c27a6df7afca95": {
      "model_module": "bqplot",
      "model_module_version": "*",
      "model_name": "LinearScaleModel",
      "state": {
       "stabilized": false
      }
     },
     "3da9446148934f25a5c0672d34a70958": {
      "model_module": "bqplot",
      "model_module_version": "*",
      "model_name": "LinearScaleModel",
      "state": {
       "stabilized": false
      }
     },
     "42edf78823964f469cb975d24488a3f3": {
      "model_module": "bqplot",
      "model_module_version": "*",
      "model_name": "OrdinalScaleModel",
      "state": {
       "domain": [],
       "reverse": true
      }
     },
     "4303c2ee131b435ea306bcf3ec40aa0f": {
      "model_module": "bqplot",
      "model_module_version": "*",
      "model_name": "LinearScaleModel",
      "state": {
       "allow_padding": false,
       "max": 1,
       "min": 0,
       "stabilized": false
      }
     },
     "444946d78a464de784a612f67b814644": {
      "model_module": "bqplot",
      "model_module_version": "*",
      "model_name": "LinearScaleModel",
      "state": {
       "allow_padding": false,
       "max": 1,
       "min": 0,
       "stabilized": false
      }
     },
     "47f510fc01cd4f02949b5a28683c3b1a": {
      "model_module": "bqplot",
      "model_module_version": "*",
      "model_name": "LinearScaleModel",
      "state": {
       "stabilized": false
      }
     },
     "4c7ef2728e5847178af46f2bec05da7a": {
      "model_module": "bqplot",
      "model_module_version": "*",
      "model_name": "ColorScaleModel",
      "state": {
       "_model_name": "ColorScaleModel",
       "_view_name": "ColorScale",
       "colors": [],
       "mid": null,
       "scale_type": "linear",
       "scheme": "RdYlGn"
      }
     },
     "513b7717a7554bf49506ecb8d83cff3d": {
      "model_module": "bqplot",
      "model_module_version": "*",
      "model_name": "LinearScaleModel",
      "state": {
       "allow_padding": false,
       "max": 1,
       "min": 0,
       "stabilized": false
      }
     },
     "520ec915eafa4643a6b994b03f044c09": {
      "model_module": "bqplot",
      "model_module_version": "*",
      "model_name": "LinearScaleModel",
      "state": {
       "allow_padding": false,
       "max": 1,
       "min": 0,
       "stabilized": false
      }
     },
     "53e2353c9e854ee8846adad670a35756": {
      "model_module": "bqplot",
      "model_module_version": "*",
      "model_name": "OrdinalScaleModel",
      "state": {
       "domain": []
      }
     },
     "57f5fbce413b4a7ab608274b68df50d6": {
      "model_module": "bqplot",
      "model_module_version": "*",
      "model_name": "GridHeatMapModel",
      "state": {
       "color": {
        "type": "float64",
        "values": [
         [
          1.764052345967664,
          0.4001572083672233,
          0.9787379841057392,
          2.240893199201458,
          1.8675579901499675,
          -0.977277879876411,
          0.9500884175255894,
          -0.1513572082976979,
          -0.10321885179355784,
          0.41059850193837233
         ],
         [
          0.144043571160878,
          1.454273506962975,
          0.7610377251469934,
          0.12167501649282841,
          0.44386323274542566,
          0.33367432737426683,
          1.4940790731576061,
          -0.20515826376580087,
          0.31306770165090136,
          -0.8540957393017248
         ],
         [
          -2.5529898158340787,
          0.6536185954403606,
          0.8644361988595057,
          -0.7421650204064419,
          2.2697546239876076,
          -1.4543656745987648,
          0.04575851730144607,
          -0.1871838500258336,
          1.5327792143584575,
          1.469358769900285
         ],
         [
          0.1549474256969163,
          0.37816251960217356,
          -0.8877857476301128,
          -1.980796468223927,
          -0.3479121493261526,
          0.15634896910398005,
          1.2302906807277207,
          1.2023798487844113,
          -0.3873268174079523,
          -0.30230275057533557
         ],
         [
          -1.0485529650670926,
          -1.4200179371789752,
          -1.7062701906250126,
          1.9507753952317897,
          -0.5096521817516535,
          -0.4380743016111864,
          -1.2527953600499262,
          0.7774903558319101,
          -1.6138978475579515,
          -0.2127402802139687
         ],
         [
          -0.8954665611936756,
          0.386902497859262,
          -0.510805137568873,
          -1.180632184122412,
          -0.028182228338654868,
          0.42833187053041766,
          0.06651722238316789,
          0.3024718977397814,
          -0.6343220936809637,
          -0.3627411659871382
         ],
         [
          -0.672460447775951,
          -0.3595531615405413,
          -0.813146282044454,
          -1.7262826023316769,
          0.17742614225375286,
          -0.40178093620826194,
          -1.6301983469660446,
          0.4627822555257742,
          -0.9072983643832422,
          0.05194539579613895
         ],
         [
          0.7290905621775369,
          0.12898291075741067,
          1.1394006845433007,
          -1.2348258203536526,
          0.402341641177549,
          -0.6848100909403132,
          -0.8707971491818818,
          -0.5788496647644155,
          -0.31155253212737266,
          0.05616534222974544
         ],
         [
          -1.1651498407833565,
          0.9008264869541871,
          0.46566243973045984,
          -1.5362436862772237,
          1.4882521937955997,
          1.8958891760305832,
          1.1787795711596507,
          -0.17992483581235091,
          -1.0707526215105425,
          1.0544517269311366
         ],
         [
          -0.40317694697317963,
          1.2224450703824274,
          0.2082749780768603,
          0.9766390364837128,
          0.3563663971744019,
          0.7065731681919482,
          0.010500020720820478,
          1.7858704939058352,
          0.12691209270361992,
          0.40198936344470165
         ]
        ]
       },
       "column": {
        "type": "float",
        "values": [
         10,
         11,
         12,
         13,
         14,
         15,
         16,
         17,
         18,
         19
        ]
       },
       "display_legend": false,
       "row": {
        "type": "float",
        "values": [
         0,
         1,
         2,
         3,
         4,
         5,
         6,
         7,
         8,
         9
        ]
       },
       "scales": {
        "color": "IPY_MODEL_4c7ef2728e5847178af46f2bec05da7a",
        "column": "IPY_MODEL_3da9446148934f25a5c0672d34a70958",
        "row": "IPY_MODEL_68d46a85368b4d57ac7c9d5532d4c09d"
       }
      }
     },
     "57fe89b83af9458db3409d89a62bad33": {
      "model_module": "bqplot",
      "model_module_version": "*",
      "model_name": "LinearScaleModel",
      "state": {
       "reverse": true,
       "stabilized": false
      }
     },
     "5a8a79a765ed4a49960a3726acf0b4da": {
      "model_module": "bqplot",
      "model_module_version": "*",
      "model_name": "ColorScaleModel",
      "state": {
       "_model_name": "ColorScaleModel",
       "_view_name": "ColorScale",
       "colors": [],
       "mid": null,
       "scale_type": "linear",
       "scheme": "RdYlGn"
      }
     },
     "6528fbed2f084156bfc038e59db0fdd0": {
      "model_module": "bqplot",
      "model_module_version": "*",
      "model_name": "ColorScaleModel",
      "state": {
       "_model_name": "ColorScaleModel",
       "_view_name": "ColorScale",
       "colors": [],
       "mid": null,
       "scale_type": "linear",
       "scheme": "RdYlGn"
      }
     },
     "68d46a85368b4d57ac7c9d5532d4c09d": {
      "model_module": "bqplot",
      "model_module_version": "*",
      "model_name": "LinearScaleModel",
      "state": {
       "max": 15,
       "reverse": true,
       "stabilized": false
      }
     },
     "6b566ba543e1405eaca69a2f7b3415a5": {
      "model_module": "bqplot",
      "model_module_version": "*",
      "model_name": "AxisModel",
      "state": {
       "orientation": "vertical",
       "scale": "IPY_MODEL_68d46a85368b4d57ac7c9d5532d4c09d",
       "side": "left",
       "tick_values": {
        "type": null,
        "values": null
       }
      }
     },
     "6bad79dfa1194b40af3af5eee831a43e": {
      "model_module": "bqplot",
      "model_module_version": "*",
      "model_name": "LinearScaleModel",
      "state": {
       "allow_padding": false,
       "max": 1,
       "min": 0,
       "stabilized": false
      }
     },
     "6d1e06d968874a08bb34833ef0ee2ced": {
      "model_module": "bqplot",
      "model_module_version": "*",
      "model_name": "FigureModel",
      "state": {
       "_dom_classes": [],
       "layout": "IPY_MODEL_b0bfb38fd0e7486b89687e352100f752",
       "marks": [
        "IPY_MODEL_8c27b292b8814940a8e306be4a1738e6"
       ],
       "padding_y": 0,
       "scale_x": "IPY_MODEL_e1de0556a1f24c92b3bab937e3eb053d",
       "scale_y": "IPY_MODEL_8b0685a79966405097db71d2c0b23a7d"
      }
     },
     "6e0f855e74da40bf8aff32bc58e6efd8": {
      "model_module": "bqplot",
      "model_module_version": "*",
      "model_name": "GridHeatMapModel",
      "state": {
       "color": {
        "type": "float64",
        "values": [
         [
          1.764052345967664,
          0.4001572083672233,
          0.9787379841057392,
          2.240893199201458,
          1.8675579901499675,
          -0.977277879876411,
          0.9500884175255894,
          -0.1513572082976979,
          -0.10321885179355784,
          0.41059850193837233
         ],
         [
          0.144043571160878,
          1.454273506962975,
          0.7610377251469934,
          0.12167501649282841,
          0.44386323274542566,
          0.33367432737426683,
          1.4940790731576061,
          -0.20515826376580087,
          0.31306770165090136,
          -0.8540957393017248
         ],
         [
          -2.5529898158340787,
          0.6536185954403606,
          0.8644361988595057,
          -0.7421650204064419,
          2.2697546239876076,
          -1.4543656745987648,
          0.04575851730144607,
          -0.1871838500258336,
          1.5327792143584575,
          1.469358769900285
         ],
         [
          0.1549474256969163,
          0.37816251960217356,
          -0.8877857476301128,
          -1.980796468223927,
          -0.3479121493261526,
          0.15634896910398005,
          1.2302906807277207,
          1.2023798487844113,
          -0.3873268174079523,
          -0.30230275057533557
         ],
         [
          -1.0485529650670926,
          -1.4200179371789752,
          -1.7062701906250126,
          1.9507753952317897,
          -0.5096521817516535,
          -0.4380743016111864,
          -1.2527953600499262,
          0.7774903558319101,
          -1.6138978475579515,
          -0.2127402802139687
         ],
         [
          -0.8954665611936756,
          0.386902497859262,
          -0.510805137568873,
          -1.180632184122412,
          -0.028182228338654868,
          0.42833187053041766,
          0.06651722238316789,
          0.3024718977397814,
          -0.6343220936809637,
          -0.3627411659871382
         ],
         [
          -0.672460447775951,
          -0.3595531615405413,
          -0.813146282044454,
          -1.7262826023316769,
          0.17742614225375286,
          -0.40178093620826194,
          -1.6301983469660446,
          0.4627822555257742,
          -0.9072983643832422,
          0.05194539579613895
         ],
         [
          0.7290905621775369,
          0.12898291075741067,
          1.1394006845433007,
          -1.2348258203536526,
          0.402341641177549,
          -0.6848100909403132,
          -0.8707971491818818,
          -0.5788496647644155,
          -0.31155253212737266,
          0.05616534222974544
         ],
         [
          -1.1651498407833565,
          0.9008264869541871,
          0.46566243973045984,
          -1.5362436862772237,
          1.4882521937955997,
          1.8958891760305832,
          1.1787795711596507,
          -0.17992483581235091,
          -1.0707526215105425,
          1.0544517269311366
         ],
         [
          -0.40317694697317963,
          1.2224450703824274,
          0.2082749780768603,
          0.9766390364837128,
          0.3563663971744019,
          0.7065731681919482,
          0.010500020720820478,
          1.7858704939058352,
          0.12691209270361992,
          0.40198936344470165
         ]
        ]
       },
       "column": {
        "type": "float",
        "values": [
         10,
         11,
         12,
         13,
         14,
         15,
         16,
         17,
         18,
         19
        ]
       },
       "display_legend": false,
       "row": {
        "type": "float",
        "values": [
         0,
         1,
         2,
         3,
         4,
         5,
         6,
         7,
         8,
         9
        ]
       },
       "row_align": "end",
       "scales": {
        "color": "IPY_MODEL_df25ab6fd94b4d348e22d792eaca5472",
        "column": "IPY_MODEL_d9544a2eb3334b3b8753272df01bd921",
        "row": "IPY_MODEL_07d7b6ae658a409f9d5f85e690af1828"
       }
      }
     },
     "6f87c2b98f61421db8946b95f5fac872": {
      "model_module": "bqplot",
      "model_module_version": "*",
      "model_name": "LinearScaleModel",
      "state": {
       "allow_padding": false,
       "max": 1,
       "min": 0,
       "stabilized": false
      }
     },
     "717352e89cd64079bd3f4caaaf81166f": {
      "model_module": "bqplot",
      "model_module_version": "*",
      "model_name": "OrdinalScaleModel",
      "state": {
       "domain": [],
       "reverse": true
      }
     },
     "71841b88fb784f1abccfbcfc89fa5976": {
      "model_module": "bqplot",
      "model_module_version": "*",
      "model_name": "LinearScaleModel",
      "state": {
       "allow_padding": false,
       "max": 1,
       "min": 0,
       "stabilized": false
      }
     },
     "71ed0a23ec7d4d4fa3619d917b68f910": {
      "model_module": "bqplot",
      "model_module_version": "*",
      "model_name": "GridHeatMapModel",
      "state": {
       "color": {
        "type": "float64",
        "values": [
         [
          1.764052345967664,
          0.4001572083672233,
          0.9787379841057392,
          2.240893199201458,
          1.8675579901499675,
          -0.977277879876411,
          0.9500884175255894,
          -0.1513572082976979,
          -0.10321885179355784,
          0.41059850193837233
         ],
         [
          0.144043571160878,
          1.454273506962975,
          0.7610377251469934,
          0.12167501649282841,
          0.44386323274542566,
          0.33367432737426683,
          1.4940790731576061,
          -0.20515826376580087,
          0.31306770165090136,
          -0.8540957393017248
         ],
         [
          -2.5529898158340787,
          0.6536185954403606,
          0.8644361988595057,
          -0.7421650204064419,
          2.2697546239876076,
          -1.4543656745987648,
          0.04575851730144607,
          -0.1871838500258336,
          1.5327792143584575,
          1.469358769900285
         ],
         [
          0.1549474256969163,
          0.37816251960217356,
          -0.8877857476301128,
          -1.980796468223927,
          -0.3479121493261526,
          0.15634896910398005,
          1.2302906807277207,
          1.2023798487844113,
          -0.3873268174079523,
          -0.30230275057533557
         ],
         [
          -1.0485529650670926,
          -1.4200179371789752,
          -1.7062701906250126,
          1.9507753952317897,
          -0.5096521817516535,
          -0.4380743016111864,
          -1.2527953600499262,
          0.7774903558319101,
          -1.6138978475579515,
          -0.2127402802139687
         ],
         [
          -0.8954665611936756,
          0.386902497859262,
          -0.510805137568873,
          -1.180632184122412,
          -0.028182228338654868,
          0.42833187053041766,
          0.06651722238316789,
          0.3024718977397814,
          -0.6343220936809637,
          -0.3627411659871382
         ],
         [
          -0.672460447775951,
          -0.3595531615405413,
          -0.813146282044454,
          -1.7262826023316769,
          0.17742614225375286,
          -0.40178093620826194,
          -1.6301983469660446,
          0.4627822555257742,
          -0.9072983643832422,
          0.05194539579613895
         ],
         [
          0.7290905621775369,
          0.12898291075741067,
          1.1394006845433007,
          -1.2348258203536526,
          0.402341641177549,
          -0.6848100909403132,
          -0.8707971491818818,
          -0.5788496647644155,
          -0.31155253212737266,
          0.05616534222974544
         ],
         [
          -1.1651498407833565,
          0.9008264869541871,
          0.46566243973045984,
          -1.5362436862772237,
          1.4882521937955997,
          1.8958891760305832,
          1.1787795711596507,
          -0.17992483581235091,
          -1.0707526215105425,
          1.0544517269311366
         ],
         [
          -0.40317694697317963,
          1.2224450703824274,
          0.2082749780768603,
          0.9766390364837128,
          0.3563663971744019,
          0.7065731681919482,
          0.010500020720820478,
          1.7858704939058352,
          0.12691209270361992,
          0.40198936344470165
         ]
        ]
       },
       "column": {
        "type": "float",
        "values": [
         0,
         1,
         2,
         3,
         4,
         5,
         6,
         7,
         8,
         9
        ]
       },
       "display_legend": false,
       "row": {
        "type": "float",
        "values": [
         0,
         1,
         2,
         3,
         4,
         5,
         6,
         7,
         8,
         9
        ]
       },
       "scales": {
        "color": "IPY_MODEL_1436d34f1ce84ee5a3045cd0d2441b13",
        "column": "IPY_MODEL_f323006612d24d868573d32290a4e1f4",
        "row": "IPY_MODEL_7672a34e91a04a37856dc5e7ba0781ca"
       }
      }
     },
     "72547be628114fe9a172f8f2015e79a0": {
      "model_module": "bqplot",
      "model_module_version": "*",
      "model_name": "LinearScaleModel",
      "state": {
       "allow_padding": false,
       "max": 1,
       "min": 0,
       "stabilized": false
      }
     },
     "751f6ba0c33744bdb4fa4f7fa52e12f4": {
      "model_module": "bqplot",
      "model_module_version": "*",
      "model_name": "AxisModel",
      "state": {
       "orientation": "vertical",
       "scale": "IPY_MODEL_fbdc2406aadd4ace9f934ab0511fdfa7",
       "side": "left",
       "tick_values": {
        "type": null,
        "values": null
       }
      }
     },
     "7672a34e91a04a37856dc5e7ba0781ca": {
      "model_module": "bqplot",
      "model_module_version": "*",
      "model_name": "OrdinalScaleModel",
      "state": {
       "domain": [],
       "reverse": true
      }
     },
     "775ff41cbc4942878f8b1f499f02e260": {
      "model_module": "bqplot",
      "model_module_version": "*",
      "model_name": "GridHeatMapModel",
      "state": {
       "color": {
        "type": "float64",
        "values": [
         [
          1.764052345967664,
          0.4001572083672233,
          0.9787379841057392,
          2.240893199201458,
          1.8675579901499675,
          -0.977277879876411,
          0.9500884175255894,
          -0.1513572082976979,
          -0.10321885179355784,
          0.41059850193837233
         ],
         [
          0.144043571160878,
          1.454273506962975,
          0.7610377251469934,
          0.12167501649282841,
          0.44386323274542566,
          0.33367432737426683,
          1.4940790731576061,
          -0.20515826376580087,
          0.31306770165090136,
          -0.8540957393017248
         ],
         [
          -2.5529898158340787,
          0.6536185954403606,
          0.8644361988595057,
          -0.7421650204064419,
          2.2697546239876076,
          -1.4543656745987648,
          0.04575851730144607,
          -0.1871838500258336,
          1.5327792143584575,
          1.469358769900285
         ],
         [
          0.1549474256969163,
          0.37816251960217356,
          -0.8877857476301128,
          -1.980796468223927,
          -0.3479121493261526,
          0.15634896910398005,
          1.2302906807277207,
          1.2023798487844113,
          -0.3873268174079523,
          -0.30230275057533557
         ],
         [
          -1.0485529650670926,
          -1.4200179371789752,
          -1.7062701906250126,
          1.9507753952317897,
          -0.5096521817516535,
          -0.4380743016111864,
          -1.2527953600499262,
          0.7774903558319101,
          -1.6138978475579515,
          -0.2127402802139687
         ],
         [
          -0.8954665611936756,
          0.386902497859262,
          -0.510805137568873,
          -1.180632184122412,
          -0.028182228338654868,
          0.42833187053041766,
          0.06651722238316789,
          0.3024718977397814,
          -0.6343220936809637,
          -0.3627411659871382
         ],
         [
          -0.672460447775951,
          -0.3595531615405413,
          -0.813146282044454,
          -1.7262826023316769,
          0.17742614225375286,
          -0.40178093620826194,
          -1.6301983469660446,
          0.4627822555257742,
          -0.9072983643832422,
          0.05194539579613895
         ],
         [
          0.7290905621775369,
          0.12898291075741067,
          1.1394006845433007,
          -1.2348258203536526,
          0.402341641177549,
          -0.6848100909403132,
          -0.8707971491818818,
          -0.5788496647644155,
          -0.31155253212737266,
          0.05616534222974544
         ],
         [
          -1.1651498407833565,
          0.9008264869541871,
          0.46566243973045984,
          -1.5362436862772237,
          1.4882521937955997,
          1.8958891760305832,
          1.1787795711596507,
          -0.17992483581235091,
          -1.0707526215105425,
          1.0544517269311366
         ],
         [
          -0.40317694697317963,
          1.2224450703824274,
          0.2082749780768603,
          0.9766390364837128,
          0.3563663971744019,
          0.7065731681919482,
          0.010500020720820478,
          1.7858704939058352,
          0.12691209270361992,
          0.40198936344470165
         ]
        ]
       },
       "column": {
        "type": "float",
        "values": [
         10,
         11,
         12,
         13,
         14,
         15,
         16,
         17,
         18,
         19,
         20
        ]
       },
       "display_legend": false,
       "row": {
        "type": "float",
        "values": [
         0,
         1,
         2,
         3,
         4,
         5,
         6,
         7,
         8,
         9,
         10
        ]
       },
       "scales": {
        "color": "IPY_MODEL_5a8a79a765ed4a49960a3726acf0b4da",
        "column": "IPY_MODEL_47f510fc01cd4f02949b5a28683c3b1a",
        "row": "IPY_MODEL_fbdc2406aadd4ace9f934ab0511fdfa7"
       }
      }
     },
     "79fa9f8616a74375b12aefd108a4b8a2": {
      "model_module": "jupyter-js-widgets",
      "model_module_version": "*",
      "model_name": "LayoutModel",
      "state": {
       "align_self": "stretch",
       "flex": "1",
       "min_width": "400px"
      }
     },
     "831e6aa2cb09484d90f6a48940bfeed9": {
      "model_module": "bqplot",
      "model_module_version": "*",
      "model_name": "AxisModel",
      "state": {
       "orientation": "vertical",
       "scale": "IPY_MODEL_131598d0b29f497c85ab61b0acc98b0b",
       "side": "left",
       "tick_values": {
        "type": null,
        "values": null
       }
      }
     },
     "8574088ac3c64905a827841ffb090386": {
      "model_module": "bqplot",
      "model_module_version": "*",
      "model_name": "LinearScaleModel",
      "state": {
       "allow_padding": false,
       "max": 1,
       "min": 0,
       "stabilized": false
      }
     },
     "86c32f96dd6e4eb3a2574728e365d548": {
      "model_module": "bqplot",
      "model_module_version": "*",
      "model_name": "AxisModel",
      "state": {
       "orientation": "vertical",
       "scale": "IPY_MODEL_7672a34e91a04a37856dc5e7ba0781ca",
       "side": "left",
       "tick_values": {
        "type": null,
        "values": null
       }
      }
     },
     "87b374b816e34599a71c7abc706971f0": {
      "model_module": "bqplot",
      "model_module_version": "*",
      "model_name": "LinearScaleModel",
      "state": {
       "allow_padding": false,
       "max": 1,
       "min": 0,
       "stabilized": false
      }
     },
     "8b0685a79966405097db71d2c0b23a7d": {
      "model_module": "bqplot",
      "model_module_version": "*",
      "model_name": "LinearScaleModel",
      "state": {
       "allow_padding": false,
       "max": 1,
       "min": 0,
       "stabilized": false
      }
     },
     "8c27b292b8814940a8e306be4a1738e6": {
      "model_module": "bqplot",
      "model_module_version": "*",
      "model_name": "GridHeatMapModel",
      "state": {
       "color": {
        "type": "float64",
        "values": [
         [
          1.8831506970562544,
          -1.3477590611424464,
          -1.2704849984857336,
          0.9693967081580112,
          -1.17312340511416,
          1.9436211856492926,
          -0.41361898075974735,
          -0.7474548114407578,
          1.9229420264803847,
          1.4805147914344243
         ],
         [
          1.8675589604265699,
          0.9060446582753853,
          -0.8612256850547025,
          1.9100649530990337,
          -0.2680033709513804,
          0.8024563957963952,
          0.947251967773748,
          -0.1550100930908342,
          0.6140793703460803,
          0.9222066715665268
         ],
         [
          0.37642553115562943,
          -1.0994007905841945,
          0.298238174206056,
          1.3263858966870303,
          -0.6945678597313655,
          -0.14963454032767076,
          -0.43515355172163744,
          1.8492637284793418,
          0.6722947570124355,
          0.40746183624111043
         ],
         [
          -0.7699160744453164,
          0.5392491912918173,
          -0.6743326606573761,
          0.03183055827435118,
          -0.635846078378881,
          0.6764332949464997,
          0.5765908166149409,
          -0.20829875557799488,
          0.3960067126616453,
          -1.0930615087305058
         ],
         [
          -1.4912575927056055,
          0.4393917012645369,
          0.16667349537252904,
          0.6350314368921064,
          2.383144774863942,
          0.9444794869904138,
          -0.9128222254441586,
          1.117016288095853,
          -1.3159074105115212,
          -0.461584604814709
         ],
         [
          -0.06824160532463124,
          1.7133427216493666,
          -0.7447548220484399,
          -0.8264385386590144,
          -0.0984525244254323,
          -0.6634782863621074,
          1.126635922106507,
          -1.0799315083634233,
          -1.1474686524111024,
          -0.43782004474443403
         ],
         [
          -0.4980324506923049,
          1.9295320538169858,
          0.9494208069257608,
          0.0875512413851909,
          -1.225435518830168,
          0.8443629764015471,
          -1.0002153473895647,
          -1.5447710967776116,
          1.1880297923523018,
          0.3169426119248496
         ],
         [
          0.920858823780819,
          0.3187276529430212,
          0.8568306119026912,
          -0.6510255933001469,
          -1.0342428417844647,
          0.681594518281627,
          -0.8034096641738411,
          -0.6895497777502005,
          -0.4555325035173432,
          0.017479159025056732
         ],
         [
          -0.35399391125348395,
          -1.3749512934180188,
          -0.6436184028328905,
          -2.2234031522244266,
          0.6252314510271875,
          -1.6020576556067476,
          -1.1043833394284506,
          0.052165079260974405,
          -0.7395629963913133,
          1.5430145954067358
         ],
         [
          -1.2928569097234486,
          0.26705086934918293,
          -0.0392828182274956,
          -1.1680934977411974,
          0.5232766605317537,
          -0.1715463312222481,
          0.7717905512136674,
          0.8235041539637314,
          2.16323594928069,
          1.336527949436392
         ]
        ]
       },
       "column": {
        "type": "float",
        "values": [
         0,
         1,
         2,
         3,
         4,
         5,
         6,
         7,
         8,
         9
        ]
       },
       "display_legend": false,
       "interactions": {
        "click": "select"
       },
       "row": {
        "type": "float",
        "values": [
         0,
         1,
         2,
         3,
         4,
         5,
         6,
         7,
         8,
         9
        ]
       },
       "scales": {
        "color": "IPY_MODEL_d9fe5d03cbb747a3ac5355d2f6275685",
        "column": "IPY_MODEL_53e2353c9e854ee8846adad670a35756",
        "row": "IPY_MODEL_42edf78823964f469cb975d24488a3f3"
       },
       "selected_style": {
        "opacity": "1.0"
       },
       "unselected_style": {
        "opacity": 0.4
       }
      }
     },
     "90049233c2bd4a5780294b7eba8baa4b": {
      "model_module": "bqplot",
      "model_module_version": "*",
      "model_name": "FigureModel",
      "state": {
       "_dom_classes": [],
       "layout": "IPY_MODEL_124eab2ddcab45d8bb35e3a3428d238b",
       "marks": [
        "IPY_MODEL_b8b0fbdca4e04789b53011b5027e951e"
       ],
       "padding_y": 0,
       "scale_x": "IPY_MODEL_520ec915eafa4643a6b994b03f044c09",
       "scale_y": "IPY_MODEL_4303c2ee131b435ea306bcf3ec40aa0f"
      }
     },
     "90475d3944f646d686bdf4e12cd96719": {
      "model_module": "jupyter-js-widgets",
      "model_module_version": "*",
      "model_name": "LayoutModel",
      "state": {
       "align_self": "stretch",
       "flex": "1",
       "min_width": "400px"
      }
     },
     "911b485355ee4155b0a4ab57f0937670": {
      "model_module": "bqplot",
      "model_module_version": "*",
      "model_name": "LinearScaleModel",
      "state": {
       "allow_padding": false,
       "max": 1,
       "min": 0,
       "stabilized": false
      }
     },
     "98f3847c46f2426cb1d1da5bc7d2eb89": {
      "model_module": "bqplot",
      "model_module_version": "*",
      "model_name": "FigureModel",
      "state": {
       "_dom_classes": [],
       "axes": [
        "IPY_MODEL_ab5c3a606e684377b9b5e9893b3fab71",
        "IPY_MODEL_86c32f96dd6e4eb3a2574728e365d548"
       ],
       "layout": "IPY_MODEL_aab657b62d154ba7af4c49a2132c3bc8",
       "marks": [
        "IPY_MODEL_71ed0a23ec7d4d4fa3619d917b68f910"
       ],
       "padding_y": 0,
       "scale_x": "IPY_MODEL_87b374b816e34599a71c7abc706971f0",
       "scale_y": "IPY_MODEL_911b485355ee4155b0a4ab57f0937670"
      }
     },
     "9eac90bc0baf4e39a0a35d170c69b759": {
      "model_module": "bqplot",
      "model_module_version": "*",
      "model_name": "LinearScaleModel",
      "state": {
       "allow_padding": false,
       "max": 1,
       "min": 0,
       "stabilized": false
      }
     },
     "9eb49c0ca71343779cc6307ca015b059": {
      "model_module": "bqplot",
      "model_module_version": "*",
      "model_name": "GridHeatMapModel",
      "state": {
       "color": {
        "type": "float64",
        "values": [
         [
          1.764052345967664,
          0.4001572083672233,
          0.9787379841057392,
          2.240893199201458,
          1.8675579901499675,
          -0.977277879876411,
          0.9500884175255894,
          -0.1513572082976979,
          -0.10321885179355784,
          0.41059850193837233
         ],
         [
          0.144043571160878,
          1.454273506962975,
          0.7610377251469934,
          0.12167501649282841,
          0.44386323274542566,
          0.33367432737426683,
          1.4940790731576061,
          -0.20515826376580087,
          0.31306770165090136,
          -0.8540957393017248
         ],
         [
          -2.5529898158340787,
          0.6536185954403606,
          0.8644361988595057,
          -0.7421650204064419,
          2.2697546239876076,
          -1.4543656745987648,
          0.04575851730144607,
          -0.1871838500258336,
          1.5327792143584575,
          1.469358769900285
         ],
         [
          0.1549474256969163,
          0.37816251960217356,
          -0.8877857476301128,
          -1.980796468223927,
          -0.3479121493261526,
          0.15634896910398005,
          1.2302906807277207,
          1.2023798487844113,
          -0.3873268174079523,
          -0.30230275057533557
         ],
         [
          -1.0485529650670926,
          -1.4200179371789752,
          -1.7062701906250126,
          1.9507753952317897,
          -0.5096521817516535,
          -0.4380743016111864,
          -1.2527953600499262,
          0.7774903558319101,
          -1.6138978475579515,
          -0.2127402802139687
         ],
         [
          -0.8954665611936756,
          0.386902497859262,
          -0.510805137568873,
          -1.180632184122412,
          -0.028182228338654868,
          0.42833187053041766,
          0.06651722238316789,
          0.3024718977397814,
          -0.6343220936809637,
          -0.3627411659871382
         ],
         [
          -0.672460447775951,
          -0.3595531615405413,
          -0.813146282044454,
          -1.7262826023316769,
          0.17742614225375286,
          -0.40178093620826194,
          -1.6301983469660446,
          0.4627822555257742,
          -0.9072983643832422,
          0.05194539579613895
         ],
         [
          0.7290905621775369,
          0.12898291075741067,
          1.1394006845433007,
          -1.2348258203536526,
          0.402341641177549,
          -0.6848100909403132,
          -0.8707971491818818,
          -0.5788496647644155,
          -0.31155253212737266,
          0.05616534222974544
         ],
         [
          -1.1651498407833565,
          0.9008264869541871,
          0.46566243973045984,
          -1.5362436862772237,
          1.4882521937955997,
          1.8958891760305832,
          1.1787795711596507,
          -0.17992483581235091,
          -1.0707526215105425,
          1.0544517269311366
         ],
         [
          -0.40317694697317963,
          1.2224450703824274,
          0.2082749780768603,
          0.9766390364837128,
          0.3563663971744019,
          0.7065731681919482,
          0.010500020720820478,
          1.7858704939058352,
          0.12691209270361992,
          0.40198936344470165
         ]
        ]
       },
       "column": {
        "type": "float",
        "values": [
         10,
         11,
         12,
         13,
         14,
         15,
         16,
         17,
         18,
         19
        ]
       },
       "display_legend": false,
       "row": {
        "type": "float",
        "values": [
         0,
         1,
         2,
         3,
         4,
         6,
         7,
         8,
         9,
         10
        ]
       },
       "scales": {
        "color": "IPY_MODEL_6528fbed2f084156bfc038e59db0fdd0",
        "column": "IPY_MODEL_385353938dbd405692c27a6df7afca95",
        "row": "IPY_MODEL_57fe89b83af9458db3409d89a62bad33"
       }
      }
     },
     "9f10340eae6f449ba050b8ae8a85d73b": {
      "model_module": "bqplot",
      "model_module_version": "*",
      "model_name": "ColorScaleModel",
      "state": {
       "_model_name": "ColorScaleModel",
       "_view_name": "ColorScale",
       "colors": [],
       "mid": null,
       "scale_type": "linear",
       "scheme": "RdYlGn"
      }
     },
     "a4c0a3f27d4944f8812ffc2db143f83e": {
      "model_module": "bqplot",
      "model_module_version": "*",
      "model_name": "FigureModel",
      "state": {
       "_dom_classes": [],
       "axes": [
        "IPY_MODEL_c26a594e388241b2944a60a00b4adcbe",
        "IPY_MODEL_ea48e9c317b047a696460319eb0b4911"
       ],
       "layout": "IPY_MODEL_323b65992b304264b3a6dbcc954766d7",
       "marks": [
        "IPY_MODEL_6e0f855e74da40bf8aff32bc58e6efd8"
       ],
       "padding_y": 0,
       "scale_x": "IPY_MODEL_2a77a4b318e8466da8c14b2ecc8d0d51",
       "scale_y": "IPY_MODEL_71841b88fb784f1abccfbcfc89fa5976"
      }
     },
     "a4e02932743a41358f549f2df2720168": {
      "model_module": "bqplot",
      "model_module_version": "*",
      "model_name": "LinearScaleModel",
      "state": {
       "allow_padding": false,
       "max": 1,
       "min": 0,
       "stabilized": false
      }
     },
     "aab657b62d154ba7af4c49a2132c3bc8": {
      "model_module": "jupyter-js-widgets",
      "model_module_version": "*",
      "model_name": "LayoutModel",
      "state": {
       "align_self": "stretch",
       "flex": "1",
       "min_width": "400px"
      }
     },
     "ab5c3a606e684377b9b5e9893b3fab71": {
      "model_module": "bqplot",
      "model_module_version": "*",
      "model_name": "AxisModel",
      "state": {
       "scale": "IPY_MODEL_f323006612d24d868573d32290a4e1f4",
       "side": "bottom",
       "tick_values": {
        "type": null,
        "values": null
       }
      }
     },
     "ad7c0a1a412a491e90f62ef14294b412": {
      "model_module": "bqplot",
      "model_module_version": "*",
      "model_name": "AxisModel",
      "state": {
       "scale": "IPY_MODEL_385353938dbd405692c27a6df7afca95",
       "side": "bottom",
       "tick_values": {
        "type": null,
        "values": null
       }
      }
     },
     "ad91002badb4423dbde18be0ae207c58": {
      "model_module": "jupyter-js-widgets",
      "model_module_version": "*",
      "model_name": "LayoutModel",
      "state": {
       "align_self": "stretch",
       "flex": "1",
       "min_width": "400px"
      }
     },
     "b0bfb38fd0e7486b89687e352100f752": {
      "model_module": "jupyter-js-widgets",
      "model_module_version": "*",
      "model_name": "LayoutModel",
      "state": {
       "align_self": "stretch",
       "flex": "1",
       "min_width": "400px"
      }
     },
     "b7aa557ccc7148bfb2c32709159caa4a": {
      "model_module": "bqplot",
      "model_module_version": "*",
      "model_name": "OrdinalScaleModel",
      "state": {
       "domain": []
      }
     },
     "b8b0fbdca4e04789b53011b5027e951e": {
      "model_module": "bqplot",
      "model_module_version": "*",
      "model_name": "GridHeatMapModel",
      "state": {
       "color": {
        "type": "float64",
        "values": [
         [
          1.764052345967664,
          0.4001572083672233,
          0.9787379841057392,
          2.240893199201458,
          1.8675579901499675,
          -0.977277879876411,
          0.9500884175255894,
          -0.1513572082976979,
          -0.10321885179355784,
          0.41059850193837233
         ],
         [
          0.144043571160878,
          1.454273506962975,
          0.7610377251469934,
          0.12167501649282841,
          0.44386323274542566,
          0.33367432737426683,
          1.4940790731576061,
          -0.20515826376580087,
          0.31306770165090136,
          -0.8540957393017248
         ],
         [
          -2.5529898158340787,
          0.6536185954403606,
          0.8644361988595057,
          -0.7421650204064419,
          2.2697546239876076,
          -1.4543656745987648,
          0.04575851730144607,
          -0.1871838500258336,
          1.5327792143584575,
          1.469358769900285
         ],
         [
          0.1549474256969163,
          0.37816251960217356,
          -0.8877857476301128,
          -1.980796468223927,
          -0.3479121493261526,
          0.15634896910398005,
          1.2302906807277207,
          1.2023798487844113,
          -0.3873268174079523,
          -0.30230275057533557
         ],
         [
          -1.0485529650670926,
          -1.4200179371789752,
          -1.7062701906250126,
          1.9507753952317897,
          -0.5096521817516535,
          -0.4380743016111864,
          -1.2527953600499262,
          0.7774903558319101,
          -1.6138978475579515,
          -0.2127402802139687
         ],
         [
          -0.8954665611936756,
          0.386902497859262,
          -0.510805137568873,
          -1.180632184122412,
          -0.028182228338654868,
          0.42833187053041766,
          0.06651722238316789,
          0.3024718977397814,
          -0.6343220936809637,
          -0.3627411659871382
         ],
         [
          -0.672460447775951,
          -0.3595531615405413,
          -0.813146282044454,
          -1.7262826023316769,
          0.17742614225375286,
          -0.40178093620826194,
          -1.6301983469660446,
          0.4627822555257742,
          -0.9072983643832422,
          0.05194539579613895
         ],
         [
          0.7290905621775369,
          0.12898291075741067,
          1.1394006845433007,
          -1.2348258203536526,
          0.402341641177549,
          -0.6848100909403132,
          -0.8707971491818818,
          -0.5788496647644155,
          -0.31155253212737266,
          0.05616534222974544
         ],
         [
          -1.1651498407833565,
          0.9008264869541871,
          0.46566243973045984,
          -1.5362436862772237,
          1.4882521937955997,
          1.8958891760305832,
          1.1787795711596507,
          -0.17992483581235091,
          -1.0707526215105425,
          1.0544517269311366
         ],
         [
          -0.40317694697317963,
          1.2224450703824274,
          0.2082749780768603,
          0.9766390364837128,
          0.3563663971744019,
          0.7065731681919482,
          0.010500020720820478,
          1.7858704939058352,
          0.12691209270361992,
          0.40198936344470165
         ]
        ]
       },
       "column": {
        "type": "float",
        "values": [
         0,
         1,
         2,
         3,
         4,
         5,
         6,
         7,
         8,
         9
        ]
       },
       "display_legend": false,
       "row": {
        "type": "float",
        "values": [
         0,
         1,
         2,
         3,
         4,
         5,
         6,
         7,
         8,
         9
        ]
       },
       "scales": {
        "color": "IPY_MODEL_3771bf748ffb486987b7de46b7207746",
        "column": "IPY_MODEL_f040d54ef7d04855b2e198862d520d5e",
        "row": "IPY_MODEL_fcb49a929dca4cdfb418956d6b35400f"
       }
      }
     },
     "c26a594e388241b2944a60a00b4adcbe": {
      "model_module": "bqplot",
      "model_module_version": "*",
      "model_name": "AxisModel",
      "state": {
       "scale": "IPY_MODEL_d9544a2eb3334b3b8753272df01bd921",
       "side": "bottom",
       "tick_values": {
        "type": null,
        "values": null
       }
      }
     },
     "c2d562d843014c9992354ccf5bb6f6b6": {
      "model_module": "bqplot",
      "model_module_version": "*",
      "model_name": "LinearScaleModel",
      "state": {
       "allow_padding": false,
       "max": 1,
       "min": 0,
       "stabilized": false
      }
     },
     "c5b4f9a867544e43820eb3478df2eef3": {
      "model_module": "bqplot",
      "model_module_version": "*",
      "model_name": "GridHeatMapModel",
      "state": {
       "color": {
        "type": "float64",
        "values": [
         [
          1.764052345967664,
          0.4001572083672233,
          0.9787379841057392,
          2.240893199201458,
          1.8675579901499675,
          -0.977277879876411,
          0.9500884175255894,
          -0.1513572082976979,
          -0.10321885179355784,
          0.41059850193837233
         ],
         [
          0.144043571160878,
          1.454273506962975,
          0.7610377251469934,
          0.12167501649282841,
          0.44386323274542566,
          0.33367432737426683,
          1.4940790731576061,
          -0.20515826376580087,
          0.31306770165090136,
          -0.8540957393017248
         ],
         [
          -2.5529898158340787,
          0.6536185954403606,
          0.8644361988595057,
          -0.7421650204064419,
          2.2697546239876076,
          -1.4543656745987648,
          0.04575851730144607,
          -0.1871838500258336,
          1.5327792143584575,
          1.469358769900285
         ],
         [
          0.1549474256969163,
          0.37816251960217356,
          -0.8877857476301128,
          -1.980796468223927,
          -0.3479121493261526,
          0.15634896910398005,
          1.2302906807277207,
          1.2023798487844113,
          -0.3873268174079523,
          -0.30230275057533557
         ],
         [
          -1.0485529650670926,
          -1.4200179371789752,
          -1.7062701906250126,
          1.9507753952317897,
          -0.5096521817516535,
          -0.4380743016111864,
          -1.2527953600499262,
          0.7774903558319101,
          -1.6138978475579515,
          -0.2127402802139687
         ],
         [
          -0.8954665611936756,
          0.386902497859262,
          -0.510805137568873,
          -1.180632184122412,
          -0.028182228338654868,
          0.42833187053041766,
          0.06651722238316789,
          0.3024718977397814,
          -0.6343220936809637,
          -0.3627411659871382
         ],
         [
          -0.672460447775951,
          -0.3595531615405413,
          -0.813146282044454,
          -1.7262826023316769,
          0.17742614225375286,
          -0.40178093620826194,
          -1.6301983469660446,
          0.4627822555257742,
          -0.9072983643832422,
          0.05194539579613895
         ],
         [
          0.7290905621775369,
          0.12898291075741067,
          1.1394006845433007,
          -1.2348258203536526,
          0.402341641177549,
          -0.6848100909403132,
          -0.8707971491818818,
          -0.5788496647644155,
          -0.31155253212737266,
          0.05616534222974544
         ],
         [
          -1.1651498407833565,
          0.9008264869541871,
          0.46566243973045984,
          -1.5362436862772237,
          1.4882521937955997,
          1.8958891760305832,
          1.1787795711596507,
          -0.17992483581235091,
          -1.0707526215105425,
          1.0544517269311366
         ],
         [
          -0.40317694697317963,
          1.2224450703824274,
          0.2082749780768603,
          0.9766390364837128,
          0.3563663971744019,
          0.7065731681919482,
          0.010500020720820478,
          1.7858704939058352,
          0.12691209270361992,
          0.40198936344470165
         ]
        ]
       },
       "column": {
        "type": "float",
        "values": [
         0,
         1,
         2,
         3,
         4,
         5,
         6,
         7,
         8,
         9
        ]
       },
       "display_legend": false,
       "opacity": 0.3,
       "row": {
        "type": "float",
        "values": [
         0,
         1,
         2,
         3,
         4,
         5,
         6,
         7,
         8,
         9
        ]
       },
       "scales": {
        "color": "IPY_MODEL_eb596b2eef7b47a9ba9cd27b67c58177",
        "column": "IPY_MODEL_b7aa557ccc7148bfb2c32709159caa4a",
        "row": "IPY_MODEL_717352e89cd64079bd3f4caaaf81166f"
       },
       "stroke": "white"
      }
     },
     "d2e442ce340e47ec9179c141005270ee": {
      "model_module": "bqplot",
      "model_module_version": "*",
      "model_name": "AxisModel",
      "state": {
       "scale": "IPY_MODEL_3da9446148934f25a5c0672d34a70958",
       "side": "bottom",
       "tick_values": {
        "type": null,
        "values": null
       }
      }
     },
     "d39766eeb3074f3c91afba3f57566302": {
      "model_module": "bqplot",
      "model_module_version": "*",
      "model_name": "FigureModel",
      "state": {
       "_dom_classes": [],
       "axes": [
        "IPY_MODEL_ad7c0a1a412a491e90f62ef14294b412",
        "IPY_MODEL_24275841f8224f2a985fc085ab27bda6"
       ],
       "layout": "IPY_MODEL_31132893e5dc491b89545b4436d71790",
       "marks": [
        "IPY_MODEL_9eb49c0ca71343779cc6307ca015b059"
       ],
       "padding_y": 0,
       "scale_x": "IPY_MODEL_8574088ac3c64905a827841ffb090386",
       "scale_y": "IPY_MODEL_9eac90bc0baf4e39a0a35d170c69b759"
      }
     },
     "d9544a2eb3334b3b8753272df01bd921": {
      "model_module": "bqplot",
      "model_module_version": "*",
      "model_name": "LinearScaleModel",
      "state": {
       "stabilized": false
      }
     },
     "d9fe5d03cbb747a3ac5355d2f6275685": {
      "model_module": "bqplot",
      "model_module_version": "*",
      "model_name": "ColorScaleModel",
      "state": {
       "_model_name": "ColorScaleModel",
       "_view_name": "ColorScale",
       "colors": [],
       "mid": null,
       "scale_type": "linear",
       "scheme": "RdYlGn"
      }
     },
     "df25ab6fd94b4d348e22d792eaca5472": {
      "model_module": "bqplot",
      "model_module_version": "*",
      "model_name": "ColorScaleModel",
      "state": {
       "_model_name": "ColorScaleModel",
       "_view_name": "ColorScale",
       "colors": [],
       "mid": null,
       "scale_type": "linear",
       "scheme": "RdYlGn"
      }
     },
     "e1de0556a1f24c92b3bab937e3eb053d": {
      "model_module": "bqplot",
      "model_module_version": "*",
      "model_name": "LinearScaleModel",
      "state": {
       "allow_padding": false,
       "max": 1,
       "min": 0,
       "stabilized": false
      }
     },
     "ea2167e19eaf49eda29e2bc8d61297eb": {
      "model_module": "jupyter-js-widgets",
      "model_module_version": "*",
      "model_name": "LayoutModel",
      "state": {
       "align_self": "stretch",
       "flex": "1",
       "min_width": "400px"
      }
     },
     "ea48e9c317b047a696460319eb0b4911": {
      "model_module": "bqplot",
      "model_module_version": "*",
      "model_name": "AxisModel",
      "state": {
       "orientation": "vertical",
       "scale": "IPY_MODEL_07d7b6ae658a409f9d5f85e690af1828",
       "side": "left",
       "tick_values": {
        "type": null,
        "values": null
       }
      }
     },
     "eb596b2eef7b47a9ba9cd27b67c58177": {
      "model_module": "bqplot",
      "model_module_version": "*",
      "model_name": "ColorScaleModel",
      "state": {
       "_model_name": "ColorScaleModel",
       "_view_name": "ColorScale",
       "colors": [],
       "mid": null,
       "scale_type": "linear",
       "scheme": "RdYlGn"
      }
     },
     "f040d54ef7d04855b2e198862d520d5e": {
      "model_module": "bqplot",
      "model_module_version": "*",
      "model_name": "OrdinalScaleModel",
      "state": {
       "domain": []
      }
     },
     "f0608646304a4b4590d897c8fc342b94": {
      "model_module": "bqplot",
      "model_module_version": "*",
      "model_name": "LinearScaleModel",
      "state": {
       "allow_padding": false,
       "max": 1,
       "min": 0,
       "stabilized": false
      }
     },
     "f323006612d24d868573d32290a4e1f4": {
      "model_module": "bqplot",
      "model_module_version": "*",
      "model_name": "OrdinalScaleModel",
      "state": {
       "domain": []
      }
     },
     "f5d9fb8653fd4815b2c9d9c0ab45357a": {
      "model_module": "bqplot",
      "model_module_version": "*",
      "model_name": "FigureModel",
      "state": {
       "_dom_classes": [],
       "layout": "IPY_MODEL_ea2167e19eaf49eda29e2bc8d61297eb",
       "marks": [
        "IPY_MODEL_c5b4f9a867544e43820eb3478df2eef3"
       ],
       "padding_y": 0,
       "scale_x": "IPY_MODEL_6f87c2b98f61421db8946b95f5fac872",
       "scale_y": "IPY_MODEL_444946d78a464de784a612f67b814644"
      }
     },
     "f7707abf3c4748749caf16549736055a": {
      "model_module": "bqplot",
      "model_module_version": "*",
      "model_name": "FigureModel",
      "state": {
       "_dom_classes": [],
       "axes": [
        "IPY_MODEL_07359f4e6bae43e6ac6fab464d1201d1",
        "IPY_MODEL_831e6aa2cb09484d90f6a48940bfeed9"
       ],
       "layout": "IPY_MODEL_79fa9f8616a74375b12aefd108a4b8a2",
       "marks": [
        "IPY_MODEL_2b6039ade8dd43bc964dbc312c471e14"
       ],
       "padding_y": 0,
       "scale_x": "IPY_MODEL_f0608646304a4b4590d897c8fc342b94",
       "scale_y": "IPY_MODEL_c2d562d843014c9992354ccf5bb6f6b6"
      }
     },
     "f912c5c93ee64254ab1386feebdbdb74": {
      "model_module": "bqplot",
      "model_module_version": "*",
      "model_name": "LinearScaleModel",
      "state": {
       "stabilized": false
      }
     },
     "fb8f75ac1210495ba0cb7007c4f5b8aa": {
      "model_module": "bqplot",
      "model_module_version": "*",
      "model_name": "FigureModel",
      "state": {
       "_dom_classes": [],
       "axes": [
        "IPY_MODEL_d2e442ce340e47ec9179c141005270ee",
        "IPY_MODEL_6b566ba543e1405eaca69a2f7b3415a5"
       ],
       "layout": "IPY_MODEL_90475d3944f646d686bdf4e12cd96719",
       "marks": [
        "IPY_MODEL_57f5fbce413b4a7ab608274b68df50d6"
       ],
       "padding_y": 0,
       "scale_x": "IPY_MODEL_513b7717a7554bf49506ecb8d83cff3d",
       "scale_y": "IPY_MODEL_a4e02932743a41358f549f2df2720168"
      }
     },
     "fbdc2406aadd4ace9f934ab0511fdfa7": {
      "model_module": "bqplot",
      "model_module_version": "*",
      "model_name": "LinearScaleModel",
      "state": {
       "reverse": true,
       "stabilized": false
      }
     },
     "fcb49a929dca4cdfb418956d6b35400f": {
      "model_module": "bqplot",
      "model_module_version": "*",
      "model_name": "OrdinalScaleModel",
      "state": {
       "domain": [],
       "reverse": true
      }
     }
    },
    "version_major": 1,
    "version_minor": 0
   }
  }
 },
 "nbformat": 4,
 "nbformat_minor": 1
}
