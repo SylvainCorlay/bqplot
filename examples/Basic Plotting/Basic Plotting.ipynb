{
 "cells": [
  {
   "cell_type": "code",
   "execution_count": 1,
   "metadata": {},
   "outputs": [],
   "source": [
    "import numpy as np\n",
    "from bqplot import *"
   ]
  },
  {
   "cell_type": "code",
   "execution_count": 2,
   "metadata": {},
   "outputs": [],
   "source": [
    "size = 100\n",
    "scale = 100.\n",
    "np.random.seed(0)\n",
    "x_data = np.arange(size)\n",
    "y_data = np.cumsum(np.random.randn(size)  * scale)"
   ]
  },
  {
   "cell_type": "markdown",
   "metadata": {},
   "source": [
    "## Line Chart"
   ]
  },
  {
   "cell_type": "code",
   "execution_count": 3,
   "metadata": {},
   "outputs": [
    {
     "data": {
      "application/vnd.jupyter.widget-view+json": {
       "model_id": "9adf3bfad79540c2af379925059fdb27"
      }
     },
     "metadata": {},
     "output_type": "display_data"
    }
   ],
   "source": [
    "x_sc = LinearScale()\n",
    "y_sc = LinearScale()\n",
    "\n",
    "ax_x = Axis(label='X', scale=x_sc, grid_lines='solid')\n",
    "ax_y = Axis(label='Y', scale=y_sc, orientation='vertical', grid_lines='solid')\n",
    "\n",
    "line = Lines(x=x_data, y=x_data, scales={'x': x_sc, 'y': y_sc})\n",
    "fig = Figure(axes=[ax_x, ax_y], marks=[line], title='First Example')\n",
    "fig"
   ]
  },
  {
   "cell_type": "markdown",
   "metadata": {},
   "source": [
    "This image can be saved by calling the `save_png` function of the `Figure` object:"
   ]
  },
  {
   "cell_type": "code",
   "execution_count": 4,
   "metadata": {
    "collapsed": true
   },
   "outputs": [],
   "source": [
    "fig.save_png()"
   ]
  },
  {
   "cell_type": "markdown",
   "metadata": {},
   "source": [
    "## Line Chart with dates as x data"
   ]
  },
  {
   "cell_type": "code",
   "execution_count": 5,
   "metadata": {},
   "outputs": [],
   "source": [
    "dates = np.arange('2005-02', '2005-03', dtype='datetime64[D]')\n",
    "size = len(dates)\n",
    "prices = scale + 5 * np.cumsum(np.random.randn(size))"
   ]
  },
  {
   "cell_type": "code",
   "execution_count": 6,
   "metadata": {},
   "outputs": [
    {
     "data": {
      "application/vnd.jupyter.widget-view+json": {
       "model_id": "1a7b3a09225143f8816e05b0ec21c5ec"
      }
     },
     "metadata": {},
     "output_type": "display_data"
    }
   ],
   "source": [
    "dt_x = DateScale()\n",
    "lin_y = LinearScale()\n",
    "\n",
    "x_ax = Axis(label='Date', scale=dt_x, tick_format='%b-%d', grid_lines='solid')\n",
    "x_ay = Axis(label=('Price'), scale=lin_y, orientation='vertical', tick_format='0.0f', grid_lines='solid')\n",
    "\n",
    "lc = Lines(x=dates, y=prices, scales={'x': dt_x, 'y': lin_y}, colors=['blue'])\n",
    "\n",
    "fig = Figure(marks=[lc], axes=[x_ax, x_ay], background_style={'fill': 'lightgreen'},\n",
    "            title_style={'font-size': '20px','fill': 'DarkOrange'}, title='Changing Styles')\n",
    "fig"
   ]
  },
  {
   "cell_type": "code",
   "execution_count": 7,
   "metadata": {
    "collapsed": true
   },
   "outputs": [],
   "source": [
    "fig.background_style = {'fill': 'Black'}"
   ]
  },
  {
   "cell_type": "markdown",
   "metadata": {},
   "source": [
    "## Scatter Chart"
   ]
  },
  {
   "cell_type": "code",
   "execution_count": 8,
   "metadata": {},
   "outputs": [
    {
     "data": {
      "application/vnd.jupyter.widget-view+json": {
       "model_id": "d66454bf51ae42849dec431b94c0a5ed"
      }
     },
     "metadata": {},
     "output_type": "display_data"
    }
   ],
   "source": [
    "sc_x = LinearScale()\n",
    "sc_y = LinearScale()\n",
    "scatter = Scatter(x=x_data, y=y_data, scales={'x': sc_x, 'y': sc_y}, default_colors=['blue'])\n",
    "\n",
    "ax_x = Axis(label='Test X', scale=sc_x)\n",
    "ax_y = Axis(label='Test Y', scale=sc_y, orientation='vertical', tick_format='0.2f')\n",
    "\n",
    "Figure(axes=[ax_x, ax_y], marks=[scatter])"
   ]
  },
  {
   "cell_type": "markdown",
   "metadata": {},
   "source": [
    "## Histogram"
   ]
  },
  {
   "cell_type": "code",
   "execution_count": 9,
   "metadata": {},
   "outputs": [
    {
     "data": {
      "application/vnd.jupyter.widget-view+json": {
       "model_id": "8f2a9ef471034651b839b67d9e1a47a5"
      }
     },
     "metadata": {},
     "output_type": "display_data"
    }
   ],
   "source": [
    "scale_x = LinearScale()\n",
    "scale_y = LinearScale()\n",
    "hist = Hist(sample=y_data, scales={'sample': scale_x, 'count': scale_y})\n",
    "\n",
    "ax_x = Axis(label='X', scale=scale_x, tick_format='0.2f')\n",
    "ax_y = Axis(label='Y', scale=scale_y, orientation='vertical', grid_lines='solid')\n",
    "Figure(axes=[ax_x, ax_y], marks=[hist])"
   ]
  },
  {
   "cell_type": "markdown",
   "metadata": {},
   "source": [
    "## Bar Chart"
   ]
  },
  {
   "cell_type": "code",
   "execution_count": 10,
   "metadata": {},
   "outputs": [
    {
     "data": {
      "application/vnd.jupyter.widget-view+json": {
       "model_id": "b0677e81eb104fa6ab3ff81797565c2f"
      }
     },
     "metadata": {},
     "output_type": "display_data"
    }
   ],
   "source": [
    "sc_x1 = OrdinalScale()\n",
    "sc_y1 = LinearScale()\n",
    "\n",
    "bar_x = Axis(label='X', scale=sc_x1)\n",
    "bar_y = Axis(label='Y', scale=sc_y1, orientation='vertical', tick_format='0.0f', grid_lines='solid')\n",
    "bar_chart = Bars(x=['A', 'B', 'C', 'D', 'E', 'F', 'G', 'H', 'I', 'J', 'K', 'L', 'M', 'N', 'P', 'Q', 'R', 'S', 'T', 'U'],\n",
    "                 y=np.abs(y_data[:20]), scales={'x': sc_x1, 'y': sc_y1})\n",
    "\n",
    "Figure(axes=[bar_x, bar_y], marks=[bar_chart], padding_x=0)"
   ]
  }
 ],
 "metadata": {
  "kernelspec": {
   "display_name": "Python 3",
   "language": "python",
   "name": "python3"
  },
  "language_info": {
   "codemirror_mode": {
    "name": "ipython",
    "version": 3
   },
   "file_extension": ".py",
   "mimetype": "text/x-python",
   "name": "python",
   "nbconvert_exporter": "python",
   "pygments_lexer": "ipython3",
   "version": "3.5.2"
  },
  "widgets": {
   "application/vnd.jupyter.widget-state+json": {
    "state": {
     "00fff51669784854af3e42875c865836": {
      "model_module": "jupyter-js-widgets",
      "model_module_version": "*",
      "model_name": "LayoutModel",
      "state": {
       "align_self": "stretch",
       "flex": "1",
       "min_width": "400px"
      }
     },
     "0135f21804c848c2bcdab68e62f6ac6f": {
      "model_module": "bqplot",
      "model_module_version": "*",
      "model_name": "LinearScaleModel",
      "state": {
       "allow_padding": false,
       "max": 1,
       "min": 0,
       "stabilized": false
      }
     },
     "01ca8d42e6444140bba5a6a60f6783a3": {
      "model_module": "jupyter-js-widgets",
      "model_module_version": "*",
      "model_name": "LayoutModel",
      "state": {
       "align_self": "stretch",
       "flex": "1",
       "min_width": "400px"
      }
     },
     "10b9d862857a4c07a0add6b4e8057b5a": {
      "model_module": "bqplot",
      "model_module_version": "*",
      "model_name": "AxisModel",
      "state": {
       "label": "X",
       "scale": "IPY_MODEL_e0dfa9302f9946c48378d6c5d198ea62",
       "side": "bottom",
       "tick_format": "0.2f",
       "tick_values": {
        "type": null,
        "values": null
       }
      }
     },
     "12617766222e4734a61220910d834bbf": {
      "model_module": "jupyter-js-widgets",
      "model_module_version": "*",
      "model_name": "LayoutModel",
      "state": {
       "align_self": "stretch",
       "flex": "1",
       "min_width": "400px"
      }
     },
     "1951aefc84914c198275c5da4f87a0b7": {
      "model_module": "jupyter-js-widgets",
      "model_module_version": "*",
      "model_name": "LayoutModel",
      "state": {
       "align_self": "stretch",
       "flex": "1",
       "min_width": "400px"
      }
     },
     "1a7b3a09225143f8816e05b0ec21c5ec": {
      "model_module": "bqplot",
      "model_module_version": "*",
      "model_name": "FigureModel",
      "state": {
       "_dom_classes": [],
       "axes": [
        "IPY_MODEL_b533d1120f944517b5c6b83b79a949af",
        "IPY_MODEL_ca2501342b7841ad86b4d9009d91187a"
       ],
       "background_style": {
        "fill": "Black"
       },
       "layout": "IPY_MODEL_01ca8d42e6444140bba5a6a60f6783a3",
       "marks": [
        "IPY_MODEL_f3e66800e121435187cb306a4aacd63e"
       ],
       "scale_x": "IPY_MODEL_1bb739defdaf46c58a3f5243d2192300",
       "scale_y": "IPY_MODEL_c531cada0f1a47a6ae9177c3538df392",
       "title": "Changing Styles",
       "title_style": {
        "fill": "DarkOrange",
        "font-size": "20px"
       }
      }
     },
     "1bb739defdaf46c58a3f5243d2192300": {
      "model_module": "bqplot",
      "model_module_version": "*",
      "model_name": "LinearScaleModel",
      "state": {
       "allow_padding": false,
       "max": 1,
       "min": 0,
       "stabilized": false
      }
     },
     "1ef2fae8d10641779109784359918590": {
      "model_module": "jupyter-js-widgets",
      "model_module_version": "*",
      "model_name": "LayoutModel",
      "state": {
       "align_self": "stretch",
       "flex": "1",
       "min_width": "400px"
      }
     },
     "2458099327b64c33a5d5137bc58aa2b5": {
      "model_module": "bqplot",
      "model_module_version": "*",
      "model_name": "AxisModel",
      "state": {
       "label": "Y",
       "orientation": "vertical",
       "scale": "IPY_MODEL_42f735b0fdc1491d91570c7d49cf2e69",
       "side": "left",
       "tick_format": "0.0f",
       "tick_values": {
        "type": null,
        "values": null
       }
      }
     },
     "2bb6a17e58ee4c12a581c376683317b3": {
      "model_module": "bqplot",
      "model_module_version": "*",
      "model_name": "OrdinalScaleModel",
      "state": {
       "domain": []
      }
     },
     "2c4b219a3ccd497fb671c964226bbc22": {
      "model_module": "bqplot",
      "model_module_version": "*",
      "model_name": "DateScaleModel",
      "state": {}
     },
     "34759f92ff9f47a4a8d93cf1767f2784": {
      "model_module": "bqplot",
      "model_module_version": "*",
      "model_name": "LinearScaleModel",
      "state": {
       "stabilized": false
      }
     },
     "348311934fca409fae627522d2f5dbc0": {
      "model_module": "bqplot",
      "model_module_version": "*",
      "model_name": "BarsModel",
      "state": {
       "color": {
        "type": null,
        "values": null
       },
       "display_legend": false,
       "scales": {
        "x": "IPY_MODEL_2bb6a17e58ee4c12a581c376683317b3",
        "y": "IPY_MODEL_42f735b0fdc1491d91570c7d49cf2e69"
       },
       "x": {
        "type": "<U1",
        "values": [
         "A",
         "B",
         "C",
         "D",
         "E",
         "F",
         "G",
         "H",
         "I",
         "J",
         "K",
         "L",
         "M",
         "N",
         "P",
         "Q",
         "R",
         "S",
         "T",
         "U"
        ]
       },
       "y": {
        "type": "float64",
        "values": [
         176.4052345967664,
         216.42095543348873,
         314.29475384406265,
         538.3840737642084,
         725.1398727792052,
         627.4120847915641,
         722.4209265441231,
         707.2852057143533,
         696.9633205349975,
         738.0231707288347,
         752.4275278449225,
         897.8548785412199,
         973.9586510559193,
         986.1261527052021,
         1030.5124759797447,
         1063.8799087171715,
         1213.2878160329321,
         1192.7719896563522,
         1224.0787598214422,
         1138.6691858912698
        ]
       }
      }
     },
     "3a415212200546a28373772d7662d0f2": {
      "model_module": "bqplot",
      "model_module_version": "*",
      "model_name": "AxisModel",
      "state": {
       "label": "Test X",
       "scale": "IPY_MODEL_34759f92ff9f47a4a8d93cf1767f2784",
       "side": "bottom",
       "tick_values": {
        "type": null,
        "values": null
       }
      }
     },
     "3c2e6494d80b4fef9003657739c89c0e": {
      "model_module": "bqplot",
      "model_module_version": "*",
      "model_name": "LinearScaleModel",
      "state": {
       "stabilized": false
      }
     },
     "42f735b0fdc1491d91570c7d49cf2e69": {
      "model_module": "bqplot",
      "model_module_version": "*",
      "model_name": "LinearScaleModel",
      "state": {
       "stabilized": false
      }
     },
     "480e84a9cca6424082b469ce5163ae6a": {
      "model_module": "bqplot",
      "model_module_version": "*",
      "model_name": "AxisModel",
      "state": {
       "label": "Y",
       "orientation": "vertical",
       "scale": "IPY_MODEL_ecb4fefe790a40f89e6d94d16f4c43b6",
       "side": "left",
       "tick_values": {
        "type": null,
        "values": null
       }
      }
     },
     "5130afd3081940579c9481073f7c6f1e": {
      "model_module": "bqplot",
      "model_module_version": "*",
      "model_name": "AxisModel",
      "state": {
       "label": "X",
       "scale": "IPY_MODEL_2bb6a17e58ee4c12a581c376683317b3",
       "side": "bottom",
       "tick_values": {
        "type": null,
        "values": null
       }
      }
     },
     "54bdf0a152584a4690bd072543973953": {
      "model_module": "bqplot",
      "model_module_version": "*",
      "model_name": "ScatterModel",
      "state": {
       "_model_module": "bqplot",
       "_model_module_version": "*",
       "_view_module": "bqplot",
       "_view_module_version": "*",
       "apply_clip": true,
       "color": {
        "type": null,
        "values": null
       },
       "colors": [
        "blue"
       ],
       "display_legend": false,
       "enable_hover": true,
       "hovered_style": {},
       "interactions": {
        "hover": "tooltip"
       },
       "labels": [],
       "msg_throttle": 1,
       "names": {
        "type": null,
        "values": null
       },
       "opacity": {
        "type": null,
        "values": null
       },
       "preserve_domain": {},
       "rotation": {
        "type": null,
        "values": null
       },
       "scales": {
        "x": "IPY_MODEL_34759f92ff9f47a4a8d93cf1767f2784",
        "y": "IPY_MODEL_81fb4f3110d1400785df659155546f5b"
       },
       "selected": [],
       "selected_style": {},
       "size": {
        "type": null,
        "values": null
       },
       "skew": {
        "type": null,
        "values": null
       },
       "tooltip": null,
       "tooltip_location": "mouse",
       "tooltip_style": {
        "opacity": 0.9
       },
       "unhovered_style": {},
       "unselected_style": {},
       "visible": true,
       "x": {
        "type": "float",
        "values": [
         0,
         1,
         2,
         3,
         4,
         5,
         6,
         7,
         8,
         9,
         10,
         11,
         12,
         13,
         14,
         15,
         16,
         17,
         18,
         19,
         20,
         21,
         22,
         23,
         24,
         25,
         26,
         27,
         28,
         29,
         30,
         31,
         32,
         33,
         34,
         35,
         36,
         37,
         38,
         39,
         40,
         41,
         42,
         43,
         44,
         45,
         46,
         47,
         48,
         49,
         50,
         51,
         52,
         53,
         54,
         55,
         56,
         57,
         58,
         59,
         60,
         61,
         62,
         63,
         64,
         65,
         66,
         67,
         68,
         69,
         70,
         71,
         72,
         73,
         74,
         75,
         76,
         77,
         78,
         79,
         80,
         81,
         82,
         83,
         84,
         85,
         86,
         87,
         88,
         89,
         90,
         91,
         92,
         93,
         94,
         95,
         96,
         97,
         98,
         99
        ]
       },
       "y": {
        "type": "float64",
        "values": [
         176.4052345967664,
         216.42095543348873,
         314.29475384406265,
         538.3840737642084,
         725.1398727792052,
         627.4120847915641,
         722.4209265441231,
         707.2852057143533,
         696.9633205349975,
         738.0231707288347,
         752.4275278449225,
         897.8548785412199,
         973.9586510559193,
         986.1261527052021,
         1030.5124759797447,
         1063.8799087171715,
         1213.2878160329321,
         1192.7719896563522,
         1224.0787598214422,
         1138.6691858912698,
         883.3702043078619,
         948.7320638518979,
         1035.1756837378484,
         960.9591816972043,
         1187.934644095965,
         1042.4980766360886,
         1047.0739283662333,
         1028.35554336365,
         1181.6334647994956,
         1328.569341789524,
         1344.0640843592157,
         1381.8803363194331,
         1293.101761556422,
         1095.0221147340292,
         1060.230899801414,
         1075.865796711812,
         1198.8948647845841,
         1319.1328496630254,
         1280.4001679222301,
         1250.1698928646965,
         1145.3145963579873,
         1003.3128026400898,
         832.6857835775885,
         1027.7633231007674,
         976.798104925602,
         932.9906747644834,
         807.7111387594907,
         885.4601743426817,
         724.0703895868866,
         702.7963615654897,
         613.2497054461222,
         651.9399552320484,
         600.8594414751611,
         482.7962230629199,
         479.97800022905443,
         522.8111872820962,
         529.462909520413,
         559.7100992943911,
         496.2778899262947,
         460.00377332758086,
         392.75772854998576,
         356.80241239593164,
         275.48778419148624,
         102.85952395831856,
         120.60213818369385,
         80.42404456286766,
         -82.59579013373678,
         -36.31756458115937,
         -127.04740101948357,
         -121.85286143986968,
         -48.943805222116,
         -36.04551414637493,
         77.89455430795515,
         -45.58802772741012,
         -5.353863609655221,
         -73.83487270368654,
         -160.91458762187472,
         -218.79955409831626,
         -249.95480731105351,
         -244.33827308807898,
         -360.8532571664146,
         -270.7706084709959,
         -224.20436449794994,
         -377.82873312567233,
         -229.00351374611236,
         -39.41459614305404,
         78.46336097291103,
         60.47087739167594,
         -46.604384759378306,
         58.840787933735356,
         18.523093236417395,
         140.76760027466014,
         161.59509808234617,
         259.25900173071744,
         294.8956414481576,
         365.55295826735244,
         366.6029603394345,
         545.190009730018,
         557.88121900038,
         598.0801553448503
        ]
       }
      }
     },
     "5dd2308bad604b828221d38978ef2785": {
      "model_module": "bqplot",
      "model_module_version": "*",
      "model_name": "LinearScaleModel",
      "state": {
       "allow_padding": false,
       "max": 1,
       "min": 0,
       "stabilized": false
      }
     },
     "68d3b9f621ea48c684721a396e743abb": {
      "model_module": "bqplot",
      "model_module_version": "*",
      "model_name": "LinesModel",
      "state": {
       "color": {
        "type": null,
        "values": null
       },
       "display_legend": false,
       "fill_colors": [],
       "labels": [
        "C1"
       ],
       "scales": {
        "x": "IPY_MODEL_b4ae8d936af0446e99bb7fda46f7a747",
        "y": "IPY_MODEL_945a9a99cc164b699d2f86073b13ee7b"
       },
       "x": {
        "type": "float",
        "values": [
         0,
         1,
         2,
         3,
         4,
         5,
         6,
         7,
         8,
         9,
         10,
         11,
         12,
         13,
         14,
         15,
         16,
         17,
         18,
         19,
         20,
         21,
         22,
         23,
         24,
         25,
         26,
         27,
         28,
         29,
         30,
         31,
         32,
         33,
         34,
         35,
         36,
         37,
         38,
         39,
         40,
         41,
         42,
         43,
         44,
         45,
         46,
         47,
         48,
         49,
         50,
         51,
         52,
         53,
         54,
         55,
         56,
         57,
         58,
         59,
         60,
         61,
         62,
         63,
         64,
         65,
         66,
         67,
         68,
         69,
         70,
         71,
         72,
         73,
         74,
         75,
         76,
         77,
         78,
         79,
         80,
         81,
         82,
         83,
         84,
         85,
         86,
         87,
         88,
         89,
         90,
         91,
         92,
         93,
         94,
         95,
         96,
         97,
         98,
         99
        ]
       },
       "y": {
        "type": "float",
        "values": [
         0,
         1,
         2,
         3,
         4,
         5,
         6,
         7,
         8,
         9,
         10,
         11,
         12,
         13,
         14,
         15,
         16,
         17,
         18,
         19,
         20,
         21,
         22,
         23,
         24,
         25,
         26,
         27,
         28,
         29,
         30,
         31,
         32,
         33,
         34,
         35,
         36,
         37,
         38,
         39,
         40,
         41,
         42,
         43,
         44,
         45,
         46,
         47,
         48,
         49,
         50,
         51,
         52,
         53,
         54,
         55,
         56,
         57,
         58,
         59,
         60,
         61,
         62,
         63,
         64,
         65,
         66,
         67,
         68,
         69,
         70,
         71,
         72,
         73,
         74,
         75,
         76,
         77,
         78,
         79,
         80,
         81,
         82,
         83,
         84,
         85,
         86,
         87,
         88,
         89,
         90,
         91,
         92,
         93,
         94,
         95,
         96,
         97,
         98,
         99
        ]
       }
      }
     },
     "69913d66ce6b4c3e976bf4032fc8f646": {
      "model_module": "bqplot",
      "model_module_version": "*",
      "model_name": "AxisModel",
      "state": {
       "label": "Y",
       "orientation": "vertical",
       "scale": "IPY_MODEL_945a9a99cc164b699d2f86073b13ee7b",
       "side": "left",
       "tick_values": {
        "type": null,
        "values": null
       }
      }
     },
     "6e73e36b043d4f5886afa901c7532507": {
      "model_module": "bqplot",
      "model_module_version": "*",
      "model_name": "AxisModel",
      "state": {
       "label": "Test Y",
       "orientation": "vertical",
       "scale": "IPY_MODEL_81fb4f3110d1400785df659155546f5b",
       "side": "left",
       "tick_format": "0.2f",
       "tick_values": {
        "type": null,
        "values": null
       }
      }
     },
     "771ad96b6fe64df39a3d6d270f9c825d": {
      "model_module": "bqplot",
      "model_module_version": "*",
      "model_name": "LinearScaleModel",
      "state": {
       "allow_padding": false,
       "max": 1,
       "min": 0,
       "stabilized": false
      }
     },
     "781cd7f7d5564aed9a80f79d957b68f2": {
      "model_module": "bqplot",
      "model_module_version": "*",
      "model_name": "LinearScaleModel",
      "state": {
       "allow_padding": false,
       "max": 1,
       "min": 0,
       "stabilized": false
      }
     },
     "81fb4f3110d1400785df659155546f5b": {
      "model_module": "bqplot",
      "model_module_version": "*",
      "model_name": "LinearScaleModel",
      "state": {
       "stabilized": false
      }
     },
     "86b20adb78984d119ee101ce9d4208f4": {
      "model_module": "bqplot",
      "model_module_version": "*",
      "model_name": "HistModel",
      "state": {
       "count": {
        "type": "object",
        "values": [
         8,
         11,
         10,
         7,
         8,
         11,
         10,
         12,
         14,
         9
        ]
       },
       "display_legend": false,
       "midpoints": [
        -289.8432796534171,
        -113.87237270890651,
        62.09853423560406,
        238.0694411801146,
        414.0403481246251,
        590.0112550691357,
        765.9821620136463,
        941.9530689581568,
        1117.9239759026673,
        1293.894882847178
       ],
       "sample": {
        "type": "float64",
        "values": [
         176.4052345967664,
         216.42095543348873,
         314.29475384406265,
         538.3840737642084,
         725.1398727792052,
         627.4120847915641,
         722.4209265441231,
         707.2852057143533,
         696.9633205349975,
         738.0231707288347,
         752.4275278449225,
         897.8548785412199,
         973.9586510559193,
         986.1261527052021,
         1030.5124759797447,
         1063.8799087171715,
         1213.2878160329321,
         1192.7719896563522,
         1224.0787598214422,
         1138.6691858912698,
         883.3702043078619,
         948.7320638518979,
         1035.1756837378484,
         960.9591816972043,
         1187.934644095965,
         1042.4980766360886,
         1047.0739283662333,
         1028.35554336365,
         1181.6334647994956,
         1328.569341789524,
         1344.0640843592157,
         1381.8803363194331,
         1293.101761556422,
         1095.0221147340292,
         1060.230899801414,
         1075.865796711812,
         1198.8948647845841,
         1319.1328496630254,
         1280.4001679222301,
         1250.1698928646965,
         1145.3145963579873,
         1003.3128026400898,
         832.6857835775885,
         1027.7633231007674,
         976.798104925602,
         932.9906747644834,
         807.7111387594907,
         885.4601743426817,
         724.0703895868866,
         702.7963615654897,
         613.2497054461222,
         651.9399552320484,
         600.8594414751611,
         482.7962230629199,
         479.97800022905443,
         522.8111872820962,
         529.462909520413,
         559.7100992943911,
         496.2778899262947,
         460.00377332758086,
         392.75772854998576,
         356.80241239593164,
         275.48778419148624,
         102.85952395831856,
         120.60213818369385,
         80.42404456286766,
         -82.59579013373678,
         -36.31756458115937,
         -127.04740101948357,
         -121.85286143986968,
         -48.943805222116,
         -36.04551414637493,
         77.89455430795515,
         -45.58802772741012,
         -5.353863609655221,
         -73.83487270368654,
         -160.91458762187472,
         -218.79955409831626,
         -249.95480731105351,
         -244.33827308807898,
         -360.8532571664146,
         -270.7706084709959,
         -224.20436449794994,
         -377.82873312567233,
         -229.00351374611236,
         -39.41459614305404,
         78.46336097291103,
         60.47087739167594,
         -46.604384759378306,
         58.840787933735356,
         18.523093236417395,
         140.76760027466014,
         161.59509808234617,
         259.25900173071744,
         294.8956414481576,
         365.55295826735244,
         366.6029603394345,
         545.190009730018,
         557.88121900038,
         598.0801553448503
        ]
       },
       "scales": {
        "count": "IPY_MODEL_ecb4fefe790a40f89e6d94d16f4c43b6",
        "sample": "IPY_MODEL_e0dfa9302f9946c48378d6c5d198ea62"
       }
      }
     },
     "8f2a9ef471034651b839b67d9e1a47a5": {
      "model_module": "bqplot",
      "model_module_version": "*",
      "model_name": "FigureModel",
      "state": {
       "_dom_classes": [],
       "axes": [
        "IPY_MODEL_10b9d862857a4c07a0add6b4e8057b5a",
        "IPY_MODEL_480e84a9cca6424082b469ce5163ae6a"
       ],
       "layout": "IPY_MODEL_1951aefc84914c198275c5da4f87a0b7",
       "marks": [
        "IPY_MODEL_86b20adb78984d119ee101ce9d4208f4"
       ],
       "scale_x": "IPY_MODEL_781cd7f7d5564aed9a80f79d957b68f2",
       "scale_y": "IPY_MODEL_be2ad1c98815425383ce208f7af0f2ef"
      }
     },
     "945a9a99cc164b699d2f86073b13ee7b": {
      "model_module": "bqplot",
      "model_module_version": "*",
      "model_name": "LinearScaleModel",
      "state": {
       "stabilized": false
      }
     },
     "97a7e2c44c1c4c5796e6cfe076c8e5b8": {
      "model_module": "bqplot",
      "model_module_version": "*",
      "model_name": "LinearScaleModel",
      "state": {
       "allow_padding": false,
       "max": 1,
       "min": 0,
       "stabilized": false
      }
     },
     "98b574c3e02f40a1aa60e4b121f09444": {
      "model_module": "bqplot",
      "model_module_version": "*",
      "model_name": "LinearScaleModel",
      "state": {
       "allow_padding": false,
       "max": 1,
       "min": 0,
       "stabilized": false
      }
     },
     "9adf3bfad79540c2af379925059fdb27": {
      "model_module": "bqplot",
      "model_module_version": "*",
      "model_name": "FigureModel",
      "state": {
       "_dom_classes": [],
       "axes": [
        "IPY_MODEL_c81f2258fc9d4ecab0a7a4901cb6d685",
        "IPY_MODEL_69913d66ce6b4c3e976bf4032fc8f646"
       ],
       "layout": "IPY_MODEL_1ef2fae8d10641779109784359918590",
       "marks": [
        "IPY_MODEL_68d3b9f621ea48c684721a396e743abb"
       ],
       "scale_x": "IPY_MODEL_5dd2308bad604b828221d38978ef2785",
       "scale_y": "IPY_MODEL_97a7e2c44c1c4c5796e6cfe076c8e5b8",
       "title": "First Example"
      }
     },
     "b0677e81eb104fa6ab3ff81797565c2f": {
      "model_module": "bqplot",
      "model_module_version": "*",
      "model_name": "FigureModel",
      "state": {
       "_dom_classes": [],
       "axes": [
        "IPY_MODEL_5130afd3081940579c9481073f7c6f1e",
        "IPY_MODEL_2458099327b64c33a5d5137bc58aa2b5"
       ],
       "layout": "IPY_MODEL_12617766222e4734a61220910d834bbf",
       "marks": [
        "IPY_MODEL_348311934fca409fae627522d2f5dbc0"
       ],
       "scale_x": "IPY_MODEL_771ad96b6fe64df39a3d6d270f9c825d",
       "scale_y": "IPY_MODEL_eedd3906567d42e48654bfec494befd8"
      }
     },
     "b4ae8d936af0446e99bb7fda46f7a747": {
      "model_module": "bqplot",
      "model_module_version": "*",
      "model_name": "LinearScaleModel",
      "state": {
       "stabilized": false
      }
     },
     "b533d1120f944517b5c6b83b79a949af": {
      "model_module": "bqplot",
      "model_module_version": "*",
      "model_name": "AxisModel",
      "state": {
       "label": "Date",
       "scale": "IPY_MODEL_2c4b219a3ccd497fb671c964226bbc22",
       "side": "bottom",
       "tick_format": "%b-%d",
       "tick_values": {
        "type": null,
        "values": null
       }
      }
     },
     "be2ad1c98815425383ce208f7af0f2ef": {
      "model_module": "bqplot",
      "model_module_version": "*",
      "model_name": "LinearScaleModel",
      "state": {
       "allow_padding": false,
       "max": 1,
       "min": 0,
       "stabilized": false
      }
     },
     "c531cada0f1a47a6ae9177c3538df392": {
      "model_module": "bqplot",
      "model_module_version": "*",
      "model_name": "LinearScaleModel",
      "state": {
       "allow_padding": false,
       "max": 1,
       "min": 0,
       "stabilized": false
      }
     },
     "c81f2258fc9d4ecab0a7a4901cb6d685": {
      "model_module": "bqplot",
      "model_module_version": "*",
      "model_name": "AxisModel",
      "state": {
       "label": "X",
       "scale": "IPY_MODEL_b4ae8d936af0446e99bb7fda46f7a747",
       "side": "bottom",
       "tick_values": {
        "type": null,
        "values": null
       }
      }
     },
     "ca2501342b7841ad86b4d9009d91187a": {
      "model_module": "bqplot",
      "model_module_version": "*",
      "model_name": "AxisModel",
      "state": {
       "label": "Price",
       "orientation": "vertical",
       "scale": "IPY_MODEL_3c2e6494d80b4fef9003657739c89c0e",
       "side": "left",
       "tick_format": "0.0f",
       "tick_values": {
        "type": null,
        "values": null
       }
      }
     },
     "d66454bf51ae42849dec431b94c0a5ed": {
      "model_module": "bqplot",
      "model_module_version": "*",
      "model_name": "FigureModel",
      "state": {
       "_dom_classes": [],
       "axes": [
        "IPY_MODEL_3a415212200546a28373772d7662d0f2",
        "IPY_MODEL_6e73e36b043d4f5886afa901c7532507"
       ],
       "layout": "IPY_MODEL_00fff51669784854af3e42875c865836",
       "marks": [
        "IPY_MODEL_54bdf0a152584a4690bd072543973953"
       ],
       "scale_x": "IPY_MODEL_98b574c3e02f40a1aa60e4b121f09444",
       "scale_y": "IPY_MODEL_0135f21804c848c2bcdab68e62f6ac6f"
      }
     },
     "e0dfa9302f9946c48378d6c5d198ea62": {
      "model_module": "bqplot",
      "model_module_version": "*",
      "model_name": "LinearScaleModel",
      "state": {
       "stabilized": false
      }
     },
     "ecb4fefe790a40f89e6d94d16f4c43b6": {
      "model_module": "bqplot",
      "model_module_version": "*",
      "model_name": "LinearScaleModel",
      "state": {
       "stabilized": false
      }
     },
     "eedd3906567d42e48654bfec494befd8": {
      "model_module": "bqplot",
      "model_module_version": "*",
      "model_name": "LinearScaleModel",
      "state": {
       "allow_padding": false,
       "max": 1,
       "min": 0,
       "stabilized": false
      }
     },
     "f3e66800e121435187cb306a4aacd63e": {
      "model_module": "bqplot",
      "model_module_version": "*",
      "model_name": "LinesModel",
      "state": {
       "color": {
        "type": null,
        "values": null
       },
       "colors": [
        "blue"
       ],
       "display_legend": false,
       "fill_colors": [],
       "labels": [
        "C1"
       ],
       "scales": {
        "x": "IPY_MODEL_2c4b219a3ccd497fb671c964226bbc22",
        "y": "IPY_MODEL_3c2e6494d80b4fef9003657739c89c0e"
       },
       "x": {
        "type": "date",
        "values": [
         "2005-02-01T00:00:00.000000",
         "2005-02-02T00:00:00.000000",
         "2005-02-03T00:00:00.000000",
         "2005-02-04T00:00:00.000000",
         "2005-02-05T00:00:00.000000",
         "2005-02-06T00:00:00.000000",
         "2005-02-07T00:00:00.000000",
         "2005-02-08T00:00:00.000000",
         "2005-02-09T00:00:00.000000",
         "2005-02-10T00:00:00.000000",
         "2005-02-11T00:00:00.000000",
         "2005-02-12T00:00:00.000000",
         "2005-02-13T00:00:00.000000",
         "2005-02-14T00:00:00.000000",
         "2005-02-15T00:00:00.000000",
         "2005-02-16T00:00:00.000000",
         "2005-02-17T00:00:00.000000",
         "2005-02-18T00:00:00.000000",
         "2005-02-19T00:00:00.000000",
         "2005-02-20T00:00:00.000000",
         "2005-02-21T00:00:00.000000",
         "2005-02-22T00:00:00.000000",
         "2005-02-23T00:00:00.000000",
         "2005-02-24T00:00:00.000000",
         "2005-02-25T00:00:00.000000",
         "2005-02-26T00:00:00.000000",
         "2005-02-27T00:00:00.000000",
         "2005-02-28T00:00:00.000000"
        ]
       },
       "y": {
        "type": "float64",
        "values": [
         109.41575348528127,
         102.67695817956904,
         96.32453318714037,
         101.17151672793042,
         95.30589970235962,
         105.0240056306061,
         102.95591072680736,
         99.21863666960357,
         108.8333468020055,
         116.23592075917762,
         125.57371556131046,
         130.10393885268738,
         125.79781042741388,
         135.34813519290904,
         134.00811833815214,
         138.02040031713412,
         142.75666015600285,
         141.98160969054868,
         145.0520065422791,
         149.66303990011173,
         151.54516755588986,
         146.04816360296888,
         147.53935447399917,
         154.17128395743433,
         150.6984446587775,
         149.95027195713914,
         147.77450419853096,
         157.02082284092768
        ]
       }
      }
     }
    },
    "version_major": 1,
    "version_minor": 0
   }
  }
 },
 "nbformat": 4,
 "nbformat_minor": 1
}
